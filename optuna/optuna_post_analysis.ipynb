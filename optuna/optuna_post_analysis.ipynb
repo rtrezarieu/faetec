{
 "cells": [
  {
   "cell_type": "markdown",
   "metadata": {},
   "source": [
    "Import the study stored in sqlite .db file"
   ]
  },
  {
   "cell_type": "code",
   "execution_count": 1,
   "metadata": {},
   "outputs": [
    {
     "name": "stderr",
     "output_type": "stream",
     "text": [
      "c:\\Users\\raphael.trezarieu\\Documents\\Code\\faetec\\.venv\\Lib\\site-packages\\tqdm\\auto.py:21: TqdmWarning: IProgress not found. Please update jupyter and ipywidgets. See https://ipywidgets.readthedocs.io/en/stable/user_install.html\n",
      "  from .autonotebook import tqdm as notebook_tqdm\n"
     ]
    }
   ],
   "source": [
    "import optuna\n",
    "import optuna.visualization as vis\n",
    "\n",
    "\n",
    "study_name = \"minimize MAE disp\" # trial_sweep\n",
    "storage = \"sqlite:///box_unique_random_contour_3x4x3_1000.db\"\n",
    "study = optuna.load_study(study_name=study_name, storage=storage)"
   ]
  },
  {
   "cell_type": "markdown",
   "metadata": {},
   "source": []
  },
  {
   "cell_type": "code",
   "execution_count": 2,
   "metadata": {},
   "outputs": [
    {
     "name": "stdout",
     "output_type": "stream",
     "text": [
      "Best hyperparameters:\n",
      "  optimizer.batch_size: 32\n",
      "  optimizer.eval_batch_size: 64\n",
      "  optimizer.lr_initial: 0.0017245660022955657\n",
      "  optimizer.optimizer: Adam\n",
      "  model.act: relu\n",
      "  model.hidden_channels: 512\n",
      "  model.num_filters: 384\n",
      "  model.num_interactions: 6\n",
      "  model.second_layer_MLP: False\n",
      "  model.complex_mp: True\n",
      "Best value (objective value): 0.0010509244166314602\n"
     ]
    },
    {
     "name": "stderr",
     "output_type": "stream",
     "text": [
      "c:\\Users\\raphael.trezarieu\\Documents\\Code\\faetec\\.venv\\Lib\\site-packages\\optuna\\distributions.py:602: FutureWarning: UniformDistribution has been deprecated in v3.0.0. This feature will be removed in v6.0.0. See https://github.com/optuna/optuna/releases/tag/v3.0.0. Use :class:`~optuna.distributions.FloatDistribution` instead.\n",
      "  return cls(**json_dict[\"attributes\"])\n"
     ]
    }
   ],
   "source": [
    "best_trial = study.best_trial\n",
    "print(\"Best hyperparameters:\")\n",
    "for key, value in best_trial.params.items():\n",
    "    print(f\"  {key}: {value}\")\n",
    "\n",
    "print(f\"Best value (objective value): {best_trial.value}\")\n",
    "\n",
    "# Or run this to open the optuna dashboard in vs code\n",
    "# optuna-dashboard sqlite:///db.sqlite3  ## name here\n",
    "\n",
    "# Or right-click on the SQLite3 file (*.db or *.sqlite3) in the file explorer and select the \"Open in Optuna Dashboard\" command from the dropdown menu."
   ]
  },
  {
   "cell_type": "code",
   "execution_count": 3,
   "metadata": {},
   "outputs": [
    {
     "data": {
      "application/vnd.plotly.v1+json": {
       "config": {
        "plotlyServerURL": "https://plot.ly"
       },
       "data": [
        {
         "mode": "markers",
         "name": "Objective Value",
         "type": "scatter",
         "x": [
          0,
          1,
          2,
          3,
          4,
          5,
          6,
          7,
          8,
          9,
          10,
          11,
          12,
          13,
          14,
          15,
          16,
          17,
          18,
          19,
          20,
          21,
          22,
          23,
          24,
          25,
          26,
          27,
          28,
          29,
          30,
          31,
          32,
          33,
          34,
          35,
          36,
          37,
          38,
          39,
          40,
          41,
          42,
          43,
          44,
          45,
          46,
          47,
          48,
          49,
          50,
          51,
          52,
          53,
          54,
          55,
          56
         ],
         "y": [
          0.004099226091057062,
          0.012514274567365646,
          0.015235654436624967,
          0.009889267385005951,
          0.016106017998286655,
          0.003125535324215889,
          0.012798120932919639,
          0.01462360577923911,
          0.00556196179240942,
          0.010210204869508743,
          0.002582056913524866,
          0.004909416660666466,
          0.004480917938053608,
          0.0011525334557518363,
          0.003677790518850088,
          0.003910826948972849,
          0.0023483606055378914,
          0.007173012942075729,
          0.018036603927612305,
          0.003676444865190066,
          0.001234408002346754,
          0.002323493827134371,
          0.0011659844312816858,
          0.0016798200085759163,
          0.0013212664052844048,
          0.004169144667685032,
          0.003278343938291073,
          0.0032087189073746023,
          0.017933184280991554,
          0.005068128928542137,
          0.0038915337063372135,
          0.0026472685858607292,
          0.005443759262561798,
          0.002799304900690913,
          0.0036489125341176987,
          0.009051533415913582,
          0.005089037652526583,
          0.013237009827907268,
          0.012842606753110886,
          0.009871360446725572,
          0.0024279847275465727,
          0.0010533332824707031,
          0.0010562939569354057,
          0.0017711485270410776,
          0.0024775939527899027,
          0.004693320952355862,
          0.011990615299769811,
          0.0010509244166314602,
          0.0034027867950499058,
          0.007493170909583569,
          0.0031210482120513916,
          0.0019303050357848406,
          0.0014195044059306383,
          0.001077517052181065,
          0.0017465348355472088,
          0.0028466973453760147,
          0.011020248755812645
         ]
        },
        {
         "mode": "lines",
         "name": "Best Value",
         "type": "scatter",
         "x": [
          0,
          1,
          2,
          3,
          4,
          5,
          6,
          7,
          8,
          9,
          10,
          11,
          12,
          13,
          14,
          15,
          16,
          17,
          18,
          19,
          20,
          21,
          22,
          23,
          24,
          25,
          26,
          27,
          28,
          29,
          30,
          31,
          32,
          33,
          34,
          35,
          36,
          37,
          38,
          39,
          40,
          41,
          42,
          43,
          44,
          45,
          46,
          47,
          48,
          49,
          50,
          51,
          52,
          53,
          54,
          55,
          56,
          57
         ],
         "y": [
          0.004099226091057062,
          0.004099226091057062,
          0.004099226091057062,
          0.004099226091057062,
          0.004099226091057062,
          0.003125535324215889,
          0.003125535324215889,
          0.003125535324215889,
          0.003125535324215889,
          0.003125535324215889,
          0.002582056913524866,
          0.002582056913524866,
          0.002582056913524866,
          0.0011525334557518363,
          0.0011525334557518363,
          0.0011525334557518363,
          0.0011525334557518363,
          0.0011525334557518363,
          0.0011525334557518363,
          0.0011525334557518363,
          0.0011525334557518363,
          0.0011525334557518363,
          0.0011525334557518363,
          0.0011525334557518363,
          0.0011525334557518363,
          0.0011525334557518363,
          0.0011525334557518363,
          0.0011525334557518363,
          0.0011525334557518363,
          0.0011525334557518363,
          0.0011525334557518363,
          0.0011525334557518363,
          0.0011525334557518363,
          0.0011525334557518363,
          0.0011525334557518363,
          0.0011525334557518363,
          0.0011525334557518363,
          0.0011525334557518363,
          0.0011525334557518363,
          0.0011525334557518363,
          0.0011525334557518363,
          0.0010533332824707031,
          0.0010533332824707031,
          0.0010533332824707031,
          0.0010533332824707031,
          0.0010533332824707031,
          0.0010533332824707031,
          0.0010509244166314602,
          0.0010509244166314602,
          0.0010509244166314602,
          0.0010509244166314602,
          0.0010509244166314602,
          0.0010509244166314602,
          0.0010509244166314602,
          0.0010509244166314602,
          0.0010509244166314602,
          0.0010509244166314602,
          0.0010509244166314602
         ]
        },
        {
         "marker": {
          "color": "#cccccc"
         },
         "mode": "markers",
         "name": "Infeasible Trial",
         "showlegend": false,
         "type": "scatter",
         "x": [],
         "y": []
        }
       ],
       "layout": {
        "template": {
         "data": {
          "bar": [
           {
            "error_x": {
             "color": "#2a3f5f"
            },
            "error_y": {
             "color": "#2a3f5f"
            },
            "marker": {
             "line": {
              "color": "#E5ECF6",
              "width": 0.5
             },
             "pattern": {
              "fillmode": "overlay",
              "size": 10,
              "solidity": 0.2
             }
            },
            "type": "bar"
           }
          ],
          "barpolar": [
           {
            "marker": {
             "line": {
              "color": "#E5ECF6",
              "width": 0.5
             },
             "pattern": {
              "fillmode": "overlay",
              "size": 10,
              "solidity": 0.2
             }
            },
            "type": "barpolar"
           }
          ],
          "carpet": [
           {
            "aaxis": {
             "endlinecolor": "#2a3f5f",
             "gridcolor": "white",
             "linecolor": "white",
             "minorgridcolor": "white",
             "startlinecolor": "#2a3f5f"
            },
            "baxis": {
             "endlinecolor": "#2a3f5f",
             "gridcolor": "white",
             "linecolor": "white",
             "minorgridcolor": "white",
             "startlinecolor": "#2a3f5f"
            },
            "type": "carpet"
           }
          ],
          "choropleth": [
           {
            "colorbar": {
             "outlinewidth": 0,
             "ticks": ""
            },
            "type": "choropleth"
           }
          ],
          "contour": [
           {
            "colorbar": {
             "outlinewidth": 0,
             "ticks": ""
            },
            "colorscale": [
             [
              0,
              "#0d0887"
             ],
             [
              0.1111111111111111,
              "#46039f"
             ],
             [
              0.2222222222222222,
              "#7201a8"
             ],
             [
              0.3333333333333333,
              "#9c179e"
             ],
             [
              0.4444444444444444,
              "#bd3786"
             ],
             [
              0.5555555555555556,
              "#d8576b"
             ],
             [
              0.6666666666666666,
              "#ed7953"
             ],
             [
              0.7777777777777778,
              "#fb9f3a"
             ],
             [
              0.8888888888888888,
              "#fdca26"
             ],
             [
              1,
              "#f0f921"
             ]
            ],
            "type": "contour"
           }
          ],
          "contourcarpet": [
           {
            "colorbar": {
             "outlinewidth": 0,
             "ticks": ""
            },
            "type": "contourcarpet"
           }
          ],
          "heatmap": [
           {
            "colorbar": {
             "outlinewidth": 0,
             "ticks": ""
            },
            "colorscale": [
             [
              0,
              "#0d0887"
             ],
             [
              0.1111111111111111,
              "#46039f"
             ],
             [
              0.2222222222222222,
              "#7201a8"
             ],
             [
              0.3333333333333333,
              "#9c179e"
             ],
             [
              0.4444444444444444,
              "#bd3786"
             ],
             [
              0.5555555555555556,
              "#d8576b"
             ],
             [
              0.6666666666666666,
              "#ed7953"
             ],
             [
              0.7777777777777778,
              "#fb9f3a"
             ],
             [
              0.8888888888888888,
              "#fdca26"
             ],
             [
              1,
              "#f0f921"
             ]
            ],
            "type": "heatmap"
           }
          ],
          "heatmapgl": [
           {
            "colorbar": {
             "outlinewidth": 0,
             "ticks": ""
            },
            "colorscale": [
             [
              0,
              "#0d0887"
             ],
             [
              0.1111111111111111,
              "#46039f"
             ],
             [
              0.2222222222222222,
              "#7201a8"
             ],
             [
              0.3333333333333333,
              "#9c179e"
             ],
             [
              0.4444444444444444,
              "#bd3786"
             ],
             [
              0.5555555555555556,
              "#d8576b"
             ],
             [
              0.6666666666666666,
              "#ed7953"
             ],
             [
              0.7777777777777778,
              "#fb9f3a"
             ],
             [
              0.8888888888888888,
              "#fdca26"
             ],
             [
              1,
              "#f0f921"
             ]
            ],
            "type": "heatmapgl"
           }
          ],
          "histogram": [
           {
            "marker": {
             "pattern": {
              "fillmode": "overlay",
              "size": 10,
              "solidity": 0.2
             }
            },
            "type": "histogram"
           }
          ],
          "histogram2d": [
           {
            "colorbar": {
             "outlinewidth": 0,
             "ticks": ""
            },
            "colorscale": [
             [
              0,
              "#0d0887"
             ],
             [
              0.1111111111111111,
              "#46039f"
             ],
             [
              0.2222222222222222,
              "#7201a8"
             ],
             [
              0.3333333333333333,
              "#9c179e"
             ],
             [
              0.4444444444444444,
              "#bd3786"
             ],
             [
              0.5555555555555556,
              "#d8576b"
             ],
             [
              0.6666666666666666,
              "#ed7953"
             ],
             [
              0.7777777777777778,
              "#fb9f3a"
             ],
             [
              0.8888888888888888,
              "#fdca26"
             ],
             [
              1,
              "#f0f921"
             ]
            ],
            "type": "histogram2d"
           }
          ],
          "histogram2dcontour": [
           {
            "colorbar": {
             "outlinewidth": 0,
             "ticks": ""
            },
            "colorscale": [
             [
              0,
              "#0d0887"
             ],
             [
              0.1111111111111111,
              "#46039f"
             ],
             [
              0.2222222222222222,
              "#7201a8"
             ],
             [
              0.3333333333333333,
              "#9c179e"
             ],
             [
              0.4444444444444444,
              "#bd3786"
             ],
             [
              0.5555555555555556,
              "#d8576b"
             ],
             [
              0.6666666666666666,
              "#ed7953"
             ],
             [
              0.7777777777777778,
              "#fb9f3a"
             ],
             [
              0.8888888888888888,
              "#fdca26"
             ],
             [
              1,
              "#f0f921"
             ]
            ],
            "type": "histogram2dcontour"
           }
          ],
          "mesh3d": [
           {
            "colorbar": {
             "outlinewidth": 0,
             "ticks": ""
            },
            "type": "mesh3d"
           }
          ],
          "parcoords": [
           {
            "line": {
             "colorbar": {
              "outlinewidth": 0,
              "ticks": ""
             }
            },
            "type": "parcoords"
           }
          ],
          "pie": [
           {
            "automargin": true,
            "type": "pie"
           }
          ],
          "scatter": [
           {
            "fillpattern": {
             "fillmode": "overlay",
             "size": 10,
             "solidity": 0.2
            },
            "type": "scatter"
           }
          ],
          "scatter3d": [
           {
            "line": {
             "colorbar": {
              "outlinewidth": 0,
              "ticks": ""
             }
            },
            "marker": {
             "colorbar": {
              "outlinewidth": 0,
              "ticks": ""
             }
            },
            "type": "scatter3d"
           }
          ],
          "scattercarpet": [
           {
            "marker": {
             "colorbar": {
              "outlinewidth": 0,
              "ticks": ""
             }
            },
            "type": "scattercarpet"
           }
          ],
          "scattergeo": [
           {
            "marker": {
             "colorbar": {
              "outlinewidth": 0,
              "ticks": ""
             }
            },
            "type": "scattergeo"
           }
          ],
          "scattergl": [
           {
            "marker": {
             "colorbar": {
              "outlinewidth": 0,
              "ticks": ""
             }
            },
            "type": "scattergl"
           }
          ],
          "scattermapbox": [
           {
            "marker": {
             "colorbar": {
              "outlinewidth": 0,
              "ticks": ""
             }
            },
            "type": "scattermapbox"
           }
          ],
          "scatterpolar": [
           {
            "marker": {
             "colorbar": {
              "outlinewidth": 0,
              "ticks": ""
             }
            },
            "type": "scatterpolar"
           }
          ],
          "scatterpolargl": [
           {
            "marker": {
             "colorbar": {
              "outlinewidth": 0,
              "ticks": ""
             }
            },
            "type": "scatterpolargl"
           }
          ],
          "scatterternary": [
           {
            "marker": {
             "colorbar": {
              "outlinewidth": 0,
              "ticks": ""
             }
            },
            "type": "scatterternary"
           }
          ],
          "surface": [
           {
            "colorbar": {
             "outlinewidth": 0,
             "ticks": ""
            },
            "colorscale": [
             [
              0,
              "#0d0887"
             ],
             [
              0.1111111111111111,
              "#46039f"
             ],
             [
              0.2222222222222222,
              "#7201a8"
             ],
             [
              0.3333333333333333,
              "#9c179e"
             ],
             [
              0.4444444444444444,
              "#bd3786"
             ],
             [
              0.5555555555555556,
              "#d8576b"
             ],
             [
              0.6666666666666666,
              "#ed7953"
             ],
             [
              0.7777777777777778,
              "#fb9f3a"
             ],
             [
              0.8888888888888888,
              "#fdca26"
             ],
             [
              1,
              "#f0f921"
             ]
            ],
            "type": "surface"
           }
          ],
          "table": [
           {
            "cells": {
             "fill": {
              "color": "#EBF0F8"
             },
             "line": {
              "color": "white"
             }
            },
            "header": {
             "fill": {
              "color": "#C8D4E3"
             },
             "line": {
              "color": "white"
             }
            },
            "type": "table"
           }
          ]
         },
         "layout": {
          "annotationdefaults": {
           "arrowcolor": "#2a3f5f",
           "arrowhead": 0,
           "arrowwidth": 1
          },
          "autotypenumbers": "strict",
          "coloraxis": {
           "colorbar": {
            "outlinewidth": 0,
            "ticks": ""
           }
          },
          "colorscale": {
           "diverging": [
            [
             0,
             "#8e0152"
            ],
            [
             0.1,
             "#c51b7d"
            ],
            [
             0.2,
             "#de77ae"
            ],
            [
             0.3,
             "#f1b6da"
            ],
            [
             0.4,
             "#fde0ef"
            ],
            [
             0.5,
             "#f7f7f7"
            ],
            [
             0.6,
             "#e6f5d0"
            ],
            [
             0.7,
             "#b8e186"
            ],
            [
             0.8,
             "#7fbc41"
            ],
            [
             0.9,
             "#4d9221"
            ],
            [
             1,
             "#276419"
            ]
           ],
           "sequential": [
            [
             0,
             "#0d0887"
            ],
            [
             0.1111111111111111,
             "#46039f"
            ],
            [
             0.2222222222222222,
             "#7201a8"
            ],
            [
             0.3333333333333333,
             "#9c179e"
            ],
            [
             0.4444444444444444,
             "#bd3786"
            ],
            [
             0.5555555555555556,
             "#d8576b"
            ],
            [
             0.6666666666666666,
             "#ed7953"
            ],
            [
             0.7777777777777778,
             "#fb9f3a"
            ],
            [
             0.8888888888888888,
             "#fdca26"
            ],
            [
             1,
             "#f0f921"
            ]
           ],
           "sequentialminus": [
            [
             0,
             "#0d0887"
            ],
            [
             0.1111111111111111,
             "#46039f"
            ],
            [
             0.2222222222222222,
             "#7201a8"
            ],
            [
             0.3333333333333333,
             "#9c179e"
            ],
            [
             0.4444444444444444,
             "#bd3786"
            ],
            [
             0.5555555555555556,
             "#d8576b"
            ],
            [
             0.6666666666666666,
             "#ed7953"
            ],
            [
             0.7777777777777778,
             "#fb9f3a"
            ],
            [
             0.8888888888888888,
             "#fdca26"
            ],
            [
             1,
             "#f0f921"
            ]
           ]
          },
          "colorway": [
           "#636efa",
           "#EF553B",
           "#00cc96",
           "#ab63fa",
           "#FFA15A",
           "#19d3f3",
           "#FF6692",
           "#B6E880",
           "#FF97FF",
           "#FECB52"
          ],
          "font": {
           "color": "#2a3f5f"
          },
          "geo": {
           "bgcolor": "white",
           "lakecolor": "white",
           "landcolor": "#E5ECF6",
           "showlakes": true,
           "showland": true,
           "subunitcolor": "white"
          },
          "hoverlabel": {
           "align": "left"
          },
          "hovermode": "closest",
          "mapbox": {
           "style": "light"
          },
          "paper_bgcolor": "white",
          "plot_bgcolor": "#E5ECF6",
          "polar": {
           "angularaxis": {
            "gridcolor": "white",
            "linecolor": "white",
            "ticks": ""
           },
           "bgcolor": "#E5ECF6",
           "radialaxis": {
            "gridcolor": "white",
            "linecolor": "white",
            "ticks": ""
           }
          },
          "scene": {
           "xaxis": {
            "backgroundcolor": "#E5ECF6",
            "gridcolor": "white",
            "gridwidth": 2,
            "linecolor": "white",
            "showbackground": true,
            "ticks": "",
            "zerolinecolor": "white"
           },
           "yaxis": {
            "backgroundcolor": "#E5ECF6",
            "gridcolor": "white",
            "gridwidth": 2,
            "linecolor": "white",
            "showbackground": true,
            "ticks": "",
            "zerolinecolor": "white"
           },
           "zaxis": {
            "backgroundcolor": "#E5ECF6",
            "gridcolor": "white",
            "gridwidth": 2,
            "linecolor": "white",
            "showbackground": true,
            "ticks": "",
            "zerolinecolor": "white"
           }
          },
          "shapedefaults": {
           "line": {
            "color": "#2a3f5f"
           }
          },
          "ternary": {
           "aaxis": {
            "gridcolor": "white",
            "linecolor": "white",
            "ticks": ""
           },
           "baxis": {
            "gridcolor": "white",
            "linecolor": "white",
            "ticks": ""
           },
           "bgcolor": "#E5ECF6",
           "caxis": {
            "gridcolor": "white",
            "linecolor": "white",
            "ticks": ""
           }
          },
          "title": {
           "x": 0.05
          },
          "xaxis": {
           "automargin": true,
           "gridcolor": "white",
           "linecolor": "white",
           "ticks": "",
           "title": {
            "standoff": 15
           },
           "zerolinecolor": "white",
           "zerolinewidth": 2
          },
          "yaxis": {
           "automargin": true,
           "gridcolor": "white",
           "linecolor": "white",
           "ticks": "",
           "title": {
            "standoff": 15
           },
           "zerolinecolor": "white",
           "zerolinewidth": 2
          }
         }
        },
        "title": {
         "text": "Optimization History Plot"
        },
        "xaxis": {
         "title": {
          "text": "Trial"
         }
        },
        "yaxis": {
         "title": {
          "text": "Objective Value"
         }
        }
       }
      }
     },
     "metadata": {},
     "output_type": "display_data"
    }
   ],
   "source": [
    "vis.plot_optimization_history(study)"
   ]
  },
  {
   "cell_type": "code",
   "execution_count": 4,
   "metadata": {},
   "outputs": [
    {
     "name": "stderr",
     "output_type": "stream",
     "text": [
      "c:\\Users\\raphael.trezarieu\\Documents\\Code\\faetec\\.venv\\Lib\\site-packages\\optuna\\distributions.py:602: FutureWarning:\n",
      "\n",
      "UniformDistribution has been deprecated in v3.0.0. This feature will be removed in v6.0.0. See https://github.com/optuna/optuna/releases/tag/v3.0.0. Use :class:`~optuna.distributions.FloatDistribution` instead.\n",
      "\n"
     ]
    },
    {
     "data": {
      "application/vnd.plotly.v1+json": {
       "config": {
        "plotlyServerURL": "https://plot.ly"
       },
       "data": [
        {
         "dimensions": [
          {
           "label": "Objective Value",
           "range": [
            0.0010509244166314602,
            0.018036603927612305
           ],
           "values": [
            0.018036603927612305,
            0.017933184280991554,
            0.01462360577923911,
            0.012842606753110886,
            0.016106017998286655,
            0.007493170909583569,
            0.0034027867950499058,
            0.015235654436624967,
            0.00556196179240942,
            0.004099226091057062,
            0.005068128928542137,
            0.005089037652526583,
            0.0032087189073746023,
            0.009889267385005951,
            0.003278343938291073,
            0.010210204869508743,
            0.009871360446725572,
            0.0031210482120513916,
            0.007173012942075729,
            0.009051533415913582,
            0.011020248755812645,
            0.0024279847275465727,
            0.0038915337063372135,
            0.013237009827907268,
            0.012798120932919639,
            0.003125535324215889,
            0.002582056913524866,
            0.004909416660666466,
            0.004480917938053608,
            0.0011525334557518363,
            0.0023483606055378914,
            0.001234408002346754,
            0.002323493827134371,
            0.0011659844312816858,
            0.0016798200085759163,
            0.0013212664052844048,
            0.004169144667685032,
            0.0026472685858607292,
            0.005443759262561798,
            0.002799304900690913,
            0.0010533332824707031,
            0.0010562939569354057,
            0.0017711485270410776,
            0.0024775939527899027,
            0.0010509244166314602,
            0.0019303050357848406,
            0.0014195044059306383,
            0.001077517052181065,
            0.0017465348355472088,
            0.0028466973453760147,
            0.003910826948972849,
            0.004693320952355862,
            0.0036489125341176987,
            0.003677790518850088,
            0.003676444865190066,
            0.011990615299769811,
            0.012514274567365646
           ]
          },
          {
           "label": "model.act",
           "range": [
            0,
            1
           ],
           "ticktext": [
            "relu",
            "swish"
           ],
           "tickvals": [
            0,
            1
           ],
           "values": [
            0,
            0,
            1,
            0,
            1,
            0,
            0,
            1,
            0,
            0,
            0,
            0,
            0,
            1,
            0,
            1,
            1,
            0,
            0,
            1,
            1,
            0,
            0,
            1,
            1,
            0,
            0,
            0,
            0,
            0,
            0,
            0,
            0,
            0,
            0,
            0,
            0,
            0,
            0,
            0,
            0,
            0,
            0,
            0,
            0,
            0,
            0,
            0,
            0,
            0,
            0,
            0,
            0,
            0,
            0,
            1,
            1
           ]
          },
          {
           "label": "model.complex_mp",
           "range": [
            0,
            1
           ],
           "ticktext": [
            "False",
            "True"
           ],
           "tickvals": [
            0,
            1
           ],
           "values": [
            1,
            1,
            0,
            1,
            0,
            1,
            0,
            0,
            0,
            0,
            1,
            1,
            1,
            0,
            1,
            0,
            0,
            1,
            1,
            1,
            1,
            1,
            1,
            0,
            1,
            0,
            1,
            1,
            1,
            1,
            1,
            1,
            1,
            1,
            1,
            1,
            1,
            1,
            1,
            1,
            1,
            1,
            1,
            0,
            1,
            1,
            1,
            1,
            1,
            1,
            1,
            1,
            1,
            1,
            1,
            1,
            1
           ]
          },
          {
           "label": "model.hidden_chan...",
           "range": [
            0,
            3
           ],
           "ticktext": [
            "64",
            "256",
            "384",
            "512"
           ],
           "tickvals": [
            0,
            1,
            2,
            3
           ],
           "values": [
            0,
            0,
            0,
            0,
            0,
            0,
            1,
            1,
            1,
            1,
            1,
            1,
            1,
            2,
            2,
            2,
            2,
            2,
            2,
            3,
            3,
            3,
            3,
            3,
            3,
            3,
            3,
            3,
            3,
            3,
            3,
            3,
            3,
            3,
            3,
            3,
            3,
            3,
            3,
            3,
            3,
            3,
            3,
            3,
            3,
            3,
            3,
            3,
            3,
            3,
            3,
            3,
            3,
            3,
            3,
            3,
            3
           ]
          },
          {
           "label": "model.num_filters",
           "range": [
            0,
            3
           ],
           "ticktext": [
            "64",
            "256",
            "384",
            "512"
           ],
           "tickvals": [
            0,
            1,
            2,
            3
           ],
           "values": [
            0,
            0,
            0,
            0,
            1,
            2,
            0,
            1,
            2,
            3,
            3,
            3,
            3,
            0,
            1,
            1,
            2,
            2,
            3,
            1,
            1,
            1,
            2,
            2,
            2,
            2,
            2,
            2,
            2,
            2,
            2,
            2,
            2,
            2,
            2,
            2,
            2,
            2,
            2,
            2,
            2,
            2,
            2,
            2,
            2,
            2,
            2,
            2,
            2,
            2,
            2,
            2,
            2,
            2,
            2,
            2,
            3
           ]
          },
          {
           "label": "model.num_interac...",
           "range": [
            0,
            3
           ],
           "ticktext": [
            "2",
            "4",
            "6",
            "8"
           ],
           "tickvals": [
            0,
            1,
            2,
            3
           ],
           "values": [
            1,
            1,
            2,
            2,
            0,
            2,
            1,
            2,
            0,
            0,
            2,
            2,
            3,
            1,
            2,
            3,
            0,
            2,
            2,
            0,
            0,
            2,
            0,
            1,
            1,
            2,
            2,
            2,
            2,
            2,
            2,
            2,
            2,
            2,
            2,
            2,
            2,
            2,
            2,
            2,
            2,
            2,
            2,
            2,
            2,
            2,
            2,
            2,
            2,
            2,
            2,
            2,
            2,
            3,
            3,
            3,
            0
           ]
          },
          {
           "label": "model.second_laye...",
           "range": [
            0,
            1
           ],
           "ticktext": [
            "True",
            "False"
           ],
           "tickvals": [
            0,
            1
           ],
           "values": [
            0,
            1,
            1,
            1,
            0,
            0,
            1,
            0,
            1,
            0,
            0,
            1,
            1,
            0,
            0,
            1,
            1,
            1,
            1,
            0,
            1,
            1,
            1,
            0,
            1,
            1,
            1,
            1,
            1,
            1,
            1,
            1,
            1,
            1,
            1,
            1,
            1,
            1,
            1,
            1,
            1,
            1,
            1,
            1,
            1,
            1,
            1,
            1,
            1,
            1,
            1,
            1,
            1,
            1,
            1,
            1,
            1
           ]
          },
          {
           "label": "optimizer.batch_s...",
           "range": [
            0,
            3
           ],
           "ticktext": [
            "16",
            "32",
            "64",
            "128"
           ],
           "tickvals": [
            0,
            1,
            2,
            3
           ],
           "values": [
            1,
            2,
            0,
            0,
            0,
            0,
            1,
            3,
            2,
            0,
            0,
            1,
            0,
            1,
            1,
            3,
            1,
            1,
            1,
            1,
            1,
            1,
            1,
            3,
            3,
            1,
            1,
            1,
            1,
            1,
            1,
            1,
            1,
            1,
            1,
            1,
            1,
            1,
            1,
            1,
            1,
            1,
            1,
            1,
            1,
            1,
            1,
            1,
            1,
            1,
            2,
            3,
            3,
            1,
            2,
            2,
            3
           ]
          },
          {
           "label": "optimizer.eval_ba...",
           "range": [
            0,
            3
           ],
           "ticktext": [
            "8",
            "16",
            "32",
            "64"
           ],
           "tickvals": [
            0,
            1,
            2,
            3
           ],
           "values": [
            3,
            2,
            1,
            3,
            1,
            3,
            3,
            0,
            2,
            2,
            2,
            1,
            0,
            1,
            3,
            2,
            1,
            0,
            3,
            3,
            3,
            3,
            3,
            0,
            1,
            3,
            3,
            3,
            3,
            3,
            3,
            3,
            3,
            3,
            3,
            3,
            3,
            3,
            3,
            3,
            3,
            3,
            3,
            3,
            3,
            3,
            3,
            3,
            3,
            3,
            0,
            2,
            3,
            3,
            0,
            1,
            3
           ]
          },
          {
           "label": "optimizer.lr_init...",
           "range": [
            0.00013293451068639153,
            0.009447184180218409
           ],
           "values": [
            0.00016482101598833644,
            0.0018891900420452655,
            0.00847077666596943,
            0.005457312666941946,
            0.008088989972958073,
            0.0022966234341041886,
            0.0027720657351321654,
            0.002022807309729832,
            0.00800933505882863,
            0.0048612258246951735,
            0.004059959359984235,
            0.001805691009839501,
            0.005689736859226749,
            0.0024844733874638822,
            0.0037319454075769917,
            0.006357299898537107,
            0.0031063248738114947,
            0.004679597012724851,
            0.00013293451068639153,
            0.000804803158410011,
            0.0005082222560318676,
            0.004263219032077157,
            0.0008829668498645474,
            0.002221702135674957,
            0.009326128265959114,
            0.006993481555530524,
            0.004793542036453257,
            0.004643003925192097,
            0.006644651164503487,
            0.003644256277757865,
            0.0002859618983201747,
            0.0015783681924397643,
            0.0013848997785396763,
            0.0014712220401046773,
            0.00321367916541899,
            0.0013123106047931883,
            0.0024793055464558773,
            0.001035287721361168,
            0.002569749107475558,
            0.0018665340990677206,
            0.0033627177469709303,
            0.0015236648785628855,
            0.0034983693930714047,
            0.002570416914840954,
            0.0017245660022955657,
            0.0015528292768899295,
            0.0019967096733155307,
            0.0005030922057200975,
            0.0005109668968683066,
            0.0010762834240493012,
            0.0037134388254553147,
            0.004239922045757851,
            0.002861152110081496,
            0.003272692583939085,
            0.0013010270616585372,
            0.000662259354729205,
            0.009447184180218409
           ]
          },
          {
           "label": "optimizer.optimizer",
           "range": [
            0,
            2
           ],
           "ticktext": [
            "AdamW",
            "SGD",
            "Adam"
           ],
           "tickvals": [
            0,
            1,
            2
           ],
           "values": [
            2,
            2,
            0,
            0,
            1,
            0,
            2,
            0,
            2,
            0,
            1,
            0,
            2,
            0,
            2,
            1,
            2,
            2,
            2,
            1,
            2,
            0,
            2,
            2,
            0,
            0,
            2,
            2,
            2,
            2,
            2,
            2,
            2,
            2,
            2,
            2,
            1,
            2,
            2,
            2,
            2,
            2,
            2,
            2,
            2,
            2,
            2,
            2,
            2,
            2,
            2,
            1,
            2,
            2,
            2,
            2,
            1
           ]
          }
         ],
         "labelangle": 30,
         "labelside": "bottom",
         "line": {
          "color": [
           0.018036603927612305,
           0.017933184280991554,
           0.01462360577923911,
           0.012842606753110886,
           0.016106017998286655,
           0.007493170909583569,
           0.0034027867950499058,
           0.015235654436624967,
           0.00556196179240942,
           0.004099226091057062,
           0.005068128928542137,
           0.005089037652526583,
           0.0032087189073746023,
           0.009889267385005951,
           0.003278343938291073,
           0.010210204869508743,
           0.009871360446725572,
           0.0031210482120513916,
           0.007173012942075729,
           0.009051533415913582,
           0.011020248755812645,
           0.0024279847275465727,
           0.0038915337063372135,
           0.013237009827907268,
           0.012798120932919639,
           0.003125535324215889,
           0.002582056913524866,
           0.004909416660666466,
           0.004480917938053608,
           0.0011525334557518363,
           0.0023483606055378914,
           0.001234408002346754,
           0.002323493827134371,
           0.0011659844312816858,
           0.0016798200085759163,
           0.0013212664052844048,
           0.004169144667685032,
           0.0026472685858607292,
           0.005443759262561798,
           0.002799304900690913,
           0.0010533332824707031,
           0.0010562939569354057,
           0.0017711485270410776,
           0.0024775939527899027,
           0.0010509244166314602,
           0.0019303050357848406,
           0.0014195044059306383,
           0.001077517052181065,
           0.0017465348355472088,
           0.0028466973453760147,
           0.003910826948972849,
           0.004693320952355862,
           0.0036489125341176987,
           0.003677790518850088,
           0.003676444865190066,
           0.011990615299769811,
           0.012514274567365646
          ],
          "colorbar": {
           "title": {
            "text": "Objective Value"
           }
          },
          "colorscale": [
           [
            0,
            "rgb(247,251,255)"
           ],
           [
            0.125,
            "rgb(222,235,247)"
           ],
           [
            0.25,
            "rgb(198,219,239)"
           ],
           [
            0.375,
            "rgb(158,202,225)"
           ],
           [
            0.5,
            "rgb(107,174,214)"
           ],
           [
            0.625,
            "rgb(66,146,198)"
           ],
           [
            0.75,
            "rgb(33,113,181)"
           ],
           [
            0.875,
            "rgb(8,81,156)"
           ],
           [
            1,
            "rgb(8,48,107)"
           ]
          ],
          "reversescale": true,
          "showscale": true
         },
         "type": "parcoords"
        }
       ],
       "layout": {
        "template": {
         "data": {
          "bar": [
           {
            "error_x": {
             "color": "#2a3f5f"
            },
            "error_y": {
             "color": "#2a3f5f"
            },
            "marker": {
             "line": {
              "color": "#E5ECF6",
              "width": 0.5
             },
             "pattern": {
              "fillmode": "overlay",
              "size": 10,
              "solidity": 0.2
             }
            },
            "type": "bar"
           }
          ],
          "barpolar": [
           {
            "marker": {
             "line": {
              "color": "#E5ECF6",
              "width": 0.5
             },
             "pattern": {
              "fillmode": "overlay",
              "size": 10,
              "solidity": 0.2
             }
            },
            "type": "barpolar"
           }
          ],
          "carpet": [
           {
            "aaxis": {
             "endlinecolor": "#2a3f5f",
             "gridcolor": "white",
             "linecolor": "white",
             "minorgridcolor": "white",
             "startlinecolor": "#2a3f5f"
            },
            "baxis": {
             "endlinecolor": "#2a3f5f",
             "gridcolor": "white",
             "linecolor": "white",
             "minorgridcolor": "white",
             "startlinecolor": "#2a3f5f"
            },
            "type": "carpet"
           }
          ],
          "choropleth": [
           {
            "colorbar": {
             "outlinewidth": 0,
             "ticks": ""
            },
            "type": "choropleth"
           }
          ],
          "contour": [
           {
            "colorbar": {
             "outlinewidth": 0,
             "ticks": ""
            },
            "colorscale": [
             [
              0,
              "#0d0887"
             ],
             [
              0.1111111111111111,
              "#46039f"
             ],
             [
              0.2222222222222222,
              "#7201a8"
             ],
             [
              0.3333333333333333,
              "#9c179e"
             ],
             [
              0.4444444444444444,
              "#bd3786"
             ],
             [
              0.5555555555555556,
              "#d8576b"
             ],
             [
              0.6666666666666666,
              "#ed7953"
             ],
             [
              0.7777777777777778,
              "#fb9f3a"
             ],
             [
              0.8888888888888888,
              "#fdca26"
             ],
             [
              1,
              "#f0f921"
             ]
            ],
            "type": "contour"
           }
          ],
          "contourcarpet": [
           {
            "colorbar": {
             "outlinewidth": 0,
             "ticks": ""
            },
            "type": "contourcarpet"
           }
          ],
          "heatmap": [
           {
            "colorbar": {
             "outlinewidth": 0,
             "ticks": ""
            },
            "colorscale": [
             [
              0,
              "#0d0887"
             ],
             [
              0.1111111111111111,
              "#46039f"
             ],
             [
              0.2222222222222222,
              "#7201a8"
             ],
             [
              0.3333333333333333,
              "#9c179e"
             ],
             [
              0.4444444444444444,
              "#bd3786"
             ],
             [
              0.5555555555555556,
              "#d8576b"
             ],
             [
              0.6666666666666666,
              "#ed7953"
             ],
             [
              0.7777777777777778,
              "#fb9f3a"
             ],
             [
              0.8888888888888888,
              "#fdca26"
             ],
             [
              1,
              "#f0f921"
             ]
            ],
            "type": "heatmap"
           }
          ],
          "heatmapgl": [
           {
            "colorbar": {
             "outlinewidth": 0,
             "ticks": ""
            },
            "colorscale": [
             [
              0,
              "#0d0887"
             ],
             [
              0.1111111111111111,
              "#46039f"
             ],
             [
              0.2222222222222222,
              "#7201a8"
             ],
             [
              0.3333333333333333,
              "#9c179e"
             ],
             [
              0.4444444444444444,
              "#bd3786"
             ],
             [
              0.5555555555555556,
              "#d8576b"
             ],
             [
              0.6666666666666666,
              "#ed7953"
             ],
             [
              0.7777777777777778,
              "#fb9f3a"
             ],
             [
              0.8888888888888888,
              "#fdca26"
             ],
             [
              1,
              "#f0f921"
             ]
            ],
            "type": "heatmapgl"
           }
          ],
          "histogram": [
           {
            "marker": {
             "pattern": {
              "fillmode": "overlay",
              "size": 10,
              "solidity": 0.2
             }
            },
            "type": "histogram"
           }
          ],
          "histogram2d": [
           {
            "colorbar": {
             "outlinewidth": 0,
             "ticks": ""
            },
            "colorscale": [
             [
              0,
              "#0d0887"
             ],
             [
              0.1111111111111111,
              "#46039f"
             ],
             [
              0.2222222222222222,
              "#7201a8"
             ],
             [
              0.3333333333333333,
              "#9c179e"
             ],
             [
              0.4444444444444444,
              "#bd3786"
             ],
             [
              0.5555555555555556,
              "#d8576b"
             ],
             [
              0.6666666666666666,
              "#ed7953"
             ],
             [
              0.7777777777777778,
              "#fb9f3a"
             ],
             [
              0.8888888888888888,
              "#fdca26"
             ],
             [
              1,
              "#f0f921"
             ]
            ],
            "type": "histogram2d"
           }
          ],
          "histogram2dcontour": [
           {
            "colorbar": {
             "outlinewidth": 0,
             "ticks": ""
            },
            "colorscale": [
             [
              0,
              "#0d0887"
             ],
             [
              0.1111111111111111,
              "#46039f"
             ],
             [
              0.2222222222222222,
              "#7201a8"
             ],
             [
              0.3333333333333333,
              "#9c179e"
             ],
             [
              0.4444444444444444,
              "#bd3786"
             ],
             [
              0.5555555555555556,
              "#d8576b"
             ],
             [
              0.6666666666666666,
              "#ed7953"
             ],
             [
              0.7777777777777778,
              "#fb9f3a"
             ],
             [
              0.8888888888888888,
              "#fdca26"
             ],
             [
              1,
              "#f0f921"
             ]
            ],
            "type": "histogram2dcontour"
           }
          ],
          "mesh3d": [
           {
            "colorbar": {
             "outlinewidth": 0,
             "ticks": ""
            },
            "type": "mesh3d"
           }
          ],
          "parcoords": [
           {
            "line": {
             "colorbar": {
              "outlinewidth": 0,
              "ticks": ""
             }
            },
            "type": "parcoords"
           }
          ],
          "pie": [
           {
            "automargin": true,
            "type": "pie"
           }
          ],
          "scatter": [
           {
            "fillpattern": {
             "fillmode": "overlay",
             "size": 10,
             "solidity": 0.2
            },
            "type": "scatter"
           }
          ],
          "scatter3d": [
           {
            "line": {
             "colorbar": {
              "outlinewidth": 0,
              "ticks": ""
             }
            },
            "marker": {
             "colorbar": {
              "outlinewidth": 0,
              "ticks": ""
             }
            },
            "type": "scatter3d"
           }
          ],
          "scattercarpet": [
           {
            "marker": {
             "colorbar": {
              "outlinewidth": 0,
              "ticks": ""
             }
            },
            "type": "scattercarpet"
           }
          ],
          "scattergeo": [
           {
            "marker": {
             "colorbar": {
              "outlinewidth": 0,
              "ticks": ""
             }
            },
            "type": "scattergeo"
           }
          ],
          "scattergl": [
           {
            "marker": {
             "colorbar": {
              "outlinewidth": 0,
              "ticks": ""
             }
            },
            "type": "scattergl"
           }
          ],
          "scattermapbox": [
           {
            "marker": {
             "colorbar": {
              "outlinewidth": 0,
              "ticks": ""
             }
            },
            "type": "scattermapbox"
           }
          ],
          "scatterpolar": [
           {
            "marker": {
             "colorbar": {
              "outlinewidth": 0,
              "ticks": ""
             }
            },
            "type": "scatterpolar"
           }
          ],
          "scatterpolargl": [
           {
            "marker": {
             "colorbar": {
              "outlinewidth": 0,
              "ticks": ""
             }
            },
            "type": "scatterpolargl"
           }
          ],
          "scatterternary": [
           {
            "marker": {
             "colorbar": {
              "outlinewidth": 0,
              "ticks": ""
             }
            },
            "type": "scatterternary"
           }
          ],
          "surface": [
           {
            "colorbar": {
             "outlinewidth": 0,
             "ticks": ""
            },
            "colorscale": [
             [
              0,
              "#0d0887"
             ],
             [
              0.1111111111111111,
              "#46039f"
             ],
             [
              0.2222222222222222,
              "#7201a8"
             ],
             [
              0.3333333333333333,
              "#9c179e"
             ],
             [
              0.4444444444444444,
              "#bd3786"
             ],
             [
              0.5555555555555556,
              "#d8576b"
             ],
             [
              0.6666666666666666,
              "#ed7953"
             ],
             [
              0.7777777777777778,
              "#fb9f3a"
             ],
             [
              0.8888888888888888,
              "#fdca26"
             ],
             [
              1,
              "#f0f921"
             ]
            ],
            "type": "surface"
           }
          ],
          "table": [
           {
            "cells": {
             "fill": {
              "color": "#EBF0F8"
             },
             "line": {
              "color": "white"
             }
            },
            "header": {
             "fill": {
              "color": "#C8D4E3"
             },
             "line": {
              "color": "white"
             }
            },
            "type": "table"
           }
          ]
         },
         "layout": {
          "annotationdefaults": {
           "arrowcolor": "#2a3f5f",
           "arrowhead": 0,
           "arrowwidth": 1
          },
          "autotypenumbers": "strict",
          "coloraxis": {
           "colorbar": {
            "outlinewidth": 0,
            "ticks": ""
           }
          },
          "colorscale": {
           "diverging": [
            [
             0,
             "#8e0152"
            ],
            [
             0.1,
             "#c51b7d"
            ],
            [
             0.2,
             "#de77ae"
            ],
            [
             0.3,
             "#f1b6da"
            ],
            [
             0.4,
             "#fde0ef"
            ],
            [
             0.5,
             "#f7f7f7"
            ],
            [
             0.6,
             "#e6f5d0"
            ],
            [
             0.7,
             "#b8e186"
            ],
            [
             0.8,
             "#7fbc41"
            ],
            [
             0.9,
             "#4d9221"
            ],
            [
             1,
             "#276419"
            ]
           ],
           "sequential": [
            [
             0,
             "#0d0887"
            ],
            [
             0.1111111111111111,
             "#46039f"
            ],
            [
             0.2222222222222222,
             "#7201a8"
            ],
            [
             0.3333333333333333,
             "#9c179e"
            ],
            [
             0.4444444444444444,
             "#bd3786"
            ],
            [
             0.5555555555555556,
             "#d8576b"
            ],
            [
             0.6666666666666666,
             "#ed7953"
            ],
            [
             0.7777777777777778,
             "#fb9f3a"
            ],
            [
             0.8888888888888888,
             "#fdca26"
            ],
            [
             1,
             "#f0f921"
            ]
           ],
           "sequentialminus": [
            [
             0,
             "#0d0887"
            ],
            [
             0.1111111111111111,
             "#46039f"
            ],
            [
             0.2222222222222222,
             "#7201a8"
            ],
            [
             0.3333333333333333,
             "#9c179e"
            ],
            [
             0.4444444444444444,
             "#bd3786"
            ],
            [
             0.5555555555555556,
             "#d8576b"
            ],
            [
             0.6666666666666666,
             "#ed7953"
            ],
            [
             0.7777777777777778,
             "#fb9f3a"
            ],
            [
             0.8888888888888888,
             "#fdca26"
            ],
            [
             1,
             "#f0f921"
            ]
           ]
          },
          "colorway": [
           "#636efa",
           "#EF553B",
           "#00cc96",
           "#ab63fa",
           "#FFA15A",
           "#19d3f3",
           "#FF6692",
           "#B6E880",
           "#FF97FF",
           "#FECB52"
          ],
          "font": {
           "color": "#2a3f5f"
          },
          "geo": {
           "bgcolor": "white",
           "lakecolor": "white",
           "landcolor": "#E5ECF6",
           "showlakes": true,
           "showland": true,
           "subunitcolor": "white"
          },
          "hoverlabel": {
           "align": "left"
          },
          "hovermode": "closest",
          "mapbox": {
           "style": "light"
          },
          "paper_bgcolor": "white",
          "plot_bgcolor": "#E5ECF6",
          "polar": {
           "angularaxis": {
            "gridcolor": "white",
            "linecolor": "white",
            "ticks": ""
           },
           "bgcolor": "#E5ECF6",
           "radialaxis": {
            "gridcolor": "white",
            "linecolor": "white",
            "ticks": ""
           }
          },
          "scene": {
           "xaxis": {
            "backgroundcolor": "#E5ECF6",
            "gridcolor": "white",
            "gridwidth": 2,
            "linecolor": "white",
            "showbackground": true,
            "ticks": "",
            "zerolinecolor": "white"
           },
           "yaxis": {
            "backgroundcolor": "#E5ECF6",
            "gridcolor": "white",
            "gridwidth": 2,
            "linecolor": "white",
            "showbackground": true,
            "ticks": "",
            "zerolinecolor": "white"
           },
           "zaxis": {
            "backgroundcolor": "#E5ECF6",
            "gridcolor": "white",
            "gridwidth": 2,
            "linecolor": "white",
            "showbackground": true,
            "ticks": "",
            "zerolinecolor": "white"
           }
          },
          "shapedefaults": {
           "line": {
            "color": "#2a3f5f"
           }
          },
          "ternary": {
           "aaxis": {
            "gridcolor": "white",
            "linecolor": "white",
            "ticks": ""
           },
           "baxis": {
            "gridcolor": "white",
            "linecolor": "white",
            "ticks": ""
           },
           "bgcolor": "#E5ECF6",
           "caxis": {
            "gridcolor": "white",
            "linecolor": "white",
            "ticks": ""
           }
          },
          "title": {
           "x": 0.05
          },
          "xaxis": {
           "automargin": true,
           "gridcolor": "white",
           "linecolor": "white",
           "ticks": "",
           "title": {
            "standoff": 15
           },
           "zerolinecolor": "white",
           "zerolinewidth": 2
          },
          "yaxis": {
           "automargin": true,
           "gridcolor": "white",
           "linecolor": "white",
           "ticks": "",
           "title": {
            "standoff": 15
           },
           "zerolinecolor": "white",
           "zerolinewidth": 2
          }
         }
        },
        "title": {
         "text": "Parallel Coordinate Plot"
        }
       }
      }
     },
     "metadata": {},
     "output_type": "display_data"
    }
   ],
   "source": [
    "vis.plot_parallel_coordinate(study)"
   ]
  },
  {
   "cell_type": "code",
   "execution_count": 5,
   "metadata": {},
   "outputs": [
    {
     "data": {
      "application/vnd.plotly.v1+json": {
       "config": {
        "plotlyServerURL": "https://plot.ly"
       },
       "data": [
        {
         "colorbar": {
          "title": {
           "text": "Objective Value"
          }
         },
         "colorscale": [
          [
           0,
           "rgb(247,251,255)"
          ],
          [
           0.125,
           "rgb(222,235,247)"
          ],
          [
           0.25,
           "rgb(198,219,239)"
          ],
          [
           0.375,
           "rgb(158,202,225)"
          ],
          [
           0.5,
           "rgb(107,174,214)"
          ],
          [
           0.625,
           "rgb(66,146,198)"
          ],
          [
           0.75,
           "rgb(33,113,181)"
          ],
          [
           0.875,
           "rgb(8,81,156)"
          ],
          [
           1,
           "rgb(8,48,107)"
          ]
         ],
         "connectgaps": true,
         "contours": {
          "coloring": "heatmap"
         },
         "hoverinfo": "none",
         "line": {
          "smoothing": 1.3
         },
         "reversescale": true,
         "type": "contour",
         "x": [
          1.7,
          2,
          4,
          6,
          8,
          8.3
         ],
         "y": [
          -0.0003327779727902093,
          0.00013293451068639153,
          0.00016482101598833644,
          0.0002859618983201747,
          0.0005030922057200975,
          0.0005082222560318676,
          0.0005109668968683066,
          0.000662259354729205,
          0.000804803158410011,
          0.0008829668498645474,
          0.001035287721361168,
          0.0010762834240493012,
          0.0013010270616585372,
          0.0013123106047931883,
          0.0013848997785396763,
          0.0014712220401046773,
          0.0015236648785628855,
          0.0015528292768899295,
          0.0015783681924397643,
          0.0017245660022955657,
          0.001805691009839501,
          0.0018665340990677206,
          0.0018891900420452655,
          0.0019967096733155307,
          0.002022807309729832,
          0.002221702135674957,
          0.0022966234341041886,
          0.0024793055464558773,
          0.0024844733874638822,
          0.002569749107475558,
          0.002570416914840954,
          0.0027720657351321654,
          0.002861152110081496,
          0.0031063248738114947,
          0.00321367916541899,
          0.003272692583939085,
          0.0033627177469709303,
          0.0034983693930714047,
          0.003644256277757865,
          0.0037134388254553147,
          0.0037319454075769917,
          0.004059959359984235,
          0.004239922045757851,
          0.004263219032077157,
          0.004643003925192097,
          0.004679597012724851,
          0.004793542036453257,
          0.0048612258246951735,
          0.005457312666941946,
          0.005689736859226749,
          0.006357299898537107,
          0.006644651164503487,
          0.006993481555530524,
          0.00800933505882863,
          0.008088989972958073,
          0.00847077666596943,
          0.009326128265959114,
          0.009447184180218409,
          0.00991289666369501
         ],
         "z": [
          [
           null,
           null,
           null,
           null,
           null,
           null
          ],
          [
           null,
           null,
           null,
           0.007173012942075729,
           null,
           null
          ],
          [
           null,
           null,
           0.018036603927612305,
           null,
           null,
           null
          ],
          [
           null,
           null,
           null,
           0.0023483606055378914,
           null,
           null
          ],
          [
           null,
           null,
           null,
           0.001077517052181065,
           null,
           null
          ],
          [
           null,
           0.011020248755812645,
           null,
           null,
           null,
           null
          ],
          [
           null,
           null,
           null,
           0.0017465348355472088,
           null,
           null
          ],
          [
           null,
           null,
           null,
           null,
           0.011990615299769811,
           null
          ],
          [
           null,
           0.009051533415913582,
           null,
           null,
           null,
           null
          ],
          [
           null,
           0.0038915337063372135,
           null,
           null,
           null,
           null
          ],
          [
           null,
           null,
           null,
           0.0026472685858607292,
           null,
           null
          ],
          [
           null,
           null,
           null,
           0.0028466973453760147,
           null,
           null
          ],
          [
           null,
           null,
           null,
           null,
           0.003676444865190066,
           null
          ],
          [
           null,
           null,
           null,
           0.0013212664052844048,
           null,
           null
          ],
          [
           null,
           null,
           null,
           0.002323493827134371,
           null,
           null
          ],
          [
           null,
           null,
           null,
           0.0011659844312816858,
           null,
           null
          ],
          [
           null,
           null,
           null,
           0.0010562939569354057,
           null,
           null
          ],
          [
           null,
           null,
           null,
           0.0019303050357848406,
           null,
           null
          ],
          [
           null,
           null,
           null,
           0.001234408002346754,
           null,
           null
          ],
          [
           null,
           null,
           null,
           0.0010509244166314602,
           null,
           null
          ],
          [
           null,
           null,
           null,
           0.005089037652526583,
           null,
           null
          ],
          [
           null,
           null,
           null,
           0.002799304900690913,
           null,
           null
          ],
          [
           null,
           null,
           0.017933184280991554,
           null,
           null,
           null
          ],
          [
           null,
           null,
           null,
           0.0014195044059306383,
           null,
           null
          ],
          [
           null,
           null,
           null,
           0.015235654436624967,
           null,
           null
          ],
          [
           null,
           null,
           0.013237009827907268,
           null,
           null,
           null
          ],
          [
           null,
           null,
           null,
           0.007493170909583569,
           null,
           null
          ],
          [
           null,
           null,
           null,
           0.004169144667685032,
           null,
           null
          ],
          [
           null,
           null,
           0.009889267385005951,
           null,
           null,
           null
          ],
          [
           null,
           null,
           null,
           0.005443759262561798,
           null,
           null
          ],
          [
           null,
           null,
           null,
           0.0024775939527899027,
           null,
           null
          ],
          [
           null,
           null,
           0.0034027867950499058,
           null,
           null,
           null
          ],
          [
           null,
           null,
           null,
           0.0036489125341176987,
           null,
           null
          ],
          [
           null,
           0.009871360446725572,
           null,
           null,
           null,
           null
          ],
          [
           null,
           null,
           null,
           0.0016798200085759163,
           null,
           null
          ],
          [
           null,
           null,
           null,
           null,
           0.003677790518850088,
           null
          ],
          [
           null,
           null,
           null,
           0.0010533332824707031,
           null,
           null
          ],
          [
           null,
           null,
           null,
           0.0017711485270410776,
           null,
           null
          ],
          [
           null,
           null,
           null,
           0.0011525334557518363,
           null,
           null
          ],
          [
           null,
           null,
           null,
           0.003910826948972849,
           null,
           null
          ],
          [
           null,
           null,
           null,
           0.003278343938291073,
           null,
           null
          ],
          [
           null,
           null,
           null,
           0.005068128928542137,
           null,
           null
          ],
          [
           null,
           null,
           null,
           0.004693320952355862,
           null,
           null
          ],
          [
           null,
           null,
           null,
           0.0024279847275465727,
           null,
           null
          ],
          [
           null,
           null,
           null,
           0.004909416660666466,
           null,
           null
          ],
          [
           null,
           null,
           null,
           0.0031210482120513916,
           null,
           null
          ],
          [
           null,
           null,
           null,
           0.002582056913524866,
           null,
           null
          ],
          [
           null,
           0.004099226091057062,
           null,
           null,
           null,
           null
          ],
          [
           null,
           null,
           null,
           0.012842606753110886,
           null,
           null
          ],
          [
           null,
           null,
           null,
           null,
           0.0032087189073746023,
           null
          ],
          [
           null,
           null,
           null,
           null,
           0.010210204869508743,
           null
          ],
          [
           null,
           null,
           null,
           0.004480917938053608,
           null,
           null
          ],
          [
           null,
           null,
           null,
           0.003125535324215889,
           null,
           null
          ],
          [
           null,
           0.00556196179240942,
           null,
           null,
           null,
           null
          ],
          [
           null,
           0.016106017998286655,
           null,
           null,
           null,
           null
          ],
          [
           null,
           null,
           null,
           0.01462360577923911,
           null,
           null
          ],
          [
           null,
           null,
           0.012798120932919639,
           null,
           null,
           null
          ],
          [
           null,
           0.012514274567365646,
           null,
           null,
           null,
           null
          ],
          [
           null,
           null,
           null,
           null,
           null,
           null
          ]
         ]
        },
        {
         "marker": {
          "color": "black",
          "line": {
           "color": "Gray",
           "width": 2
          }
         },
         "mode": "markers",
         "name": "Feasible Trial",
         "showlegend": false,
         "type": "scatter",
         "x": [
          2,
          2,
          6,
          4,
          2,
          6,
          4,
          6,
          2,
          8,
          6,
          6,
          6,
          6,
          8,
          6,
          6,
          6,
          4,
          8,
          6,
          6,
          6,
          6,
          6,
          6,
          6,
          8,
          4,
          6,
          2,
          6,
          6,
          6,
          6,
          2,
          6,
          4,
          6,
          2,
          6,
          6,
          6,
          6,
          6,
          6,
          8,
          6,
          4,
          6,
          6,
          6,
          6,
          6,
          6,
          6,
          2
         ],
         "y": [
          0.0048612258246951735,
          0.009447184180218409,
          0.002022807309729832,
          0.0024844733874638822,
          0.008088989972958073,
          0.006993481555530524,
          0.009326128265959114,
          0.00847077666596943,
          0.00800933505882863,
          0.006357299898537107,
          0.004793542036453257,
          0.004643003925192097,
          0.006644651164503487,
          0.003644256277757865,
          0.003272692583939085,
          0.0037134388254553147,
          0.0002859618983201747,
          0.00013293451068639153,
          0.00016482101598833644,
          0.0013010270616585372,
          0.0015783681924397643,
          0.0013848997785396763,
          0.0014712220401046773,
          0.00321367916541899,
          0.0013123106047931883,
          0.0024793055464558773,
          0.0037319454075769917,
          0.005689736859226749,
          0.0018891900420452655,
          0.004059959359984235,
          0.0008829668498645474,
          0.001035287721361168,
          0.002569749107475558,
          0.0018665340990677206,
          0.002861152110081496,
          0.000804803158410011,
          0.001805691009839501,
          0.002221702135674957,
          0.005457312666941946,
          0.0031063248738114947,
          0.004263219032077157,
          0.0033627177469709303,
          0.0015236648785628855,
          0.0034983693930714047,
          0.002570416914840954,
          0.004239922045757851,
          0.000662259354729205,
          0.0017245660022955657,
          0.0027720657351321654,
          0.0022966234341041886,
          0.004679597012724851,
          0.0015528292768899295,
          0.0019967096733155307,
          0.0005030922057200975,
          0.0005109668968683066,
          0.0010762834240493012,
          0.0005082222560318676
         ]
        },
        {
         "marker": {
          "color": "#cccccc",
          "line": {
           "color": "Gray",
           "width": 2
          }
         },
         "mode": "markers",
         "name": "Infeasible Trial",
         "showlegend": false,
         "type": "scatter",
         "x": [],
         "y": []
        }
       ],
       "layout": {
        "template": {
         "data": {
          "bar": [
           {
            "error_x": {
             "color": "#2a3f5f"
            },
            "error_y": {
             "color": "#2a3f5f"
            },
            "marker": {
             "line": {
              "color": "#E5ECF6",
              "width": 0.5
             },
             "pattern": {
              "fillmode": "overlay",
              "size": 10,
              "solidity": 0.2
             }
            },
            "type": "bar"
           }
          ],
          "barpolar": [
           {
            "marker": {
             "line": {
              "color": "#E5ECF6",
              "width": 0.5
             },
             "pattern": {
              "fillmode": "overlay",
              "size": 10,
              "solidity": 0.2
             }
            },
            "type": "barpolar"
           }
          ],
          "carpet": [
           {
            "aaxis": {
             "endlinecolor": "#2a3f5f",
             "gridcolor": "white",
             "linecolor": "white",
             "minorgridcolor": "white",
             "startlinecolor": "#2a3f5f"
            },
            "baxis": {
             "endlinecolor": "#2a3f5f",
             "gridcolor": "white",
             "linecolor": "white",
             "minorgridcolor": "white",
             "startlinecolor": "#2a3f5f"
            },
            "type": "carpet"
           }
          ],
          "choropleth": [
           {
            "colorbar": {
             "outlinewidth": 0,
             "ticks": ""
            },
            "type": "choropleth"
           }
          ],
          "contour": [
           {
            "colorbar": {
             "outlinewidth": 0,
             "ticks": ""
            },
            "colorscale": [
             [
              0,
              "#0d0887"
             ],
             [
              0.1111111111111111,
              "#46039f"
             ],
             [
              0.2222222222222222,
              "#7201a8"
             ],
             [
              0.3333333333333333,
              "#9c179e"
             ],
             [
              0.4444444444444444,
              "#bd3786"
             ],
             [
              0.5555555555555556,
              "#d8576b"
             ],
             [
              0.6666666666666666,
              "#ed7953"
             ],
             [
              0.7777777777777778,
              "#fb9f3a"
             ],
             [
              0.8888888888888888,
              "#fdca26"
             ],
             [
              1,
              "#f0f921"
             ]
            ],
            "type": "contour"
           }
          ],
          "contourcarpet": [
           {
            "colorbar": {
             "outlinewidth": 0,
             "ticks": ""
            },
            "type": "contourcarpet"
           }
          ],
          "heatmap": [
           {
            "colorbar": {
             "outlinewidth": 0,
             "ticks": ""
            },
            "colorscale": [
             [
              0,
              "#0d0887"
             ],
             [
              0.1111111111111111,
              "#46039f"
             ],
             [
              0.2222222222222222,
              "#7201a8"
             ],
             [
              0.3333333333333333,
              "#9c179e"
             ],
             [
              0.4444444444444444,
              "#bd3786"
             ],
             [
              0.5555555555555556,
              "#d8576b"
             ],
             [
              0.6666666666666666,
              "#ed7953"
             ],
             [
              0.7777777777777778,
              "#fb9f3a"
             ],
             [
              0.8888888888888888,
              "#fdca26"
             ],
             [
              1,
              "#f0f921"
             ]
            ],
            "type": "heatmap"
           }
          ],
          "heatmapgl": [
           {
            "colorbar": {
             "outlinewidth": 0,
             "ticks": ""
            },
            "colorscale": [
             [
              0,
              "#0d0887"
             ],
             [
              0.1111111111111111,
              "#46039f"
             ],
             [
              0.2222222222222222,
              "#7201a8"
             ],
             [
              0.3333333333333333,
              "#9c179e"
             ],
             [
              0.4444444444444444,
              "#bd3786"
             ],
             [
              0.5555555555555556,
              "#d8576b"
             ],
             [
              0.6666666666666666,
              "#ed7953"
             ],
             [
              0.7777777777777778,
              "#fb9f3a"
             ],
             [
              0.8888888888888888,
              "#fdca26"
             ],
             [
              1,
              "#f0f921"
             ]
            ],
            "type": "heatmapgl"
           }
          ],
          "histogram": [
           {
            "marker": {
             "pattern": {
              "fillmode": "overlay",
              "size": 10,
              "solidity": 0.2
             }
            },
            "type": "histogram"
           }
          ],
          "histogram2d": [
           {
            "colorbar": {
             "outlinewidth": 0,
             "ticks": ""
            },
            "colorscale": [
             [
              0,
              "#0d0887"
             ],
             [
              0.1111111111111111,
              "#46039f"
             ],
             [
              0.2222222222222222,
              "#7201a8"
             ],
             [
              0.3333333333333333,
              "#9c179e"
             ],
             [
              0.4444444444444444,
              "#bd3786"
             ],
             [
              0.5555555555555556,
              "#d8576b"
             ],
             [
              0.6666666666666666,
              "#ed7953"
             ],
             [
              0.7777777777777778,
              "#fb9f3a"
             ],
             [
              0.8888888888888888,
              "#fdca26"
             ],
             [
              1,
              "#f0f921"
             ]
            ],
            "type": "histogram2d"
           }
          ],
          "histogram2dcontour": [
           {
            "colorbar": {
             "outlinewidth": 0,
             "ticks": ""
            },
            "colorscale": [
             [
              0,
              "#0d0887"
             ],
             [
              0.1111111111111111,
              "#46039f"
             ],
             [
              0.2222222222222222,
              "#7201a8"
             ],
             [
              0.3333333333333333,
              "#9c179e"
             ],
             [
              0.4444444444444444,
              "#bd3786"
             ],
             [
              0.5555555555555556,
              "#d8576b"
             ],
             [
              0.6666666666666666,
              "#ed7953"
             ],
             [
              0.7777777777777778,
              "#fb9f3a"
             ],
             [
              0.8888888888888888,
              "#fdca26"
             ],
             [
              1,
              "#f0f921"
             ]
            ],
            "type": "histogram2dcontour"
           }
          ],
          "mesh3d": [
           {
            "colorbar": {
             "outlinewidth": 0,
             "ticks": ""
            },
            "type": "mesh3d"
           }
          ],
          "parcoords": [
           {
            "line": {
             "colorbar": {
              "outlinewidth": 0,
              "ticks": ""
             }
            },
            "type": "parcoords"
           }
          ],
          "pie": [
           {
            "automargin": true,
            "type": "pie"
           }
          ],
          "scatter": [
           {
            "fillpattern": {
             "fillmode": "overlay",
             "size": 10,
             "solidity": 0.2
            },
            "type": "scatter"
           }
          ],
          "scatter3d": [
           {
            "line": {
             "colorbar": {
              "outlinewidth": 0,
              "ticks": ""
             }
            },
            "marker": {
             "colorbar": {
              "outlinewidth": 0,
              "ticks": ""
             }
            },
            "type": "scatter3d"
           }
          ],
          "scattercarpet": [
           {
            "marker": {
             "colorbar": {
              "outlinewidth": 0,
              "ticks": ""
             }
            },
            "type": "scattercarpet"
           }
          ],
          "scattergeo": [
           {
            "marker": {
             "colorbar": {
              "outlinewidth": 0,
              "ticks": ""
             }
            },
            "type": "scattergeo"
           }
          ],
          "scattergl": [
           {
            "marker": {
             "colorbar": {
              "outlinewidth": 0,
              "ticks": ""
             }
            },
            "type": "scattergl"
           }
          ],
          "scattermapbox": [
           {
            "marker": {
             "colorbar": {
              "outlinewidth": 0,
              "ticks": ""
             }
            },
            "type": "scattermapbox"
           }
          ],
          "scatterpolar": [
           {
            "marker": {
             "colorbar": {
              "outlinewidth": 0,
              "ticks": ""
             }
            },
            "type": "scatterpolar"
           }
          ],
          "scatterpolargl": [
           {
            "marker": {
             "colorbar": {
              "outlinewidth": 0,
              "ticks": ""
             }
            },
            "type": "scatterpolargl"
           }
          ],
          "scatterternary": [
           {
            "marker": {
             "colorbar": {
              "outlinewidth": 0,
              "ticks": ""
             }
            },
            "type": "scatterternary"
           }
          ],
          "surface": [
           {
            "colorbar": {
             "outlinewidth": 0,
             "ticks": ""
            },
            "colorscale": [
             [
              0,
              "#0d0887"
             ],
             [
              0.1111111111111111,
              "#46039f"
             ],
             [
              0.2222222222222222,
              "#7201a8"
             ],
             [
              0.3333333333333333,
              "#9c179e"
             ],
             [
              0.4444444444444444,
              "#bd3786"
             ],
             [
              0.5555555555555556,
              "#d8576b"
             ],
             [
              0.6666666666666666,
              "#ed7953"
             ],
             [
              0.7777777777777778,
              "#fb9f3a"
             ],
             [
              0.8888888888888888,
              "#fdca26"
             ],
             [
              1,
              "#f0f921"
             ]
            ],
            "type": "surface"
           }
          ],
          "table": [
           {
            "cells": {
             "fill": {
              "color": "#EBF0F8"
             },
             "line": {
              "color": "white"
             }
            },
            "header": {
             "fill": {
              "color": "#C8D4E3"
             },
             "line": {
              "color": "white"
             }
            },
            "type": "table"
           }
          ]
         },
         "layout": {
          "annotationdefaults": {
           "arrowcolor": "#2a3f5f",
           "arrowhead": 0,
           "arrowwidth": 1
          },
          "autotypenumbers": "strict",
          "coloraxis": {
           "colorbar": {
            "outlinewidth": 0,
            "ticks": ""
           }
          },
          "colorscale": {
           "diverging": [
            [
             0,
             "#8e0152"
            ],
            [
             0.1,
             "#c51b7d"
            ],
            [
             0.2,
             "#de77ae"
            ],
            [
             0.3,
             "#f1b6da"
            ],
            [
             0.4,
             "#fde0ef"
            ],
            [
             0.5,
             "#f7f7f7"
            ],
            [
             0.6,
             "#e6f5d0"
            ],
            [
             0.7,
             "#b8e186"
            ],
            [
             0.8,
             "#7fbc41"
            ],
            [
             0.9,
             "#4d9221"
            ],
            [
             1,
             "#276419"
            ]
           ],
           "sequential": [
            [
             0,
             "#0d0887"
            ],
            [
             0.1111111111111111,
             "#46039f"
            ],
            [
             0.2222222222222222,
             "#7201a8"
            ],
            [
             0.3333333333333333,
             "#9c179e"
            ],
            [
             0.4444444444444444,
             "#bd3786"
            ],
            [
             0.5555555555555556,
             "#d8576b"
            ],
            [
             0.6666666666666666,
             "#ed7953"
            ],
            [
             0.7777777777777778,
             "#fb9f3a"
            ],
            [
             0.8888888888888888,
             "#fdca26"
            ],
            [
             1,
             "#f0f921"
            ]
           ],
           "sequentialminus": [
            [
             0,
             "#0d0887"
            ],
            [
             0.1111111111111111,
             "#46039f"
            ],
            [
             0.2222222222222222,
             "#7201a8"
            ],
            [
             0.3333333333333333,
             "#9c179e"
            ],
            [
             0.4444444444444444,
             "#bd3786"
            ],
            [
             0.5555555555555556,
             "#d8576b"
            ],
            [
             0.6666666666666666,
             "#ed7953"
            ],
            [
             0.7777777777777778,
             "#fb9f3a"
            ],
            [
             0.8888888888888888,
             "#fdca26"
            ],
            [
             1,
             "#f0f921"
            ]
           ]
          },
          "colorway": [
           "#636efa",
           "#EF553B",
           "#00cc96",
           "#ab63fa",
           "#FFA15A",
           "#19d3f3",
           "#FF6692",
           "#B6E880",
           "#FF97FF",
           "#FECB52"
          ],
          "font": {
           "color": "#2a3f5f"
          },
          "geo": {
           "bgcolor": "white",
           "lakecolor": "white",
           "landcolor": "#E5ECF6",
           "showlakes": true,
           "showland": true,
           "subunitcolor": "white"
          },
          "hoverlabel": {
           "align": "left"
          },
          "hovermode": "closest",
          "mapbox": {
           "style": "light"
          },
          "paper_bgcolor": "white",
          "plot_bgcolor": "#E5ECF6",
          "polar": {
           "angularaxis": {
            "gridcolor": "white",
            "linecolor": "white",
            "ticks": ""
           },
           "bgcolor": "#E5ECF6",
           "radialaxis": {
            "gridcolor": "white",
            "linecolor": "white",
            "ticks": ""
           }
          },
          "scene": {
           "xaxis": {
            "backgroundcolor": "#E5ECF6",
            "gridcolor": "white",
            "gridwidth": 2,
            "linecolor": "white",
            "showbackground": true,
            "ticks": "",
            "zerolinecolor": "white"
           },
           "yaxis": {
            "backgroundcolor": "#E5ECF6",
            "gridcolor": "white",
            "gridwidth": 2,
            "linecolor": "white",
            "showbackground": true,
            "ticks": "",
            "zerolinecolor": "white"
           },
           "zaxis": {
            "backgroundcolor": "#E5ECF6",
            "gridcolor": "white",
            "gridwidth": 2,
            "linecolor": "white",
            "showbackground": true,
            "ticks": "",
            "zerolinecolor": "white"
           }
          },
          "shapedefaults": {
           "line": {
            "color": "#2a3f5f"
           }
          },
          "ternary": {
           "aaxis": {
            "gridcolor": "white",
            "linecolor": "white",
            "ticks": ""
           },
           "baxis": {
            "gridcolor": "white",
            "linecolor": "white",
            "ticks": ""
           },
           "bgcolor": "#E5ECF6",
           "caxis": {
            "gridcolor": "white",
            "linecolor": "white",
            "ticks": ""
           }
          },
          "title": {
           "x": 0.05
          },
          "xaxis": {
           "automargin": true,
           "gridcolor": "white",
           "linecolor": "white",
           "ticks": "",
           "title": {
            "standoff": 15
           },
           "zerolinecolor": "white",
           "zerolinewidth": 2
          },
          "yaxis": {
           "automargin": true,
           "gridcolor": "white",
           "linecolor": "white",
           "ticks": "",
           "title": {
            "standoff": 15
           },
           "zerolinecolor": "white",
           "zerolinewidth": 2
          }
         }
        },
        "title": {
         "text": "Contour Plot"
        },
        "xaxis": {
         "range": [
          1.7,
          8.3
         ],
         "title": {
          "text": "model.num_interactions"
         }
        },
        "yaxis": {
         "range": [
          -0.0003327779727902093,
          0.00991289666369501
         ],
         "title": {
          "text": "optimizer.lr_initial"
         }
        }
       }
      }
     },
     "metadata": {},
     "output_type": "display_data"
    }
   ],
   "source": [
    "vis.plot_contour(study, params=[\"optimizer.lr_initial\", \"model.num_interactions\"])"
   ]
  },
  {
   "cell_type": "code",
   "execution_count": 11,
   "metadata": {},
   "outputs": [
    {
     "name": "stderr",
     "output_type": "stream",
     "text": [
      "c:\\Users\\raphael.trezarieu\\Documents\\Code\\faetec\\.venv\\Lib\\site-packages\\optuna\\distributions.py:602: FutureWarning:\n",
      "\n",
      "UniformDistribution has been deprecated in v3.0.0. This feature will be removed in v6.0.0. See https://github.com/optuna/optuna/releases/tag/v3.0.0. Use :class:`~optuna.distributions.FloatDistribution` instead.\n",
      "\n"
     ]
    },
    {
     "data": {
      "application/vnd.plotly.v1+json": {
       "config": {
        "plotlyServerURL": "https://plot.ly"
       },
       "data": [
        {
         "type": "scatter",
         "xaxis": "x",
         "yaxis": "y"
        },
        {
         "colorbar": {
          "title": {
           "text": "Objective Value"
          }
         },
         "colorscale": [
          [
           0,
           "rgb(247,251,255)"
          ],
          [
           0.125,
           "rgb(222,235,247)"
          ],
          [
           0.25,
           "rgb(198,219,239)"
          ],
          [
           0.375,
           "rgb(158,202,225)"
          ],
          [
           0.5,
           "rgb(107,174,214)"
          ],
          [
           0.625,
           "rgb(66,146,198)"
          ],
          [
           0.75,
           "rgb(33,113,181)"
          ],
          [
           0.875,
           "rgb(8,81,156)"
          ],
          [
           1,
           "rgb(8,48,107)"
          ]
         ],
         "connectgaps": true,
         "contours": {
          "coloring": "heatmap"
         },
         "hoverinfo": "none",
         "line": {
          "smoothing": 1.3
         },
         "reversescale": true,
         "showscale": true,
         "type": "contour",
         "x": [
          "relu",
          "swish"
         ],
         "xaxis": "x11",
         "y": [
          "False",
          "True"
         ],
         "yaxis": "y11",
         "z": [
          [
           0.0024775939527899027,
           0.009871360446725572
          ],
          [
           0.0010509244166314602,
           0.009051533415913582
          ]
         ]
        },
        {
         "marker": {
          "color": "black",
          "line": {
           "color": "Gray",
           "width": 2
          }
         },
         "mode": "markers",
         "name": "Feasible Trial",
         "showlegend": false,
         "type": "scatter",
         "x": [
          "relu",
          "swish",
          "swish",
          "swish",
          "swish",
          "relu",
          "swish",
          "swish",
          "relu",
          "swish",
          "relu",
          "relu",
          "relu",
          "relu",
          "relu",
          "relu",
          "relu",
          "relu",
          "relu",
          "relu",
          "relu",
          "relu",
          "relu",
          "relu",
          "relu",
          "relu",
          "relu",
          "relu",
          "relu",
          "relu",
          "relu",
          "relu",
          "relu",
          "relu",
          "relu",
          "swish",
          "relu",
          "swish",
          "relu",
          "swish",
          "relu",
          "relu",
          "relu",
          "relu",
          "relu",
          "relu",
          "swish",
          "relu",
          "relu",
          "relu",
          "relu",
          "relu",
          "relu",
          "relu",
          "relu",
          "relu",
          "swish"
         ],
         "xaxis": "x11",
         "y": [
          "False",
          "True",
          "False",
          "False",
          "False",
          "False",
          "True",
          "False",
          "False",
          "False",
          "True",
          "True",
          "True",
          "True",
          "True",
          "True",
          "True",
          "True",
          "True",
          "True",
          "True",
          "True",
          "True",
          "True",
          "True",
          "True",
          "True",
          "True",
          "True",
          "True",
          "True",
          "True",
          "True",
          "True",
          "True",
          "True",
          "True",
          "False",
          "True",
          "False",
          "True",
          "True",
          "True",
          "True",
          "False",
          "True",
          "True",
          "True",
          "False",
          "True",
          "True",
          "True",
          "True",
          "True",
          "True",
          "True",
          "True"
         ],
         "yaxis": "y11"
        },
        {
         "colorbar": {
          "title": {
           "text": "Objective Value"
          }
         },
         "colorscale": [
          [
           0,
           "rgb(247,251,255)"
          ],
          [
           0.125,
           "rgb(222,235,247)"
          ],
          [
           0.25,
           "rgb(198,219,239)"
          ],
          [
           0.375,
           "rgb(158,202,225)"
          ],
          [
           0.5,
           "rgb(107,174,214)"
          ],
          [
           0.625,
           "rgb(66,146,198)"
          ],
          [
           0.75,
           "rgb(33,113,181)"
          ],
          [
           0.875,
           "rgb(8,81,156)"
          ],
          [
           1,
           "rgb(8,48,107)"
          ]
         ],
         "connectgaps": true,
         "contours": {
          "coloring": "heatmap"
         },
         "hoverinfo": "none",
         "line": {
          "smoothing": 1.3
         },
         "reversescale": true,
         "showscale": false,
         "type": "contour",
         "x": [
          "relu",
          "swish"
         ],
         "xaxis": "x21",
         "y": [
          41.599999999999994,
          64,
          256,
          384,
          512,
          534.4
         ],
         "yaxis": "y21",
         "z": [
          [
           null,
           null
          ],
          [
           0.007493170909583569,
           0.01462360577923911
          ],
          [
           0.0032087189073746023,
           0.015235654436624967
          ],
          [
           0.0031210482120513916,
           0.009871360446725572
          ],
          [
           0.0010509244166314602,
           0.009051533415913582
          ],
          [
           null,
           null
          ]
         ]
        },
        {
         "marker": {
          "color": "black",
          "line": {
           "color": "Gray",
           "width": 2
          }
         },
         "mode": "markers",
         "name": "Feasible Trial",
         "showlegend": false,
         "type": "scatter",
         "x": [
          "relu",
          "swish",
          "swish",
          "swish",
          "swish",
          "relu",
          "swish",
          "swish",
          "relu",
          "swish",
          "relu",
          "relu",
          "relu",
          "relu",
          "relu",
          "relu",
          "relu",
          "relu",
          "relu",
          "relu",
          "relu",
          "relu",
          "relu",
          "relu",
          "relu",
          "relu",
          "relu",
          "relu",
          "relu",
          "relu",
          "relu",
          "relu",
          "relu",
          "relu",
          "relu",
          "swish",
          "relu",
          "swish",
          "relu",
          "swish",
          "relu",
          "relu",
          "relu",
          "relu",
          "relu",
          "relu",
          "swish",
          "relu",
          "relu",
          "relu",
          "relu",
          "relu",
          "relu",
          "relu",
          "relu",
          "relu",
          "swish"
         ],
         "xaxis": "x21",
         "y": [
          256,
          512,
          256,
          384,
          64,
          512,
          512,
          64,
          256,
          384,
          512,
          512,
          512,
          512,
          512,
          512,
          512,
          384,
          64,
          512,
          512,
          512,
          512,
          512,
          512,
          512,
          384,
          256,
          64,
          256,
          512,
          512,
          512,
          512,
          512,
          512,
          256,
          512,
          64,
          384,
          512,
          512,
          512,
          512,
          512,
          512,
          512,
          512,
          256,
          64,
          384,
          512,
          512,
          512,
          512,
          512,
          512
         ],
         "yaxis": "y21"
        },
        {
         "colorbar": {
          "title": {
           "text": "Objective Value"
          }
         },
         "colorscale": [
          [
           0,
           "rgb(247,251,255)"
          ],
          [
           0.125,
           "rgb(222,235,247)"
          ],
          [
           0.25,
           "rgb(198,219,239)"
          ],
          [
           0.375,
           "rgb(158,202,225)"
          ],
          [
           0.5,
           "rgb(107,174,214)"
          ],
          [
           0.625,
           "rgb(66,146,198)"
          ],
          [
           0.75,
           "rgb(33,113,181)"
          ],
          [
           0.875,
           "rgb(8,81,156)"
          ],
          [
           1,
           "rgb(8,48,107)"
          ]
         ],
         "connectgaps": true,
         "contours": {
          "coloring": "heatmap"
         },
         "hoverinfo": "none",
         "line": {
          "smoothing": 1.3
         },
         "reversescale": true,
         "showscale": false,
         "type": "contour",
         "x": [
          "relu",
          "swish"
         ],
         "xaxis": "x31",
         "y": [
          41.599999999999994,
          64,
          256,
          384,
          512,
          534.4
         ],
         "yaxis": "y31",
         "z": [
          [
           null,
           null
          ],
          [
           0.0034027867950499058,
           0.009889267385005951
          ],
          [
           0.0024279847275465727,
           0.009051533415913582
          ],
          [
           0.0010509244166314602,
           0.009871360446725572
          ],
          [
           0.0032087189073746023,
           0.012514274567365646
          ],
          [
           null,
           null
          ]
         ]
        },
        {
         "marker": {
          "color": "black",
          "line": {
           "color": "Gray",
           "width": 2
          }
         },
         "mode": "markers",
         "name": "Feasible Trial",
         "showlegend": false,
         "type": "scatter",
         "x": [
          "relu",
          "swish",
          "swish",
          "swish",
          "swish",
          "relu",
          "swish",
          "swish",
          "relu",
          "swish",
          "relu",
          "relu",
          "relu",
          "relu",
          "relu",
          "relu",
          "relu",
          "relu",
          "relu",
          "relu",
          "relu",
          "relu",
          "relu",
          "relu",
          "relu",
          "relu",
          "relu",
          "relu",
          "relu",
          "relu",
          "relu",
          "relu",
          "relu",
          "relu",
          "relu",
          "swish",
          "relu",
          "swish",
          "relu",
          "swish",
          "relu",
          "relu",
          "relu",
          "relu",
          "relu",
          "relu",
          "swish",
          "relu",
          "relu",
          "relu",
          "relu",
          "relu",
          "relu",
          "relu",
          "relu",
          "relu",
          "swish"
         ],
         "xaxis": "x31",
         "y": [
          512,
          512,
          256,
          64,
          256,
          384,
          384,
          64,
          384,
          256,
          384,
          384,
          384,
          384,
          384,
          384,
          384,
          512,
          64,
          384,
          384,
          384,
          384,
          384,
          384,
          384,
          256,
          512,
          64,
          512,
          384,
          384,
          384,
          384,
          384,
          256,
          512,
          384,
          64,
          384,
          256,
          384,
          384,
          384,
          384,
          384,
          384,
          384,
          64,
          384,
          384,
          384,
          384,
          384,
          384,
          384,
          256
         ],
         "yaxis": "y31"
        },
        {
         "colorbar": {
          "title": {
           "text": "Objective Value"
          }
         },
         "colorscale": [
          [
           0,
           "rgb(247,251,255)"
          ],
          [
           0.125,
           "rgb(222,235,247)"
          ],
          [
           0.25,
           "rgb(198,219,239)"
          ],
          [
           0.375,
           "rgb(158,202,225)"
          ],
          [
           0.5,
           "rgb(107,174,214)"
          ],
          [
           0.625,
           "rgb(66,146,198)"
          ],
          [
           0.75,
           "rgb(33,113,181)"
          ],
          [
           0.875,
           "rgb(8,81,156)"
          ],
          [
           1,
           "rgb(8,48,107)"
          ]
         ],
         "connectgaps": true,
         "contours": {
          "coloring": "heatmap"
         },
         "hoverinfo": "none",
         "line": {
          "smoothing": 1.3
         },
         "reversescale": true,
         "showscale": false,
         "type": "contour",
         "x": [
          "relu",
          "swish"
         ],
         "xaxis": "x41",
         "y": [
          1.7,
          2,
          4,
          6,
          8,
          8.3
         ],
         "yaxis": "y41",
         "z": [
          [
           null,
           null
          ],
          [
           0.0038915337063372135,
           0.009051533415913582
          ],
          [
           0.0034027867950499058,
           0.009889267385005951
          ],
          [
           0.0010509244166314602,
           0.01462360577923911
          ],
          [
           0.0032087189073746023,
           0.010210204869508743
          ],
          [
           null,
           null
          ]
         ]
        },
        {
         "marker": {
          "color": "black",
          "line": {
           "color": "Gray",
           "width": 2
          }
         },
         "mode": "markers",
         "name": "Feasible Trial",
         "showlegend": false,
         "type": "scatter",
         "x": [
          "relu",
          "swish",
          "swish",
          "swish",
          "swish",
          "relu",
          "swish",
          "swish",
          "relu",
          "swish",
          "relu",
          "relu",
          "relu",
          "relu",
          "relu",
          "relu",
          "relu",
          "relu",
          "relu",
          "relu",
          "relu",
          "relu",
          "relu",
          "relu",
          "relu",
          "relu",
          "relu",
          "relu",
          "relu",
          "relu",
          "relu",
          "relu",
          "relu",
          "relu",
          "relu",
          "swish",
          "relu",
          "swish",
          "relu",
          "swish",
          "relu",
          "relu",
          "relu",
          "relu",
          "relu",
          "relu",
          "swish",
          "relu",
          "relu",
          "relu",
          "relu",
          "relu",
          "relu",
          "relu",
          "relu",
          "relu",
          "swish"
         ],
         "xaxis": "x41",
         "y": [
          2,
          2,
          6,
          4,
          2,
          6,
          4,
          6,
          2,
          8,
          6,
          6,
          6,
          6,
          8,
          6,
          6,
          6,
          4,
          8,
          6,
          6,
          6,
          6,
          6,
          6,
          6,
          8,
          4,
          6,
          2,
          6,
          6,
          6,
          6,
          2,
          6,
          4,
          6,
          2,
          6,
          6,
          6,
          6,
          6,
          6,
          8,
          6,
          4,
          6,
          6,
          6,
          6,
          6,
          6,
          6,
          2
         ],
         "yaxis": "y41"
        },
        {
         "colorbar": {
          "title": {
           "text": "Objective Value"
          }
         },
         "colorscale": [
          [
           0,
           "rgb(247,251,255)"
          ],
          [
           0.125,
           "rgb(222,235,247)"
          ],
          [
           0.25,
           "rgb(198,219,239)"
          ],
          [
           0.375,
           "rgb(158,202,225)"
          ],
          [
           0.5,
           "rgb(107,174,214)"
          ],
          [
           0.625,
           "rgb(66,146,198)"
          ],
          [
           0.75,
           "rgb(33,113,181)"
          ],
          [
           0.875,
           "rgb(8,81,156)"
          ],
          [
           1,
           "rgb(8,48,107)"
          ]
         ],
         "connectgaps": true,
         "contours": {
          "coloring": "heatmap"
         },
         "hoverinfo": "none",
         "line": {
          "smoothing": 1.3
         },
         "reversescale": true,
         "showscale": false,
         "type": "contour",
         "x": [
          "relu",
          "swish"
         ],
         "xaxis": "x51",
         "y": [
          "False",
          "True"
         ],
         "yaxis": "y51",
         "z": [
          [
           0.0010509244166314602,
           0.009871360446725572
          ],
          [
           0.003278343938291073,
           0.009051533415913582
          ]
         ]
        },
        {
         "marker": {
          "color": "black",
          "line": {
           "color": "Gray",
           "width": 2
          }
         },
         "mode": "markers",
         "name": "Feasible Trial",
         "showlegend": false,
         "type": "scatter",
         "x": [
          "relu",
          "swish",
          "swish",
          "swish",
          "swish",
          "relu",
          "swish",
          "swish",
          "relu",
          "swish",
          "relu",
          "relu",
          "relu",
          "relu",
          "relu",
          "relu",
          "relu",
          "relu",
          "relu",
          "relu",
          "relu",
          "relu",
          "relu",
          "relu",
          "relu",
          "relu",
          "relu",
          "relu",
          "relu",
          "relu",
          "relu",
          "relu",
          "relu",
          "relu",
          "relu",
          "swish",
          "relu",
          "swish",
          "relu",
          "swish",
          "relu",
          "relu",
          "relu",
          "relu",
          "relu",
          "relu",
          "swish",
          "relu",
          "relu",
          "relu",
          "relu",
          "relu",
          "relu",
          "relu",
          "relu",
          "relu",
          "swish"
         ],
         "xaxis": "x51",
         "y": [
          "True",
          "False",
          "True",
          "True",
          "True",
          "False",
          "False",
          "False",
          "False",
          "False",
          "False",
          "False",
          "False",
          "False",
          "False",
          "False",
          "False",
          "False",
          "True",
          "False",
          "False",
          "False",
          "False",
          "False",
          "False",
          "False",
          "True",
          "False",
          "False",
          "True",
          "False",
          "False",
          "False",
          "False",
          "False",
          "True",
          "False",
          "True",
          "False",
          "False",
          "False",
          "False",
          "False",
          "False",
          "False",
          "False",
          "False",
          "False",
          "False",
          "True",
          "False",
          "False",
          "False",
          "False",
          "False",
          "False",
          "False"
         ],
         "yaxis": "y51"
        },
        {
         "colorbar": {
          "title": {
           "text": "Objective Value"
          }
         },
         "colorscale": [
          [
           0,
           "rgb(247,251,255)"
          ],
          [
           0.125,
           "rgb(222,235,247)"
          ],
          [
           0.25,
           "rgb(198,219,239)"
          ],
          [
           0.375,
           "rgb(158,202,225)"
          ],
          [
           0.5,
           "rgb(107,174,214)"
          ],
          [
           0.625,
           "rgb(66,146,198)"
          ],
          [
           0.75,
           "rgb(33,113,181)"
          ],
          [
           0.875,
           "rgb(8,81,156)"
          ],
          [
           1,
           "rgb(8,48,107)"
          ]
         ],
         "connectgaps": true,
         "contours": {
          "coloring": "heatmap"
         },
         "hoverinfo": "none",
         "line": {
          "smoothing": 1.3
         },
         "reversescale": true,
         "showscale": false,
         "type": "contour",
         "x": [
          "relu",
          "swish"
         ],
         "xaxis": "x61",
         "y": [
          10.399999999999999,
          16,
          32,
          64,
          128,
          133.6
         ],
         "yaxis": "y61",
         "z": [
          [
           null,
           null
          ],
          [
           0.0032087189073746023,
           0.01462360577923911
          ],
          [
           0.0010509244166314602,
           0.009051533415913582
          ],
          [
           0.003676444865190066,
           0.011990615299769811
          ],
          [
           0.0036489125341176987,
           0.010210204869508743
          ],
          [
           null,
           null
          ]
         ]
        },
        {
         "marker": {
          "color": "black",
          "line": {
           "color": "Gray",
           "width": 2
          }
         },
         "mode": "markers",
         "name": "Feasible Trial",
         "showlegend": false,
         "type": "scatter",
         "x": [
          "relu",
          "swish",
          "swish",
          "swish",
          "swish",
          "relu",
          "swish",
          "swish",
          "relu",
          "swish",
          "relu",
          "relu",
          "relu",
          "relu",
          "relu",
          "relu",
          "relu",
          "relu",
          "relu",
          "relu",
          "relu",
          "relu",
          "relu",
          "relu",
          "relu",
          "relu",
          "relu",
          "relu",
          "relu",
          "relu",
          "relu",
          "relu",
          "relu",
          "relu",
          "relu",
          "swish",
          "relu",
          "swish",
          "relu",
          "swish",
          "relu",
          "relu",
          "relu",
          "relu",
          "relu",
          "relu",
          "swish",
          "relu",
          "relu",
          "relu",
          "relu",
          "relu",
          "relu",
          "relu",
          "relu",
          "relu",
          "swish"
         ],
         "xaxis": "x61",
         "y": [
          16,
          128,
          128,
          32,
          16,
          32,
          128,
          16,
          64,
          128,
          32,
          32,
          32,
          32,
          32,
          64,
          32,
          32,
          32,
          64,
          32,
          32,
          32,
          32,
          32,
          32,
          32,
          16,
          64,
          16,
          32,
          32,
          32,
          32,
          128,
          32,
          32,
          128,
          16,
          32,
          32,
          32,
          32,
          32,
          32,
          128,
          64,
          32,
          32,
          16,
          32,
          32,
          32,
          32,
          32,
          32,
          32
         ],
         "yaxis": "y61"
        },
        {
         "colorbar": {
          "title": {
           "text": "Objective Value"
          }
         },
         "colorscale": [
          [
           0,
           "rgb(247,251,255)"
          ],
          [
           0.125,
           "rgb(222,235,247)"
          ],
          [
           0.25,
           "rgb(198,219,239)"
          ],
          [
           0.375,
           "rgb(158,202,225)"
          ],
          [
           0.5,
           "rgb(107,174,214)"
          ],
          [
           0.625,
           "rgb(66,146,198)"
          ],
          [
           0.75,
           "rgb(33,113,181)"
          ],
          [
           0.875,
           "rgb(8,81,156)"
          ],
          [
           1,
           "rgb(8,48,107)"
          ]
         ],
         "connectgaps": true,
         "contours": {
          "coloring": "heatmap"
         },
         "hoverinfo": "none",
         "line": {
          "smoothing": 1.3
         },
         "reversescale": true,
         "showscale": false,
         "type": "contour",
         "x": [
          "relu",
          "swish"
         ],
         "xaxis": "x71",
         "y": [
          5.199999999999999,
          8,
          16,
          32,
          64,
          66.8
         ],
         "yaxis": "y71",
         "z": [
          [
           null,
           null
          ],
          [
           0.0031210482120513916,
           0.013237009827907268
          ],
          [
           0.005089037652526583,
           0.009871360446725572
          ],
          [
           0.004099226091057062,
           0.010210204869508743
          ],
          [
           0.0010509244166314602,
           0.009051533415913582
          ],
          [
           null,
           null
          ]
         ]
        },
        {
         "marker": {
          "color": "black",
          "line": {
           "color": "Gray",
           "width": 2
          }
         },
         "mode": "markers",
         "name": "Feasible Trial",
         "showlegend": false,
         "type": "scatter",
         "x": [
          "relu",
          "swish",
          "swish",
          "swish",
          "swish",
          "relu",
          "swish",
          "swish",
          "relu",
          "swish",
          "relu",
          "relu",
          "relu",
          "relu",
          "relu",
          "relu",
          "relu",
          "relu",
          "relu",
          "relu",
          "relu",
          "relu",
          "relu",
          "relu",
          "relu",
          "relu",
          "relu",
          "relu",
          "relu",
          "relu",
          "relu",
          "relu",
          "relu",
          "relu",
          "relu",
          "swish",
          "relu",
          "swish",
          "relu",
          "swish",
          "relu",
          "relu",
          "relu",
          "relu",
          "relu",
          "relu",
          "swish",
          "relu",
          "relu",
          "relu",
          "relu",
          "relu",
          "relu",
          "relu",
          "relu",
          "relu",
          "swish"
         ],
         "xaxis": "x71",
         "y": [
          32,
          64,
          8,
          16,
          16,
          64,
          16,
          16,
          32,
          32,
          64,
          64,
          64,
          64,
          64,
          8,
          64,
          64,
          64,
          8,
          64,
          64,
          64,
          64,
          64,
          64,
          64,
          8,
          32,
          32,
          64,
          64,
          64,
          64,
          64,
          64,
          16,
          8,
          64,
          16,
          64,
          64,
          64,
          64,
          64,
          32,
          16,
          64,
          64,
          64,
          8,
          64,
          64,
          64,
          64,
          64,
          64
         ],
         "yaxis": "y71"
        },
        {
         "colorbar": {
          "title": {
           "text": "Objective Value"
          }
         },
         "colorscale": [
          [
           0,
           "rgb(247,251,255)"
          ],
          [
           0.125,
           "rgb(222,235,247)"
          ],
          [
           0.25,
           "rgb(198,219,239)"
          ],
          [
           0.375,
           "rgb(158,202,225)"
          ],
          [
           0.5,
           "rgb(107,174,214)"
          ],
          [
           0.625,
           "rgb(66,146,198)"
          ],
          [
           0.75,
           "rgb(33,113,181)"
          ],
          [
           0.875,
           "rgb(8,81,156)"
          ],
          [
           1,
           "rgb(8,48,107)"
          ]
         ],
         "connectgaps": true,
         "contours": {
          "coloring": "heatmap"
         },
         "hoverinfo": "none",
         "line": {
          "smoothing": 1.3
         },
         "reversescale": true,
         "showscale": false,
         "type": "contour",
         "x": [
          "relu",
          "swish"
         ],
         "xaxis": "x81",
         "y": [
          -0.0003327779727902093,
          0.00013293451068639153,
          0.00016482101598833644,
          0.0002859618983201747,
          0.0005030922057200975,
          0.0005082222560318676,
          0.0005109668968683066,
          0.000662259354729205,
          0.000804803158410011,
          0.0008829668498645474,
          0.001035287721361168,
          0.0010762834240493012,
          0.0013010270616585372,
          0.0013123106047931883,
          0.0013848997785396763,
          0.0014712220401046773,
          0.0015236648785628855,
          0.0015528292768899295,
          0.0015783681924397643,
          0.0017245660022955657,
          0.001805691009839501,
          0.0018665340990677206,
          0.0018891900420452655,
          0.0019967096733155307,
          0.002022807309729832,
          0.002221702135674957,
          0.0022966234341041886,
          0.0024793055464558773,
          0.0024844733874638822,
          0.002569749107475558,
          0.002570416914840954,
          0.0027720657351321654,
          0.002861152110081496,
          0.0031063248738114947,
          0.00321367916541899,
          0.003272692583939085,
          0.0033627177469709303,
          0.0034983693930714047,
          0.003644256277757865,
          0.0037134388254553147,
          0.0037319454075769917,
          0.004059959359984235,
          0.004239922045757851,
          0.004263219032077157,
          0.004643003925192097,
          0.004679597012724851,
          0.004793542036453257,
          0.0048612258246951735,
          0.005457312666941946,
          0.005689736859226749,
          0.006357299898537107,
          0.006644651164503487,
          0.006993481555530524,
          0.00800933505882863,
          0.008088989972958073,
          0.00847077666596943,
          0.009326128265959114,
          0.009447184180218409,
          0.00991289666369501
         ],
         "yaxis": "y81",
         "z": [
          [
           null,
           null
          ],
          [
           0.007173012942075729,
           null
          ],
          [
           0.018036603927612305,
           null
          ],
          [
           0.0023483606055378914,
           null
          ],
          [
           0.001077517052181065,
           null
          ],
          [
           null,
           0.011020248755812645
          ],
          [
           0.0017465348355472088,
           null
          ],
          [
           null,
           0.011990615299769811
          ],
          [
           null,
           0.009051533415913582
          ],
          [
           0.0038915337063372135,
           null
          ],
          [
           0.0026472685858607292,
           null
          ],
          [
           0.0028466973453760147,
           null
          ],
          [
           0.003676444865190066,
           null
          ],
          [
           0.0013212664052844048,
           null
          ],
          [
           0.002323493827134371,
           null
          ],
          [
           0.0011659844312816858,
           null
          ],
          [
           0.0010562939569354057,
           null
          ],
          [
           0.0019303050357848406,
           null
          ],
          [
           0.001234408002346754,
           null
          ],
          [
           0.0010509244166314602,
           null
          ],
          [
           0.005089037652526583,
           null
          ],
          [
           0.002799304900690913,
           null
          ],
          [
           0.017933184280991554,
           null
          ],
          [
           0.0014195044059306383,
           null
          ],
          [
           null,
           0.015235654436624967
          ],
          [
           null,
           0.013237009827907268
          ],
          [
           0.007493170909583569,
           null
          ],
          [
           0.004169144667685032,
           null
          ],
          [
           null,
           0.009889267385005951
          ],
          [
           0.005443759262561798,
           null
          ],
          [
           0.0024775939527899027,
           null
          ],
          [
           0.0034027867950499058,
           null
          ],
          [
           0.0036489125341176987,
           null
          ],
          [
           null,
           0.009871360446725572
          ],
          [
           0.0016798200085759163,
           null
          ],
          [
           0.003677790518850088,
           null
          ],
          [
           0.0010533332824707031,
           null
          ],
          [
           0.0017711485270410776,
           null
          ],
          [
           0.0011525334557518363,
           null
          ],
          [
           0.003910826948972849,
           null
          ],
          [
           0.003278343938291073,
           null
          ],
          [
           0.005068128928542137,
           null
          ],
          [
           0.004693320952355862,
           null
          ],
          [
           0.0024279847275465727,
           null
          ],
          [
           0.004909416660666466,
           null
          ],
          [
           0.0031210482120513916,
           null
          ],
          [
           0.002582056913524866,
           null
          ],
          [
           0.004099226091057062,
           null
          ],
          [
           0.012842606753110886,
           null
          ],
          [
           0.0032087189073746023,
           null
          ],
          [
           null,
           0.010210204869508743
          ],
          [
           0.004480917938053608,
           null
          ],
          [
           0.003125535324215889,
           null
          ],
          [
           0.00556196179240942,
           null
          ],
          [
           null,
           0.016106017998286655
          ],
          [
           null,
           0.01462360577923911
          ],
          [
           null,
           0.012798120932919639
          ],
          [
           null,
           0.012514274567365646
          ],
          [
           null,
           null
          ]
         ]
        },
        {
         "marker": {
          "color": "black",
          "line": {
           "color": "Gray",
           "width": 2
          }
         },
         "mode": "markers",
         "name": "Feasible Trial",
         "showlegend": false,
         "type": "scatter",
         "x": [
          "relu",
          "swish",
          "swish",
          "swish",
          "swish",
          "relu",
          "swish",
          "swish",
          "relu",
          "swish",
          "relu",
          "relu",
          "relu",
          "relu",
          "relu",
          "relu",
          "relu",
          "relu",
          "relu",
          "relu",
          "relu",
          "relu",
          "relu",
          "relu",
          "relu",
          "relu",
          "relu",
          "relu",
          "relu",
          "relu",
          "relu",
          "relu",
          "relu",
          "relu",
          "relu",
          "swish",
          "relu",
          "swish",
          "relu",
          "swish",
          "relu",
          "relu",
          "relu",
          "relu",
          "relu",
          "relu",
          "swish",
          "relu",
          "relu",
          "relu",
          "relu",
          "relu",
          "relu",
          "relu",
          "relu",
          "relu",
          "swish"
         ],
         "xaxis": "x81",
         "y": [
          0.0048612258246951735,
          0.009447184180218409,
          0.002022807309729832,
          0.0024844733874638822,
          0.008088989972958073,
          0.006993481555530524,
          0.009326128265959114,
          0.00847077666596943,
          0.00800933505882863,
          0.006357299898537107,
          0.004793542036453257,
          0.004643003925192097,
          0.006644651164503487,
          0.003644256277757865,
          0.003272692583939085,
          0.0037134388254553147,
          0.0002859618983201747,
          0.00013293451068639153,
          0.00016482101598833644,
          0.0013010270616585372,
          0.0015783681924397643,
          0.0013848997785396763,
          0.0014712220401046773,
          0.00321367916541899,
          0.0013123106047931883,
          0.0024793055464558773,
          0.0037319454075769917,
          0.005689736859226749,
          0.0018891900420452655,
          0.004059959359984235,
          0.0008829668498645474,
          0.001035287721361168,
          0.002569749107475558,
          0.0018665340990677206,
          0.002861152110081496,
          0.000804803158410011,
          0.001805691009839501,
          0.002221702135674957,
          0.005457312666941946,
          0.0031063248738114947,
          0.004263219032077157,
          0.0033627177469709303,
          0.0015236648785628855,
          0.0034983693930714047,
          0.002570416914840954,
          0.004239922045757851,
          0.000662259354729205,
          0.0017245660022955657,
          0.0027720657351321654,
          0.0022966234341041886,
          0.004679597012724851,
          0.0015528292768899295,
          0.0019967096733155307,
          0.0005030922057200975,
          0.0005109668968683066,
          0.0010762834240493012,
          0.0005082222560318676
         ],
         "yaxis": "y81"
        },
        {
         "colorbar": {
          "title": {
           "text": "Objective Value"
          }
         },
         "colorscale": [
          [
           0,
           "rgb(247,251,255)"
          ],
          [
           0.125,
           "rgb(222,235,247)"
          ],
          [
           0.25,
           "rgb(198,219,239)"
          ],
          [
           0.375,
           "rgb(158,202,225)"
          ],
          [
           0.5,
           "rgb(107,174,214)"
          ],
          [
           0.625,
           "rgb(66,146,198)"
          ],
          [
           0.75,
           "rgb(33,113,181)"
          ],
          [
           0.875,
           "rgb(8,81,156)"
          ],
          [
           1,
           "rgb(8,48,107)"
          ]
         ],
         "connectgaps": true,
         "contours": {
          "coloring": "heatmap"
         },
         "hoverinfo": "none",
         "line": {
          "smoothing": 1.3
         },
         "reversescale": true,
         "showscale": false,
         "type": "contour",
         "x": [
          "relu",
          "swish"
         ],
         "xaxis": "x91",
         "y": [
          "Adam",
          "AdamW",
          "SGD"
         ],
         "yaxis": "y91",
         "z": [
          [
           0.0010509244166314602,
           0.009871360446725572
          ],
          [
           0.0024279847275465727,
           0.009889267385005951
          ],
          [
           0.004169144667685032,
           0.009051533415913582
          ]
         ]
        },
        {
         "marker": {
          "color": "black",
          "line": {
           "color": "Gray",
           "width": 2
          }
         },
         "mode": "markers",
         "name": "Feasible Trial",
         "showlegend": false,
         "type": "scatter",
         "x": [
          "relu",
          "swish",
          "swish",
          "swish",
          "swish",
          "relu",
          "swish",
          "swish",
          "relu",
          "swish",
          "relu",
          "relu",
          "relu",
          "relu",
          "relu",
          "relu",
          "relu",
          "relu",
          "relu",
          "relu",
          "relu",
          "relu",
          "relu",
          "relu",
          "relu",
          "relu",
          "relu",
          "relu",
          "relu",
          "relu",
          "relu",
          "relu",
          "relu",
          "relu",
          "relu",
          "swish",
          "relu",
          "swish",
          "relu",
          "swish",
          "relu",
          "relu",
          "relu",
          "relu",
          "relu",
          "relu",
          "swish",
          "relu",
          "relu",
          "relu",
          "relu",
          "relu",
          "relu",
          "relu",
          "relu",
          "relu",
          "swish"
         ],
         "xaxis": "x91",
         "y": [
          "AdamW",
          "SGD",
          "AdamW",
          "AdamW",
          "SGD",
          "AdamW",
          "AdamW",
          "AdamW",
          "Adam",
          "SGD",
          "Adam",
          "Adam",
          "Adam",
          "Adam",
          "Adam",
          "Adam",
          "Adam",
          "Adam",
          "Adam",
          "Adam",
          "Adam",
          "Adam",
          "Adam",
          "Adam",
          "Adam",
          "SGD",
          "Adam",
          "Adam",
          "Adam",
          "SGD",
          "Adam",
          "Adam",
          "Adam",
          "Adam",
          "Adam",
          "SGD",
          "AdamW",
          "Adam",
          "AdamW",
          "Adam",
          "AdamW",
          "Adam",
          "Adam",
          "Adam",
          "Adam",
          "SGD",
          "Adam",
          "Adam",
          "Adam",
          "AdamW",
          "Adam",
          "Adam",
          "Adam",
          "Adam",
          "Adam",
          "Adam",
          "Adam"
         ],
         "yaxis": "y91"
        },
        {
         "colorbar": {
          "title": {
           "text": "Objective Value"
          }
         },
         "colorscale": [
          [
           0,
           "rgb(247,251,255)"
          ],
          [
           0.125,
           "rgb(222,235,247)"
          ],
          [
           0.25,
           "rgb(198,219,239)"
          ],
          [
           0.375,
           "rgb(158,202,225)"
          ],
          [
           0.5,
           "rgb(107,174,214)"
          ],
          [
           0.625,
           "rgb(66,146,198)"
          ],
          [
           0.75,
           "rgb(33,113,181)"
          ],
          [
           0.875,
           "rgb(8,81,156)"
          ],
          [
           1,
           "rgb(8,48,107)"
          ]
         ],
         "connectgaps": true,
         "contours": {
          "coloring": "heatmap"
         },
         "hoverinfo": "none",
         "line": {
          "smoothing": 1.3
         },
         "reversescale": true,
         "showscale": false,
         "type": "contour",
         "x": [
          "False",
          "True"
         ],
         "xaxis": "x2",
         "y": [
          "relu",
          "swish"
         ],
         "yaxis": "y2",
         "z": [
          [
           0.0024775939527899027,
           0.0010509244166314602
          ],
          [
           0.009871360446725572,
           0.009051533415913582
          ]
         ]
        },
        {
         "marker": {
          "color": "black",
          "line": {
           "color": "Gray",
           "width": 2
          }
         },
         "mode": "markers",
         "name": "Feasible Trial",
         "showlegend": false,
         "type": "scatter",
         "x": [
          "False",
          "True",
          "False",
          "False",
          "False",
          "False",
          "True",
          "False",
          "False",
          "False",
          "True",
          "True",
          "True",
          "True",
          "True",
          "True",
          "True",
          "True",
          "True",
          "True",
          "True",
          "True",
          "True",
          "True",
          "True",
          "True",
          "True",
          "True",
          "True",
          "True",
          "True",
          "True",
          "True",
          "True",
          "True",
          "True",
          "True",
          "False",
          "True",
          "False",
          "True",
          "True",
          "True",
          "True",
          "False",
          "True",
          "True",
          "True",
          "False",
          "True",
          "True",
          "True",
          "True",
          "True",
          "True",
          "True",
          "True"
         ],
         "xaxis": "x2",
         "y": [
          "relu",
          "swish",
          "swish",
          "swish",
          "swish",
          "relu",
          "swish",
          "swish",
          "relu",
          "swish",
          "relu",
          "relu",
          "relu",
          "relu",
          "relu",
          "relu",
          "relu",
          "relu",
          "relu",
          "relu",
          "relu",
          "relu",
          "relu",
          "relu",
          "relu",
          "relu",
          "relu",
          "relu",
          "relu",
          "relu",
          "relu",
          "relu",
          "relu",
          "relu",
          "relu",
          "swish",
          "relu",
          "swish",
          "relu",
          "swish",
          "relu",
          "relu",
          "relu",
          "relu",
          "relu",
          "relu",
          "swish",
          "relu",
          "relu",
          "relu",
          "relu",
          "relu",
          "relu",
          "relu",
          "relu",
          "relu",
          "swish"
         ],
         "yaxis": "y2"
        },
        {
         "type": "scatter",
         "xaxis": "x12",
         "yaxis": "y12"
        },
        {
         "colorbar": {
          "title": {
           "text": "Objective Value"
          }
         },
         "colorscale": [
          [
           0,
           "rgb(247,251,255)"
          ],
          [
           0.125,
           "rgb(222,235,247)"
          ],
          [
           0.25,
           "rgb(198,219,239)"
          ],
          [
           0.375,
           "rgb(158,202,225)"
          ],
          [
           0.5,
           "rgb(107,174,214)"
          ],
          [
           0.625,
           "rgb(66,146,198)"
          ],
          [
           0.75,
           "rgb(33,113,181)"
          ],
          [
           0.875,
           "rgb(8,81,156)"
          ],
          [
           1,
           "rgb(8,48,107)"
          ]
         ],
         "connectgaps": true,
         "contours": {
          "coloring": "heatmap"
         },
         "hoverinfo": "none",
         "line": {
          "smoothing": 1.3
         },
         "reversescale": true,
         "showscale": false,
         "type": "contour",
         "x": [
          "False",
          "True"
         ],
         "xaxis": "x22",
         "y": [
          41.599999999999994,
          64,
          256,
          384,
          512,
          534.4
         ],
         "yaxis": "y22",
         "z": [
          [
           null,
           null
          ],
          [
           0.01462360577923911,
           0.007493170909583569
          ],
          [
           0.0034027867950499058,
           0.0032087189073746023
          ],
          [
           0.009871360446725572,
           0.0031210482120513916
          ],
          [
           0.0024775939527899027,
           0.0010509244166314602
          ],
          [
           null,
           null
          ]
         ]
        },
        {
         "marker": {
          "color": "black",
          "line": {
           "color": "Gray",
           "width": 2
          }
         },
         "mode": "markers",
         "name": "Feasible Trial",
         "showlegend": false,
         "type": "scatter",
         "x": [
          "False",
          "True",
          "False",
          "False",
          "False",
          "False",
          "True",
          "False",
          "False",
          "False",
          "True",
          "True",
          "True",
          "True",
          "True",
          "True",
          "True",
          "True",
          "True",
          "True",
          "True",
          "True",
          "True",
          "True",
          "True",
          "True",
          "True",
          "True",
          "True",
          "True",
          "True",
          "True",
          "True",
          "True",
          "True",
          "True",
          "True",
          "False",
          "True",
          "False",
          "True",
          "True",
          "True",
          "True",
          "False",
          "True",
          "True",
          "True",
          "False",
          "True",
          "True",
          "True",
          "True",
          "True",
          "True",
          "True",
          "True"
         ],
         "xaxis": "x22",
         "y": [
          256,
          512,
          256,
          384,
          64,
          512,
          512,
          64,
          256,
          384,
          512,
          512,
          512,
          512,
          512,
          512,
          512,
          384,
          64,
          512,
          512,
          512,
          512,
          512,
          512,
          512,
          384,
          256,
          64,
          256,
          512,
          512,
          512,
          512,
          512,
          512,
          256,
          512,
          64,
          384,
          512,
          512,
          512,
          512,
          512,
          512,
          512,
          512,
          256,
          64,
          384,
          512,
          512,
          512,
          512,
          512,
          512
         ],
         "yaxis": "y22"
        },
        {
         "colorbar": {
          "title": {
           "text": "Objective Value"
          }
         },
         "colorscale": [
          [
           0,
           "rgb(247,251,255)"
          ],
          [
           0.125,
           "rgb(222,235,247)"
          ],
          [
           0.25,
           "rgb(198,219,239)"
          ],
          [
           0.375,
           "rgb(158,202,225)"
          ],
          [
           0.5,
           "rgb(107,174,214)"
          ],
          [
           0.625,
           "rgb(66,146,198)"
          ],
          [
           0.75,
           "rgb(33,113,181)"
          ],
          [
           0.875,
           "rgb(8,81,156)"
          ],
          [
           1,
           "rgb(8,48,107)"
          ]
         ],
         "connectgaps": true,
         "contours": {
          "coloring": "heatmap"
         },
         "hoverinfo": "none",
         "line": {
          "smoothing": 1.3
         },
         "reversescale": true,
         "showscale": false,
         "type": "contour",
         "x": [
          "False",
          "True"
         ],
         "xaxis": "x32",
         "y": [
          41.599999999999994,
          64,
          256,
          384,
          512,
          534.4
         ],
         "yaxis": "y32",
         "z": [
          [
           null,
           null
          ],
          [
           0.0034027867950499058,
           0.012842606753110886
          ],
          [
           0.010210204869508743,
           0.0024279847275465727
          ],
          [
           0.0024775939527899027,
           0.0010509244166314602
          ],
          [
           0.004099226091057062,
           0.0032087189073746023
          ],
          [
           null,
           null
          ]
         ]
        },
        {
         "marker": {
          "color": "black",
          "line": {
           "color": "Gray",
           "width": 2
          }
         },
         "mode": "markers",
         "name": "Feasible Trial",
         "showlegend": false,
         "type": "scatter",
         "x": [
          "False",
          "True",
          "False",
          "False",
          "False",
          "False",
          "True",
          "False",
          "False",
          "False",
          "True",
          "True",
          "True",
          "True",
          "True",
          "True",
          "True",
          "True",
          "True",
          "True",
          "True",
          "True",
          "True",
          "True",
          "True",
          "True",
          "True",
          "True",
          "True",
          "True",
          "True",
          "True",
          "True",
          "True",
          "True",
          "True",
          "True",
          "False",
          "True",
          "False",
          "True",
          "True",
          "True",
          "True",
          "False",
          "True",
          "True",
          "True",
          "False",
          "True",
          "True",
          "True",
          "True",
          "True",
          "True",
          "True",
          "True"
         ],
         "xaxis": "x32",
         "y": [
          512,
          512,
          256,
          64,
          256,
          384,
          384,
          64,
          384,
          256,
          384,
          384,
          384,
          384,
          384,
          384,
          384,
          512,
          64,
          384,
          384,
          384,
          384,
          384,
          384,
          384,
          256,
          512,
          64,
          512,
          384,
          384,
          384,
          384,
          384,
          256,
          512,
          384,
          64,
          384,
          256,
          384,
          384,
          384,
          384,
          384,
          384,
          384,
          64,
          384,
          384,
          384,
          384,
          384,
          384,
          384,
          256
         ],
         "yaxis": "y32"
        },
        {
         "colorbar": {
          "title": {
           "text": "Objective Value"
          }
         },
         "colorscale": [
          [
           0,
           "rgb(247,251,255)"
          ],
          [
           0.125,
           "rgb(222,235,247)"
          ],
          [
           0.25,
           "rgb(198,219,239)"
          ],
          [
           0.375,
           "rgb(158,202,225)"
          ],
          [
           0.5,
           "rgb(107,174,214)"
          ],
          [
           0.625,
           "rgb(66,146,198)"
          ],
          [
           0.75,
           "rgb(33,113,181)"
          ],
          [
           0.875,
           "rgb(8,81,156)"
          ],
          [
           1,
           "rgb(8,48,107)"
          ]
         ],
         "connectgaps": true,
         "contours": {
          "coloring": "heatmap"
         },
         "hoverinfo": "none",
         "line": {
          "smoothing": 1.3
         },
         "reversescale": true,
         "showscale": false,
         "type": "contour",
         "x": [
          "False",
          "True"
         ],
         "xaxis": "x42",
         "y": [
          1.7,
          2,
          4,
          6,
          8,
          8.3
         ],
         "yaxis": "y42",
         "z": [
          [
           null,
           null
          ],
          [
           0.004099226091057062,
           0.0038915337063372135
          ],
          [
           0.0034027867950499058,
           0.012798120932919639
          ],
          [
           0.0024775939527899027,
           0.0010509244166314602
          ],
          [
           0.010210204869508743,
           0.0032087189073746023
          ],
          [
           null,
           null
          ]
         ]
        },
        {
         "marker": {
          "color": "black",
          "line": {
           "color": "Gray",
           "width": 2
          }
         },
         "mode": "markers",
         "name": "Feasible Trial",
         "showlegend": false,
         "type": "scatter",
         "x": [
          "False",
          "True",
          "False",
          "False",
          "False",
          "False",
          "True",
          "False",
          "False",
          "False",
          "True",
          "True",
          "True",
          "True",
          "True",
          "True",
          "True",
          "True",
          "True",
          "True",
          "True",
          "True",
          "True",
          "True",
          "True",
          "True",
          "True",
          "True",
          "True",
          "True",
          "True",
          "True",
          "True",
          "True",
          "True",
          "True",
          "True",
          "False",
          "True",
          "False",
          "True",
          "True",
          "True",
          "True",
          "False",
          "True",
          "True",
          "True",
          "False",
          "True",
          "True",
          "True",
          "True",
          "True",
          "True",
          "True",
          "True"
         ],
         "xaxis": "x42",
         "y": [
          2,
          2,
          6,
          4,
          2,
          6,
          4,
          6,
          2,
          8,
          6,
          6,
          6,
          6,
          8,
          6,
          6,
          6,
          4,
          8,
          6,
          6,
          6,
          6,
          6,
          6,
          6,
          8,
          4,
          6,
          2,
          6,
          6,
          6,
          6,
          2,
          6,
          4,
          6,
          2,
          6,
          6,
          6,
          6,
          6,
          6,
          8,
          6,
          4,
          6,
          6,
          6,
          6,
          6,
          6,
          6,
          2
         ],
         "yaxis": "y42"
        },
        {
         "colorbar": {
          "title": {
           "text": "Objective Value"
          }
         },
         "colorscale": [
          [
           0,
           "rgb(247,251,255)"
          ],
          [
           0.125,
           "rgb(222,235,247)"
          ],
          [
           0.25,
           "rgb(198,219,239)"
          ],
          [
           0.375,
           "rgb(158,202,225)"
          ],
          [
           0.5,
           "rgb(107,174,214)"
          ],
          [
           0.625,
           "rgb(66,146,198)"
          ],
          [
           0.75,
           "rgb(33,113,181)"
          ],
          [
           0.875,
           "rgb(8,81,156)"
          ],
          [
           1,
           "rgb(8,48,107)"
          ]
         ],
         "connectgaps": true,
         "contours": {
          "coloring": "heatmap"
         },
         "hoverinfo": "none",
         "line": {
          "smoothing": 1.3
         },
         "reversescale": true,
         "showscale": false,
         "type": "contour",
         "x": [
          "False",
          "True"
         ],
         "xaxis": "x52",
         "y": [
          "False",
          "True"
         ],
         "yaxis": "y52",
         "z": [
          [
           0.0024775939527899027,
           0.0010509244166314602
          ],
          [
           0.004099226091057062,
           0.003278343938291073
          ]
         ]
        },
        {
         "marker": {
          "color": "black",
          "line": {
           "color": "Gray",
           "width": 2
          }
         },
         "mode": "markers",
         "name": "Feasible Trial",
         "showlegend": false,
         "type": "scatter",
         "x": [
          "False",
          "True",
          "False",
          "False",
          "False",
          "False",
          "True",
          "False",
          "False",
          "False",
          "True",
          "True",
          "True",
          "True",
          "True",
          "True",
          "True",
          "True",
          "True",
          "True",
          "True",
          "True",
          "True",
          "True",
          "True",
          "True",
          "True",
          "True",
          "True",
          "True",
          "True",
          "True",
          "True",
          "True",
          "True",
          "True",
          "True",
          "False",
          "True",
          "False",
          "True",
          "True",
          "True",
          "True",
          "False",
          "True",
          "True",
          "True",
          "False",
          "True",
          "True",
          "True",
          "True",
          "True",
          "True",
          "True",
          "True"
         ],
         "xaxis": "x52",
         "y": [
          "True",
          "False",
          "True",
          "True",
          "True",
          "False",
          "False",
          "False",
          "False",
          "False",
          "False",
          "False",
          "False",
          "False",
          "False",
          "False",
          "False",
          "False",
          "True",
          "False",
          "False",
          "False",
          "False",
          "False",
          "False",
          "False",
          "True",
          "False",
          "False",
          "True",
          "False",
          "False",
          "False",
          "False",
          "False",
          "True",
          "False",
          "True",
          "False",
          "False",
          "False",
          "False",
          "False",
          "False",
          "False",
          "False",
          "False",
          "False",
          "False",
          "True",
          "False",
          "False",
          "False",
          "False",
          "False",
          "False",
          "False"
         ],
         "yaxis": "y52"
        },
        {
         "colorbar": {
          "title": {
           "text": "Objective Value"
          }
         },
         "colorscale": [
          [
           0,
           "rgb(247,251,255)"
          ],
          [
           0.125,
           "rgb(222,235,247)"
          ],
          [
           0.25,
           "rgb(198,219,239)"
          ],
          [
           0.375,
           "rgb(158,202,225)"
          ],
          [
           0.5,
           "rgb(107,174,214)"
          ],
          [
           0.625,
           "rgb(66,146,198)"
          ],
          [
           0.75,
           "rgb(33,113,181)"
          ],
          [
           0.875,
           "rgb(8,81,156)"
          ],
          [
           1,
           "rgb(8,48,107)"
          ]
         ],
         "connectgaps": true,
         "contours": {
          "coloring": "heatmap"
         },
         "hoverinfo": "none",
         "line": {
          "smoothing": 1.3
         },
         "reversescale": true,
         "showscale": false,
         "type": "contour",
         "x": [
          "False",
          "True"
         ],
         "xaxis": "x62",
         "y": [
          10.399999999999999,
          16,
          32,
          64,
          128,
          133.6
         ],
         "yaxis": "y62",
         "z": [
          [
           null,
           null
          ],
          [
           0.004099226091057062,
           0.0032087189073746023
          ],
          [
           0.0024775939527899027,
           0.0010509244166314602
          ],
          [
           0.00556196179240942,
           0.003676444865190066
          ],
          [
           0.010210204869508743,
           0.0036489125341176987
          ],
          [
           null,
           null
          ]
         ]
        },
        {
         "marker": {
          "color": "black",
          "line": {
           "color": "Gray",
           "width": 2
          }
         },
         "mode": "markers",
         "name": "Feasible Trial",
         "showlegend": false,
         "type": "scatter",
         "x": [
          "False",
          "True",
          "False",
          "False",
          "False",
          "False",
          "True",
          "False",
          "False",
          "False",
          "True",
          "True",
          "True",
          "True",
          "True",
          "True",
          "True",
          "True",
          "True",
          "True",
          "True",
          "True",
          "True",
          "True",
          "True",
          "True",
          "True",
          "True",
          "True",
          "True",
          "True",
          "True",
          "True",
          "True",
          "True",
          "True",
          "True",
          "False",
          "True",
          "False",
          "True",
          "True",
          "True",
          "True",
          "False",
          "True",
          "True",
          "True",
          "False",
          "True",
          "True",
          "True",
          "True",
          "True",
          "True",
          "True",
          "True"
         ],
         "xaxis": "x62",
         "y": [
          16,
          128,
          128,
          32,
          16,
          32,
          128,
          16,
          64,
          128,
          32,
          32,
          32,
          32,
          32,
          64,
          32,
          32,
          32,
          64,
          32,
          32,
          32,
          32,
          32,
          32,
          32,
          16,
          64,
          16,
          32,
          32,
          32,
          32,
          128,
          32,
          32,
          128,
          16,
          32,
          32,
          32,
          32,
          32,
          32,
          128,
          64,
          32,
          32,
          16,
          32,
          32,
          32,
          32,
          32,
          32,
          32
         ],
         "yaxis": "y62"
        },
        {
         "colorbar": {
          "title": {
           "text": "Objective Value"
          }
         },
         "colorscale": [
          [
           0,
           "rgb(247,251,255)"
          ],
          [
           0.125,
           "rgb(222,235,247)"
          ],
          [
           0.25,
           "rgb(198,219,239)"
          ],
          [
           0.375,
           "rgb(158,202,225)"
          ],
          [
           0.5,
           "rgb(107,174,214)"
          ],
          [
           0.625,
           "rgb(66,146,198)"
          ],
          [
           0.75,
           "rgb(33,113,181)"
          ],
          [
           0.875,
           "rgb(8,81,156)"
          ],
          [
           1,
           "rgb(8,48,107)"
          ]
         ],
         "connectgaps": true,
         "contours": {
          "coloring": "heatmap"
         },
         "hoverinfo": "none",
         "line": {
          "smoothing": 1.3
         },
         "reversescale": true,
         "showscale": false,
         "type": "contour",
         "x": [
          "False",
          "True"
         ],
         "xaxis": "x72",
         "y": [
          5.199999999999999,
          8,
          16,
          32,
          64,
          66.8
         ],
         "yaxis": "y72",
         "z": [
          [
           null,
           null
          ],
          [
           0.013237009827907268,
           0.0031210482120513916
          ],
          [
           0.009871360446725572,
           0.005089037652526583
          ],
          [
           0.004099226091057062,
           0.004693320952355862
          ],
          [
           0.0024775939527899027,
           0.0010509244166314602
          ],
          [
           null,
           null
          ]
         ]
        },
        {
         "marker": {
          "color": "black",
          "line": {
           "color": "Gray",
           "width": 2
          }
         },
         "mode": "markers",
         "name": "Feasible Trial",
         "showlegend": false,
         "type": "scatter",
         "x": [
          "False",
          "True",
          "False",
          "False",
          "False",
          "False",
          "True",
          "False",
          "False",
          "False",
          "True",
          "True",
          "True",
          "True",
          "True",
          "True",
          "True",
          "True",
          "True",
          "True",
          "True",
          "True",
          "True",
          "True",
          "True",
          "True",
          "True",
          "True",
          "True",
          "True",
          "True",
          "True",
          "True",
          "True",
          "True",
          "True",
          "True",
          "False",
          "True",
          "False",
          "True",
          "True",
          "True",
          "True",
          "False",
          "True",
          "True",
          "True",
          "False",
          "True",
          "True",
          "True",
          "True",
          "True",
          "True",
          "True",
          "True"
         ],
         "xaxis": "x72",
         "y": [
          32,
          64,
          8,
          16,
          16,
          64,
          16,
          16,
          32,
          32,
          64,
          64,
          64,
          64,
          64,
          8,
          64,
          64,
          64,
          8,
          64,
          64,
          64,
          64,
          64,
          64,
          64,
          8,
          32,
          32,
          64,
          64,
          64,
          64,
          64,
          64,
          16,
          8,
          64,
          16,
          64,
          64,
          64,
          64,
          64,
          32,
          16,
          64,
          64,
          64,
          8,
          64,
          64,
          64,
          64,
          64,
          64
         ],
         "yaxis": "y72"
        },
        {
         "colorbar": {
          "title": {
           "text": "Objective Value"
          }
         },
         "colorscale": [
          [
           0,
           "rgb(247,251,255)"
          ],
          [
           0.125,
           "rgb(222,235,247)"
          ],
          [
           0.25,
           "rgb(198,219,239)"
          ],
          [
           0.375,
           "rgb(158,202,225)"
          ],
          [
           0.5,
           "rgb(107,174,214)"
          ],
          [
           0.625,
           "rgb(66,146,198)"
          ],
          [
           0.75,
           "rgb(33,113,181)"
          ],
          [
           0.875,
           "rgb(8,81,156)"
          ],
          [
           1,
           "rgb(8,48,107)"
          ]
         ],
         "connectgaps": true,
         "contours": {
          "coloring": "heatmap"
         },
         "hoverinfo": "none",
         "line": {
          "smoothing": 1.3
         },
         "reversescale": true,
         "showscale": false,
         "type": "contour",
         "x": [
          "False",
          "True"
         ],
         "xaxis": "x82",
         "y": [
          -0.0003327779727902093,
          0.00013293451068639153,
          0.00016482101598833644,
          0.0002859618983201747,
          0.0005030922057200975,
          0.0005082222560318676,
          0.0005109668968683066,
          0.000662259354729205,
          0.000804803158410011,
          0.0008829668498645474,
          0.001035287721361168,
          0.0010762834240493012,
          0.0013010270616585372,
          0.0013123106047931883,
          0.0013848997785396763,
          0.0014712220401046773,
          0.0015236648785628855,
          0.0015528292768899295,
          0.0015783681924397643,
          0.0017245660022955657,
          0.001805691009839501,
          0.0018665340990677206,
          0.0018891900420452655,
          0.0019967096733155307,
          0.002022807309729832,
          0.002221702135674957,
          0.0022966234341041886,
          0.0024793055464558773,
          0.0024844733874638822,
          0.002569749107475558,
          0.002570416914840954,
          0.0027720657351321654,
          0.002861152110081496,
          0.0031063248738114947,
          0.00321367916541899,
          0.003272692583939085,
          0.0033627177469709303,
          0.0034983693930714047,
          0.003644256277757865,
          0.0037134388254553147,
          0.0037319454075769917,
          0.004059959359984235,
          0.004239922045757851,
          0.004263219032077157,
          0.004643003925192097,
          0.004679597012724851,
          0.004793542036453257,
          0.0048612258246951735,
          0.005457312666941946,
          0.005689736859226749,
          0.006357299898537107,
          0.006644651164503487,
          0.006993481555530524,
          0.00800933505882863,
          0.008088989972958073,
          0.00847077666596943,
          0.009326128265959114,
          0.009447184180218409,
          0.00991289666369501
         ],
         "yaxis": "y82",
         "z": [
          [
           null,
           null
          ],
          [
           null,
           0.007173012942075729
          ],
          [
           null,
           0.018036603927612305
          ],
          [
           null,
           0.0023483606055378914
          ],
          [
           null,
           0.001077517052181065
          ],
          [
           null,
           0.011020248755812645
          ],
          [
           null,
           0.0017465348355472088
          ],
          [
           null,
           0.011990615299769811
          ],
          [
           null,
           0.009051533415913582
          ],
          [
           null,
           0.0038915337063372135
          ],
          [
           null,
           0.0026472685858607292
          ],
          [
           null,
           0.0028466973453760147
          ],
          [
           null,
           0.003676444865190066
          ],
          [
           null,
           0.0013212664052844048
          ],
          [
           null,
           0.002323493827134371
          ],
          [
           null,
           0.0011659844312816858
          ],
          [
           null,
           0.0010562939569354057
          ],
          [
           null,
           0.0019303050357848406
          ],
          [
           null,
           0.001234408002346754
          ],
          [
           null,
           0.0010509244166314602
          ],
          [
           null,
           0.005089037652526583
          ],
          [
           null,
           0.002799304900690913
          ],
          [
           null,
           0.017933184280991554
          ],
          [
           null,
           0.0014195044059306383
          ],
          [
           0.015235654436624967,
           null
          ],
          [
           0.013237009827907268,
           null
          ],
          [
           null,
           0.007493170909583569
          ],
          [
           null,
           0.004169144667685032
          ],
          [
           0.009889267385005951,
           null
          ],
          [
           null,
           0.005443759262561798
          ],
          [
           0.0024775939527899027,
           null
          ],
          [
           0.0034027867950499058,
           null
          ],
          [
           null,
           0.0036489125341176987
          ],
          [
           0.009871360446725572,
           null
          ],
          [
           null,
           0.0016798200085759163
          ],
          [
           null,
           0.003677790518850088
          ],
          [
           null,
           0.0010533332824707031
          ],
          [
           null,
           0.0017711485270410776
          ],
          [
           null,
           0.0011525334557518363
          ],
          [
           null,
           0.003910826948972849
          ],
          [
           null,
           0.003278343938291073
          ],
          [
           null,
           0.005068128928542137
          ],
          [
           null,
           0.004693320952355862
          ],
          [
           null,
           0.0024279847275465727
          ],
          [
           null,
           0.004909416660666466
          ],
          [
           null,
           0.0031210482120513916
          ],
          [
           null,
           0.002582056913524866
          ],
          [
           0.004099226091057062,
           null
          ],
          [
           null,
           0.012842606753110886
          ],
          [
           null,
           0.0032087189073746023
          ],
          [
           0.010210204869508743,
           null
          ],
          [
           null,
           0.004480917938053608
          ],
          [
           0.003125535324215889,
           null
          ],
          [
           0.00556196179240942,
           null
          ],
          [
           0.016106017998286655,
           null
          ],
          [
           0.01462360577923911,
           null
          ],
          [
           null,
           0.012798120932919639
          ],
          [
           null,
           0.012514274567365646
          ],
          [
           null,
           null
          ]
         ]
        },
        {
         "marker": {
          "color": "black",
          "line": {
           "color": "Gray",
           "width": 2
          }
         },
         "mode": "markers",
         "name": "Feasible Trial",
         "showlegend": false,
         "type": "scatter",
         "x": [
          "False",
          "True",
          "False",
          "False",
          "False",
          "False",
          "True",
          "False",
          "False",
          "False",
          "True",
          "True",
          "True",
          "True",
          "True",
          "True",
          "True",
          "True",
          "True",
          "True",
          "True",
          "True",
          "True",
          "True",
          "True",
          "True",
          "True",
          "True",
          "True",
          "True",
          "True",
          "True",
          "True",
          "True",
          "True",
          "True",
          "True",
          "False",
          "True",
          "False",
          "True",
          "True",
          "True",
          "True",
          "False",
          "True",
          "True",
          "True",
          "False",
          "True",
          "True",
          "True",
          "True",
          "True",
          "True",
          "True",
          "True"
         ],
         "xaxis": "x82",
         "y": [
          0.0048612258246951735,
          0.009447184180218409,
          0.002022807309729832,
          0.0024844733874638822,
          0.008088989972958073,
          0.006993481555530524,
          0.009326128265959114,
          0.00847077666596943,
          0.00800933505882863,
          0.006357299898537107,
          0.004793542036453257,
          0.004643003925192097,
          0.006644651164503487,
          0.003644256277757865,
          0.003272692583939085,
          0.0037134388254553147,
          0.0002859618983201747,
          0.00013293451068639153,
          0.00016482101598833644,
          0.0013010270616585372,
          0.0015783681924397643,
          0.0013848997785396763,
          0.0014712220401046773,
          0.00321367916541899,
          0.0013123106047931883,
          0.0024793055464558773,
          0.0037319454075769917,
          0.005689736859226749,
          0.0018891900420452655,
          0.004059959359984235,
          0.0008829668498645474,
          0.001035287721361168,
          0.002569749107475558,
          0.0018665340990677206,
          0.002861152110081496,
          0.000804803158410011,
          0.001805691009839501,
          0.002221702135674957,
          0.005457312666941946,
          0.0031063248738114947,
          0.004263219032077157,
          0.0033627177469709303,
          0.0015236648785628855,
          0.0034983693930714047,
          0.002570416914840954,
          0.004239922045757851,
          0.000662259354729205,
          0.0017245660022955657,
          0.0027720657351321654,
          0.0022966234341041886,
          0.004679597012724851,
          0.0015528292768899295,
          0.0019967096733155307,
          0.0005030922057200975,
          0.0005109668968683066,
          0.0010762834240493012,
          0.0005082222560318676
         ],
         "yaxis": "y82"
        },
        {
         "colorbar": {
          "title": {
           "text": "Objective Value"
          }
         },
         "colorscale": [
          [
           0,
           "rgb(247,251,255)"
          ],
          [
           0.125,
           "rgb(222,235,247)"
          ],
          [
           0.25,
           "rgb(198,219,239)"
          ],
          [
           0.375,
           "rgb(158,202,225)"
          ],
          [
           0.5,
           "rgb(107,174,214)"
          ],
          [
           0.625,
           "rgb(66,146,198)"
          ],
          [
           0.75,
           "rgb(33,113,181)"
          ],
          [
           0.875,
           "rgb(8,81,156)"
          ],
          [
           1,
           "rgb(8,48,107)"
          ]
         ],
         "connectgaps": true,
         "contours": {
          "coloring": "heatmap"
         },
         "hoverinfo": "none",
         "line": {
          "smoothing": 1.3
         },
         "reversescale": true,
         "showscale": false,
         "type": "contour",
         "x": [
          "False",
          "True"
         ],
         "xaxis": "x92",
         "y": [
          "Adam",
          "AdamW",
          "SGD"
         ],
         "yaxis": "y92",
         "z": [
          [
           0.0024775939527899027,
           0.0010509244166314602
          ],
          [
           0.003125535324215889,
           0.0024279847275465727
          ],
          [
           0.010210204869508743,
           0.004169144667685032
          ]
         ]
        },
        {
         "marker": {
          "color": "black",
          "line": {
           "color": "Gray",
           "width": 2
          }
         },
         "mode": "markers",
         "name": "Feasible Trial",
         "showlegend": false,
         "type": "scatter",
         "x": [
          "False",
          "True",
          "False",
          "False",
          "False",
          "False",
          "True",
          "False",
          "False",
          "False",
          "True",
          "True",
          "True",
          "True",
          "True",
          "True",
          "True",
          "True",
          "True",
          "True",
          "True",
          "True",
          "True",
          "True",
          "True",
          "True",
          "True",
          "True",
          "True",
          "True",
          "True",
          "True",
          "True",
          "True",
          "True",
          "True",
          "True",
          "False",
          "True",
          "False",
          "True",
          "True",
          "True",
          "True",
          "False",
          "True",
          "True",
          "True",
          "False",
          "True",
          "True",
          "True",
          "True",
          "True",
          "True",
          "True",
          "True"
         ],
         "xaxis": "x92",
         "y": [
          "AdamW",
          "SGD",
          "AdamW",
          "AdamW",
          "SGD",
          "AdamW",
          "AdamW",
          "AdamW",
          "Adam",
          "SGD",
          "Adam",
          "Adam",
          "Adam",
          "Adam",
          "Adam",
          "Adam",
          "Adam",
          "Adam",
          "Adam",
          "Adam",
          "Adam",
          "Adam",
          "Adam",
          "Adam",
          "Adam",
          "SGD",
          "Adam",
          "Adam",
          "Adam",
          "SGD",
          "Adam",
          "Adam",
          "Adam",
          "Adam",
          "Adam",
          "SGD",
          "AdamW",
          "Adam",
          "AdamW",
          "Adam",
          "AdamW",
          "Adam",
          "Adam",
          "Adam",
          "Adam",
          "SGD",
          "Adam",
          "Adam",
          "Adam",
          "AdamW",
          "Adam",
          "Adam",
          "Adam",
          "Adam",
          "Adam",
          "Adam",
          "Adam"
         ],
         "yaxis": "y92"
        },
        {
         "colorbar": {
          "title": {
           "text": "Objective Value"
          }
         },
         "colorscale": [
          [
           0,
           "rgb(247,251,255)"
          ],
          [
           0.125,
           "rgb(222,235,247)"
          ],
          [
           0.25,
           "rgb(198,219,239)"
          ],
          [
           0.375,
           "rgb(158,202,225)"
          ],
          [
           0.5,
           "rgb(107,174,214)"
          ],
          [
           0.625,
           "rgb(66,146,198)"
          ],
          [
           0.75,
           "rgb(33,113,181)"
          ],
          [
           0.875,
           "rgb(8,81,156)"
          ],
          [
           1,
           "rgb(8,48,107)"
          ]
         ],
         "connectgaps": true,
         "contours": {
          "coloring": "heatmap"
         },
         "hoverinfo": "none",
         "line": {
          "smoothing": 1.3
         },
         "reversescale": true,
         "showscale": false,
         "type": "contour",
         "x": [
          41.599999999999994,
          64,
          256,
          384,
          512,
          534.4
         ],
         "xaxis": "x3",
         "y": [
          "relu",
          "swish"
         ],
         "yaxis": "y3",
         "z": [
          [
           null,
           0.007493170909583569,
           0.0032087189073746023,
           0.0031210482120513916,
           0.0010509244166314602,
           null
          ],
          [
           null,
           0.01462360577923911,
           0.015235654436624967,
           0.009871360446725572,
           0.009051533415913582,
           null
          ]
         ]
        },
        {
         "marker": {
          "color": "black",
          "line": {
           "color": "Gray",
           "width": 2
          }
         },
         "mode": "markers",
         "name": "Feasible Trial",
         "showlegend": false,
         "type": "scatter",
         "x": [
          256,
          512,
          256,
          384,
          64,
          512,
          512,
          64,
          256,
          384,
          512,
          512,
          512,
          512,
          512,
          512,
          512,
          384,
          64,
          512,
          512,
          512,
          512,
          512,
          512,
          512,
          384,
          256,
          64,
          256,
          512,
          512,
          512,
          512,
          512,
          512,
          256,
          512,
          64,
          384,
          512,
          512,
          512,
          512,
          512,
          512,
          512,
          512,
          256,
          64,
          384,
          512,
          512,
          512,
          512,
          512,
          512
         ],
         "xaxis": "x3",
         "y": [
          "relu",
          "swish",
          "swish",
          "swish",
          "swish",
          "relu",
          "swish",
          "swish",
          "relu",
          "swish",
          "relu",
          "relu",
          "relu",
          "relu",
          "relu",
          "relu",
          "relu",
          "relu",
          "relu",
          "relu",
          "relu",
          "relu",
          "relu",
          "relu",
          "relu",
          "relu",
          "relu",
          "relu",
          "relu",
          "relu",
          "relu",
          "relu",
          "relu",
          "relu",
          "relu",
          "swish",
          "relu",
          "swish",
          "relu",
          "swish",
          "relu",
          "relu",
          "relu",
          "relu",
          "relu",
          "relu",
          "swish",
          "relu",
          "relu",
          "relu",
          "relu",
          "relu",
          "relu",
          "relu",
          "relu",
          "relu",
          "swish"
         ],
         "yaxis": "y3"
        },
        {
         "colorbar": {
          "title": {
           "text": "Objective Value"
          }
         },
         "colorscale": [
          [
           0,
           "rgb(247,251,255)"
          ],
          [
           0.125,
           "rgb(222,235,247)"
          ],
          [
           0.25,
           "rgb(198,219,239)"
          ],
          [
           0.375,
           "rgb(158,202,225)"
          ],
          [
           0.5,
           "rgb(107,174,214)"
          ],
          [
           0.625,
           "rgb(66,146,198)"
          ],
          [
           0.75,
           "rgb(33,113,181)"
          ],
          [
           0.875,
           "rgb(8,81,156)"
          ],
          [
           1,
           "rgb(8,48,107)"
          ]
         ],
         "connectgaps": true,
         "contours": {
          "coloring": "heatmap"
         },
         "hoverinfo": "none",
         "line": {
          "smoothing": 1.3
         },
         "reversescale": true,
         "showscale": false,
         "type": "contour",
         "x": [
          41.599999999999994,
          64,
          256,
          384,
          512,
          534.4
         ],
         "xaxis": "x13",
         "y": [
          "False",
          "True"
         ],
         "yaxis": "y13",
         "z": [
          [
           null,
           0.01462360577923911,
           0.0034027867950499058,
           0.009871360446725572,
           0.0024775939527899027,
           null
          ],
          [
           null,
           0.007493170909583569,
           0.0032087189073746023,
           0.0031210482120513916,
           0.0010509244166314602,
           null
          ]
         ]
        },
        {
         "marker": {
          "color": "black",
          "line": {
           "color": "Gray",
           "width": 2
          }
         },
         "mode": "markers",
         "name": "Feasible Trial",
         "showlegend": false,
         "type": "scatter",
         "x": [
          256,
          512,
          256,
          384,
          64,
          512,
          512,
          64,
          256,
          384,
          512,
          512,
          512,
          512,
          512,
          512,
          512,
          384,
          64,
          512,
          512,
          512,
          512,
          512,
          512,
          512,
          384,
          256,
          64,
          256,
          512,
          512,
          512,
          512,
          512,
          512,
          256,
          512,
          64,
          384,
          512,
          512,
          512,
          512,
          512,
          512,
          512,
          512,
          256,
          64,
          384,
          512,
          512,
          512,
          512,
          512,
          512
         ],
         "xaxis": "x13",
         "y": [
          "False",
          "True",
          "False",
          "False",
          "False",
          "False",
          "True",
          "False",
          "False",
          "False",
          "True",
          "True",
          "True",
          "True",
          "True",
          "True",
          "True",
          "True",
          "True",
          "True",
          "True",
          "True",
          "True",
          "True",
          "True",
          "True",
          "True",
          "True",
          "True",
          "True",
          "True",
          "True",
          "True",
          "True",
          "True",
          "True",
          "True",
          "False",
          "True",
          "False",
          "True",
          "True",
          "True",
          "True",
          "False",
          "True",
          "True",
          "True",
          "False",
          "True",
          "True",
          "True",
          "True",
          "True",
          "True",
          "True",
          "True"
         ],
         "yaxis": "y13"
        },
        {
         "type": "scatter",
         "xaxis": "x23",
         "yaxis": "y23"
        },
        {
         "colorbar": {
          "title": {
           "text": "Objective Value"
          }
         },
         "colorscale": [
          [
           0,
           "rgb(247,251,255)"
          ],
          [
           0.125,
           "rgb(222,235,247)"
          ],
          [
           0.25,
           "rgb(198,219,239)"
          ],
          [
           0.375,
           "rgb(158,202,225)"
          ],
          [
           0.5,
           "rgb(107,174,214)"
          ],
          [
           0.625,
           "rgb(66,146,198)"
          ],
          [
           0.75,
           "rgb(33,113,181)"
          ],
          [
           0.875,
           "rgb(8,81,156)"
          ],
          [
           1,
           "rgb(8,48,107)"
          ]
         ],
         "connectgaps": true,
         "contours": {
          "coloring": "heatmap"
         },
         "hoverinfo": "none",
         "line": {
          "smoothing": 1.3
         },
         "reversescale": true,
         "showscale": false,
         "type": "contour",
         "x": [
          41.599999999999994,
          64,
          256,
          384,
          512,
          534.4
         ],
         "xaxis": "x33",
         "y": [
          41.599999999999994,
          64,
          256,
          384,
          512,
          534.4
         ],
         "yaxis": "y33",
         "z": [
          [
           null,
           null,
           null,
           null,
           null,
           null
          ],
          [
           null,
           0.012842606753110886,
           0.0034027867950499058,
           0.009889267385005951,
           null,
           null
          ],
          [
           null,
           0.016106017998286655,
           0.015235654436624967,
           0.003278343938291073,
           0.0024279847275465727,
           null
          ],
          [
           null,
           0.007493170909583569,
           0.00556196179240942,
           0.0031210482120513916,
           0.0010509244166314602,
           null
          ],
          [
           null,
           null,
           0.0032087189073746023,
           0.007173012942075729,
           0.012514274567365646,
           null
          ],
          [
           null,
           null,
           null,
           null,
           null,
           null
          ]
         ]
        },
        {
         "marker": {
          "color": "black",
          "line": {
           "color": "Gray",
           "width": 2
          }
         },
         "mode": "markers",
         "name": "Feasible Trial",
         "showlegend": false,
         "type": "scatter",
         "x": [
          256,
          512,
          256,
          384,
          64,
          512,
          512,
          64,
          256,
          384,
          512,
          512,
          512,
          512,
          512,
          512,
          512,
          384,
          64,
          512,
          512,
          512,
          512,
          512,
          512,
          512,
          384,
          256,
          64,
          256,
          512,
          512,
          512,
          512,
          512,
          512,
          256,
          512,
          64,
          384,
          512,
          512,
          512,
          512,
          512,
          512,
          512,
          512,
          256,
          64,
          384,
          512,
          512,
          512,
          512,
          512,
          512
         ],
         "xaxis": "x33",
         "y": [
          512,
          512,
          256,
          64,
          256,
          384,
          384,
          64,
          384,
          256,
          384,
          384,
          384,
          384,
          384,
          384,
          384,
          512,
          64,
          384,
          384,
          384,
          384,
          384,
          384,
          384,
          256,
          512,
          64,
          512,
          384,
          384,
          384,
          384,
          384,
          256,
          512,
          384,
          64,
          384,
          256,
          384,
          384,
          384,
          384,
          384,
          384,
          384,
          64,
          384,
          384,
          384,
          384,
          384,
          384,
          384,
          256
         ],
         "yaxis": "y33"
        },
        {
         "colorbar": {
          "title": {
           "text": "Objective Value"
          }
         },
         "colorscale": [
          [
           0,
           "rgb(247,251,255)"
          ],
          [
           0.125,
           "rgb(222,235,247)"
          ],
          [
           0.25,
           "rgb(198,219,239)"
          ],
          [
           0.375,
           "rgb(158,202,225)"
          ],
          [
           0.5,
           "rgb(107,174,214)"
          ],
          [
           0.625,
           "rgb(66,146,198)"
          ],
          [
           0.75,
           "rgb(33,113,181)"
          ],
          [
           0.875,
           "rgb(8,81,156)"
          ],
          [
           1,
           "rgb(8,48,107)"
          ]
         ],
         "connectgaps": true,
         "contours": {
          "coloring": "heatmap"
         },
         "hoverinfo": "none",
         "line": {
          "smoothing": 1.3
         },
         "reversescale": true,
         "showscale": false,
         "type": "contour",
         "x": [
          41.599999999999994,
          64,
          256,
          384,
          512,
          534.4
         ],
         "xaxis": "x43",
         "y": [
          1.7,
          2,
          4,
          6,
          8,
          8.3
         ],
         "yaxis": "y43",
         "z": [
          [
           null,
           null,
           null,
           null,
           null,
           null
          ],
          [
           null,
           0.016106017998286655,
           0.004099226091057062,
           0.009871360446725572,
           0.0038915337063372135,
           null
          ],
          [
           null,
           0.017933184280991554,
           0.0034027867950499058,
           0.009889267385005951,
           0.012798120932919639,
           null
          ],
          [
           null,
           0.007493170909583569,
           0.005068128928542137,
           0.0031210482120513916,
           0.0010509244166314602,
           null
          ],
          [
           null,
           null,
           0.0032087189073746023,
           0.010210204869508743,
           0.003676444865190066,
           null
          ],
          [
           null,
           null,
           null,
           null,
           null,
           null
          ]
         ]
        },
        {
         "marker": {
          "color": "black",
          "line": {
           "color": "Gray",
           "width": 2
          }
         },
         "mode": "markers",
         "name": "Feasible Trial",
         "showlegend": false,
         "type": "scatter",
         "x": [
          256,
          512,
          256,
          384,
          64,
          512,
          512,
          64,
          256,
          384,
          512,
          512,
          512,
          512,
          512,
          512,
          512,
          384,
          64,
          512,
          512,
          512,
          512,
          512,
          512,
          512,
          384,
          256,
          64,
          256,
          512,
          512,
          512,
          512,
          512,
          512,
          256,
          512,
          64,
          384,
          512,
          512,
          512,
          512,
          512,
          512,
          512,
          512,
          256,
          64,
          384,
          512,
          512,
          512,
          512,
          512,
          512
         ],
         "xaxis": "x43",
         "y": [
          2,
          2,
          6,
          4,
          2,
          6,
          4,
          6,
          2,
          8,
          6,
          6,
          6,
          6,
          8,
          6,
          6,
          6,
          4,
          8,
          6,
          6,
          6,
          6,
          6,
          6,
          6,
          8,
          4,
          6,
          2,
          6,
          6,
          6,
          6,
          2,
          6,
          4,
          6,
          2,
          6,
          6,
          6,
          6,
          6,
          6,
          8,
          6,
          4,
          6,
          6,
          6,
          6,
          6,
          6,
          6,
          2
         ],
         "yaxis": "y43"
        },
        {
         "colorbar": {
          "title": {
           "text": "Objective Value"
          }
         },
         "colorscale": [
          [
           0,
           "rgb(247,251,255)"
          ],
          [
           0.125,
           "rgb(222,235,247)"
          ],
          [
           0.25,
           "rgb(198,219,239)"
          ],
          [
           0.375,
           "rgb(158,202,225)"
          ],
          [
           0.5,
           "rgb(107,174,214)"
          ],
          [
           0.625,
           "rgb(66,146,198)"
          ],
          [
           0.75,
           "rgb(33,113,181)"
          ],
          [
           0.875,
           "rgb(8,81,156)"
          ],
          [
           1,
           "rgb(8,48,107)"
          ]
         ],
         "connectgaps": true,
         "contours": {
          "coloring": "heatmap"
         },
         "hoverinfo": "none",
         "line": {
          "smoothing": 1.3
         },
         "reversescale": true,
         "showscale": false,
         "type": "contour",
         "x": [
          41.599999999999994,
          64,
          256,
          384,
          512,
          534.4
         ],
         "xaxis": "x53",
         "y": [
          "False",
          "True"
         ],
         "yaxis": "y53",
         "z": [
          [
           null,
           0.012842606753110886,
           0.0032087189073746023,
           0.0031210482120513916,
           0.0010509244166314602,
           null
          ],
          [
           null,
           0.007493170909583569,
           0.004099226091057062,
           0.003278343938291073,
           0.009051533415913582,
           null
          ]
         ]
        },
        {
         "marker": {
          "color": "black",
          "line": {
           "color": "Gray",
           "width": 2
          }
         },
         "mode": "markers",
         "name": "Feasible Trial",
         "showlegend": false,
         "type": "scatter",
         "x": [
          256,
          512,
          256,
          384,
          64,
          512,
          512,
          64,
          256,
          384,
          512,
          512,
          512,
          512,
          512,
          512,
          512,
          384,
          64,
          512,
          512,
          512,
          512,
          512,
          512,
          512,
          384,
          256,
          64,
          256,
          512,
          512,
          512,
          512,
          512,
          512,
          256,
          512,
          64,
          384,
          512,
          512,
          512,
          512,
          512,
          512,
          512,
          512,
          256,
          64,
          384,
          512,
          512,
          512,
          512,
          512,
          512
         ],
         "xaxis": "x53",
         "y": [
          "True",
          "False",
          "True",
          "True",
          "True",
          "False",
          "False",
          "False",
          "False",
          "False",
          "False",
          "False",
          "False",
          "False",
          "False",
          "False",
          "False",
          "False",
          "True",
          "False",
          "False",
          "False",
          "False",
          "False",
          "False",
          "False",
          "True",
          "False",
          "False",
          "True",
          "False",
          "False",
          "False",
          "False",
          "False",
          "True",
          "False",
          "True",
          "False",
          "False",
          "False",
          "False",
          "False",
          "False",
          "False",
          "False",
          "False",
          "False",
          "False",
          "True",
          "False",
          "False",
          "False",
          "False",
          "False",
          "False",
          "False"
         ],
         "yaxis": "y53"
        },
        {
         "colorbar": {
          "title": {
           "text": "Objective Value"
          }
         },
         "colorscale": [
          [
           0,
           "rgb(247,251,255)"
          ],
          [
           0.125,
           "rgb(222,235,247)"
          ],
          [
           0.25,
           "rgb(198,219,239)"
          ],
          [
           0.375,
           "rgb(158,202,225)"
          ],
          [
           0.5,
           "rgb(107,174,214)"
          ],
          [
           0.625,
           "rgb(66,146,198)"
          ],
          [
           0.75,
           "rgb(33,113,181)"
          ],
          [
           0.875,
           "rgb(8,81,156)"
          ],
          [
           1,
           "rgb(8,48,107)"
          ]
         ],
         "connectgaps": true,
         "contours": {
          "coloring": "heatmap"
         },
         "hoverinfo": "none",
         "line": {
          "smoothing": 1.3
         },
         "reversescale": true,
         "showscale": false,
         "type": "contour",
         "x": [
          41.599999999999994,
          64,
          256,
          384,
          512,
          534.4
         ],
         "xaxis": "x63",
         "y": [
          10.399999999999999,
          16,
          32,
          64,
          128,
          133.6
         ],
         "yaxis": "y63",
         "z": [
          [
           null,
           null,
           null,
           null,
           null,
           null
          ],
          [
           null,
           0.007493170909583569,
           0.0032087189073746023,
           null,
           null,
           null
          ],
          [
           null,
           0.018036603927612305,
           0.0034027867950499058,
           0.0031210482120513916,
           0.0010509244166314602,
           null
          ],
          [
           null,
           0.017933184280991554,
           0.00556196179240942,
           null,
           0.003676444865190066,
           null
          ],
          [
           null,
           null,
           0.015235654436624967,
           0.010210204869508743,
           0.0036489125341176987,
           null
          ],
          [
           null,
           null,
           null,
           null,
           null,
           null
          ]
         ]
        },
        {
         "marker": {
          "color": "black",
          "line": {
           "color": "Gray",
           "width": 2
          }
         },
         "mode": "markers",
         "name": "Feasible Trial",
         "showlegend": false,
         "type": "scatter",
         "x": [
          256,
          512,
          256,
          384,
          64,
          512,
          512,
          64,
          256,
          384,
          512,
          512,
          512,
          512,
          512,
          512,
          512,
          384,
          64,
          512,
          512,
          512,
          512,
          512,
          512,
          512,
          384,
          256,
          64,
          256,
          512,
          512,
          512,
          512,
          512,
          512,
          256,
          512,
          64,
          384,
          512,
          512,
          512,
          512,
          512,
          512,
          512,
          512,
          256,
          64,
          384,
          512,
          512,
          512,
          512,
          512,
          512
         ],
         "xaxis": "x63",
         "y": [
          16,
          128,
          128,
          32,
          16,
          32,
          128,
          16,
          64,
          128,
          32,
          32,
          32,
          32,
          32,
          64,
          32,
          32,
          32,
          64,
          32,
          32,
          32,
          32,
          32,
          32,
          32,
          16,
          64,
          16,
          32,
          32,
          32,
          32,
          128,
          32,
          32,
          128,
          16,
          32,
          32,
          32,
          32,
          32,
          32,
          128,
          64,
          32,
          32,
          16,
          32,
          32,
          32,
          32,
          32,
          32,
          32
         ],
         "yaxis": "y63"
        },
        {
         "colorbar": {
          "title": {
           "text": "Objective Value"
          }
         },
         "colorscale": [
          [
           0,
           "rgb(247,251,255)"
          ],
          [
           0.125,
           "rgb(222,235,247)"
          ],
          [
           0.25,
           "rgb(198,219,239)"
          ],
          [
           0.375,
           "rgb(158,202,225)"
          ],
          [
           0.5,
           "rgb(107,174,214)"
          ],
          [
           0.625,
           "rgb(66,146,198)"
          ],
          [
           0.75,
           "rgb(33,113,181)"
          ],
          [
           0.875,
           "rgb(8,81,156)"
          ],
          [
           1,
           "rgb(8,48,107)"
          ]
         ],
         "connectgaps": true,
         "contours": {
          "coloring": "heatmap"
         },
         "hoverinfo": "none",
         "line": {
          "smoothing": 1.3
         },
         "reversescale": true,
         "showscale": false,
         "type": "contour",
         "x": [
          41.599999999999994,
          64,
          256,
          384,
          512,
          534.4
         ],
         "xaxis": "x73",
         "y": [
          5.199999999999999,
          8,
          16,
          32,
          64,
          66.8
         ],
         "yaxis": "y73",
         "z": [
          [
           null,
           null,
           null,
           null,
           null,
           null
          ],
          [
           null,
           null,
           0.0032087189073746023,
           0.0031210482120513916,
           0.003676444865190066,
           null
          ],
          [
           null,
           0.01462360577923911,
           0.005089037652526583,
           0.009871360446725572,
           0.011990615299769811,
           null
          ],
          [
           null,
           0.017933184280991554,
           0.004099226091057062,
           0.010210204869508743,
           0.004693320952355862,
           null
          ],
          [
           null,
           0.007493170909583569,
           0.0034027867950499058,
           0.003278343938291073,
           0.0010509244166314602,
           null
          ],
          [
           null,
           null,
           null,
           null,
           null,
           null
          ]
         ]
        },
        {
         "marker": {
          "color": "black",
          "line": {
           "color": "Gray",
           "width": 2
          }
         },
         "mode": "markers",
         "name": "Feasible Trial",
         "showlegend": false,
         "type": "scatter",
         "x": [
          256,
          512,
          256,
          384,
          64,
          512,
          512,
          64,
          256,
          384,
          512,
          512,
          512,
          512,
          512,
          512,
          512,
          384,
          64,
          512,
          512,
          512,
          512,
          512,
          512,
          512,
          384,
          256,
          64,
          256,
          512,
          512,
          512,
          512,
          512,
          512,
          256,
          512,
          64,
          384,
          512,
          512,
          512,
          512,
          512,
          512,
          512,
          512,
          256,
          64,
          384,
          512,
          512,
          512,
          512,
          512,
          512
         ],
         "xaxis": "x73",
         "y": [
          32,
          64,
          8,
          16,
          16,
          64,
          16,
          16,
          32,
          32,
          64,
          64,
          64,
          64,
          64,
          8,
          64,
          64,
          64,
          8,
          64,
          64,
          64,
          64,
          64,
          64,
          64,
          8,
          32,
          32,
          64,
          64,
          64,
          64,
          64,
          64,
          16,
          8,
          64,
          16,
          64,
          64,
          64,
          64,
          64,
          32,
          16,
          64,
          64,
          64,
          8,
          64,
          64,
          64,
          64,
          64,
          64
         ],
         "yaxis": "y73"
        },
        {
         "colorbar": {
          "title": {
           "text": "Objective Value"
          }
         },
         "colorscale": [
          [
           0,
           "rgb(247,251,255)"
          ],
          [
           0.125,
           "rgb(222,235,247)"
          ],
          [
           0.25,
           "rgb(198,219,239)"
          ],
          [
           0.375,
           "rgb(158,202,225)"
          ],
          [
           0.5,
           "rgb(107,174,214)"
          ],
          [
           0.625,
           "rgb(66,146,198)"
          ],
          [
           0.75,
           "rgb(33,113,181)"
          ],
          [
           0.875,
           "rgb(8,81,156)"
          ],
          [
           1,
           "rgb(8,48,107)"
          ]
         ],
         "connectgaps": true,
         "contours": {
          "coloring": "heatmap"
         },
         "hoverinfo": "none",
         "line": {
          "smoothing": 1.3
         },
         "reversescale": true,
         "showscale": false,
         "type": "contour",
         "x": [
          41.599999999999994,
          64,
          256,
          384,
          512,
          534.4
         ],
         "xaxis": "x83",
         "y": [
          -0.0003327779727902093,
          0.00013293451068639153,
          0.00016482101598833644,
          0.0002859618983201747,
          0.0005030922057200975,
          0.0005082222560318676,
          0.0005109668968683066,
          0.000662259354729205,
          0.000804803158410011,
          0.0008829668498645474,
          0.001035287721361168,
          0.0010762834240493012,
          0.0013010270616585372,
          0.0013123106047931883,
          0.0013848997785396763,
          0.0014712220401046773,
          0.0015236648785628855,
          0.0015528292768899295,
          0.0015783681924397643,
          0.0017245660022955657,
          0.001805691009839501,
          0.0018665340990677206,
          0.0018891900420452655,
          0.0019967096733155307,
          0.002022807309729832,
          0.002221702135674957,
          0.0022966234341041886,
          0.0024793055464558773,
          0.0024844733874638822,
          0.002569749107475558,
          0.002570416914840954,
          0.0027720657351321654,
          0.002861152110081496,
          0.0031063248738114947,
          0.00321367916541899,
          0.003272692583939085,
          0.0033627177469709303,
          0.0034983693930714047,
          0.003644256277757865,
          0.0037134388254553147,
          0.0037319454075769917,
          0.004059959359984235,
          0.004239922045757851,
          0.004263219032077157,
          0.004643003925192097,
          0.004679597012724851,
          0.004793542036453257,
          0.0048612258246951735,
          0.005457312666941946,
          0.005689736859226749,
          0.006357299898537107,
          0.006644651164503487,
          0.006993481555530524,
          0.00800933505882863,
          0.008088989972958073,
          0.00847077666596943,
          0.009326128265959114,
          0.009447184180218409,
          0.00991289666369501
         ],
         "yaxis": "y83",
         "z": [
          [
           null,
           null,
           null,
           null,
           null,
           null
          ],
          [
           null,
           null,
           null,
           0.007173012942075729,
           null,
           null
          ],
          [
           null,
           0.018036603927612305,
           null,
           null,
           null,
           null
          ],
          [
           null,
           null,
           null,
           null,
           0.0023483606055378914,
           null
          ],
          [
           null,
           null,
           null,
           null,
           0.001077517052181065,
           null
          ],
          [
           null,
           null,
           null,
           null,
           0.011020248755812645,
           null
          ],
          [
           null,
           null,
           null,
           null,
           0.0017465348355472088,
           null
          ],
          [
           null,
           null,
           null,
           null,
           0.011990615299769811,
           null
          ],
          [
           null,
           null,
           null,
           null,
           0.009051533415913582,
           null
          ],
          [
           null,
           null,
           null,
           null,
           0.0038915337063372135,
           null
          ],
          [
           null,
           null,
           null,
           null,
           0.0026472685858607292,
           null
          ],
          [
           null,
           null,
           null,
           null,
           0.0028466973453760147,
           null
          ],
          [
           null,
           null,
           null,
           null,
           0.003676444865190066,
           null
          ],
          [
           null,
           null,
           null,
           null,
           0.0013212664052844048,
           null
          ],
          [
           null,
           null,
           null,
           null,
           0.002323493827134371,
           null
          ],
          [
           null,
           null,
           null,
           null,
           0.0011659844312816858,
           null
          ],
          [
           null,
           null,
           null,
           null,
           0.0010562939569354057,
           null
          ],
          [
           null,
           null,
           null,
           null,
           0.0019303050357848406,
           null
          ],
          [
           null,
           null,
           null,
           null,
           0.001234408002346754,
           null
          ],
          [
           null,
           null,
           null,
           null,
           0.0010509244166314602,
           null
          ],
          [
           null,
           null,
           0.005089037652526583,
           null,
           null,
           null
          ],
          [
           null,
           null,
           null,
           null,
           0.002799304900690913,
           null
          ],
          [
           null,
           0.017933184280991554,
           null,
           null,
           null,
           null
          ],
          [
           null,
           null,
           null,
           null,
           0.0014195044059306383,
           null
          ],
          [
           null,
           null,
           0.015235654436624967,
           null,
           null,
           null
          ],
          [
           null,
           null,
           null,
           null,
           0.013237009827907268,
           null
          ],
          [
           null,
           0.007493170909583569,
           null,
           null,
           null,
           null
          ],
          [
           null,
           null,
           null,
           null,
           0.004169144667685032,
           null
          ],
          [
           null,
           null,
           null,
           0.009889267385005951,
           null,
           null
          ],
          [
           null,
           null,
           null,
           null,
           0.005443759262561798,
           null
          ],
          [
           null,
           null,
           null,
           null,
           0.0024775939527899027,
           null
          ],
          [
           null,
           null,
           0.0034027867950499058,
           null,
           null,
           null
          ],
          [
           null,
           null,
           null,
           null,
           0.0036489125341176987,
           null
          ],
          [
           null,
           null,
           null,
           0.009871360446725572,
           null,
           null
          ],
          [
           null,
           null,
           null,
           null,
           0.0016798200085759163,
           null
          ],
          [
           null,
           null,
           null,
           null,
           0.003677790518850088,
           null
          ],
          [
           null,
           null,
           null,
           null,
           0.0010533332824707031,
           null
          ],
          [
           null,
           null,
           null,
           null,
           0.0017711485270410776,
           null
          ],
          [
           null,
           null,
           null,
           null,
           0.0011525334557518363,
           null
          ],
          [
           null,
           null,
           null,
           null,
           0.003910826948972849,
           null
          ],
          [
           null,
           null,
           null,
           0.003278343938291073,
           null,
           null
          ],
          [
           null,
           null,
           0.005068128928542137,
           null,
           null,
           null
          ],
          [
           null,
           null,
           null,
           null,
           0.004693320952355862,
           null
          ],
          [
           null,
           null,
           null,
           null,
           0.0024279847275465727,
           null
          ],
          [
           null,
           null,
           null,
           null,
           0.004909416660666466,
           null
          ],
          [
           null,
           null,
           null,
           0.0031210482120513916,
           null,
           null
          ],
          [
           null,
           null,
           null,
           null,
           0.002582056913524866,
           null
          ],
          [
           null,
           null,
           0.004099226091057062,
           null,
           null,
           null
          ],
          [
           null,
           0.012842606753110886,
           null,
           null,
           null,
           null
          ],
          [
           null,
           null,
           0.0032087189073746023,
           null,
           null,
           null
          ],
          [
           null,
           null,
           null,
           0.010210204869508743,
           null,
           null
          ],
          [
           null,
           null,
           null,
           null,
           0.004480917938053608,
           null
          ],
          [
           null,
           null,
           null,
           null,
           0.003125535324215889,
           null
          ],
          [
           null,
           null,
           0.00556196179240942,
           null,
           null,
           null
          ],
          [
           null,
           0.016106017998286655,
           null,
           null,
           null,
           null
          ],
          [
           null,
           0.01462360577923911,
           null,
           null,
           null,
           null
          ],
          [
           null,
           null,
           null,
           null,
           0.012798120932919639,
           null
          ],
          [
           null,
           null,
           null,
           null,
           0.012514274567365646,
           null
          ],
          [
           null,
           null,
           null,
           null,
           null,
           null
          ]
         ]
        },
        {
         "marker": {
          "color": "black",
          "line": {
           "color": "Gray",
           "width": 2
          }
         },
         "mode": "markers",
         "name": "Feasible Trial",
         "showlegend": false,
         "type": "scatter",
         "x": [
          256,
          512,
          256,
          384,
          64,
          512,
          512,
          64,
          256,
          384,
          512,
          512,
          512,
          512,
          512,
          512,
          512,
          384,
          64,
          512,
          512,
          512,
          512,
          512,
          512,
          512,
          384,
          256,
          64,
          256,
          512,
          512,
          512,
          512,
          512,
          512,
          256,
          512,
          64,
          384,
          512,
          512,
          512,
          512,
          512,
          512,
          512,
          512,
          256,
          64,
          384,
          512,
          512,
          512,
          512,
          512,
          512
         ],
         "xaxis": "x83",
         "y": [
          0.0048612258246951735,
          0.009447184180218409,
          0.002022807309729832,
          0.0024844733874638822,
          0.008088989972958073,
          0.006993481555530524,
          0.009326128265959114,
          0.00847077666596943,
          0.00800933505882863,
          0.006357299898537107,
          0.004793542036453257,
          0.004643003925192097,
          0.006644651164503487,
          0.003644256277757865,
          0.003272692583939085,
          0.0037134388254553147,
          0.0002859618983201747,
          0.00013293451068639153,
          0.00016482101598833644,
          0.0013010270616585372,
          0.0015783681924397643,
          0.0013848997785396763,
          0.0014712220401046773,
          0.00321367916541899,
          0.0013123106047931883,
          0.0024793055464558773,
          0.0037319454075769917,
          0.005689736859226749,
          0.0018891900420452655,
          0.004059959359984235,
          0.0008829668498645474,
          0.001035287721361168,
          0.002569749107475558,
          0.0018665340990677206,
          0.002861152110081496,
          0.000804803158410011,
          0.001805691009839501,
          0.002221702135674957,
          0.005457312666941946,
          0.0031063248738114947,
          0.004263219032077157,
          0.0033627177469709303,
          0.0015236648785628855,
          0.0034983693930714047,
          0.002570416914840954,
          0.004239922045757851,
          0.000662259354729205,
          0.0017245660022955657,
          0.0027720657351321654,
          0.0022966234341041886,
          0.004679597012724851,
          0.0015528292768899295,
          0.0019967096733155307,
          0.0005030922057200975,
          0.0005109668968683066,
          0.0010762834240493012,
          0.0005082222560318676
         ],
         "yaxis": "y83"
        },
        {
         "colorbar": {
          "title": {
           "text": "Objective Value"
          }
         },
         "colorscale": [
          [
           0,
           "rgb(247,251,255)"
          ],
          [
           0.125,
           "rgb(222,235,247)"
          ],
          [
           0.25,
           "rgb(198,219,239)"
          ],
          [
           0.375,
           "rgb(158,202,225)"
          ],
          [
           0.5,
           "rgb(107,174,214)"
          ],
          [
           0.625,
           "rgb(66,146,198)"
          ],
          [
           0.75,
           "rgb(33,113,181)"
          ],
          [
           0.875,
           "rgb(8,81,156)"
          ],
          [
           1,
           "rgb(8,48,107)"
          ]
         ],
         "connectgaps": true,
         "contours": {
          "coloring": "heatmap"
         },
         "hoverinfo": "none",
         "line": {
          "smoothing": 1.3
         },
         "reversescale": true,
         "showscale": false,
         "type": "contour",
         "x": [
          41.599999999999994,
          64,
          256,
          384,
          512,
          534.4
         ],
         "xaxis": "x93",
         "y": [
          "Adam",
          "AdamW",
          "SGD"
         ],
         "yaxis": "y93",
         "z": [
          [
           null,
           0.017933184280991554,
           0.0032087189073746023,
           0.0031210482120513916,
           0.0010509244166314602,
           null
          ],
          [
           null,
           0.007493170909583569,
           0.004099226091057062,
           0.009889267385005951,
           0.0024279847275465727,
           null
          ],
          [
           null,
           0.016106017998286655,
           0.005068128928542137,
           0.010210204869508743,
           0.004169144667685032,
           null
          ]
         ]
        },
        {
         "marker": {
          "color": "black",
          "line": {
           "color": "Gray",
           "width": 2
          }
         },
         "mode": "markers",
         "name": "Feasible Trial",
         "showlegend": false,
         "type": "scatter",
         "x": [
          256,
          512,
          256,
          384,
          64,
          512,
          512,
          64,
          256,
          384,
          512,
          512,
          512,
          512,
          512,
          512,
          512,
          384,
          64,
          512,
          512,
          512,
          512,
          512,
          512,
          512,
          384,
          256,
          64,
          256,
          512,
          512,
          512,
          512,
          512,
          512,
          256,
          512,
          64,
          384,
          512,
          512,
          512,
          512,
          512,
          512,
          512,
          512,
          256,
          64,
          384,
          512,
          512,
          512,
          512,
          512,
          512
         ],
         "xaxis": "x93",
         "y": [
          "AdamW",
          "SGD",
          "AdamW",
          "AdamW",
          "SGD",
          "AdamW",
          "AdamW",
          "AdamW",
          "Adam",
          "SGD",
          "Adam",
          "Adam",
          "Adam",
          "Adam",
          "Adam",
          "Adam",
          "Adam",
          "Adam",
          "Adam",
          "Adam",
          "Adam",
          "Adam",
          "Adam",
          "Adam",
          "Adam",
          "SGD",
          "Adam",
          "Adam",
          "Adam",
          "SGD",
          "Adam",
          "Adam",
          "Adam",
          "Adam",
          "Adam",
          "SGD",
          "AdamW",
          "Adam",
          "AdamW",
          "Adam",
          "AdamW",
          "Adam",
          "Adam",
          "Adam",
          "Adam",
          "SGD",
          "Adam",
          "Adam",
          "Adam",
          "AdamW",
          "Adam",
          "Adam",
          "Adam",
          "Adam",
          "Adam",
          "Adam",
          "Adam"
         ],
         "yaxis": "y93"
        },
        {
         "colorbar": {
          "title": {
           "text": "Objective Value"
          }
         },
         "colorscale": [
          [
           0,
           "rgb(247,251,255)"
          ],
          [
           0.125,
           "rgb(222,235,247)"
          ],
          [
           0.25,
           "rgb(198,219,239)"
          ],
          [
           0.375,
           "rgb(158,202,225)"
          ],
          [
           0.5,
           "rgb(107,174,214)"
          ],
          [
           0.625,
           "rgb(66,146,198)"
          ],
          [
           0.75,
           "rgb(33,113,181)"
          ],
          [
           0.875,
           "rgb(8,81,156)"
          ],
          [
           1,
           "rgb(8,48,107)"
          ]
         ],
         "connectgaps": true,
         "contours": {
          "coloring": "heatmap"
         },
         "hoverinfo": "none",
         "line": {
          "smoothing": 1.3
         },
         "reversescale": true,
         "showscale": false,
         "type": "contour",
         "x": [
          41.599999999999994,
          64,
          256,
          384,
          512,
          534.4
         ],
         "xaxis": "x4",
         "y": [
          "relu",
          "swish"
         ],
         "yaxis": "y4",
         "z": [
          [
           null,
           0.0034027867950499058,
           0.0024279847275465727,
           0.0010509244166314602,
           0.0032087189073746023,
           null
          ],
          [
           null,
           0.009889267385005951,
           0.009051533415913582,
           0.009871360446725572,
           0.012514274567365646,
           null
          ]
         ]
        },
        {
         "marker": {
          "color": "black",
          "line": {
           "color": "Gray",
           "width": 2
          }
         },
         "mode": "markers",
         "name": "Feasible Trial",
         "showlegend": false,
         "type": "scatter",
         "x": [
          512,
          512,
          256,
          64,
          256,
          384,
          384,
          64,
          384,
          256,
          384,
          384,
          384,
          384,
          384,
          384,
          384,
          512,
          64,
          384,
          384,
          384,
          384,
          384,
          384,
          384,
          256,
          512,
          64,
          512,
          384,
          384,
          384,
          384,
          384,
          256,
          512,
          384,
          64,
          384,
          256,
          384,
          384,
          384,
          384,
          384,
          384,
          384,
          64,
          384,
          384,
          384,
          384,
          384,
          384,
          384,
          256
         ],
         "xaxis": "x4",
         "y": [
          "relu",
          "swish",
          "swish",
          "swish",
          "swish",
          "relu",
          "swish",
          "swish",
          "relu",
          "swish",
          "relu",
          "relu",
          "relu",
          "relu",
          "relu",
          "relu",
          "relu",
          "relu",
          "relu",
          "relu",
          "relu",
          "relu",
          "relu",
          "relu",
          "relu",
          "relu",
          "relu",
          "relu",
          "relu",
          "relu",
          "relu",
          "relu",
          "relu",
          "relu",
          "relu",
          "swish",
          "relu",
          "swish",
          "relu",
          "swish",
          "relu",
          "relu",
          "relu",
          "relu",
          "relu",
          "relu",
          "swish",
          "relu",
          "relu",
          "relu",
          "relu",
          "relu",
          "relu",
          "relu",
          "relu",
          "relu",
          "swish"
         ],
         "yaxis": "y4"
        },
        {
         "colorbar": {
          "title": {
           "text": "Objective Value"
          }
         },
         "colorscale": [
          [
           0,
           "rgb(247,251,255)"
          ],
          [
           0.125,
           "rgb(222,235,247)"
          ],
          [
           0.25,
           "rgb(198,219,239)"
          ],
          [
           0.375,
           "rgb(158,202,225)"
          ],
          [
           0.5,
           "rgb(107,174,214)"
          ],
          [
           0.625,
           "rgb(66,146,198)"
          ],
          [
           0.75,
           "rgb(33,113,181)"
          ],
          [
           0.875,
           "rgb(8,81,156)"
          ],
          [
           1,
           "rgb(8,48,107)"
          ]
         ],
         "connectgaps": true,
         "contours": {
          "coloring": "heatmap"
         },
         "hoverinfo": "none",
         "line": {
          "smoothing": 1.3
         },
         "reversescale": true,
         "showscale": false,
         "type": "contour",
         "x": [
          41.599999999999994,
          64,
          256,
          384,
          512,
          534.4
         ],
         "xaxis": "x14",
         "y": [
          "False",
          "True"
         ],
         "yaxis": "y14",
         "z": [
          [
           null,
           0.0034027867950499058,
           0.010210204869508743,
           0.0024775939527899027,
           0.004099226091057062,
           null
          ],
          [
           null,
           0.012842606753110886,
           0.0024279847275465727,
           0.0010509244166314602,
           0.0032087189073746023,
           null
          ]
         ]
        },
        {
         "marker": {
          "color": "black",
          "line": {
           "color": "Gray",
           "width": 2
          }
         },
         "mode": "markers",
         "name": "Feasible Trial",
         "showlegend": false,
         "type": "scatter",
         "x": [
          512,
          512,
          256,
          64,
          256,
          384,
          384,
          64,
          384,
          256,
          384,
          384,
          384,
          384,
          384,
          384,
          384,
          512,
          64,
          384,
          384,
          384,
          384,
          384,
          384,
          384,
          256,
          512,
          64,
          512,
          384,
          384,
          384,
          384,
          384,
          256,
          512,
          384,
          64,
          384,
          256,
          384,
          384,
          384,
          384,
          384,
          384,
          384,
          64,
          384,
          384,
          384,
          384,
          384,
          384,
          384,
          256
         ],
         "xaxis": "x14",
         "y": [
          "False",
          "True",
          "False",
          "False",
          "False",
          "False",
          "True",
          "False",
          "False",
          "False",
          "True",
          "True",
          "True",
          "True",
          "True",
          "True",
          "True",
          "True",
          "True",
          "True",
          "True",
          "True",
          "True",
          "True",
          "True",
          "True",
          "True",
          "True",
          "True",
          "True",
          "True",
          "True",
          "True",
          "True",
          "True",
          "True",
          "True",
          "False",
          "True",
          "False",
          "True",
          "True",
          "True",
          "True",
          "False",
          "True",
          "True",
          "True",
          "False",
          "True",
          "True",
          "True",
          "True",
          "True",
          "True",
          "True",
          "True"
         ],
         "yaxis": "y14"
        },
        {
         "colorbar": {
          "title": {
           "text": "Objective Value"
          }
         },
         "colorscale": [
          [
           0,
           "rgb(247,251,255)"
          ],
          [
           0.125,
           "rgb(222,235,247)"
          ],
          [
           0.25,
           "rgb(198,219,239)"
          ],
          [
           0.375,
           "rgb(158,202,225)"
          ],
          [
           0.5,
           "rgb(107,174,214)"
          ],
          [
           0.625,
           "rgb(66,146,198)"
          ],
          [
           0.75,
           "rgb(33,113,181)"
          ],
          [
           0.875,
           "rgb(8,81,156)"
          ],
          [
           1,
           "rgb(8,48,107)"
          ]
         ],
         "connectgaps": true,
         "contours": {
          "coloring": "heatmap"
         },
         "hoverinfo": "none",
         "line": {
          "smoothing": 1.3
         },
         "reversescale": true,
         "showscale": false,
         "type": "contour",
         "x": [
          41.599999999999994,
          64,
          256,
          384,
          512,
          534.4
         ],
         "xaxis": "x24",
         "y": [
          41.599999999999994,
          64,
          256,
          384,
          512,
          534.4
         ],
         "yaxis": "y24",
         "z": [
          [
           null,
           null,
           null,
           null,
           null,
           null
          ],
          [
           null,
           0.012842606753110886,
           0.016106017998286655,
           0.007493170909583569,
           null,
           null
          ],
          [
           null,
           0.0034027867950499058,
           0.015235654436624967,
           0.00556196179240942,
           0.0032087189073746023,
           null
          ],
          [
           null,
           0.009889267385005951,
           0.003278343938291073,
           0.0031210482120513916,
           0.007173012942075729,
           null
          ],
          [
           null,
           null,
           0.0024279847275465727,
           0.0010509244166314602,
           0.012514274567365646,
           null
          ],
          [
           null,
           null,
           null,
           null,
           null,
           null
          ]
         ]
        },
        {
         "marker": {
          "color": "black",
          "line": {
           "color": "Gray",
           "width": 2
          }
         },
         "mode": "markers",
         "name": "Feasible Trial",
         "showlegend": false,
         "type": "scatter",
         "x": [
          512,
          512,
          256,
          64,
          256,
          384,
          384,
          64,
          384,
          256,
          384,
          384,
          384,
          384,
          384,
          384,
          384,
          512,
          64,
          384,
          384,
          384,
          384,
          384,
          384,
          384,
          256,
          512,
          64,
          512,
          384,
          384,
          384,
          384,
          384,
          256,
          512,
          384,
          64,
          384,
          256,
          384,
          384,
          384,
          384,
          384,
          384,
          384,
          64,
          384,
          384,
          384,
          384,
          384,
          384,
          384,
          256
         ],
         "xaxis": "x24",
         "y": [
          256,
          512,
          256,
          384,
          64,
          512,
          512,
          64,
          256,
          384,
          512,
          512,
          512,
          512,
          512,
          512,
          512,
          384,
          64,
          512,
          512,
          512,
          512,
          512,
          512,
          512,
          384,
          256,
          64,
          256,
          512,
          512,
          512,
          512,
          512,
          512,
          256,
          512,
          64,
          384,
          512,
          512,
          512,
          512,
          512,
          512,
          512,
          512,
          256,
          64,
          384,
          512,
          512,
          512,
          512,
          512,
          512
         ],
         "yaxis": "y24"
        },
        {
         "type": "scatter",
         "xaxis": "x34",
         "yaxis": "y34"
        },
        {
         "colorbar": {
          "title": {
           "text": "Objective Value"
          }
         },
         "colorscale": [
          [
           0,
           "rgb(247,251,255)"
          ],
          [
           0.125,
           "rgb(222,235,247)"
          ],
          [
           0.25,
           "rgb(198,219,239)"
          ],
          [
           0.375,
           "rgb(158,202,225)"
          ],
          [
           0.5,
           "rgb(107,174,214)"
          ],
          [
           0.625,
           "rgb(66,146,198)"
          ],
          [
           0.75,
           "rgb(33,113,181)"
          ],
          [
           0.875,
           "rgb(8,81,156)"
          ],
          [
           1,
           "rgb(8,48,107)"
          ]
         ],
         "connectgaps": true,
         "contours": {
          "coloring": "heatmap"
         },
         "hoverinfo": "none",
         "line": {
          "smoothing": 1.3
         },
         "reversescale": true,
         "showscale": false,
         "type": "contour",
         "x": [
          41.599999999999994,
          64,
          256,
          384,
          512,
          534.4
         ],
         "xaxis": "x44",
         "y": [
          1.7,
          2,
          4,
          6,
          8,
          8.3
         ],
         "yaxis": "y44",
         "z": [
          [
           null,
           null,
           null,
           null,
           null,
           null
          ],
          [
           null,
           null,
           0.009051533415913582,
           0.0038915337063372135,
           0.004099226091057062,
           null
          ],
          [
           null,
           0.0034027867950499058,
           null,
           0.012798120932919639,
           null,
           null
          ],
          [
           null,
           0.012842606753110886,
           0.0024279847275465727,
           0.0010509244166314602,
           0.005068128928542137,
           null
          ],
          [
           null,
           null,
           0.010210204869508743,
           0.003676444865190066,
           0.0032087189073746023,
           null
          ],
          [
           null,
           null,
           null,
           null,
           null,
           null
          ]
         ]
        },
        {
         "marker": {
          "color": "black",
          "line": {
           "color": "Gray",
           "width": 2
          }
         },
         "mode": "markers",
         "name": "Feasible Trial",
         "showlegend": false,
         "type": "scatter",
         "x": [
          512,
          512,
          256,
          64,
          256,
          384,
          384,
          64,
          384,
          256,
          384,
          384,
          384,
          384,
          384,
          384,
          384,
          512,
          64,
          384,
          384,
          384,
          384,
          384,
          384,
          384,
          256,
          512,
          64,
          512,
          384,
          384,
          384,
          384,
          384,
          256,
          512,
          384,
          64,
          384,
          256,
          384,
          384,
          384,
          384,
          384,
          384,
          384,
          64,
          384,
          384,
          384,
          384,
          384,
          384,
          384,
          256
         ],
         "xaxis": "x44",
         "y": [
          2,
          2,
          6,
          4,
          2,
          6,
          4,
          6,
          2,
          8,
          6,
          6,
          6,
          6,
          8,
          6,
          6,
          6,
          4,
          8,
          6,
          6,
          6,
          6,
          6,
          6,
          6,
          8,
          4,
          6,
          2,
          6,
          6,
          6,
          6,
          2,
          6,
          4,
          6,
          2,
          6,
          6,
          6,
          6,
          6,
          6,
          8,
          6,
          4,
          6,
          6,
          6,
          6,
          6,
          6,
          6,
          2
         ],
         "yaxis": "y44"
        },
        {
         "colorbar": {
          "title": {
           "text": "Objective Value"
          }
         },
         "colorscale": [
          [
           0,
           "rgb(247,251,255)"
          ],
          [
           0.125,
           "rgb(222,235,247)"
          ],
          [
           0.25,
           "rgb(198,219,239)"
          ],
          [
           0.375,
           "rgb(158,202,225)"
          ],
          [
           0.5,
           "rgb(107,174,214)"
          ],
          [
           0.625,
           "rgb(66,146,198)"
          ],
          [
           0.75,
           "rgb(33,113,181)"
          ],
          [
           0.875,
           "rgb(8,81,156)"
          ],
          [
           1,
           "rgb(8,48,107)"
          ]
         ],
         "connectgaps": true,
         "contours": {
          "coloring": "heatmap"
         },
         "hoverinfo": "none",
         "line": {
          "smoothing": 1.3
         },
         "reversescale": true,
         "showscale": false,
         "type": "contour",
         "x": [
          41.599999999999994,
          64,
          256,
          384,
          512,
          534.4
         ],
         "xaxis": "x54",
         "y": [
          "False",
          "True"
         ],
         "yaxis": "y54",
         "z": [
          [
           null,
           0.0034027867950499058,
           0.0024279847275465727,
           0.0010509244166314602,
           0.0032087189073746023,
           null
          ],
          [
           null,
           0.009889267385005951,
           0.003278343938291073,
           0.007493170909583569,
           0.004099226091057062,
           null
          ]
         ]
        },
        {
         "marker": {
          "color": "black",
          "line": {
           "color": "Gray",
           "width": 2
          }
         },
         "mode": "markers",
         "name": "Feasible Trial",
         "showlegend": false,
         "type": "scatter",
         "x": [
          512,
          512,
          256,
          64,
          256,
          384,
          384,
          64,
          384,
          256,
          384,
          384,
          384,
          384,
          384,
          384,
          384,
          512,
          64,
          384,
          384,
          384,
          384,
          384,
          384,
          384,
          256,
          512,
          64,
          512,
          384,
          384,
          384,
          384,
          384,
          256,
          512,
          384,
          64,
          384,
          256,
          384,
          384,
          384,
          384,
          384,
          384,
          384,
          64,
          384,
          384,
          384,
          384,
          384,
          384,
          384,
          256
         ],
         "xaxis": "x54",
         "y": [
          "True",
          "False",
          "True",
          "True",
          "True",
          "False",
          "False",
          "False",
          "False",
          "False",
          "False",
          "False",
          "False",
          "False",
          "False",
          "False",
          "False",
          "False",
          "True",
          "False",
          "False",
          "False",
          "False",
          "False",
          "False",
          "False",
          "True",
          "False",
          "False",
          "True",
          "False",
          "False",
          "False",
          "False",
          "False",
          "True",
          "False",
          "True",
          "False",
          "False",
          "False",
          "False",
          "False",
          "False",
          "False",
          "False",
          "False",
          "False",
          "False",
          "True",
          "False",
          "False",
          "False",
          "False",
          "False",
          "False",
          "False"
         ],
         "yaxis": "y54"
        },
        {
         "colorbar": {
          "title": {
           "text": "Objective Value"
          }
         },
         "colorscale": [
          [
           0,
           "rgb(247,251,255)"
          ],
          [
           0.125,
           "rgb(222,235,247)"
          ],
          [
           0.25,
           "rgb(198,219,239)"
          ],
          [
           0.375,
           "rgb(158,202,225)"
          ],
          [
           0.5,
           "rgb(107,174,214)"
          ],
          [
           0.625,
           "rgb(66,146,198)"
          ],
          [
           0.75,
           "rgb(33,113,181)"
          ],
          [
           0.875,
           "rgb(8,81,156)"
          ],
          [
           1,
           "rgb(8,48,107)"
          ]
         ],
         "connectgaps": true,
         "contours": {
          "coloring": "heatmap"
         },
         "hoverinfo": "none",
         "line": {
          "smoothing": 1.3
         },
         "reversescale": true,
         "showscale": false,
         "type": "contour",
         "x": [
          41.599999999999994,
          64,
          256,
          384,
          512,
          534.4
         ],
         "xaxis": "x64",
         "y": [
          10.399999999999999,
          16,
          32,
          64,
          128,
          133.6
         ],
         "yaxis": "y64",
         "z": [
          [
           null,
           null,
           null,
           null,
           null,
           null
          ],
          [
           null,
           0.012842606753110886,
           0.016106017998286655,
           0.007493170909583569,
           0.0032087189073746023,
           null
          ],
          [
           null,
           0.0034027867950499058,
           0.0024279847275465727,
           0.0010509244166314602,
           0.005089037652526583,
           null
          ],
          [
           null,
           0.017933184280991554,
           null,
           0.003676444865190066,
           null,
           null
          ],
          [
           null,
           null,
           0.010210204869508743,
           0.0036489125341176987,
           0.012514274567365646,
           null
          ],
          [
           null,
           null,
           null,
           null,
           null,
           null
          ]
         ]
        },
        {
         "marker": {
          "color": "black",
          "line": {
           "color": "Gray",
           "width": 2
          }
         },
         "mode": "markers",
         "name": "Feasible Trial",
         "showlegend": false,
         "type": "scatter",
         "x": [
          512,
          512,
          256,
          64,
          256,
          384,
          384,
          64,
          384,
          256,
          384,
          384,
          384,
          384,
          384,
          384,
          384,
          512,
          64,
          384,
          384,
          384,
          384,
          384,
          384,
          384,
          256,
          512,
          64,
          512,
          384,
          384,
          384,
          384,
          384,
          256,
          512,
          384,
          64,
          384,
          256,
          384,
          384,
          384,
          384,
          384,
          384,
          384,
          64,
          384,
          384,
          384,
          384,
          384,
          384,
          384,
          256
         ],
         "xaxis": "x64",
         "y": [
          16,
          128,
          128,
          32,
          16,
          32,
          128,
          16,
          64,
          128,
          32,
          32,
          32,
          32,
          32,
          64,
          32,
          32,
          32,
          64,
          32,
          32,
          32,
          32,
          32,
          32,
          32,
          16,
          64,
          16,
          32,
          32,
          32,
          32,
          128,
          32,
          32,
          128,
          16,
          32,
          32,
          32,
          32,
          32,
          32,
          128,
          64,
          32,
          32,
          16,
          32,
          32,
          32,
          32,
          32,
          32,
          32
         ],
         "yaxis": "y64"
        },
        {
         "colorbar": {
          "title": {
           "text": "Objective Value"
          }
         },
         "colorscale": [
          [
           0,
           "rgb(247,251,255)"
          ],
          [
           0.125,
           "rgb(222,235,247)"
          ],
          [
           0.25,
           "rgb(198,219,239)"
          ],
          [
           0.375,
           "rgb(158,202,225)"
          ],
          [
           0.5,
           "rgb(107,174,214)"
          ],
          [
           0.625,
           "rgb(66,146,198)"
          ],
          [
           0.75,
           "rgb(33,113,181)"
          ],
          [
           0.875,
           "rgb(8,81,156)"
          ],
          [
           1,
           "rgb(8,48,107)"
          ]
         ],
         "connectgaps": true,
         "contours": {
          "coloring": "heatmap"
         },
         "hoverinfo": "none",
         "line": {
          "smoothing": 1.3
         },
         "reversescale": true,
         "showscale": false,
         "type": "contour",
         "x": [
          41.599999999999994,
          64,
          256,
          384,
          512,
          534.4
         ],
         "xaxis": "x74",
         "y": [
          5.199999999999999,
          8,
          16,
          32,
          64,
          66.8
         ],
         "yaxis": "y74",
         "z": [
          [
           null,
           null,
           null,
           null,
           null,
           null
          ],
          [
           null,
           null,
           0.015235654436624967,
           0.0031210482120513916,
           0.0032087189073746023,
           null
          ],
          [
           null,
           0.009889267385005951,
           0.016106017998286655,
           0.009871360446725572,
           0.005089037652526583,
           null
          ],
          [
           null,
           0.017933184280991554,
           0.010210204869508743,
           0.004693320952355862,
           0.004099226091057062,
           null
          ],
          [
           null,
           0.0034027867950499058,
           0.0024279847275465727,
           0.0010509244166314602,
           0.007173012942075729,
           null
          ],
          [
           null,
           null,
           null,
           null,
           null,
           null
          ]
         ]
        },
        {
         "marker": {
          "color": "black",
          "line": {
           "color": "Gray",
           "width": 2
          }
         },
         "mode": "markers",
         "name": "Feasible Trial",
         "showlegend": false,
         "type": "scatter",
         "x": [
          512,
          512,
          256,
          64,
          256,
          384,
          384,
          64,
          384,
          256,
          384,
          384,
          384,
          384,
          384,
          384,
          384,
          512,
          64,
          384,
          384,
          384,
          384,
          384,
          384,
          384,
          256,
          512,
          64,
          512,
          384,
          384,
          384,
          384,
          384,
          256,
          512,
          384,
          64,
          384,
          256,
          384,
          384,
          384,
          384,
          384,
          384,
          384,
          64,
          384,
          384,
          384,
          384,
          384,
          384,
          384,
          256
         ],
         "xaxis": "x74",
         "y": [
          32,
          64,
          8,
          16,
          16,
          64,
          16,
          16,
          32,
          32,
          64,
          64,
          64,
          64,
          64,
          8,
          64,
          64,
          64,
          8,
          64,
          64,
          64,
          64,
          64,
          64,
          64,
          8,
          32,
          32,
          64,
          64,
          64,
          64,
          64,
          64,
          16,
          8,
          64,
          16,
          64,
          64,
          64,
          64,
          64,
          32,
          16,
          64,
          64,
          64,
          8,
          64,
          64,
          64,
          64,
          64,
          64
         ],
         "yaxis": "y74"
        },
        {
         "colorbar": {
          "title": {
           "text": "Objective Value"
          }
         },
         "colorscale": [
          [
           0,
           "rgb(247,251,255)"
          ],
          [
           0.125,
           "rgb(222,235,247)"
          ],
          [
           0.25,
           "rgb(198,219,239)"
          ],
          [
           0.375,
           "rgb(158,202,225)"
          ],
          [
           0.5,
           "rgb(107,174,214)"
          ],
          [
           0.625,
           "rgb(66,146,198)"
          ],
          [
           0.75,
           "rgb(33,113,181)"
          ],
          [
           0.875,
           "rgb(8,81,156)"
          ],
          [
           1,
           "rgb(8,48,107)"
          ]
         ],
         "connectgaps": true,
         "contours": {
          "coloring": "heatmap"
         },
         "hoverinfo": "none",
         "line": {
          "smoothing": 1.3
         },
         "reversescale": true,
         "showscale": false,
         "type": "contour",
         "x": [
          41.599999999999994,
          64,
          256,
          384,
          512,
          534.4
         ],
         "xaxis": "x84",
         "y": [
          -0.0003327779727902093,
          0.00013293451068639153,
          0.00016482101598833644,
          0.0002859618983201747,
          0.0005030922057200975,
          0.0005082222560318676,
          0.0005109668968683066,
          0.000662259354729205,
          0.000804803158410011,
          0.0008829668498645474,
          0.001035287721361168,
          0.0010762834240493012,
          0.0013010270616585372,
          0.0013123106047931883,
          0.0013848997785396763,
          0.0014712220401046773,
          0.0015236648785628855,
          0.0015528292768899295,
          0.0015783681924397643,
          0.0017245660022955657,
          0.001805691009839501,
          0.0018665340990677206,
          0.0018891900420452655,
          0.0019967096733155307,
          0.002022807309729832,
          0.002221702135674957,
          0.0022966234341041886,
          0.0024793055464558773,
          0.0024844733874638822,
          0.002569749107475558,
          0.002570416914840954,
          0.0027720657351321654,
          0.002861152110081496,
          0.0031063248738114947,
          0.00321367916541899,
          0.003272692583939085,
          0.0033627177469709303,
          0.0034983693930714047,
          0.003644256277757865,
          0.0037134388254553147,
          0.0037319454075769917,
          0.004059959359984235,
          0.004239922045757851,
          0.004263219032077157,
          0.004643003925192097,
          0.004679597012724851,
          0.004793542036453257,
          0.0048612258246951735,
          0.005457312666941946,
          0.005689736859226749,
          0.006357299898537107,
          0.006644651164503487,
          0.006993481555530524,
          0.00800933505882863,
          0.008088989972958073,
          0.00847077666596943,
          0.009326128265959114,
          0.009447184180218409,
          0.00991289666369501
         ],
         "yaxis": "y84",
         "z": [
          [
           null,
           null,
           null,
           null,
           null,
           null
          ],
          [
           null,
           null,
           null,
           null,
           0.007173012942075729,
           null
          ],
          [
           null,
           0.018036603927612305,
           null,
           null,
           null,
           null
          ],
          [
           null,
           null,
           null,
           0.0023483606055378914,
           null,
           null
          ],
          [
           null,
           null,
           null,
           0.001077517052181065,
           null,
           null
          ],
          [
           null,
           null,
           0.011020248755812645,
           null,
           null,
           null
          ],
          [
           null,
           null,
           null,
           0.0017465348355472088,
           null,
           null
          ],
          [
           null,
           null,
           null,
           0.011990615299769811,
           null,
           null
          ],
          [
           null,
           null,
           0.009051533415913582,
           null,
           null,
           null
          ],
          [
           null,
           null,
           null,
           0.0038915337063372135,
           null,
           null
          ],
          [
           null,
           null,
           null,
           0.0026472685858607292,
           null,
           null
          ],
          [
           null,
           null,
           null,
           0.0028466973453760147,
           null,
           null
          ],
          [
           null,
           null,
           null,
           0.003676444865190066,
           null,
           null
          ],
          [
           null,
           null,
           null,
           0.0013212664052844048,
           null,
           null
          ],
          [
           null,
           null,
           null,
           0.002323493827134371,
           null,
           null
          ],
          [
           null,
           null,
           null,
           0.0011659844312816858,
           null,
           null
          ],
          [
           null,
           null,
           null,
           0.0010562939569354057,
           null,
           null
          ],
          [
           null,
           null,
           null,
           0.0019303050357848406,
           null,
           null
          ],
          [
           null,
           null,
           null,
           0.001234408002346754,
           null,
           null
          ],
          [
           null,
           null,
           null,
           0.0010509244166314602,
           null,
           null
          ],
          [
           null,
           null,
           null,
           null,
           0.005089037652526583,
           null
          ],
          [
           null,
           null,
           null,
           0.002799304900690913,
           null,
           null
          ],
          [
           null,
           0.017933184280991554,
           null,
           null,
           null,
           null
          ],
          [
           null,
           null,
           null,
           0.0014195044059306383,
           null,
           null
          ],
          [
           null,
           null,
           0.015235654436624967,
           null,
           null,
           null
          ],
          [
           null,
           null,
           null,
           0.013237009827907268,
           null,
           null
          ],
          [
           null,
           null,
           null,
           0.007493170909583569,
           null,
           null
          ],
          [
           null,
           null,
           null,
           0.004169144667685032,
           null,
           null
          ],
          [
           null,
           0.009889267385005951,
           null,
           null,
           null,
           null
          ],
          [
           null,
           null,
           null,
           0.005443759262561798,
           null,
           null
          ],
          [
           null,
           null,
           null,
           0.0024775939527899027,
           null,
           null
          ],
          [
           null,
           0.0034027867950499058,
           null,
           null,
           null,
           null
          ],
          [
           null,
           null,
           null,
           0.0036489125341176987,
           null,
           null
          ],
          [
           null,
           null,
           null,
           0.009871360446725572,
           null,
           null
          ],
          [
           null,
           null,
           null,
           0.0016798200085759163,
           null,
           null
          ],
          [
           null,
           null,
           null,
           0.003677790518850088,
           null,
           null
          ],
          [
           null,
           null,
           null,
           0.0010533332824707031,
           null,
           null
          ],
          [
           null,
           null,
           null,
           0.0017711485270410776,
           null,
           null
          ],
          [
           null,
           null,
           null,
           0.0011525334557518363,
           null,
           null
          ],
          [
           null,
           null,
           null,
           0.003910826948972849,
           null,
           null
          ],
          [
           null,
           null,
           0.003278343938291073,
           null,
           null,
           null
          ],
          [
           null,
           null,
           null,
           null,
           0.005068128928542137,
           null
          ],
          [
           null,
           null,
           null,
           0.004693320952355862,
           null,
           null
          ],
          [
           null,
           null,
           0.0024279847275465727,
           null,
           null,
           null
          ],
          [
           null,
           null,
           null,
           0.004909416660666466,
           null,
           null
          ],
          [
           null,
           null,
           null,
           0.0031210482120513916,
           null,
           null
          ],
          [
           null,
           null,
           null,
           0.002582056913524866,
           null,
           null
          ],
          [
           null,
           null,
           null,
           null,
           0.004099226091057062,
           null
          ],
          [
           null,
           0.012842606753110886,
           null,
           null,
           null,
           null
          ],
          [
           null,
           null,
           null,
           null,
           0.0032087189073746023,
           null
          ],
          [
           null,
           null,
           0.010210204869508743,
           null,
           null,
           null
          ],
          [
           null,
           null,
           null,
           0.004480917938053608,
           null,
           null
          ],
          [
           null,
           null,
           null,
           0.003125535324215889,
           null,
           null
          ],
          [
           null,
           null,
           null,
           0.00556196179240942,
           null,
           null
          ],
          [
           null,
           null,
           0.016106017998286655,
           null,
           null,
           null
          ],
          [
           null,
           0.01462360577923911,
           null,
           null,
           null,
           null
          ],
          [
           null,
           null,
           null,
           0.012798120932919639,
           null,
           null
          ],
          [
           null,
           null,
           null,
           null,
           0.012514274567365646,
           null
          ],
          [
           null,
           null,
           null,
           null,
           null,
           null
          ]
         ]
        },
        {
         "marker": {
          "color": "black",
          "line": {
           "color": "Gray",
           "width": 2
          }
         },
         "mode": "markers",
         "name": "Feasible Trial",
         "showlegend": false,
         "type": "scatter",
         "x": [
          512,
          512,
          256,
          64,
          256,
          384,
          384,
          64,
          384,
          256,
          384,
          384,
          384,
          384,
          384,
          384,
          384,
          512,
          64,
          384,
          384,
          384,
          384,
          384,
          384,
          384,
          256,
          512,
          64,
          512,
          384,
          384,
          384,
          384,
          384,
          256,
          512,
          384,
          64,
          384,
          256,
          384,
          384,
          384,
          384,
          384,
          384,
          384,
          64,
          384,
          384,
          384,
          384,
          384,
          384,
          384,
          256
         ],
         "xaxis": "x84",
         "y": [
          0.0048612258246951735,
          0.009447184180218409,
          0.002022807309729832,
          0.0024844733874638822,
          0.008088989972958073,
          0.006993481555530524,
          0.009326128265959114,
          0.00847077666596943,
          0.00800933505882863,
          0.006357299898537107,
          0.004793542036453257,
          0.004643003925192097,
          0.006644651164503487,
          0.003644256277757865,
          0.003272692583939085,
          0.0037134388254553147,
          0.0002859618983201747,
          0.00013293451068639153,
          0.00016482101598833644,
          0.0013010270616585372,
          0.0015783681924397643,
          0.0013848997785396763,
          0.0014712220401046773,
          0.00321367916541899,
          0.0013123106047931883,
          0.0024793055464558773,
          0.0037319454075769917,
          0.005689736859226749,
          0.0018891900420452655,
          0.004059959359984235,
          0.0008829668498645474,
          0.001035287721361168,
          0.002569749107475558,
          0.0018665340990677206,
          0.002861152110081496,
          0.000804803158410011,
          0.001805691009839501,
          0.002221702135674957,
          0.005457312666941946,
          0.0031063248738114947,
          0.004263219032077157,
          0.0033627177469709303,
          0.0015236648785628855,
          0.0034983693930714047,
          0.002570416914840954,
          0.004239922045757851,
          0.000662259354729205,
          0.0017245660022955657,
          0.0027720657351321654,
          0.0022966234341041886,
          0.004679597012724851,
          0.0015528292768899295,
          0.0019967096733155307,
          0.0005030922057200975,
          0.0005109668968683066,
          0.0010762834240493012,
          0.0005082222560318676
         ],
         "yaxis": "y84"
        },
        {
         "colorbar": {
          "title": {
           "text": "Objective Value"
          }
         },
         "colorscale": [
          [
           0,
           "rgb(247,251,255)"
          ],
          [
           0.125,
           "rgb(222,235,247)"
          ],
          [
           0.25,
           "rgb(198,219,239)"
          ],
          [
           0.375,
           "rgb(158,202,225)"
          ],
          [
           0.5,
           "rgb(107,174,214)"
          ],
          [
           0.625,
           "rgb(66,146,198)"
          ],
          [
           0.75,
           "rgb(33,113,181)"
          ],
          [
           0.875,
           "rgb(8,81,156)"
          ],
          [
           1,
           "rgb(8,48,107)"
          ]
         ],
         "connectgaps": true,
         "contours": {
          "coloring": "heatmap"
         },
         "hoverinfo": "none",
         "line": {
          "smoothing": 1.3
         },
         "reversescale": true,
         "showscale": false,
         "type": "contour",
         "x": [
          41.599999999999994,
          64,
          256,
          384,
          512,
          534.4
         ],
         "xaxis": "x94",
         "y": [
          "Adam",
          "AdamW",
          "SGD"
         ],
         "yaxis": "y94",
         "z": [
          [
           null,
           0.0034027867950499058,
           0.003278343938291073,
           0.0010509244166314602,
           0.0032087189073746023,
           null
          ],
          [
           null,
           0.009889267385005951,
           0.0024279847275465727,
           0.003125535324215889,
           0.004099226091057062,
           null
          ],
          [
           null,
           null,
           0.009051533415913582,
           0.004169144667685032,
           0.005068128928542137,
           null
          ]
         ]
        },
        {
         "marker": {
          "color": "black",
          "line": {
           "color": "Gray",
           "width": 2
          }
         },
         "mode": "markers",
         "name": "Feasible Trial",
         "showlegend": false,
         "type": "scatter",
         "x": [
          512,
          512,
          256,
          64,
          256,
          384,
          384,
          64,
          384,
          256,
          384,
          384,
          384,
          384,
          384,
          384,
          384,
          512,
          64,
          384,
          384,
          384,
          384,
          384,
          384,
          384,
          256,
          512,
          64,
          512,
          384,
          384,
          384,
          384,
          384,
          256,
          512,
          384,
          64,
          384,
          256,
          384,
          384,
          384,
          384,
          384,
          384,
          384,
          64,
          384,
          384,
          384,
          384,
          384,
          384,
          384,
          256
         ],
         "xaxis": "x94",
         "y": [
          "AdamW",
          "SGD",
          "AdamW",
          "AdamW",
          "SGD",
          "AdamW",
          "AdamW",
          "AdamW",
          "Adam",
          "SGD",
          "Adam",
          "Adam",
          "Adam",
          "Adam",
          "Adam",
          "Adam",
          "Adam",
          "Adam",
          "Adam",
          "Adam",
          "Adam",
          "Adam",
          "Adam",
          "Adam",
          "Adam",
          "SGD",
          "Adam",
          "Adam",
          "Adam",
          "SGD",
          "Adam",
          "Adam",
          "Adam",
          "Adam",
          "Adam",
          "SGD",
          "AdamW",
          "Adam",
          "AdamW",
          "Adam",
          "AdamW",
          "Adam",
          "Adam",
          "Adam",
          "Adam",
          "SGD",
          "Adam",
          "Adam",
          "Adam",
          "AdamW",
          "Adam",
          "Adam",
          "Adam",
          "Adam",
          "Adam",
          "Adam",
          "Adam"
         ],
         "yaxis": "y94"
        },
        {
         "colorbar": {
          "title": {
           "text": "Objective Value"
          }
         },
         "colorscale": [
          [
           0,
           "rgb(247,251,255)"
          ],
          [
           0.125,
           "rgb(222,235,247)"
          ],
          [
           0.25,
           "rgb(198,219,239)"
          ],
          [
           0.375,
           "rgb(158,202,225)"
          ],
          [
           0.5,
           "rgb(107,174,214)"
          ],
          [
           0.625,
           "rgb(66,146,198)"
          ],
          [
           0.75,
           "rgb(33,113,181)"
          ],
          [
           0.875,
           "rgb(8,81,156)"
          ],
          [
           1,
           "rgb(8,48,107)"
          ]
         ],
         "connectgaps": true,
         "contours": {
          "coloring": "heatmap"
         },
         "hoverinfo": "none",
         "line": {
          "smoothing": 1.3
         },
         "reversescale": true,
         "showscale": false,
         "type": "contour",
         "x": [
          1.7,
          2,
          4,
          6,
          8,
          8.3
         ],
         "xaxis": "x5",
         "y": [
          "relu",
          "swish"
         ],
         "yaxis": "y5",
         "z": [
          [
           null,
           0.0038915337063372135,
           0.0034027867950499058,
           0.0010509244166314602,
           0.0032087189073746023,
           null
          ],
          [
           null,
           0.009051533415913582,
           0.009889267385005951,
           0.01462360577923911,
           0.010210204869508743,
           null
          ]
         ]
        },
        {
         "marker": {
          "color": "black",
          "line": {
           "color": "Gray",
           "width": 2
          }
         },
         "mode": "markers",
         "name": "Feasible Trial",
         "showlegend": false,
         "type": "scatter",
         "x": [
          2,
          2,
          6,
          4,
          2,
          6,
          4,
          6,
          2,
          8,
          6,
          6,
          6,
          6,
          8,
          6,
          6,
          6,
          4,
          8,
          6,
          6,
          6,
          6,
          6,
          6,
          6,
          8,
          4,
          6,
          2,
          6,
          6,
          6,
          6,
          2,
          6,
          4,
          6,
          2,
          6,
          6,
          6,
          6,
          6,
          6,
          8,
          6,
          4,
          6,
          6,
          6,
          6,
          6,
          6,
          6,
          2
         ],
         "xaxis": "x5",
         "y": [
          "relu",
          "swish",
          "swish",
          "swish",
          "swish",
          "relu",
          "swish",
          "swish",
          "relu",
          "swish",
          "relu",
          "relu",
          "relu",
          "relu",
          "relu",
          "relu",
          "relu",
          "relu",
          "relu",
          "relu",
          "relu",
          "relu",
          "relu",
          "relu",
          "relu",
          "relu",
          "relu",
          "relu",
          "relu",
          "relu",
          "relu",
          "relu",
          "relu",
          "relu",
          "relu",
          "swish",
          "relu",
          "swish",
          "relu",
          "swish",
          "relu",
          "relu",
          "relu",
          "relu",
          "relu",
          "relu",
          "swish",
          "relu",
          "relu",
          "relu",
          "relu",
          "relu",
          "relu",
          "relu",
          "relu",
          "relu",
          "swish"
         ],
         "yaxis": "y5"
        },
        {
         "colorbar": {
          "title": {
           "text": "Objective Value"
          }
         },
         "colorscale": [
          [
           0,
           "rgb(247,251,255)"
          ],
          [
           0.125,
           "rgb(222,235,247)"
          ],
          [
           0.25,
           "rgb(198,219,239)"
          ],
          [
           0.375,
           "rgb(158,202,225)"
          ],
          [
           0.5,
           "rgb(107,174,214)"
          ],
          [
           0.625,
           "rgb(66,146,198)"
          ],
          [
           0.75,
           "rgb(33,113,181)"
          ],
          [
           0.875,
           "rgb(8,81,156)"
          ],
          [
           1,
           "rgb(8,48,107)"
          ]
         ],
         "connectgaps": true,
         "contours": {
          "coloring": "heatmap"
         },
         "hoverinfo": "none",
         "line": {
          "smoothing": 1.3
         },
         "reversescale": true,
         "showscale": false,
         "type": "contour",
         "x": [
          1.7,
          2,
          4,
          6,
          8,
          8.3
         ],
         "xaxis": "x15",
         "y": [
          "False",
          "True"
         ],
         "yaxis": "y15",
         "z": [
          [
           null,
           0.004099226091057062,
           0.0034027867950499058,
           0.0024775939527899027,
           0.010210204869508743,
           null
          ],
          [
           null,
           0.0038915337063372135,
           0.012798120932919639,
           0.0010509244166314602,
           0.0032087189073746023,
           null
          ]
         ]
        },
        {
         "marker": {
          "color": "black",
          "line": {
           "color": "Gray",
           "width": 2
          }
         },
         "mode": "markers",
         "name": "Feasible Trial",
         "showlegend": false,
         "type": "scatter",
         "x": [
          2,
          2,
          6,
          4,
          2,
          6,
          4,
          6,
          2,
          8,
          6,
          6,
          6,
          6,
          8,
          6,
          6,
          6,
          4,
          8,
          6,
          6,
          6,
          6,
          6,
          6,
          6,
          8,
          4,
          6,
          2,
          6,
          6,
          6,
          6,
          2,
          6,
          4,
          6,
          2,
          6,
          6,
          6,
          6,
          6,
          6,
          8,
          6,
          4,
          6,
          6,
          6,
          6,
          6,
          6,
          6,
          2
         ],
         "xaxis": "x15",
         "y": [
          "False",
          "True",
          "False",
          "False",
          "False",
          "False",
          "True",
          "False",
          "False",
          "False",
          "True",
          "True",
          "True",
          "True",
          "True",
          "True",
          "True",
          "True",
          "True",
          "True",
          "True",
          "True",
          "True",
          "True",
          "True",
          "True",
          "True",
          "True",
          "True",
          "True",
          "True",
          "True",
          "True",
          "True",
          "True",
          "True",
          "True",
          "False",
          "True",
          "False",
          "True",
          "True",
          "True",
          "True",
          "False",
          "True",
          "True",
          "True",
          "False",
          "True",
          "True",
          "True",
          "True",
          "True",
          "True",
          "True",
          "True"
         ],
         "yaxis": "y15"
        },
        {
         "colorbar": {
          "title": {
           "text": "Objective Value"
          }
         },
         "colorscale": [
          [
           0,
           "rgb(247,251,255)"
          ],
          [
           0.125,
           "rgb(222,235,247)"
          ],
          [
           0.25,
           "rgb(198,219,239)"
          ],
          [
           0.375,
           "rgb(158,202,225)"
          ],
          [
           0.5,
           "rgb(107,174,214)"
          ],
          [
           0.625,
           "rgb(66,146,198)"
          ],
          [
           0.75,
           "rgb(33,113,181)"
          ],
          [
           0.875,
           "rgb(8,81,156)"
          ],
          [
           1,
           "rgb(8,48,107)"
          ]
         ],
         "connectgaps": true,
         "contours": {
          "coloring": "heatmap"
         },
         "hoverinfo": "none",
         "line": {
          "smoothing": 1.3
         },
         "reversescale": true,
         "showscale": false,
         "type": "contour",
         "x": [
          1.7,
          2,
          4,
          6,
          8,
          8.3
         ],
         "xaxis": "x25",
         "y": [
          41.599999999999994,
          64,
          256,
          384,
          512,
          534.4
         ],
         "yaxis": "y25",
         "z": [
          [
           null,
           null,
           null,
           null,
           null,
           null
          ],
          [
           null,
           0.016106017998286655,
           0.017933184280991554,
           0.007493170909583569,
           null,
           null
          ],
          [
           null,
           0.004099226091057062,
           0.0034027867950499058,
           0.005068128928542137,
           0.0032087189073746023,
           null
          ],
          [
           null,
           0.009871360446725572,
           0.009889267385005951,
           0.0031210482120513916,
           0.010210204869508743,
           null
          ],
          [
           null,
           0.0038915337063372135,
           0.012798120932919639,
           0.0010509244166314602,
           0.003676444865190066,
           null
          ],
          [
           null,
           null,
           null,
           null,
           null,
           null
          ]
         ]
        },
        {
         "marker": {
          "color": "black",
          "line": {
           "color": "Gray",
           "width": 2
          }
         },
         "mode": "markers",
         "name": "Feasible Trial",
         "showlegend": false,
         "type": "scatter",
         "x": [
          2,
          2,
          6,
          4,
          2,
          6,
          4,
          6,
          2,
          8,
          6,
          6,
          6,
          6,
          8,
          6,
          6,
          6,
          4,
          8,
          6,
          6,
          6,
          6,
          6,
          6,
          6,
          8,
          4,
          6,
          2,
          6,
          6,
          6,
          6,
          2,
          6,
          4,
          6,
          2,
          6,
          6,
          6,
          6,
          6,
          6,
          8,
          6,
          4,
          6,
          6,
          6,
          6,
          6,
          6,
          6,
          2
         ],
         "xaxis": "x25",
         "y": [
          256,
          512,
          256,
          384,
          64,
          512,
          512,
          64,
          256,
          384,
          512,
          512,
          512,
          512,
          512,
          512,
          512,
          384,
          64,
          512,
          512,
          512,
          512,
          512,
          512,
          512,
          384,
          256,
          64,
          256,
          512,
          512,
          512,
          512,
          512,
          512,
          256,
          512,
          64,
          384,
          512,
          512,
          512,
          512,
          512,
          512,
          512,
          512,
          256,
          64,
          384,
          512,
          512,
          512,
          512,
          512,
          512
         ],
         "yaxis": "y25"
        },
        {
         "colorbar": {
          "title": {
           "text": "Objective Value"
          }
         },
         "colorscale": [
          [
           0,
           "rgb(247,251,255)"
          ],
          [
           0.125,
           "rgb(222,235,247)"
          ],
          [
           0.25,
           "rgb(198,219,239)"
          ],
          [
           0.375,
           "rgb(158,202,225)"
          ],
          [
           0.5,
           "rgb(107,174,214)"
          ],
          [
           0.625,
           "rgb(66,146,198)"
          ],
          [
           0.75,
           "rgb(33,113,181)"
          ],
          [
           0.875,
           "rgb(8,81,156)"
          ],
          [
           1,
           "rgb(8,48,107)"
          ]
         ],
         "connectgaps": true,
         "contours": {
          "coloring": "heatmap"
         },
         "hoverinfo": "none",
         "line": {
          "smoothing": 1.3
         },
         "reversescale": true,
         "showscale": false,
         "type": "contour",
         "x": [
          1.7,
          2,
          4,
          6,
          8,
          8.3
         ],
         "xaxis": "x35",
         "y": [
          41.599999999999994,
          64,
          256,
          384,
          512,
          534.4
         ],
         "yaxis": "y35",
         "z": [
          [
           null,
           null,
           null,
           null,
           null,
           null
          ],
          [
           null,
           null,
           0.0034027867950499058,
           0.012842606753110886,
           null,
           null
          ],
          [
           null,
           0.009051533415913582,
           null,
           0.0024279847275465727,
           0.010210204869508743,
           null
          ],
          [
           null,
           0.0038915337063372135,
           0.012798120932919639,
           0.0010509244166314602,
           0.003676444865190066,
           null
          ],
          [
           null,
           0.004099226091057062,
           null,
           0.005068128928542137,
           0.0032087189073746023,
           null
          ],
          [
           null,
           null,
           null,
           null,
           null,
           null
          ]
         ]
        },
        {
         "marker": {
          "color": "black",
          "line": {
           "color": "Gray",
           "width": 2
          }
         },
         "mode": "markers",
         "name": "Feasible Trial",
         "showlegend": false,
         "type": "scatter",
         "x": [
          2,
          2,
          6,
          4,
          2,
          6,
          4,
          6,
          2,
          8,
          6,
          6,
          6,
          6,
          8,
          6,
          6,
          6,
          4,
          8,
          6,
          6,
          6,
          6,
          6,
          6,
          6,
          8,
          4,
          6,
          2,
          6,
          6,
          6,
          6,
          2,
          6,
          4,
          6,
          2,
          6,
          6,
          6,
          6,
          6,
          6,
          8,
          6,
          4,
          6,
          6,
          6,
          6,
          6,
          6,
          6,
          2
         ],
         "xaxis": "x35",
         "y": [
          512,
          512,
          256,
          64,
          256,
          384,
          384,
          64,
          384,
          256,
          384,
          384,
          384,
          384,
          384,
          384,
          384,
          512,
          64,
          384,
          384,
          384,
          384,
          384,
          384,
          384,
          256,
          512,
          64,
          512,
          384,
          384,
          384,
          384,
          384,
          256,
          512,
          384,
          64,
          384,
          256,
          384,
          384,
          384,
          384,
          384,
          384,
          384,
          64,
          384,
          384,
          384,
          384,
          384,
          384,
          384,
          256
         ],
         "yaxis": "y35"
        },
        {
         "type": "scatter",
         "xaxis": "x45",
         "yaxis": "y45"
        },
        {
         "colorbar": {
          "title": {
           "text": "Objective Value"
          }
         },
         "colorscale": [
          [
           0,
           "rgb(247,251,255)"
          ],
          [
           0.125,
           "rgb(222,235,247)"
          ],
          [
           0.25,
           "rgb(198,219,239)"
          ],
          [
           0.375,
           "rgb(158,202,225)"
          ],
          [
           0.5,
           "rgb(107,174,214)"
          ],
          [
           0.625,
           "rgb(66,146,198)"
          ],
          [
           0.75,
           "rgb(33,113,181)"
          ],
          [
           0.875,
           "rgb(8,81,156)"
          ],
          [
           1,
           "rgb(8,48,107)"
          ]
         ],
         "connectgaps": true,
         "contours": {
          "coloring": "heatmap"
         },
         "hoverinfo": "none",
         "line": {
          "smoothing": 1.3
         },
         "reversescale": true,
         "showscale": false,
         "type": "contour",
         "x": [
          1.7,
          2,
          4,
          6,
          8,
          8.3
         ],
         "xaxis": "x55",
         "y": [
          "False",
          "True"
         ],
         "yaxis": "y55",
         "z": [
          [
           null,
           0.0038915337063372135,
           0.0034027867950499058,
           0.0010509244166314602,
           0.0032087189073746023,
           null
          ],
          [
           null,
           0.004099226091057062,
           0.009889267385005951,
           0.003278343938291073,
           null,
           null
          ]
         ]
        },
        {
         "marker": {
          "color": "black",
          "line": {
           "color": "Gray",
           "width": 2
          }
         },
         "mode": "markers",
         "name": "Feasible Trial",
         "showlegend": false,
         "type": "scatter",
         "x": [
          2,
          2,
          6,
          4,
          2,
          6,
          4,
          6,
          2,
          8,
          6,
          6,
          6,
          6,
          8,
          6,
          6,
          6,
          4,
          8,
          6,
          6,
          6,
          6,
          6,
          6,
          6,
          8,
          4,
          6,
          2,
          6,
          6,
          6,
          6,
          2,
          6,
          4,
          6,
          2,
          6,
          6,
          6,
          6,
          6,
          6,
          8,
          6,
          4,
          6,
          6,
          6,
          6,
          6,
          6,
          6,
          2
         ],
         "xaxis": "x55",
         "y": [
          "True",
          "False",
          "True",
          "True",
          "True",
          "False",
          "False",
          "False",
          "False",
          "False",
          "False",
          "False",
          "False",
          "False",
          "False",
          "False",
          "False",
          "False",
          "True",
          "False",
          "False",
          "False",
          "False",
          "False",
          "False",
          "False",
          "True",
          "False",
          "False",
          "True",
          "False",
          "False",
          "False",
          "False",
          "False",
          "True",
          "False",
          "True",
          "False",
          "False",
          "False",
          "False",
          "False",
          "False",
          "False",
          "False",
          "False",
          "False",
          "False",
          "True",
          "False",
          "False",
          "False",
          "False",
          "False",
          "False",
          "False"
         ],
         "yaxis": "y55"
        },
        {
         "colorbar": {
          "title": {
           "text": "Objective Value"
          }
         },
         "colorscale": [
          [
           0,
           "rgb(247,251,255)"
          ],
          [
           0.125,
           "rgb(222,235,247)"
          ],
          [
           0.25,
           "rgb(198,219,239)"
          ],
          [
           0.375,
           "rgb(158,202,225)"
          ],
          [
           0.5,
           "rgb(107,174,214)"
          ],
          [
           0.625,
           "rgb(66,146,198)"
          ],
          [
           0.75,
           "rgb(33,113,181)"
          ],
          [
           0.875,
           "rgb(8,81,156)"
          ],
          [
           1,
           "rgb(8,48,107)"
          ]
         ],
         "connectgaps": true,
         "contours": {
          "coloring": "heatmap"
         },
         "hoverinfo": "none",
         "line": {
          "smoothing": 1.3
         },
         "reversescale": true,
         "showscale": false,
         "type": "contour",
         "x": [
          1.7,
          2,
          4,
          6,
          8,
          8.3
         ],
         "xaxis": "x65",
         "y": [
          10.399999999999999,
          16,
          32,
          64,
          128,
          133.6
         ],
         "yaxis": "y65",
         "z": [
          [
           null,
           null,
           null,
           null,
           null,
           null
          ],
          [
           null,
           0.004099226091057062,
           null,
           0.005068128928542137,
           0.0032087189073746023,
           null
          ],
          [
           null,
           0.0038915337063372135,
           0.0034027867950499058,
           0.0010509244166314602,
           0.003677790518850088,
           null
          ],
          [
           null,
           0.00556196179240942,
           0.017933184280991554,
           0.003910826948972849,
           0.003676444865190066,
           null
          ],
          [
           null,
           0.012514274567365646,
           0.012798120932919639,
           0.0036489125341176987,
           0.010210204869508743,
           null
          ],
          [
           null,
           null,
           null,
           null,
           null,
           null
          ]
         ]
        },
        {
         "marker": {
          "color": "black",
          "line": {
           "color": "Gray",
           "width": 2
          }
         },
         "mode": "markers",
         "name": "Feasible Trial",
         "showlegend": false,
         "type": "scatter",
         "x": [
          2,
          2,
          6,
          4,
          2,
          6,
          4,
          6,
          2,
          8,
          6,
          6,
          6,
          6,
          8,
          6,
          6,
          6,
          4,
          8,
          6,
          6,
          6,
          6,
          6,
          6,
          6,
          8,
          4,
          6,
          2,
          6,
          6,
          6,
          6,
          2,
          6,
          4,
          6,
          2,
          6,
          6,
          6,
          6,
          6,
          6,
          8,
          6,
          4,
          6,
          6,
          6,
          6,
          6,
          6,
          6,
          2
         ],
         "xaxis": "x65",
         "y": [
          16,
          128,
          128,
          32,
          16,
          32,
          128,
          16,
          64,
          128,
          32,
          32,
          32,
          32,
          32,
          64,
          32,
          32,
          32,
          64,
          32,
          32,
          32,
          32,
          32,
          32,
          32,
          16,
          64,
          16,
          32,
          32,
          32,
          32,
          128,
          32,
          32,
          128,
          16,
          32,
          32,
          32,
          32,
          32,
          32,
          128,
          64,
          32,
          32,
          16,
          32,
          32,
          32,
          32,
          32,
          32,
          32
         ],
         "yaxis": "y65"
        },
        {
         "colorbar": {
          "title": {
           "text": "Objective Value"
          }
         },
         "colorscale": [
          [
           0,
           "rgb(247,251,255)"
          ],
          [
           0.125,
           "rgb(222,235,247)"
          ],
          [
           0.25,
           "rgb(198,219,239)"
          ],
          [
           0.375,
           "rgb(158,202,225)"
          ],
          [
           0.5,
           "rgb(107,174,214)"
          ],
          [
           0.625,
           "rgb(66,146,198)"
          ],
          [
           0.75,
           "rgb(33,113,181)"
          ],
          [
           0.875,
           "rgb(8,81,156)"
          ],
          [
           1,
           "rgb(8,48,107)"
          ]
         ],
         "connectgaps": true,
         "contours": {
          "coloring": "heatmap"
         },
         "hoverinfo": "none",
         "line": {
          "smoothing": 1.3
         },
         "reversescale": true,
         "showscale": false,
         "type": "contour",
         "x": [
          1.7,
          2,
          4,
          6,
          8,
          8.3
         ],
         "xaxis": "x75",
         "y": [
          5.199999999999999,
          8,
          16,
          32,
          64,
          66.8
         ],
         "yaxis": "y75",
         "z": [
          [
           null,
           null,
           null,
           null,
           null,
           null
          ],
          [
           null,
           null,
           0.013237009827907268,
           0.0031210482120513916,
           0.0032087189073746023,
           null
          ],
          [
           null,
           0.009871360446725572,
           0.009889267385005951,
           0.005089037652526583,
           0.011990615299769811,
           null
          ],
          [
           null,
           0.004099226091057062,
           0.017933184280991554,
           0.004693320952355862,
           0.010210204869508743,
           null
          ],
          [
           null,
           0.0038915337063372135,
           0.0034027867950499058,
           0.0010509244166314602,
           0.003677790518850088,
           null
          ],
          [
           null,
           null,
           null,
           null,
           null,
           null
          ]
         ]
        },
        {
         "marker": {
          "color": "black",
          "line": {
           "color": "Gray",
           "width": 2
          }
         },
         "mode": "markers",
         "name": "Feasible Trial",
         "showlegend": false,
         "type": "scatter",
         "x": [
          2,
          2,
          6,
          4,
          2,
          6,
          4,
          6,
          2,
          8,
          6,
          6,
          6,
          6,
          8,
          6,
          6,
          6,
          4,
          8,
          6,
          6,
          6,
          6,
          6,
          6,
          6,
          8,
          4,
          6,
          2,
          6,
          6,
          6,
          6,
          2,
          6,
          4,
          6,
          2,
          6,
          6,
          6,
          6,
          6,
          6,
          8,
          6,
          4,
          6,
          6,
          6,
          6,
          6,
          6,
          6,
          2
         ],
         "xaxis": "x75",
         "y": [
          32,
          64,
          8,
          16,
          16,
          64,
          16,
          16,
          32,
          32,
          64,
          64,
          64,
          64,
          64,
          8,
          64,
          64,
          64,
          8,
          64,
          64,
          64,
          64,
          64,
          64,
          64,
          8,
          32,
          32,
          64,
          64,
          64,
          64,
          64,
          64,
          16,
          8,
          64,
          16,
          64,
          64,
          64,
          64,
          64,
          32,
          16,
          64,
          64,
          64,
          8,
          64,
          64,
          64,
          64,
          64,
          64
         ],
         "yaxis": "y75"
        },
        {
         "colorbar": {
          "title": {
           "text": "Objective Value"
          }
         },
         "colorscale": [
          [
           0,
           "rgb(247,251,255)"
          ],
          [
           0.125,
           "rgb(222,235,247)"
          ],
          [
           0.25,
           "rgb(198,219,239)"
          ],
          [
           0.375,
           "rgb(158,202,225)"
          ],
          [
           0.5,
           "rgb(107,174,214)"
          ],
          [
           0.625,
           "rgb(66,146,198)"
          ],
          [
           0.75,
           "rgb(33,113,181)"
          ],
          [
           0.875,
           "rgb(8,81,156)"
          ],
          [
           1,
           "rgb(8,48,107)"
          ]
         ],
         "connectgaps": true,
         "contours": {
          "coloring": "heatmap"
         },
         "hoverinfo": "none",
         "line": {
          "smoothing": 1.3
         },
         "reversescale": true,
         "showscale": false,
         "type": "contour",
         "x": [
          1.7,
          2,
          4,
          6,
          8,
          8.3
         ],
         "xaxis": "x85",
         "y": [
          -0.0003327779727902093,
          0.00013293451068639153,
          0.00016482101598833644,
          0.0002859618983201747,
          0.0005030922057200975,
          0.0005082222560318676,
          0.0005109668968683066,
          0.000662259354729205,
          0.000804803158410011,
          0.0008829668498645474,
          0.001035287721361168,
          0.0010762834240493012,
          0.0013010270616585372,
          0.0013123106047931883,
          0.0013848997785396763,
          0.0014712220401046773,
          0.0015236648785628855,
          0.0015528292768899295,
          0.0015783681924397643,
          0.0017245660022955657,
          0.001805691009839501,
          0.0018665340990677206,
          0.0018891900420452655,
          0.0019967096733155307,
          0.002022807309729832,
          0.002221702135674957,
          0.0022966234341041886,
          0.0024793055464558773,
          0.0024844733874638822,
          0.002569749107475558,
          0.002570416914840954,
          0.0027720657351321654,
          0.002861152110081496,
          0.0031063248738114947,
          0.00321367916541899,
          0.003272692583939085,
          0.0033627177469709303,
          0.0034983693930714047,
          0.003644256277757865,
          0.0037134388254553147,
          0.0037319454075769917,
          0.004059959359984235,
          0.004239922045757851,
          0.004263219032077157,
          0.004643003925192097,
          0.004679597012724851,
          0.004793542036453257,
          0.0048612258246951735,
          0.005457312666941946,
          0.005689736859226749,
          0.006357299898537107,
          0.006644651164503487,
          0.006993481555530524,
          0.00800933505882863,
          0.008088989972958073,
          0.00847077666596943,
          0.009326128265959114,
          0.009447184180218409,
          0.00991289666369501
         ],
         "yaxis": "y85",
         "z": [
          [
           null,
           null,
           null,
           null,
           null,
           null
          ],
          [
           null,
           null,
           null,
           0.007173012942075729,
           null,
           null
          ],
          [
           null,
           null,
           0.018036603927612305,
           null,
           null,
           null
          ],
          [
           null,
           null,
           null,
           0.0023483606055378914,
           null,
           null
          ],
          [
           null,
           null,
           null,
           0.001077517052181065,
           null,
           null
          ],
          [
           null,
           0.011020248755812645,
           null,
           null,
           null,
           null
          ],
          [
           null,
           null,
           null,
           0.0017465348355472088,
           null,
           null
          ],
          [
           null,
           null,
           null,
           null,
           0.011990615299769811,
           null
          ],
          [
           null,
           0.009051533415913582,
           null,
           null,
           null,
           null
          ],
          [
           null,
           0.0038915337063372135,
           null,
           null,
           null,
           null
          ],
          [
           null,
           null,
           null,
           0.0026472685858607292,
           null,
           null
          ],
          [
           null,
           null,
           null,
           0.0028466973453760147,
           null,
           null
          ],
          [
           null,
           null,
           null,
           null,
           0.003676444865190066,
           null
          ],
          [
           null,
           null,
           null,
           0.0013212664052844048,
           null,
           null
          ],
          [
           null,
           null,
           null,
           0.002323493827134371,
           null,
           null
          ],
          [
           null,
           null,
           null,
           0.0011659844312816858,
           null,
           null
          ],
          [
           null,
           null,
           null,
           0.0010562939569354057,
           null,
           null
          ],
          [
           null,
           null,
           null,
           0.0019303050357848406,
           null,
           null
          ],
          [
           null,
           null,
           null,
           0.001234408002346754,
           null,
           null
          ],
          [
           null,
           null,
           null,
           0.0010509244166314602,
           null,
           null
          ],
          [
           null,
           null,
           null,
           0.005089037652526583,
           null,
           null
          ],
          [
           null,
           null,
           null,
           0.002799304900690913,
           null,
           null
          ],
          [
           null,
           null,
           0.017933184280991554,
           null,
           null,
           null
          ],
          [
           null,
           null,
           null,
           0.0014195044059306383,
           null,
           null
          ],
          [
           null,
           null,
           null,
           0.015235654436624967,
           null,
           null
          ],
          [
           null,
           null,
           0.013237009827907268,
           null,
           null,
           null
          ],
          [
           null,
           null,
           null,
           0.007493170909583569,
           null,
           null
          ],
          [
           null,
           null,
           null,
           0.004169144667685032,
           null,
           null
          ],
          [
           null,
           null,
           0.009889267385005951,
           null,
           null,
           null
          ],
          [
           null,
           null,
           null,
           0.005443759262561798,
           null,
           null
          ],
          [
           null,
           null,
           null,
           0.0024775939527899027,
           null,
           null
          ],
          [
           null,
           null,
           0.0034027867950499058,
           null,
           null,
           null
          ],
          [
           null,
           null,
           null,
           0.0036489125341176987,
           null,
           null
          ],
          [
           null,
           0.009871360446725572,
           null,
           null,
           null,
           null
          ],
          [
           null,
           null,
           null,
           0.0016798200085759163,
           null,
           null
          ],
          [
           null,
           null,
           null,
           null,
           0.003677790518850088,
           null
          ],
          [
           null,
           null,
           null,
           0.0010533332824707031,
           null,
           null
          ],
          [
           null,
           null,
           null,
           0.0017711485270410776,
           null,
           null
          ],
          [
           null,
           null,
           null,
           0.0011525334557518363,
           null,
           null
          ],
          [
           null,
           null,
           null,
           0.003910826948972849,
           null,
           null
          ],
          [
           null,
           null,
           null,
           0.003278343938291073,
           null,
           null
          ],
          [
           null,
           null,
           null,
           0.005068128928542137,
           null,
           null
          ],
          [
           null,
           null,
           null,
           0.004693320952355862,
           null,
           null
          ],
          [
           null,
           null,
           null,
           0.0024279847275465727,
           null,
           null
          ],
          [
           null,
           null,
           null,
           0.004909416660666466,
           null,
           null
          ],
          [
           null,
           null,
           null,
           0.0031210482120513916,
           null,
           null
          ],
          [
           null,
           null,
           null,
           0.002582056913524866,
           null,
           null
          ],
          [
           null,
           0.004099226091057062,
           null,
           null,
           null,
           null
          ],
          [
           null,
           null,
           null,
           0.012842606753110886,
           null,
           null
          ],
          [
           null,
           null,
           null,
           null,
           0.0032087189073746023,
           null
          ],
          [
           null,
           null,
           null,
           null,
           0.010210204869508743,
           null
          ],
          [
           null,
           null,
           null,
           0.004480917938053608,
           null,
           null
          ],
          [
           null,
           null,
           null,
           0.003125535324215889,
           null,
           null
          ],
          [
           null,
           0.00556196179240942,
           null,
           null,
           null,
           null
          ],
          [
           null,
           0.016106017998286655,
           null,
           null,
           null,
           null
          ],
          [
           null,
           null,
           null,
           0.01462360577923911,
           null,
           null
          ],
          [
           null,
           null,
           0.012798120932919639,
           null,
           null,
           null
          ],
          [
           null,
           0.012514274567365646,
           null,
           null,
           null,
           null
          ],
          [
           null,
           null,
           null,
           null,
           null,
           null
          ]
         ]
        },
        {
         "marker": {
          "color": "black",
          "line": {
           "color": "Gray",
           "width": 2
          }
         },
         "mode": "markers",
         "name": "Feasible Trial",
         "showlegend": false,
         "type": "scatter",
         "x": [
          2,
          2,
          6,
          4,
          2,
          6,
          4,
          6,
          2,
          8,
          6,
          6,
          6,
          6,
          8,
          6,
          6,
          6,
          4,
          8,
          6,
          6,
          6,
          6,
          6,
          6,
          6,
          8,
          4,
          6,
          2,
          6,
          6,
          6,
          6,
          2,
          6,
          4,
          6,
          2,
          6,
          6,
          6,
          6,
          6,
          6,
          8,
          6,
          4,
          6,
          6,
          6,
          6,
          6,
          6,
          6,
          2
         ],
         "xaxis": "x85",
         "y": [
          0.0048612258246951735,
          0.009447184180218409,
          0.002022807309729832,
          0.0024844733874638822,
          0.008088989972958073,
          0.006993481555530524,
          0.009326128265959114,
          0.00847077666596943,
          0.00800933505882863,
          0.006357299898537107,
          0.004793542036453257,
          0.004643003925192097,
          0.006644651164503487,
          0.003644256277757865,
          0.003272692583939085,
          0.0037134388254553147,
          0.0002859618983201747,
          0.00013293451068639153,
          0.00016482101598833644,
          0.0013010270616585372,
          0.0015783681924397643,
          0.0013848997785396763,
          0.0014712220401046773,
          0.00321367916541899,
          0.0013123106047931883,
          0.0024793055464558773,
          0.0037319454075769917,
          0.005689736859226749,
          0.0018891900420452655,
          0.004059959359984235,
          0.0008829668498645474,
          0.001035287721361168,
          0.002569749107475558,
          0.0018665340990677206,
          0.002861152110081496,
          0.000804803158410011,
          0.001805691009839501,
          0.002221702135674957,
          0.005457312666941946,
          0.0031063248738114947,
          0.004263219032077157,
          0.0033627177469709303,
          0.0015236648785628855,
          0.0034983693930714047,
          0.002570416914840954,
          0.004239922045757851,
          0.000662259354729205,
          0.0017245660022955657,
          0.0027720657351321654,
          0.0022966234341041886,
          0.004679597012724851,
          0.0015528292768899295,
          0.0019967096733155307,
          0.0005030922057200975,
          0.0005109668968683066,
          0.0010762834240493012,
          0.0005082222560318676
         ],
         "yaxis": "y85"
        },
        {
         "colorbar": {
          "title": {
           "text": "Objective Value"
          }
         },
         "colorscale": [
          [
           0,
           "rgb(247,251,255)"
          ],
          [
           0.125,
           "rgb(222,235,247)"
          ],
          [
           0.25,
           "rgb(198,219,239)"
          ],
          [
           0.375,
           "rgb(158,202,225)"
          ],
          [
           0.5,
           "rgb(107,174,214)"
          ],
          [
           0.625,
           "rgb(66,146,198)"
          ],
          [
           0.75,
           "rgb(33,113,181)"
          ],
          [
           0.875,
           "rgb(8,81,156)"
          ],
          [
           1,
           "rgb(8,48,107)"
          ]
         ],
         "connectgaps": true,
         "contours": {
          "coloring": "heatmap"
         },
         "hoverinfo": "none",
         "line": {
          "smoothing": 1.3
         },
         "reversescale": true,
         "showscale": false,
         "type": "contour",
         "x": [
          1.7,
          2,
          4,
          6,
          8,
          8.3
         ],
         "xaxis": "x95",
         "y": [
          "Adam",
          "AdamW",
          "SGD"
         ],
         "yaxis": "y95",
         "z": [
          [
           null,
           0.0038915337063372135,
           0.0034027867950499058,
           0.0010509244166314602,
           0.0032087189073746023,
           null
          ],
          [
           null,
           0.004099226091057062,
           0.009889267385005951,
           0.0024279847275465727,
           null,
           null
          ],
          [
           null,
           0.009051533415913582,
           null,
           0.004169144667685032,
           0.010210204869508743,
           null
          ]
         ]
        },
        {
         "marker": {
          "color": "black",
          "line": {
           "color": "Gray",
           "width": 2
          }
         },
         "mode": "markers",
         "name": "Feasible Trial",
         "showlegend": false,
         "type": "scatter",
         "x": [
          2,
          2,
          6,
          4,
          2,
          6,
          4,
          6,
          2,
          8,
          6,
          6,
          6,
          6,
          8,
          6,
          6,
          6,
          4,
          8,
          6,
          6,
          6,
          6,
          6,
          6,
          6,
          8,
          4,
          6,
          2,
          6,
          6,
          6,
          6,
          2,
          6,
          4,
          6,
          2,
          6,
          6,
          6,
          6,
          6,
          6,
          8,
          6,
          4,
          6,
          6,
          6,
          6,
          6,
          6,
          6,
          2
         ],
         "xaxis": "x95",
         "y": [
          "AdamW",
          "SGD",
          "AdamW",
          "AdamW",
          "SGD",
          "AdamW",
          "AdamW",
          "AdamW",
          "Adam",
          "SGD",
          "Adam",
          "Adam",
          "Adam",
          "Adam",
          "Adam",
          "Adam",
          "Adam",
          "Adam",
          "Adam",
          "Adam",
          "Adam",
          "Adam",
          "Adam",
          "Adam",
          "Adam",
          "SGD",
          "Adam",
          "Adam",
          "Adam",
          "SGD",
          "Adam",
          "Adam",
          "Adam",
          "Adam",
          "Adam",
          "SGD",
          "AdamW",
          "Adam",
          "AdamW",
          "Adam",
          "AdamW",
          "Adam",
          "Adam",
          "Adam",
          "Adam",
          "SGD",
          "Adam",
          "Adam",
          "Adam",
          "AdamW",
          "Adam",
          "Adam",
          "Adam",
          "Adam",
          "Adam",
          "Adam",
          "Adam"
         ],
         "yaxis": "y95"
        },
        {
         "colorbar": {
          "title": {
           "text": "Objective Value"
          }
         },
         "colorscale": [
          [
           0,
           "rgb(247,251,255)"
          ],
          [
           0.125,
           "rgb(222,235,247)"
          ],
          [
           0.25,
           "rgb(198,219,239)"
          ],
          [
           0.375,
           "rgb(158,202,225)"
          ],
          [
           0.5,
           "rgb(107,174,214)"
          ],
          [
           0.625,
           "rgb(66,146,198)"
          ],
          [
           0.75,
           "rgb(33,113,181)"
          ],
          [
           0.875,
           "rgb(8,81,156)"
          ],
          [
           1,
           "rgb(8,48,107)"
          ]
         ],
         "connectgaps": true,
         "contours": {
          "coloring": "heatmap"
         },
         "hoverinfo": "none",
         "line": {
          "smoothing": 1.3
         },
         "reversescale": true,
         "showscale": false,
         "type": "contour",
         "x": [
          "False",
          "True"
         ],
         "xaxis": "x6",
         "y": [
          "relu",
          "swish"
         ],
         "yaxis": "y6",
         "z": [
          [
           0.0010509244166314602,
           0.003278343938291073
          ],
          [
           0.009871360446725572,
           0.009051533415913582
          ]
         ]
        },
        {
         "marker": {
          "color": "black",
          "line": {
           "color": "Gray",
           "width": 2
          }
         },
         "mode": "markers",
         "name": "Feasible Trial",
         "showlegend": false,
         "type": "scatter",
         "x": [
          "True",
          "False",
          "True",
          "True",
          "True",
          "False",
          "False",
          "False",
          "False",
          "False",
          "False",
          "False",
          "False",
          "False",
          "False",
          "False",
          "False",
          "False",
          "True",
          "False",
          "False",
          "False",
          "False",
          "False",
          "False",
          "False",
          "True",
          "False",
          "False",
          "True",
          "False",
          "False",
          "False",
          "False",
          "False",
          "True",
          "False",
          "True",
          "False",
          "False",
          "False",
          "False",
          "False",
          "False",
          "False",
          "False",
          "False",
          "False",
          "False",
          "True",
          "False",
          "False",
          "False",
          "False",
          "False",
          "False",
          "False"
         ],
         "xaxis": "x6",
         "y": [
          "relu",
          "swish",
          "swish",
          "swish",
          "swish",
          "relu",
          "swish",
          "swish",
          "relu",
          "swish",
          "relu",
          "relu",
          "relu",
          "relu",
          "relu",
          "relu",
          "relu",
          "relu",
          "relu",
          "relu",
          "relu",
          "relu",
          "relu",
          "relu",
          "relu",
          "relu",
          "relu",
          "relu",
          "relu",
          "relu",
          "relu",
          "relu",
          "relu",
          "relu",
          "relu",
          "swish",
          "relu",
          "swish",
          "relu",
          "swish",
          "relu",
          "relu",
          "relu",
          "relu",
          "relu",
          "relu",
          "swish",
          "relu",
          "relu",
          "relu",
          "relu",
          "relu",
          "relu",
          "relu",
          "relu",
          "relu",
          "swish"
         ],
         "yaxis": "y6"
        },
        {
         "colorbar": {
          "title": {
           "text": "Objective Value"
          }
         },
         "colorscale": [
          [
           0,
           "rgb(247,251,255)"
          ],
          [
           0.125,
           "rgb(222,235,247)"
          ],
          [
           0.25,
           "rgb(198,219,239)"
          ],
          [
           0.375,
           "rgb(158,202,225)"
          ],
          [
           0.5,
           "rgb(107,174,214)"
          ],
          [
           0.625,
           "rgb(66,146,198)"
          ],
          [
           0.75,
           "rgb(33,113,181)"
          ],
          [
           0.875,
           "rgb(8,81,156)"
          ],
          [
           1,
           "rgb(8,48,107)"
          ]
         ],
         "connectgaps": true,
         "contours": {
          "coloring": "heatmap"
         },
         "hoverinfo": "none",
         "line": {
          "smoothing": 1.3
         },
         "reversescale": true,
         "showscale": false,
         "type": "contour",
         "x": [
          "False",
          "True"
         ],
         "xaxis": "x16",
         "y": [
          "False",
          "True"
         ],
         "yaxis": "y16",
         "z": [
          [
           0.0024775939527899027,
           0.004099226091057062
          ],
          [
           0.0010509244166314602,
           0.003278343938291073
          ]
         ]
        },
        {
         "marker": {
          "color": "black",
          "line": {
           "color": "Gray",
           "width": 2
          }
         },
         "mode": "markers",
         "name": "Feasible Trial",
         "showlegend": false,
         "type": "scatter",
         "x": [
          "True",
          "False",
          "True",
          "True",
          "True",
          "False",
          "False",
          "False",
          "False",
          "False",
          "False",
          "False",
          "False",
          "False",
          "False",
          "False",
          "False",
          "False",
          "True",
          "False",
          "False",
          "False",
          "False",
          "False",
          "False",
          "False",
          "True",
          "False",
          "False",
          "True",
          "False",
          "False",
          "False",
          "False",
          "False",
          "True",
          "False",
          "True",
          "False",
          "False",
          "False",
          "False",
          "False",
          "False",
          "False",
          "False",
          "False",
          "False",
          "False",
          "True",
          "False",
          "False",
          "False",
          "False",
          "False",
          "False",
          "False"
         ],
         "xaxis": "x16",
         "y": [
          "False",
          "True",
          "False",
          "False",
          "False",
          "False",
          "True",
          "False",
          "False",
          "False",
          "True",
          "True",
          "True",
          "True",
          "True",
          "True",
          "True",
          "True",
          "True",
          "True",
          "True",
          "True",
          "True",
          "True",
          "True",
          "True",
          "True",
          "True",
          "True",
          "True",
          "True",
          "True",
          "True",
          "True",
          "True",
          "True",
          "True",
          "False",
          "True",
          "False",
          "True",
          "True",
          "True",
          "True",
          "False",
          "True",
          "True",
          "True",
          "False",
          "True",
          "True",
          "True",
          "True",
          "True",
          "True",
          "True",
          "True"
         ],
         "yaxis": "y16"
        },
        {
         "colorbar": {
          "title": {
           "text": "Objective Value"
          }
         },
         "colorscale": [
          [
           0,
           "rgb(247,251,255)"
          ],
          [
           0.125,
           "rgb(222,235,247)"
          ],
          [
           0.25,
           "rgb(198,219,239)"
          ],
          [
           0.375,
           "rgb(158,202,225)"
          ],
          [
           0.5,
           "rgb(107,174,214)"
          ],
          [
           0.625,
           "rgb(66,146,198)"
          ],
          [
           0.75,
           "rgb(33,113,181)"
          ],
          [
           0.875,
           "rgb(8,81,156)"
          ],
          [
           1,
           "rgb(8,48,107)"
          ]
         ],
         "connectgaps": true,
         "contours": {
          "coloring": "heatmap"
         },
         "hoverinfo": "none",
         "line": {
          "smoothing": 1.3
         },
         "reversescale": true,
         "showscale": false,
         "type": "contour",
         "x": [
          "False",
          "True"
         ],
         "xaxis": "x26",
         "y": [
          41.599999999999994,
          64,
          256,
          384,
          512,
          534.4
         ],
         "yaxis": "y26",
         "z": [
          [
           null,
           null
          ],
          [
           0.012842606753110886,
           0.007493170909583569
          ],
          [
           0.0032087189073746023,
           0.004099226091057062
          ],
          [
           0.0031210482120513916,
           0.003278343938291073
          ],
          [
           0.0010509244166314602,
           0.009051533415913582
          ],
          [
           null,
           null
          ]
         ]
        },
        {
         "marker": {
          "color": "black",
          "line": {
           "color": "Gray",
           "width": 2
          }
         },
         "mode": "markers",
         "name": "Feasible Trial",
         "showlegend": false,
         "type": "scatter",
         "x": [
          "True",
          "False",
          "True",
          "True",
          "True",
          "False",
          "False",
          "False",
          "False",
          "False",
          "False",
          "False",
          "False",
          "False",
          "False",
          "False",
          "False",
          "False",
          "True",
          "False",
          "False",
          "False",
          "False",
          "False",
          "False",
          "False",
          "True",
          "False",
          "False",
          "True",
          "False",
          "False",
          "False",
          "False",
          "False",
          "True",
          "False",
          "True",
          "False",
          "False",
          "False",
          "False",
          "False",
          "False",
          "False",
          "False",
          "False",
          "False",
          "False",
          "True",
          "False",
          "False",
          "False",
          "False",
          "False",
          "False",
          "False"
         ],
         "xaxis": "x26",
         "y": [
          256,
          512,
          256,
          384,
          64,
          512,
          512,
          64,
          256,
          384,
          512,
          512,
          512,
          512,
          512,
          512,
          512,
          384,
          64,
          512,
          512,
          512,
          512,
          512,
          512,
          512,
          384,
          256,
          64,
          256,
          512,
          512,
          512,
          512,
          512,
          512,
          256,
          512,
          64,
          384,
          512,
          512,
          512,
          512,
          512,
          512,
          512,
          512,
          256,
          64,
          384,
          512,
          512,
          512,
          512,
          512,
          512
         ],
         "yaxis": "y26"
        },
        {
         "colorbar": {
          "title": {
           "text": "Objective Value"
          }
         },
         "colorscale": [
          [
           0,
           "rgb(247,251,255)"
          ],
          [
           0.125,
           "rgb(222,235,247)"
          ],
          [
           0.25,
           "rgb(198,219,239)"
          ],
          [
           0.375,
           "rgb(158,202,225)"
          ],
          [
           0.5,
           "rgb(107,174,214)"
          ],
          [
           0.625,
           "rgb(66,146,198)"
          ],
          [
           0.75,
           "rgb(33,113,181)"
          ],
          [
           0.875,
           "rgb(8,81,156)"
          ],
          [
           1,
           "rgb(8,48,107)"
          ]
         ],
         "connectgaps": true,
         "contours": {
          "coloring": "heatmap"
         },
         "hoverinfo": "none",
         "line": {
          "smoothing": 1.3
         },
         "reversescale": true,
         "showscale": false,
         "type": "contour",
         "x": [
          "False",
          "True"
         ],
         "xaxis": "x36",
         "y": [
          41.599999999999994,
          64,
          256,
          384,
          512,
          534.4
         ],
         "yaxis": "y36",
         "z": [
          [
           null,
           null
          ],
          [
           0.0034027867950499058,
           0.009889267385005951
          ],
          [
           0.0024279847275465727,
           0.003278343938291073
          ],
          [
           0.0010509244166314602,
           0.007493170909583569
          ],
          [
           0.0032087189073746023,
           0.004099226091057062
          ],
          [
           null,
           null
          ]
         ]
        },
        {
         "marker": {
          "color": "black",
          "line": {
           "color": "Gray",
           "width": 2
          }
         },
         "mode": "markers",
         "name": "Feasible Trial",
         "showlegend": false,
         "type": "scatter",
         "x": [
          "True",
          "False",
          "True",
          "True",
          "True",
          "False",
          "False",
          "False",
          "False",
          "False",
          "False",
          "False",
          "False",
          "False",
          "False",
          "False",
          "False",
          "False",
          "True",
          "False",
          "False",
          "False",
          "False",
          "False",
          "False",
          "False",
          "True",
          "False",
          "False",
          "True",
          "False",
          "False",
          "False",
          "False",
          "False",
          "True",
          "False",
          "True",
          "False",
          "False",
          "False",
          "False",
          "False",
          "False",
          "False",
          "False",
          "False",
          "False",
          "False",
          "True",
          "False",
          "False",
          "False",
          "False",
          "False",
          "False",
          "False"
         ],
         "xaxis": "x36",
         "y": [
          512,
          512,
          256,
          64,
          256,
          384,
          384,
          64,
          384,
          256,
          384,
          384,
          384,
          384,
          384,
          384,
          384,
          512,
          64,
          384,
          384,
          384,
          384,
          384,
          384,
          384,
          256,
          512,
          64,
          512,
          384,
          384,
          384,
          384,
          384,
          256,
          512,
          384,
          64,
          384,
          256,
          384,
          384,
          384,
          384,
          384,
          384,
          384,
          64,
          384,
          384,
          384,
          384,
          384,
          384,
          384,
          256
         ],
         "yaxis": "y36"
        },
        {
         "colorbar": {
          "title": {
           "text": "Objective Value"
          }
         },
         "colorscale": [
          [
           0,
           "rgb(247,251,255)"
          ],
          [
           0.125,
           "rgb(222,235,247)"
          ],
          [
           0.25,
           "rgb(198,219,239)"
          ],
          [
           0.375,
           "rgb(158,202,225)"
          ],
          [
           0.5,
           "rgb(107,174,214)"
          ],
          [
           0.625,
           "rgb(66,146,198)"
          ],
          [
           0.75,
           "rgb(33,113,181)"
          ],
          [
           0.875,
           "rgb(8,81,156)"
          ],
          [
           1,
           "rgb(8,48,107)"
          ]
         ],
         "connectgaps": true,
         "contours": {
          "coloring": "heatmap"
         },
         "hoverinfo": "none",
         "line": {
          "smoothing": 1.3
         },
         "reversescale": true,
         "showscale": false,
         "type": "contour",
         "x": [
          "False",
          "True"
         ],
         "xaxis": "x46",
         "y": [
          1.7,
          2,
          4,
          6,
          8,
          8.3
         ],
         "yaxis": "y46",
         "z": [
          [
           null,
           null
          ],
          [
           0.0038915337063372135,
           0.004099226091057062
          ],
          [
           0.0034027867950499058,
           0.009889267385005951
          ],
          [
           0.0010509244166314602,
           0.003278343938291073
          ],
          [
           0.0032087189073746023,
           null
          ],
          [
           null,
           null
          ]
         ]
        },
        {
         "marker": {
          "color": "black",
          "line": {
           "color": "Gray",
           "width": 2
          }
         },
         "mode": "markers",
         "name": "Feasible Trial",
         "showlegend": false,
         "type": "scatter",
         "x": [
          "True",
          "False",
          "True",
          "True",
          "True",
          "False",
          "False",
          "False",
          "False",
          "False",
          "False",
          "False",
          "False",
          "False",
          "False",
          "False",
          "False",
          "False",
          "True",
          "False",
          "False",
          "False",
          "False",
          "False",
          "False",
          "False",
          "True",
          "False",
          "False",
          "True",
          "False",
          "False",
          "False",
          "False",
          "False",
          "True",
          "False",
          "True",
          "False",
          "False",
          "False",
          "False",
          "False",
          "False",
          "False",
          "False",
          "False",
          "False",
          "False",
          "True",
          "False",
          "False",
          "False",
          "False",
          "False",
          "False",
          "False"
         ],
         "xaxis": "x46",
         "y": [
          2,
          2,
          6,
          4,
          2,
          6,
          4,
          6,
          2,
          8,
          6,
          6,
          6,
          6,
          8,
          6,
          6,
          6,
          4,
          8,
          6,
          6,
          6,
          6,
          6,
          6,
          6,
          8,
          4,
          6,
          2,
          6,
          6,
          6,
          6,
          2,
          6,
          4,
          6,
          2,
          6,
          6,
          6,
          6,
          6,
          6,
          8,
          6,
          4,
          6,
          6,
          6,
          6,
          6,
          6,
          6,
          2
         ],
         "yaxis": "y46"
        },
        {
         "type": "scatter",
         "xaxis": "x56",
         "yaxis": "y56"
        },
        {
         "colorbar": {
          "title": {
           "text": "Objective Value"
          }
         },
         "colorscale": [
          [
           0,
           "rgb(247,251,255)"
          ],
          [
           0.125,
           "rgb(222,235,247)"
          ],
          [
           0.25,
           "rgb(198,219,239)"
          ],
          [
           0.375,
           "rgb(158,202,225)"
          ],
          [
           0.5,
           "rgb(107,174,214)"
          ],
          [
           0.625,
           "rgb(66,146,198)"
          ],
          [
           0.75,
           "rgb(33,113,181)"
          ],
          [
           0.875,
           "rgb(8,81,156)"
          ],
          [
           1,
           "rgb(8,48,107)"
          ]
         ],
         "connectgaps": true,
         "contours": {
          "coloring": "heatmap"
         },
         "hoverinfo": "none",
         "line": {
          "smoothing": 1.3
         },
         "reversescale": true,
         "showscale": false,
         "type": "contour",
         "x": [
          "False",
          "True"
         ],
         "xaxis": "x66",
         "y": [
          10.399999999999999,
          16,
          32,
          64,
          128,
          133.6
         ],
         "yaxis": "y66",
         "z": [
          [
           null,
           null
          ],
          [
           0.0032087189073746023,
           0.004099226091057062
          ],
          [
           0.0010509244166314602,
           0.003278343938291073
          ],
          [
           0.003676444865190066,
           null
          ],
          [
           0.0036489125341176987,
           0.013237009827907268
          ],
          [
           null,
           null
          ]
         ]
        },
        {
         "marker": {
          "color": "black",
          "line": {
           "color": "Gray",
           "width": 2
          }
         },
         "mode": "markers",
         "name": "Feasible Trial",
         "showlegend": false,
         "type": "scatter",
         "x": [
          "True",
          "False",
          "True",
          "True",
          "True",
          "False",
          "False",
          "False",
          "False",
          "False",
          "False",
          "False",
          "False",
          "False",
          "False",
          "False",
          "False",
          "False",
          "True",
          "False",
          "False",
          "False",
          "False",
          "False",
          "False",
          "False",
          "True",
          "False",
          "False",
          "True",
          "False",
          "False",
          "False",
          "False",
          "False",
          "True",
          "False",
          "True",
          "False",
          "False",
          "False",
          "False",
          "False",
          "False",
          "False",
          "False",
          "False",
          "False",
          "False",
          "True",
          "False",
          "False",
          "False",
          "False",
          "False",
          "False",
          "False"
         ],
         "xaxis": "x66",
         "y": [
          16,
          128,
          128,
          32,
          16,
          32,
          128,
          16,
          64,
          128,
          32,
          32,
          32,
          32,
          32,
          64,
          32,
          32,
          32,
          64,
          32,
          32,
          32,
          32,
          32,
          32,
          32,
          16,
          64,
          16,
          32,
          32,
          32,
          32,
          128,
          32,
          32,
          128,
          16,
          32,
          32,
          32,
          32,
          32,
          32,
          128,
          64,
          32,
          32,
          16,
          32,
          32,
          32,
          32,
          32,
          32,
          32
         ],
         "yaxis": "y66"
        },
        {
         "colorbar": {
          "title": {
           "text": "Objective Value"
          }
         },
         "colorscale": [
          [
           0,
           "rgb(247,251,255)"
          ],
          [
           0.125,
           "rgb(222,235,247)"
          ],
          [
           0.25,
           "rgb(198,219,239)"
          ],
          [
           0.375,
           "rgb(158,202,225)"
          ],
          [
           0.5,
           "rgb(107,174,214)"
          ],
          [
           0.625,
           "rgb(66,146,198)"
          ],
          [
           0.75,
           "rgb(33,113,181)"
          ],
          [
           0.875,
           "rgb(8,81,156)"
          ],
          [
           1,
           "rgb(8,48,107)"
          ]
         ],
         "connectgaps": true,
         "contours": {
          "coloring": "heatmap"
         },
         "hoverinfo": "none",
         "line": {
          "smoothing": 1.3
         },
         "reversescale": true,
         "showscale": false,
         "type": "contour",
         "x": [
          "False",
          "True"
         ],
         "xaxis": "x76",
         "y": [
          5.199999999999999,
          8,
          16,
          32,
          64,
          66.8
         ],
         "yaxis": "y76",
         "z": [
          [
           null,
           null
          ],
          [
           0.0031210482120513916,
           0.013237009827907268
          ],
          [
           0.005089037652526583,
           0.009889267385005951
          ],
          [
           0.004693320952355862,
           0.004099226091057062
          ],
          [
           0.0010509244166314602,
           0.003278343938291073
          ],
          [
           null,
           null
          ]
         ]
        },
        {
         "marker": {
          "color": "black",
          "line": {
           "color": "Gray",
           "width": 2
          }
         },
         "mode": "markers",
         "name": "Feasible Trial",
         "showlegend": false,
         "type": "scatter",
         "x": [
          "True",
          "False",
          "True",
          "True",
          "True",
          "False",
          "False",
          "False",
          "False",
          "False",
          "False",
          "False",
          "False",
          "False",
          "False",
          "False",
          "False",
          "False",
          "True",
          "False",
          "False",
          "False",
          "False",
          "False",
          "False",
          "False",
          "True",
          "False",
          "False",
          "True",
          "False",
          "False",
          "False",
          "False",
          "False",
          "True",
          "False",
          "True",
          "False",
          "False",
          "False",
          "False",
          "False",
          "False",
          "False",
          "False",
          "False",
          "False",
          "False",
          "True",
          "False",
          "False",
          "False",
          "False",
          "False",
          "False",
          "False"
         ],
         "xaxis": "x76",
         "y": [
          32,
          64,
          8,
          16,
          16,
          64,
          16,
          16,
          32,
          32,
          64,
          64,
          64,
          64,
          64,
          8,
          64,
          64,
          64,
          8,
          64,
          64,
          64,
          64,
          64,
          64,
          64,
          8,
          32,
          32,
          64,
          64,
          64,
          64,
          64,
          64,
          16,
          8,
          64,
          16,
          64,
          64,
          64,
          64,
          64,
          32,
          16,
          64,
          64,
          64,
          8,
          64,
          64,
          64,
          64,
          64,
          64
         ],
         "yaxis": "y76"
        },
        {
         "colorbar": {
          "title": {
           "text": "Objective Value"
          }
         },
         "colorscale": [
          [
           0,
           "rgb(247,251,255)"
          ],
          [
           0.125,
           "rgb(222,235,247)"
          ],
          [
           0.25,
           "rgb(198,219,239)"
          ],
          [
           0.375,
           "rgb(158,202,225)"
          ],
          [
           0.5,
           "rgb(107,174,214)"
          ],
          [
           0.625,
           "rgb(66,146,198)"
          ],
          [
           0.75,
           "rgb(33,113,181)"
          ],
          [
           0.875,
           "rgb(8,81,156)"
          ],
          [
           1,
           "rgb(8,48,107)"
          ]
         ],
         "connectgaps": true,
         "contours": {
          "coloring": "heatmap"
         },
         "hoverinfo": "none",
         "line": {
          "smoothing": 1.3
         },
         "reversescale": true,
         "showscale": false,
         "type": "contour",
         "x": [
          "False",
          "True"
         ],
         "xaxis": "x86",
         "y": [
          -0.0003327779727902093,
          0.00013293451068639153,
          0.00016482101598833644,
          0.0002859618983201747,
          0.0005030922057200975,
          0.0005082222560318676,
          0.0005109668968683066,
          0.000662259354729205,
          0.000804803158410011,
          0.0008829668498645474,
          0.001035287721361168,
          0.0010762834240493012,
          0.0013010270616585372,
          0.0013123106047931883,
          0.0013848997785396763,
          0.0014712220401046773,
          0.0015236648785628855,
          0.0015528292768899295,
          0.0015783681924397643,
          0.0017245660022955657,
          0.001805691009839501,
          0.0018665340990677206,
          0.0018891900420452655,
          0.0019967096733155307,
          0.002022807309729832,
          0.002221702135674957,
          0.0022966234341041886,
          0.0024793055464558773,
          0.0024844733874638822,
          0.002569749107475558,
          0.002570416914840954,
          0.0027720657351321654,
          0.002861152110081496,
          0.0031063248738114947,
          0.00321367916541899,
          0.003272692583939085,
          0.0033627177469709303,
          0.0034983693930714047,
          0.003644256277757865,
          0.0037134388254553147,
          0.0037319454075769917,
          0.004059959359984235,
          0.004239922045757851,
          0.004263219032077157,
          0.004643003925192097,
          0.004679597012724851,
          0.004793542036453257,
          0.0048612258246951735,
          0.005457312666941946,
          0.005689736859226749,
          0.006357299898537107,
          0.006644651164503487,
          0.006993481555530524,
          0.00800933505882863,
          0.008088989972958073,
          0.00847077666596943,
          0.009326128265959114,
          0.009447184180218409,
          0.00991289666369501
         ],
         "yaxis": "y86",
         "z": [
          [
           null,
           null
          ],
          [
           0.007173012942075729,
           null
          ],
          [
           null,
           0.018036603927612305
          ],
          [
           0.0023483606055378914,
           null
          ],
          [
           0.001077517052181065,
           null
          ],
          [
           0.011020248755812645,
           null
          ],
          [
           0.0017465348355472088,
           null
          ],
          [
           0.011990615299769811,
           null
          ],
          [
           null,
           0.009051533415913582
          ],
          [
           0.0038915337063372135,
           null
          ],
          [
           0.0026472685858607292,
           null
          ],
          [
           0.0028466973453760147,
           null
          ],
          [
           0.003676444865190066,
           null
          ],
          [
           0.0013212664052844048,
           null
          ],
          [
           0.002323493827134371,
           null
          ],
          [
           0.0011659844312816858,
           null
          ],
          [
           0.0010562939569354057,
           null
          ],
          [
           0.0019303050357848406,
           null
          ],
          [
           0.001234408002346754,
           null
          ],
          [
           0.0010509244166314602,
           null
          ],
          [
           0.005089037652526583,
           null
          ],
          [
           0.002799304900690913,
           null
          ],
          [
           0.017933184280991554,
           null
          ],
          [
           0.0014195044059306383,
           null
          ],
          [
           null,
           0.015235654436624967
          ],
          [
           null,
           0.013237009827907268
          ],
          [
           null,
           0.007493170909583569
          ],
          [
           0.004169144667685032,
           null
          ],
          [
           null,
           0.009889267385005951
          ],
          [
           0.005443759262561798,
           null
          ],
          [
           0.0024775939527899027,
           null
          ],
          [
           0.0034027867950499058,
           null
          ],
          [
           0.0036489125341176987,
           null
          ],
          [
           0.009871360446725572,
           null
          ],
          [
           0.0016798200085759163,
           null
          ],
          [
           0.003677790518850088,
           null
          ],
          [
           0.0010533332824707031,
           null
          ],
          [
           0.0017711485270410776,
           null
          ],
          [
           0.0011525334557518363,
           null
          ],
          [
           0.003910826948972849,
           null
          ],
          [
           null,
           0.003278343938291073
          ],
          [
           null,
           0.005068128928542137
          ],
          [
           0.004693320952355862,
           null
          ],
          [
           0.0024279847275465727,
           null
          ],
          [
           0.004909416660666466,
           null
          ],
          [
           0.0031210482120513916,
           null
          ],
          [
           0.002582056913524866,
           null
          ],
          [
           null,
           0.004099226091057062
          ],
          [
           0.012842606753110886,
           null
          ],
          [
           0.0032087189073746023,
           null
          ],
          [
           0.010210204869508743,
           null
          ],
          [
           0.004480917938053608,
           null
          ],
          [
           0.003125535324215889,
           null
          ],
          [
           0.00556196179240942,
           null
          ],
          [
           null,
           0.016106017998286655
          ],
          [
           0.01462360577923911,
           null
          ],
          [
           0.012798120932919639,
           null
          ],
          [
           0.012514274567365646,
           null
          ],
          [
           null,
           null
          ]
         ]
        },
        {
         "marker": {
          "color": "black",
          "line": {
           "color": "Gray",
           "width": 2
          }
         },
         "mode": "markers",
         "name": "Feasible Trial",
         "showlegend": false,
         "type": "scatter",
         "x": [
          "True",
          "False",
          "True",
          "True",
          "True",
          "False",
          "False",
          "False",
          "False",
          "False",
          "False",
          "False",
          "False",
          "False",
          "False",
          "False",
          "False",
          "False",
          "True",
          "False",
          "False",
          "False",
          "False",
          "False",
          "False",
          "False",
          "True",
          "False",
          "False",
          "True",
          "False",
          "False",
          "False",
          "False",
          "False",
          "True",
          "False",
          "True",
          "False",
          "False",
          "False",
          "False",
          "False",
          "False",
          "False",
          "False",
          "False",
          "False",
          "False",
          "True",
          "False",
          "False",
          "False",
          "False",
          "False",
          "False",
          "False"
         ],
         "xaxis": "x86",
         "y": [
          0.0048612258246951735,
          0.009447184180218409,
          0.002022807309729832,
          0.0024844733874638822,
          0.008088989972958073,
          0.006993481555530524,
          0.009326128265959114,
          0.00847077666596943,
          0.00800933505882863,
          0.006357299898537107,
          0.004793542036453257,
          0.004643003925192097,
          0.006644651164503487,
          0.003644256277757865,
          0.003272692583939085,
          0.0037134388254553147,
          0.0002859618983201747,
          0.00013293451068639153,
          0.00016482101598833644,
          0.0013010270616585372,
          0.0015783681924397643,
          0.0013848997785396763,
          0.0014712220401046773,
          0.00321367916541899,
          0.0013123106047931883,
          0.0024793055464558773,
          0.0037319454075769917,
          0.005689736859226749,
          0.0018891900420452655,
          0.004059959359984235,
          0.0008829668498645474,
          0.001035287721361168,
          0.002569749107475558,
          0.0018665340990677206,
          0.002861152110081496,
          0.000804803158410011,
          0.001805691009839501,
          0.002221702135674957,
          0.005457312666941946,
          0.0031063248738114947,
          0.004263219032077157,
          0.0033627177469709303,
          0.0015236648785628855,
          0.0034983693930714047,
          0.002570416914840954,
          0.004239922045757851,
          0.000662259354729205,
          0.0017245660022955657,
          0.0027720657351321654,
          0.0022966234341041886,
          0.004679597012724851,
          0.0015528292768899295,
          0.0019967096733155307,
          0.0005030922057200975,
          0.0005109668968683066,
          0.0010762834240493012,
          0.0005082222560318676
         ],
         "yaxis": "y86"
        },
        {
         "colorbar": {
          "title": {
           "text": "Objective Value"
          }
         },
         "colorscale": [
          [
           0,
           "rgb(247,251,255)"
          ],
          [
           0.125,
           "rgb(222,235,247)"
          ],
          [
           0.25,
           "rgb(198,219,239)"
          ],
          [
           0.375,
           "rgb(158,202,225)"
          ],
          [
           0.5,
           "rgb(107,174,214)"
          ],
          [
           0.625,
           "rgb(66,146,198)"
          ],
          [
           0.75,
           "rgb(33,113,181)"
          ],
          [
           0.875,
           "rgb(8,81,156)"
          ],
          [
           1,
           "rgb(8,48,107)"
          ]
         ],
         "connectgaps": true,
         "contours": {
          "coloring": "heatmap"
         },
         "hoverinfo": "none",
         "line": {
          "smoothing": 1.3
         },
         "reversescale": true,
         "showscale": false,
         "type": "contour",
         "x": [
          "False",
          "True"
         ],
         "xaxis": "x96",
         "y": [
          "Adam",
          "AdamW",
          "SGD"
         ],
         "yaxis": "y96",
         "z": [
          [
           0.0010509244166314602,
           0.003278343938291073
          ],
          [
           0.0024279847275465727,
           0.004099226091057062
          ],
          [
           0.004169144667685032,
           0.005068128928542137
          ]
         ]
        },
        {
         "marker": {
          "color": "black",
          "line": {
           "color": "Gray",
           "width": 2
          }
         },
         "mode": "markers",
         "name": "Feasible Trial",
         "showlegend": false,
         "type": "scatter",
         "x": [
          "True",
          "False",
          "True",
          "True",
          "True",
          "False",
          "False",
          "False",
          "False",
          "False",
          "False",
          "False",
          "False",
          "False",
          "False",
          "False",
          "False",
          "False",
          "True",
          "False",
          "False",
          "False",
          "False",
          "False",
          "False",
          "False",
          "True",
          "False",
          "False",
          "True",
          "False",
          "False",
          "False",
          "False",
          "False",
          "True",
          "False",
          "True",
          "False",
          "False",
          "False",
          "False",
          "False",
          "False",
          "False",
          "False",
          "False",
          "False",
          "False",
          "True",
          "False",
          "False",
          "False",
          "False",
          "False",
          "False",
          "False"
         ],
         "xaxis": "x96",
         "y": [
          "AdamW",
          "SGD",
          "AdamW",
          "AdamW",
          "SGD",
          "AdamW",
          "AdamW",
          "AdamW",
          "Adam",
          "SGD",
          "Adam",
          "Adam",
          "Adam",
          "Adam",
          "Adam",
          "Adam",
          "Adam",
          "Adam",
          "Adam",
          "Adam",
          "Adam",
          "Adam",
          "Adam",
          "Adam",
          "Adam",
          "SGD",
          "Adam",
          "Adam",
          "Adam",
          "SGD",
          "Adam",
          "Adam",
          "Adam",
          "Adam",
          "Adam",
          "SGD",
          "AdamW",
          "Adam",
          "AdamW",
          "Adam",
          "AdamW",
          "Adam",
          "Adam",
          "Adam",
          "Adam",
          "SGD",
          "Adam",
          "Adam",
          "Adam",
          "AdamW",
          "Adam",
          "Adam",
          "Adam",
          "Adam",
          "Adam",
          "Adam",
          "Adam"
         ],
         "yaxis": "y96"
        },
        {
         "colorbar": {
          "title": {
           "text": "Objective Value"
          }
         },
         "colorscale": [
          [
           0,
           "rgb(247,251,255)"
          ],
          [
           0.125,
           "rgb(222,235,247)"
          ],
          [
           0.25,
           "rgb(198,219,239)"
          ],
          [
           0.375,
           "rgb(158,202,225)"
          ],
          [
           0.5,
           "rgb(107,174,214)"
          ],
          [
           0.625,
           "rgb(66,146,198)"
          ],
          [
           0.75,
           "rgb(33,113,181)"
          ],
          [
           0.875,
           "rgb(8,81,156)"
          ],
          [
           1,
           "rgb(8,48,107)"
          ]
         ],
         "connectgaps": true,
         "contours": {
          "coloring": "heatmap"
         },
         "hoverinfo": "none",
         "line": {
          "smoothing": 1.3
         },
         "reversescale": true,
         "showscale": false,
         "type": "contour",
         "x": [
          10.399999999999999,
          16,
          32,
          64,
          128,
          133.6
         ],
         "xaxis": "x7",
         "y": [
          "relu",
          "swish"
         ],
         "yaxis": "y7",
         "z": [
          [
           null,
           0.0032087189073746023,
           0.0010509244166314602,
           0.003676444865190066,
           0.0036489125341176987,
           null
          ],
          [
           null,
           0.01462360577923911,
           0.009051533415913582,
           0.011990615299769811,
           0.010210204869508743,
           null
          ]
         ]
        },
        {
         "marker": {
          "color": "black",
          "line": {
           "color": "Gray",
           "width": 2
          }
         },
         "mode": "markers",
         "name": "Feasible Trial",
         "showlegend": false,
         "type": "scatter",
         "x": [
          16,
          128,
          128,
          32,
          16,
          32,
          128,
          16,
          64,
          128,
          32,
          32,
          32,
          32,
          32,
          64,
          32,
          32,
          32,
          64,
          32,
          32,
          32,
          32,
          32,
          32,
          32,
          16,
          64,
          16,
          32,
          32,
          32,
          32,
          128,
          32,
          32,
          128,
          16,
          32,
          32,
          32,
          32,
          32,
          32,
          128,
          64,
          32,
          32,
          16,
          32,
          32,
          32,
          32,
          32,
          32,
          32
         ],
         "xaxis": "x7",
         "y": [
          "relu",
          "swish",
          "swish",
          "swish",
          "swish",
          "relu",
          "swish",
          "swish",
          "relu",
          "swish",
          "relu",
          "relu",
          "relu",
          "relu",
          "relu",
          "relu",
          "relu",
          "relu",
          "relu",
          "relu",
          "relu",
          "relu",
          "relu",
          "relu",
          "relu",
          "relu",
          "relu",
          "relu",
          "relu",
          "relu",
          "relu",
          "relu",
          "relu",
          "relu",
          "relu",
          "swish",
          "relu",
          "swish",
          "relu",
          "swish",
          "relu",
          "relu",
          "relu",
          "relu",
          "relu",
          "relu",
          "swish",
          "relu",
          "relu",
          "relu",
          "relu",
          "relu",
          "relu",
          "relu",
          "relu",
          "relu",
          "swish"
         ],
         "yaxis": "y7"
        },
        {
         "colorbar": {
          "title": {
           "text": "Objective Value"
          }
         },
         "colorscale": [
          [
           0,
           "rgb(247,251,255)"
          ],
          [
           0.125,
           "rgb(222,235,247)"
          ],
          [
           0.25,
           "rgb(198,219,239)"
          ],
          [
           0.375,
           "rgb(158,202,225)"
          ],
          [
           0.5,
           "rgb(107,174,214)"
          ],
          [
           0.625,
           "rgb(66,146,198)"
          ],
          [
           0.75,
           "rgb(33,113,181)"
          ],
          [
           0.875,
           "rgb(8,81,156)"
          ],
          [
           1,
           "rgb(8,48,107)"
          ]
         ],
         "connectgaps": true,
         "contours": {
          "coloring": "heatmap"
         },
         "hoverinfo": "none",
         "line": {
          "smoothing": 1.3
         },
         "reversescale": true,
         "showscale": false,
         "type": "contour",
         "x": [
          10.399999999999999,
          16,
          32,
          64,
          128,
          133.6
         ],
         "xaxis": "x17",
         "y": [
          "False",
          "True"
         ],
         "yaxis": "y17",
         "z": [
          [
           null,
           0.004099226091057062,
           0.0024775939527899027,
           0.00556196179240942,
           0.010210204869508743,
           null
          ],
          [
           null,
           0.0032087189073746023,
           0.0010509244166314602,
           0.003676444865190066,
           0.0036489125341176987,
           null
          ]
         ]
        },
        {
         "marker": {
          "color": "black",
          "line": {
           "color": "Gray",
           "width": 2
          }
         },
         "mode": "markers",
         "name": "Feasible Trial",
         "showlegend": false,
         "type": "scatter",
         "x": [
          16,
          128,
          128,
          32,
          16,
          32,
          128,
          16,
          64,
          128,
          32,
          32,
          32,
          32,
          32,
          64,
          32,
          32,
          32,
          64,
          32,
          32,
          32,
          32,
          32,
          32,
          32,
          16,
          64,
          16,
          32,
          32,
          32,
          32,
          128,
          32,
          32,
          128,
          16,
          32,
          32,
          32,
          32,
          32,
          32,
          128,
          64,
          32,
          32,
          16,
          32,
          32,
          32,
          32,
          32,
          32,
          32
         ],
         "xaxis": "x17",
         "y": [
          "False",
          "True",
          "False",
          "False",
          "False",
          "False",
          "True",
          "False",
          "False",
          "False",
          "True",
          "True",
          "True",
          "True",
          "True",
          "True",
          "True",
          "True",
          "True",
          "True",
          "True",
          "True",
          "True",
          "True",
          "True",
          "True",
          "True",
          "True",
          "True",
          "True",
          "True",
          "True",
          "True",
          "True",
          "True",
          "True",
          "True",
          "False",
          "True",
          "False",
          "True",
          "True",
          "True",
          "True",
          "False",
          "True",
          "True",
          "True",
          "False",
          "True",
          "True",
          "True",
          "True",
          "True",
          "True",
          "True",
          "True"
         ],
         "yaxis": "y17"
        },
        {
         "colorbar": {
          "title": {
           "text": "Objective Value"
          }
         },
         "colorscale": [
          [
           0,
           "rgb(247,251,255)"
          ],
          [
           0.125,
           "rgb(222,235,247)"
          ],
          [
           0.25,
           "rgb(198,219,239)"
          ],
          [
           0.375,
           "rgb(158,202,225)"
          ],
          [
           0.5,
           "rgb(107,174,214)"
          ],
          [
           0.625,
           "rgb(66,146,198)"
          ],
          [
           0.75,
           "rgb(33,113,181)"
          ],
          [
           0.875,
           "rgb(8,81,156)"
          ],
          [
           1,
           "rgb(8,48,107)"
          ]
         ],
         "connectgaps": true,
         "contours": {
          "coloring": "heatmap"
         },
         "hoverinfo": "none",
         "line": {
          "smoothing": 1.3
         },
         "reversescale": true,
         "showscale": false,
         "type": "contour",
         "x": [
          10.399999999999999,
          16,
          32,
          64,
          128,
          133.6
         ],
         "xaxis": "x27",
         "y": [
          41.599999999999994,
          64,
          256,
          384,
          512,
          534.4
         ],
         "yaxis": "y27",
         "z": [
          [
           null,
           null,
           null,
           null,
           null,
           null
          ],
          [
           null,
           0.007493170909583569,
           0.018036603927612305,
           0.017933184280991554,
           null,
           null
          ],
          [
           null,
           0.0032087189073746023,
           0.0034027867950499058,
           0.00556196179240942,
           0.015235654436624967,
           null
          ],
          [
           null,
           null,
           0.0031210482120513916,
           null,
           0.010210204869508743,
           null
          ],
          [
           null,
           null,
           0.0010509244166314602,
           0.003676444865190066,
           0.0036489125341176987,
           null
          ],
          [
           null,
           null,
           null,
           null,
           null,
           null
          ]
         ]
        },
        {
         "marker": {
          "color": "black",
          "line": {
           "color": "Gray",
           "width": 2
          }
         },
         "mode": "markers",
         "name": "Feasible Trial",
         "showlegend": false,
         "type": "scatter",
         "x": [
          16,
          128,
          128,
          32,
          16,
          32,
          128,
          16,
          64,
          128,
          32,
          32,
          32,
          32,
          32,
          64,
          32,
          32,
          32,
          64,
          32,
          32,
          32,
          32,
          32,
          32,
          32,
          16,
          64,
          16,
          32,
          32,
          32,
          32,
          128,
          32,
          32,
          128,
          16,
          32,
          32,
          32,
          32,
          32,
          32,
          128,
          64,
          32,
          32,
          16,
          32,
          32,
          32,
          32,
          32,
          32,
          32
         ],
         "xaxis": "x27",
         "y": [
          256,
          512,
          256,
          384,
          64,
          512,
          512,
          64,
          256,
          384,
          512,
          512,
          512,
          512,
          512,
          512,
          512,
          384,
          64,
          512,
          512,
          512,
          512,
          512,
          512,
          512,
          384,
          256,
          64,
          256,
          512,
          512,
          512,
          512,
          512,
          512,
          256,
          512,
          64,
          384,
          512,
          512,
          512,
          512,
          512,
          512,
          512,
          512,
          256,
          64,
          384,
          512,
          512,
          512,
          512,
          512,
          512
         ],
         "yaxis": "y27"
        },
        {
         "colorbar": {
          "title": {
           "text": "Objective Value"
          }
         },
         "colorscale": [
          [
           0,
           "rgb(247,251,255)"
          ],
          [
           0.125,
           "rgb(222,235,247)"
          ],
          [
           0.25,
           "rgb(198,219,239)"
          ],
          [
           0.375,
           "rgb(158,202,225)"
          ],
          [
           0.5,
           "rgb(107,174,214)"
          ],
          [
           0.625,
           "rgb(66,146,198)"
          ],
          [
           0.75,
           "rgb(33,113,181)"
          ],
          [
           0.875,
           "rgb(8,81,156)"
          ],
          [
           1,
           "rgb(8,48,107)"
          ]
         ],
         "connectgaps": true,
         "contours": {
          "coloring": "heatmap"
         },
         "hoverinfo": "none",
         "line": {
          "smoothing": 1.3
         },
         "reversescale": true,
         "showscale": false,
         "type": "contour",
         "x": [
          10.399999999999999,
          16,
          32,
          64,
          128,
          133.6
         ],
         "xaxis": "x37",
         "y": [
          41.599999999999994,
          64,
          256,
          384,
          512,
          534.4
         ],
         "yaxis": "y37",
         "z": [
          [
           null,
           null,
           null,
           null,
           null,
           null
          ],
          [
           null,
           0.012842606753110886,
           0.0034027867950499058,
           0.017933184280991554,
           null,
           null
          ],
          [
           null,
           0.016106017998286655,
           0.0024279847275465727,
           null,
           0.010210204869508743,
           null
          ],
          [
           null,
           0.007493170909583569,
           0.0010509244166314602,
           0.003676444865190066,
           0.0036489125341176987,
           null
          ],
          [
           null,
           0.0032087189073746023,
           0.005089037652526583,
           null,
           0.012514274567365646,
           null
          ],
          [
           null,
           null,
           null,
           null,
           null,
           null
          ]
         ]
        },
        {
         "marker": {
          "color": "black",
          "line": {
           "color": "Gray",
           "width": 2
          }
         },
         "mode": "markers",
         "name": "Feasible Trial",
         "showlegend": false,
         "type": "scatter",
         "x": [
          16,
          128,
          128,
          32,
          16,
          32,
          128,
          16,
          64,
          128,
          32,
          32,
          32,
          32,
          32,
          64,
          32,
          32,
          32,
          64,
          32,
          32,
          32,
          32,
          32,
          32,
          32,
          16,
          64,
          16,
          32,
          32,
          32,
          32,
          128,
          32,
          32,
          128,
          16,
          32,
          32,
          32,
          32,
          32,
          32,
          128,
          64,
          32,
          32,
          16,
          32,
          32,
          32,
          32,
          32,
          32,
          32
         ],
         "xaxis": "x37",
         "y": [
          512,
          512,
          256,
          64,
          256,
          384,
          384,
          64,
          384,
          256,
          384,
          384,
          384,
          384,
          384,
          384,
          384,
          512,
          64,
          384,
          384,
          384,
          384,
          384,
          384,
          384,
          256,
          512,
          64,
          512,
          384,
          384,
          384,
          384,
          384,
          256,
          512,
          384,
          64,
          384,
          256,
          384,
          384,
          384,
          384,
          384,
          384,
          384,
          64,
          384,
          384,
          384,
          384,
          384,
          384,
          384,
          256
         ],
         "yaxis": "y37"
        },
        {
         "colorbar": {
          "title": {
           "text": "Objective Value"
          }
         },
         "colorscale": [
          [
           0,
           "rgb(247,251,255)"
          ],
          [
           0.125,
           "rgb(222,235,247)"
          ],
          [
           0.25,
           "rgb(198,219,239)"
          ],
          [
           0.375,
           "rgb(158,202,225)"
          ],
          [
           0.5,
           "rgb(107,174,214)"
          ],
          [
           0.625,
           "rgb(66,146,198)"
          ],
          [
           0.75,
           "rgb(33,113,181)"
          ],
          [
           0.875,
           "rgb(8,81,156)"
          ],
          [
           1,
           "rgb(8,48,107)"
          ]
         ],
         "connectgaps": true,
         "contours": {
          "coloring": "heatmap"
         },
         "hoverinfo": "none",
         "line": {
          "smoothing": 1.3
         },
         "reversescale": true,
         "showscale": false,
         "type": "contour",
         "x": [
          10.399999999999999,
          16,
          32,
          64,
          128,
          133.6
         ],
         "xaxis": "x47",
         "y": [
          1.7,
          2,
          4,
          6,
          8,
          8.3
         ],
         "yaxis": "y47",
         "z": [
          [
           null,
           null,
           null,
           null,
           null,
           null
          ],
          [
           null,
           0.004099226091057062,
           0.0038915337063372135,
           0.00556196179240942,
           0.012514274567365646,
           null
          ],
          [
           null,
           null,
           0.0034027867950499058,
           0.017933184280991554,
           0.012798120932919639,
           null
          ],
          [
           null,
           0.005068128928542137,
           0.0010509244166314602,
           0.003910826948972849,
           0.0036489125341176987,
           null
          ],
          [
           null,
           0.0032087189073746023,
           0.003677790518850088,
           0.003676444865190066,
           0.010210204869508743,
           null
          ],
          [
           null,
           null,
           null,
           null,
           null,
           null
          ]
         ]
        },
        {
         "marker": {
          "color": "black",
          "line": {
           "color": "Gray",
           "width": 2
          }
         },
         "mode": "markers",
         "name": "Feasible Trial",
         "showlegend": false,
         "type": "scatter",
         "x": [
          16,
          128,
          128,
          32,
          16,
          32,
          128,
          16,
          64,
          128,
          32,
          32,
          32,
          32,
          32,
          64,
          32,
          32,
          32,
          64,
          32,
          32,
          32,
          32,
          32,
          32,
          32,
          16,
          64,
          16,
          32,
          32,
          32,
          32,
          128,
          32,
          32,
          128,
          16,
          32,
          32,
          32,
          32,
          32,
          32,
          128,
          64,
          32,
          32,
          16,
          32,
          32,
          32,
          32,
          32,
          32,
          32
         ],
         "xaxis": "x47",
         "y": [
          2,
          2,
          6,
          4,
          2,
          6,
          4,
          6,
          2,
          8,
          6,
          6,
          6,
          6,
          8,
          6,
          6,
          6,
          4,
          8,
          6,
          6,
          6,
          6,
          6,
          6,
          6,
          8,
          4,
          6,
          2,
          6,
          6,
          6,
          6,
          2,
          6,
          4,
          6,
          2,
          6,
          6,
          6,
          6,
          6,
          6,
          8,
          6,
          4,
          6,
          6,
          6,
          6,
          6,
          6,
          6,
          2
         ],
         "yaxis": "y47"
        },
        {
         "colorbar": {
          "title": {
           "text": "Objective Value"
          }
         },
         "colorscale": [
          [
           0,
           "rgb(247,251,255)"
          ],
          [
           0.125,
           "rgb(222,235,247)"
          ],
          [
           0.25,
           "rgb(198,219,239)"
          ],
          [
           0.375,
           "rgb(158,202,225)"
          ],
          [
           0.5,
           "rgb(107,174,214)"
          ],
          [
           0.625,
           "rgb(66,146,198)"
          ],
          [
           0.75,
           "rgb(33,113,181)"
          ],
          [
           0.875,
           "rgb(8,81,156)"
          ],
          [
           1,
           "rgb(8,48,107)"
          ]
         ],
         "connectgaps": true,
         "contours": {
          "coloring": "heatmap"
         },
         "hoverinfo": "none",
         "line": {
          "smoothing": 1.3
         },
         "reversescale": true,
         "showscale": false,
         "type": "contour",
         "x": [
          10.399999999999999,
          16,
          32,
          64,
          128,
          133.6
         ],
         "xaxis": "x57",
         "y": [
          "False",
          "True"
         ],
         "yaxis": "y57",
         "z": [
          [
           null,
           0.0032087189073746023,
           0.0010509244166314602,
           0.003676444865190066,
           0.0036489125341176987,
           null
          ],
          [
           null,
           0.004099226091057062,
           0.003278343938291073,
           null,
           0.013237009827907268,
           null
          ]
         ]
        },
        {
         "marker": {
          "color": "black",
          "line": {
           "color": "Gray",
           "width": 2
          }
         },
         "mode": "markers",
         "name": "Feasible Trial",
         "showlegend": false,
         "type": "scatter",
         "x": [
          16,
          128,
          128,
          32,
          16,
          32,
          128,
          16,
          64,
          128,
          32,
          32,
          32,
          32,
          32,
          64,
          32,
          32,
          32,
          64,
          32,
          32,
          32,
          32,
          32,
          32,
          32,
          16,
          64,
          16,
          32,
          32,
          32,
          32,
          128,
          32,
          32,
          128,
          16,
          32,
          32,
          32,
          32,
          32,
          32,
          128,
          64,
          32,
          32,
          16,
          32,
          32,
          32,
          32,
          32,
          32,
          32
         ],
         "xaxis": "x57",
         "y": [
          "True",
          "False",
          "True",
          "True",
          "True",
          "False",
          "False",
          "False",
          "False",
          "False",
          "False",
          "False",
          "False",
          "False",
          "False",
          "False",
          "False",
          "False",
          "True",
          "False",
          "False",
          "False",
          "False",
          "False",
          "False",
          "False",
          "True",
          "False",
          "False",
          "True",
          "False",
          "False",
          "False",
          "False",
          "False",
          "True",
          "False",
          "True",
          "False",
          "False",
          "False",
          "False",
          "False",
          "False",
          "False",
          "False",
          "False",
          "False",
          "False",
          "True",
          "False",
          "False",
          "False",
          "False",
          "False",
          "False",
          "False"
         ],
         "yaxis": "y57"
        },
        {
         "type": "scatter",
         "xaxis": "x67",
         "yaxis": "y67"
        },
        {
         "colorbar": {
          "title": {
           "text": "Objective Value"
          }
         },
         "colorscale": [
          [
           0,
           "rgb(247,251,255)"
          ],
          [
           0.125,
           "rgb(222,235,247)"
          ],
          [
           0.25,
           "rgb(198,219,239)"
          ],
          [
           0.375,
           "rgb(158,202,225)"
          ],
          [
           0.5,
           "rgb(107,174,214)"
          ],
          [
           0.625,
           "rgb(66,146,198)"
          ],
          [
           0.75,
           "rgb(33,113,181)"
          ],
          [
           0.875,
           "rgb(8,81,156)"
          ],
          [
           1,
           "rgb(8,48,107)"
          ]
         ],
         "connectgaps": true,
         "contours": {
          "coloring": "heatmap"
         },
         "hoverinfo": "none",
         "line": {
          "smoothing": 1.3
         },
         "reversescale": true,
         "showscale": false,
         "type": "contour",
         "x": [
          10.399999999999999,
          16,
          32,
          64,
          128,
          133.6
         ],
         "xaxis": "x77",
         "y": [
          5.199999999999999,
          8,
          16,
          32,
          64,
          66.8
         ],
         "yaxis": "y77",
         "z": [
          [
           null,
           null,
           null,
           null,
           null,
           null
          ],
          [
           null,
           0.0032087189073746023,
           0.0031210482120513916,
           0.003676444865190066,
           0.013237009827907268,
           null
          ],
          [
           null,
           0.01462360577923911,
           0.005089037652526583,
           0.011990615299769811,
           0.012798120932919639,
           null
          ],
          [
           null,
           0.004099226091057062,
           null,
           0.00556196179240942,
           0.004693320952355862,
           null
          ],
          [
           null,
           0.007493170909583569,
           0.0010509244166314602,
           null,
           0.0036489125341176987,
           null
          ],
          [
           null,
           null,
           null,
           null,
           null,
           null
          ]
         ]
        },
        {
         "marker": {
          "color": "black",
          "line": {
           "color": "Gray",
           "width": 2
          }
         },
         "mode": "markers",
         "name": "Feasible Trial",
         "showlegend": false,
         "type": "scatter",
         "x": [
          16,
          128,
          128,
          32,
          16,
          32,
          128,
          16,
          64,
          128,
          32,
          32,
          32,
          32,
          32,
          64,
          32,
          32,
          32,
          64,
          32,
          32,
          32,
          32,
          32,
          32,
          32,
          16,
          64,
          16,
          32,
          32,
          32,
          32,
          128,
          32,
          32,
          128,
          16,
          32,
          32,
          32,
          32,
          32,
          32,
          128,
          64,
          32,
          32,
          16,
          32,
          32,
          32,
          32,
          32,
          32,
          32
         ],
         "xaxis": "x77",
         "y": [
          32,
          64,
          8,
          16,
          16,
          64,
          16,
          16,
          32,
          32,
          64,
          64,
          64,
          64,
          64,
          8,
          64,
          64,
          64,
          8,
          64,
          64,
          64,
          64,
          64,
          64,
          64,
          8,
          32,
          32,
          64,
          64,
          64,
          64,
          64,
          64,
          16,
          8,
          64,
          16,
          64,
          64,
          64,
          64,
          64,
          32,
          16,
          64,
          64,
          64,
          8,
          64,
          64,
          64,
          64,
          64,
          64
         ],
         "yaxis": "y77"
        },
        {
         "colorbar": {
          "title": {
           "text": "Objective Value"
          }
         },
         "colorscale": [
          [
           0,
           "rgb(247,251,255)"
          ],
          [
           0.125,
           "rgb(222,235,247)"
          ],
          [
           0.25,
           "rgb(198,219,239)"
          ],
          [
           0.375,
           "rgb(158,202,225)"
          ],
          [
           0.5,
           "rgb(107,174,214)"
          ],
          [
           0.625,
           "rgb(66,146,198)"
          ],
          [
           0.75,
           "rgb(33,113,181)"
          ],
          [
           0.875,
           "rgb(8,81,156)"
          ],
          [
           1,
           "rgb(8,48,107)"
          ]
         ],
         "connectgaps": true,
         "contours": {
          "coloring": "heatmap"
         },
         "hoverinfo": "none",
         "line": {
          "smoothing": 1.3
         },
         "reversescale": true,
         "showscale": false,
         "type": "contour",
         "x": [
          10.399999999999999,
          16,
          32,
          64,
          128,
          133.6
         ],
         "xaxis": "x87",
         "y": [
          -0.0003327779727902093,
          0.00013293451068639153,
          0.00016482101598833644,
          0.0002859618983201747,
          0.0005030922057200975,
          0.0005082222560318676,
          0.0005109668968683066,
          0.000662259354729205,
          0.000804803158410011,
          0.0008829668498645474,
          0.001035287721361168,
          0.0010762834240493012,
          0.0013010270616585372,
          0.0013123106047931883,
          0.0013848997785396763,
          0.0014712220401046773,
          0.0015236648785628855,
          0.0015528292768899295,
          0.0015783681924397643,
          0.0017245660022955657,
          0.001805691009839501,
          0.0018665340990677206,
          0.0018891900420452655,
          0.0019967096733155307,
          0.002022807309729832,
          0.002221702135674957,
          0.0022966234341041886,
          0.0024793055464558773,
          0.0024844733874638822,
          0.002569749107475558,
          0.002570416914840954,
          0.0027720657351321654,
          0.002861152110081496,
          0.0031063248738114947,
          0.00321367916541899,
          0.003272692583939085,
          0.0033627177469709303,
          0.0034983693930714047,
          0.003644256277757865,
          0.0037134388254553147,
          0.0037319454075769917,
          0.004059959359984235,
          0.004239922045757851,
          0.004263219032077157,
          0.004643003925192097,
          0.004679597012724851,
          0.004793542036453257,
          0.0048612258246951735,
          0.005457312666941946,
          0.005689736859226749,
          0.006357299898537107,
          0.006644651164503487,
          0.006993481555530524,
          0.00800933505882863,
          0.008088989972958073,
          0.00847077666596943,
          0.009326128265959114,
          0.009447184180218409,
          0.00991289666369501
         ],
         "yaxis": "y87",
         "z": [
          [
           null,
           null,
           null,
           null,
           null,
           null
          ],
          [
           null,
           null,
           0.007173012942075729,
           null,
           null,
           null
          ],
          [
           null,
           null,
           0.018036603927612305,
           null,
           null,
           null
          ],
          [
           null,
           null,
           0.0023483606055378914,
           null,
           null,
           null
          ],
          [
           null,
           null,
           0.001077517052181065,
           null,
           null,
           null
          ],
          [
           null,
           null,
           0.011020248755812645,
           null,
           null,
           null
          ],
          [
           null,
           null,
           0.0017465348355472088,
           null,
           null,
           null
          ],
          [
           null,
           null,
           null,
           0.011990615299769811,
           null,
           null
          ],
          [
           null,
           null,
           0.009051533415913582,
           null,
           null,
           null
          ],
          [
           null,
           null,
           0.0038915337063372135,
           null,
           null,
           null
          ],
          [
           null,
           null,
           0.0026472685858607292,
           null,
           null,
           null
          ],
          [
           null,
           null,
           0.0028466973453760147,
           null,
           null,
           null
          ],
          [
           null,
           null,
           null,
           0.003676444865190066,
           null,
           null
          ],
          [
           null,
           null,
           0.0013212664052844048,
           null,
           null,
           null
          ],
          [
           null,
           null,
           0.002323493827134371,
           null,
           null,
           null
          ],
          [
           null,
           null,
           0.0011659844312816858,
           null,
           null,
           null
          ],
          [
           null,
           null,
           0.0010562939569354057,
           null,
           null,
           null
          ],
          [
           null,
           null,
           0.0019303050357848406,
           null,
           null,
           null
          ],
          [
           null,
           null,
           0.001234408002346754,
           null,
           null,
           null
          ],
          [
           null,
           null,
           0.0010509244166314602,
           null,
           null,
           null
          ],
          [
           null,
           null,
           0.005089037652526583,
           null,
           null,
           null
          ],
          [
           null,
           null,
           0.002799304900690913,
           null,
           null,
           null
          ],
          [
           null,
           null,
           null,
           0.017933184280991554,
           null,
           null
          ],
          [
           null,
           null,
           0.0014195044059306383,
           null,
           null,
           null
          ],
          [
           null,
           null,
           null,
           null,
           0.015235654436624967,
           null
          ],
          [
           null,
           null,
           null,
           null,
           0.013237009827907268,
           null
          ],
          [
           null,
           0.007493170909583569,
           null,
           null,
           null,
           null
          ],
          [
           null,
           null,
           0.004169144667685032,
           null,
           null,
           null
          ],
          [
           null,
           null,
           0.009889267385005951,
           null,
           null,
           null
          ],
          [
           null,
           null,
           0.005443759262561798,
           null,
           null,
           null
          ],
          [
           null,
           null,
           0.0024775939527899027,
           null,
           null,
           null
          ],
          [
           null,
           null,
           0.0034027867950499058,
           null,
           null,
           null
          ],
          [
           null,
           null,
           null,
           null,
           0.0036489125341176987,
           null
          ],
          [
           null,
           null,
           0.009871360446725572,
           null,
           null,
           null
          ],
          [
           null,
           null,
           0.0016798200085759163,
           null,
           null,
           null
          ],
          [
           null,
           null,
           0.003677790518850088,
           null,
           null,
           null
          ],
          [
           null,
           null,
           0.0010533332824707031,
           null,
           null,
           null
          ],
          [
           null,
           null,
           0.0017711485270410776,
           null,
           null,
           null
          ],
          [
           null,
           null,
           0.0011525334557518363,
           null,
           null,
           null
          ],
          [
           null,
           null,
           null,
           0.003910826948972849,
           null,
           null
          ],
          [
           null,
           null,
           0.003278343938291073,
           null,
           null,
           null
          ],
          [
           null,
           0.005068128928542137,
           null,
           null,
           null,
           null
          ],
          [
           null,
           null,
           null,
           null,
           0.004693320952355862,
           null
          ],
          [
           null,
           null,
           0.0024279847275465727,
           null,
           null,
           null
          ],
          [
           null,
           null,
           0.004909416660666466,
           null,
           null,
           null
          ],
          [
           null,
           null,
           0.0031210482120513916,
           null,
           null,
           null
          ],
          [
           null,
           null,
           0.002582056913524866,
           null,
           null,
           null
          ],
          [
           null,
           0.004099226091057062,
           null,
           null,
           null,
           null
          ],
          [
           null,
           0.012842606753110886,
           null,
           null,
           null,
           null
          ],
          [
           null,
           0.0032087189073746023,
           null,
           null,
           null,
           null
          ],
          [
           null,
           null,
           null,
           null,
           0.010210204869508743,
           null
          ],
          [
           null,
           null,
           0.004480917938053608,
           null,
           null,
           null
          ],
          [
           null,
           null,
           0.003125535324215889,
           null,
           null,
           null
          ],
          [
           null,
           null,
           null,
           0.00556196179240942,
           null,
           null
          ],
          [
           null,
           0.016106017998286655,
           null,
           null,
           null,
           null
          ],
          [
           null,
           0.01462360577923911,
           null,
           null,
           null,
           null
          ],
          [
           null,
           null,
           null,
           null,
           0.012798120932919639,
           null
          ],
          [
           null,
           null,
           null,
           null,
           0.012514274567365646,
           null
          ],
          [
           null,
           null,
           null,
           null,
           null,
           null
          ]
         ]
        },
        {
         "marker": {
          "color": "black",
          "line": {
           "color": "Gray",
           "width": 2
          }
         },
         "mode": "markers",
         "name": "Feasible Trial",
         "showlegend": false,
         "type": "scatter",
         "x": [
          16,
          128,
          128,
          32,
          16,
          32,
          128,
          16,
          64,
          128,
          32,
          32,
          32,
          32,
          32,
          64,
          32,
          32,
          32,
          64,
          32,
          32,
          32,
          32,
          32,
          32,
          32,
          16,
          64,
          16,
          32,
          32,
          32,
          32,
          128,
          32,
          32,
          128,
          16,
          32,
          32,
          32,
          32,
          32,
          32,
          128,
          64,
          32,
          32,
          16,
          32,
          32,
          32,
          32,
          32,
          32,
          32
         ],
         "xaxis": "x87",
         "y": [
          0.0048612258246951735,
          0.009447184180218409,
          0.002022807309729832,
          0.0024844733874638822,
          0.008088989972958073,
          0.006993481555530524,
          0.009326128265959114,
          0.00847077666596943,
          0.00800933505882863,
          0.006357299898537107,
          0.004793542036453257,
          0.004643003925192097,
          0.006644651164503487,
          0.003644256277757865,
          0.003272692583939085,
          0.0037134388254553147,
          0.0002859618983201747,
          0.00013293451068639153,
          0.00016482101598833644,
          0.0013010270616585372,
          0.0015783681924397643,
          0.0013848997785396763,
          0.0014712220401046773,
          0.00321367916541899,
          0.0013123106047931883,
          0.0024793055464558773,
          0.0037319454075769917,
          0.005689736859226749,
          0.0018891900420452655,
          0.004059959359984235,
          0.0008829668498645474,
          0.001035287721361168,
          0.002569749107475558,
          0.0018665340990677206,
          0.002861152110081496,
          0.000804803158410011,
          0.001805691009839501,
          0.002221702135674957,
          0.005457312666941946,
          0.0031063248738114947,
          0.004263219032077157,
          0.0033627177469709303,
          0.0015236648785628855,
          0.0034983693930714047,
          0.002570416914840954,
          0.004239922045757851,
          0.000662259354729205,
          0.0017245660022955657,
          0.0027720657351321654,
          0.0022966234341041886,
          0.004679597012724851,
          0.0015528292768899295,
          0.0019967096733155307,
          0.0005030922057200975,
          0.0005109668968683066,
          0.0010762834240493012,
          0.0005082222560318676
         ],
         "yaxis": "y87"
        },
        {
         "colorbar": {
          "title": {
           "text": "Objective Value"
          }
         },
         "colorscale": [
          [
           0,
           "rgb(247,251,255)"
          ],
          [
           0.125,
           "rgb(222,235,247)"
          ],
          [
           0.25,
           "rgb(198,219,239)"
          ],
          [
           0.375,
           "rgb(158,202,225)"
          ],
          [
           0.5,
           "rgb(107,174,214)"
          ],
          [
           0.625,
           "rgb(66,146,198)"
          ],
          [
           0.75,
           "rgb(33,113,181)"
          ],
          [
           0.875,
           "rgb(8,81,156)"
          ],
          [
           1,
           "rgb(8,48,107)"
          ]
         ],
         "connectgaps": true,
         "contours": {
          "coloring": "heatmap"
         },
         "hoverinfo": "none",
         "line": {
          "smoothing": 1.3
         },
         "reversescale": true,
         "showscale": false,
         "type": "contour",
         "x": [
          10.399999999999999,
          16,
          32,
          64,
          128,
          133.6
         ],
         "xaxis": "x97",
         "y": [
          "Adam",
          "AdamW",
          "SGD"
         ],
         "yaxis": "y97",
         "z": [
          [
           null,
           0.0032087189073746023,
           0.0010509244166314602,
           0.003676444865190066,
           0.0036489125341176987,
           null
          ],
          [
           null,
           0.004099226091057062,
           0.0024279847275465727,
           null,
           0.012798120932919639,
           null
          ],
          [
           null,
           0.005068128928542137,
           0.004169144667685032,
           null,
           0.004693320952355862,
           null
          ]
         ]
        },
        {
         "marker": {
          "color": "black",
          "line": {
           "color": "Gray",
           "width": 2
          }
         },
         "mode": "markers",
         "name": "Feasible Trial",
         "showlegend": false,
         "type": "scatter",
         "x": [
          16,
          128,
          128,
          32,
          16,
          32,
          128,
          16,
          64,
          128,
          32,
          32,
          32,
          32,
          32,
          64,
          32,
          32,
          32,
          64,
          32,
          32,
          32,
          32,
          32,
          32,
          32,
          16,
          64,
          16,
          32,
          32,
          32,
          32,
          128,
          32,
          32,
          128,
          16,
          32,
          32,
          32,
          32,
          32,
          32,
          128,
          64,
          32,
          32,
          16,
          32,
          32,
          32,
          32,
          32,
          32,
          32
         ],
         "xaxis": "x97",
         "y": [
          "AdamW",
          "SGD",
          "AdamW",
          "AdamW",
          "SGD",
          "AdamW",
          "AdamW",
          "AdamW",
          "Adam",
          "SGD",
          "Adam",
          "Adam",
          "Adam",
          "Adam",
          "Adam",
          "Adam",
          "Adam",
          "Adam",
          "Adam",
          "Adam",
          "Adam",
          "Adam",
          "Adam",
          "Adam",
          "Adam",
          "SGD",
          "Adam",
          "Adam",
          "Adam",
          "SGD",
          "Adam",
          "Adam",
          "Adam",
          "Adam",
          "Adam",
          "SGD",
          "AdamW",
          "Adam",
          "AdamW",
          "Adam",
          "AdamW",
          "Adam",
          "Adam",
          "Adam",
          "Adam",
          "SGD",
          "Adam",
          "Adam",
          "Adam",
          "AdamW",
          "Adam",
          "Adam",
          "Adam",
          "Adam",
          "Adam",
          "Adam",
          "Adam"
         ],
         "yaxis": "y97"
        },
        {
         "colorbar": {
          "title": {
           "text": "Objective Value"
          }
         },
         "colorscale": [
          [
           0,
           "rgb(247,251,255)"
          ],
          [
           0.125,
           "rgb(222,235,247)"
          ],
          [
           0.25,
           "rgb(198,219,239)"
          ],
          [
           0.375,
           "rgb(158,202,225)"
          ],
          [
           0.5,
           "rgb(107,174,214)"
          ],
          [
           0.625,
           "rgb(66,146,198)"
          ],
          [
           0.75,
           "rgb(33,113,181)"
          ],
          [
           0.875,
           "rgb(8,81,156)"
          ],
          [
           1,
           "rgb(8,48,107)"
          ]
         ],
         "connectgaps": true,
         "contours": {
          "coloring": "heatmap"
         },
         "hoverinfo": "none",
         "line": {
          "smoothing": 1.3
         },
         "reversescale": true,
         "showscale": false,
         "type": "contour",
         "x": [
          5.199999999999999,
          8,
          16,
          32,
          64,
          66.8
         ],
         "xaxis": "x8",
         "y": [
          "relu",
          "swish"
         ],
         "yaxis": "y8",
         "z": [
          [
           null,
           0.0031210482120513916,
           0.005089037652526583,
           0.004099226091057062,
           0.0010509244166314602,
           null
          ],
          [
           null,
           0.013237009827907268,
           0.009871360446725572,
           0.010210204869508743,
           0.009051533415913582,
           null
          ]
         ]
        },
        {
         "marker": {
          "color": "black",
          "line": {
           "color": "Gray",
           "width": 2
          }
         },
         "mode": "markers",
         "name": "Feasible Trial",
         "showlegend": false,
         "type": "scatter",
         "x": [
          32,
          64,
          8,
          16,
          16,
          64,
          16,
          16,
          32,
          32,
          64,
          64,
          64,
          64,
          64,
          8,
          64,
          64,
          64,
          8,
          64,
          64,
          64,
          64,
          64,
          64,
          64,
          8,
          32,
          32,
          64,
          64,
          64,
          64,
          64,
          64,
          16,
          8,
          64,
          16,
          64,
          64,
          64,
          64,
          64,
          32,
          16,
          64,
          64,
          64,
          8,
          64,
          64,
          64,
          64,
          64,
          64
         ],
         "xaxis": "x8",
         "y": [
          "relu",
          "swish",
          "swish",
          "swish",
          "swish",
          "relu",
          "swish",
          "swish",
          "relu",
          "swish",
          "relu",
          "relu",
          "relu",
          "relu",
          "relu",
          "relu",
          "relu",
          "relu",
          "relu",
          "relu",
          "relu",
          "relu",
          "relu",
          "relu",
          "relu",
          "relu",
          "relu",
          "relu",
          "relu",
          "relu",
          "relu",
          "relu",
          "relu",
          "relu",
          "relu",
          "swish",
          "relu",
          "swish",
          "relu",
          "swish",
          "relu",
          "relu",
          "relu",
          "relu",
          "relu",
          "relu",
          "swish",
          "relu",
          "relu",
          "relu",
          "relu",
          "relu",
          "relu",
          "relu",
          "relu",
          "relu",
          "swish"
         ],
         "yaxis": "y8"
        },
        {
         "colorbar": {
          "title": {
           "text": "Objective Value"
          }
         },
         "colorscale": [
          [
           0,
           "rgb(247,251,255)"
          ],
          [
           0.125,
           "rgb(222,235,247)"
          ],
          [
           0.25,
           "rgb(198,219,239)"
          ],
          [
           0.375,
           "rgb(158,202,225)"
          ],
          [
           0.5,
           "rgb(107,174,214)"
          ],
          [
           0.625,
           "rgb(66,146,198)"
          ],
          [
           0.75,
           "rgb(33,113,181)"
          ],
          [
           0.875,
           "rgb(8,81,156)"
          ],
          [
           1,
           "rgb(8,48,107)"
          ]
         ],
         "connectgaps": true,
         "contours": {
          "coloring": "heatmap"
         },
         "hoverinfo": "none",
         "line": {
          "smoothing": 1.3
         },
         "reversescale": true,
         "showscale": false,
         "type": "contour",
         "x": [
          5.199999999999999,
          8,
          16,
          32,
          64,
          66.8
         ],
         "xaxis": "x18",
         "y": [
          "False",
          "True"
         ],
         "yaxis": "y18",
         "z": [
          [
           null,
           0.013237009827907268,
           0.009871360446725572,
           0.004099226091057062,
           0.0024775939527899027,
           null
          ],
          [
           null,
           0.0031210482120513916,
           0.005089037652526583,
           0.004693320952355862,
           0.0010509244166314602,
           null
          ]
         ]
        },
        {
         "marker": {
          "color": "black",
          "line": {
           "color": "Gray",
           "width": 2
          }
         },
         "mode": "markers",
         "name": "Feasible Trial",
         "showlegend": false,
         "type": "scatter",
         "x": [
          32,
          64,
          8,
          16,
          16,
          64,
          16,
          16,
          32,
          32,
          64,
          64,
          64,
          64,
          64,
          8,
          64,
          64,
          64,
          8,
          64,
          64,
          64,
          64,
          64,
          64,
          64,
          8,
          32,
          32,
          64,
          64,
          64,
          64,
          64,
          64,
          16,
          8,
          64,
          16,
          64,
          64,
          64,
          64,
          64,
          32,
          16,
          64,
          64,
          64,
          8,
          64,
          64,
          64,
          64,
          64,
          64
         ],
         "xaxis": "x18",
         "y": [
          "False",
          "True",
          "False",
          "False",
          "False",
          "False",
          "True",
          "False",
          "False",
          "False",
          "True",
          "True",
          "True",
          "True",
          "True",
          "True",
          "True",
          "True",
          "True",
          "True",
          "True",
          "True",
          "True",
          "True",
          "True",
          "True",
          "True",
          "True",
          "True",
          "True",
          "True",
          "True",
          "True",
          "True",
          "True",
          "True",
          "True",
          "False",
          "True",
          "False",
          "True",
          "True",
          "True",
          "True",
          "False",
          "True",
          "True",
          "True",
          "False",
          "True",
          "True",
          "True",
          "True",
          "True",
          "True",
          "True",
          "True"
         ],
         "yaxis": "y18"
        },
        {
         "colorbar": {
          "title": {
           "text": "Objective Value"
          }
         },
         "colorscale": [
          [
           0,
           "rgb(247,251,255)"
          ],
          [
           0.125,
           "rgb(222,235,247)"
          ],
          [
           0.25,
           "rgb(198,219,239)"
          ],
          [
           0.375,
           "rgb(158,202,225)"
          ],
          [
           0.5,
           "rgb(107,174,214)"
          ],
          [
           0.625,
           "rgb(66,146,198)"
          ],
          [
           0.75,
           "rgb(33,113,181)"
          ],
          [
           0.875,
           "rgb(8,81,156)"
          ],
          [
           1,
           "rgb(8,48,107)"
          ]
         ],
         "connectgaps": true,
         "contours": {
          "coloring": "heatmap"
         },
         "hoverinfo": "none",
         "line": {
          "smoothing": 1.3
         },
         "reversescale": true,
         "showscale": false,
         "type": "contour",
         "x": [
          5.199999999999999,
          8,
          16,
          32,
          64,
          66.8
         ],
         "xaxis": "x28",
         "y": [
          41.599999999999994,
          64,
          256,
          384,
          512,
          534.4
         ],
         "yaxis": "y28",
         "z": [
          [
           null,
           null,
           null,
           null,
           null,
           null
          ],
          [
           null,
           null,
           0.01462360577923911,
           0.017933184280991554,
           0.007493170909583569,
           null
          ],
          [
           null,
           0.0032087189073746023,
           0.005089037652526583,
           0.004099226091057062,
           0.0034027867950499058,
           null
          ],
          [
           null,
           0.0031210482120513916,
           0.009871360446725572,
           0.010210204869508743,
           0.003278343938291073,
           null
          ],
          [
           null,
           0.003676444865190066,
           0.011990615299769811,
           0.004693320952355862,
           0.0010509244166314602,
           null
          ],
          [
           null,
           null,
           null,
           null,
           null,
           null
          ]
         ]
        },
        {
         "marker": {
          "color": "black",
          "line": {
           "color": "Gray",
           "width": 2
          }
         },
         "mode": "markers",
         "name": "Feasible Trial",
         "showlegend": false,
         "type": "scatter",
         "x": [
          32,
          64,
          8,
          16,
          16,
          64,
          16,
          16,
          32,
          32,
          64,
          64,
          64,
          64,
          64,
          8,
          64,
          64,
          64,
          8,
          64,
          64,
          64,
          64,
          64,
          64,
          64,
          8,
          32,
          32,
          64,
          64,
          64,
          64,
          64,
          64,
          16,
          8,
          64,
          16,
          64,
          64,
          64,
          64,
          64,
          32,
          16,
          64,
          64,
          64,
          8,
          64,
          64,
          64,
          64,
          64,
          64
         ],
         "xaxis": "x28",
         "y": [
          256,
          512,
          256,
          384,
          64,
          512,
          512,
          64,
          256,
          384,
          512,
          512,
          512,
          512,
          512,
          512,
          512,
          384,
          64,
          512,
          512,
          512,
          512,
          512,
          512,
          512,
          384,
          256,
          64,
          256,
          512,
          512,
          512,
          512,
          512,
          512,
          256,
          512,
          64,
          384,
          512,
          512,
          512,
          512,
          512,
          512,
          512,
          512,
          256,
          64,
          384,
          512,
          512,
          512,
          512,
          512,
          512
         ],
         "yaxis": "y28"
        },
        {
         "colorbar": {
          "title": {
           "text": "Objective Value"
          }
         },
         "colorscale": [
          [
           0,
           "rgb(247,251,255)"
          ],
          [
           0.125,
           "rgb(222,235,247)"
          ],
          [
           0.25,
           "rgb(198,219,239)"
          ],
          [
           0.375,
           "rgb(158,202,225)"
          ],
          [
           0.5,
           "rgb(107,174,214)"
          ],
          [
           0.625,
           "rgb(66,146,198)"
          ],
          [
           0.75,
           "rgb(33,113,181)"
          ],
          [
           0.875,
           "rgb(8,81,156)"
          ],
          [
           1,
           "rgb(8,48,107)"
          ]
         ],
         "connectgaps": true,
         "contours": {
          "coloring": "heatmap"
         },
         "hoverinfo": "none",
         "line": {
          "smoothing": 1.3
         },
         "reversescale": true,
         "showscale": false,
         "type": "contour",
         "x": [
          5.199999999999999,
          8,
          16,
          32,
          64,
          66.8
         ],
         "xaxis": "x38",
         "y": [
          41.599999999999994,
          64,
          256,
          384,
          512,
          534.4
         ],
         "yaxis": "y38",
         "z": [
          [
           null,
           null,
           null,
           null,
           null,
           null
          ],
          [
           null,
           null,
           0.009889267385005951,
           0.017933184280991554,
           0.0034027867950499058,
           null
          ],
          [
           null,
           0.015235654436624967,
           0.016106017998286655,
           0.010210204869508743,
           0.0024279847275465727,
           null
          ],
          [
           null,
           0.0031210482120513916,
           0.009871360446725572,
           0.004693320952355862,
           0.0010509244166314602,
           null
          ],
          [
           null,
           0.0032087189073746023,
           0.005089037652526583,
           0.004099226091057062,
           0.007173012942075729,
           null
          ],
          [
           null,
           null,
           null,
           null,
           null,
           null
          ]
         ]
        },
        {
         "marker": {
          "color": "black",
          "line": {
           "color": "Gray",
           "width": 2
          }
         },
         "mode": "markers",
         "name": "Feasible Trial",
         "showlegend": false,
         "type": "scatter",
         "x": [
          32,
          64,
          8,
          16,
          16,
          64,
          16,
          16,
          32,
          32,
          64,
          64,
          64,
          64,
          64,
          8,
          64,
          64,
          64,
          8,
          64,
          64,
          64,
          64,
          64,
          64,
          64,
          8,
          32,
          32,
          64,
          64,
          64,
          64,
          64,
          64,
          16,
          8,
          64,
          16,
          64,
          64,
          64,
          64,
          64,
          32,
          16,
          64,
          64,
          64,
          8,
          64,
          64,
          64,
          64,
          64,
          64
         ],
         "xaxis": "x38",
         "y": [
          512,
          512,
          256,
          64,
          256,
          384,
          384,
          64,
          384,
          256,
          384,
          384,
          384,
          384,
          384,
          384,
          384,
          512,
          64,
          384,
          384,
          384,
          384,
          384,
          384,
          384,
          256,
          512,
          64,
          512,
          384,
          384,
          384,
          384,
          384,
          256,
          512,
          384,
          64,
          384,
          256,
          384,
          384,
          384,
          384,
          384,
          384,
          384,
          64,
          384,
          384,
          384,
          384,
          384,
          384,
          384,
          256
         ],
         "yaxis": "y38"
        },
        {
         "colorbar": {
          "title": {
           "text": "Objective Value"
          }
         },
         "colorscale": [
          [
           0,
           "rgb(247,251,255)"
          ],
          [
           0.125,
           "rgb(222,235,247)"
          ],
          [
           0.25,
           "rgb(198,219,239)"
          ],
          [
           0.375,
           "rgb(158,202,225)"
          ],
          [
           0.5,
           "rgb(107,174,214)"
          ],
          [
           0.625,
           "rgb(66,146,198)"
          ],
          [
           0.75,
           "rgb(33,113,181)"
          ],
          [
           0.875,
           "rgb(8,81,156)"
          ],
          [
           1,
           "rgb(8,48,107)"
          ]
         ],
         "connectgaps": true,
         "contours": {
          "coloring": "heatmap"
         },
         "hoverinfo": "none",
         "line": {
          "smoothing": 1.3
         },
         "reversescale": true,
         "showscale": false,
         "type": "contour",
         "x": [
          5.199999999999999,
          8,
          16,
          32,
          64,
          66.8
         ],
         "xaxis": "x48",
         "y": [
          1.7,
          2,
          4,
          6,
          8,
          8.3
         ],
         "yaxis": "y48",
         "z": [
          [
           null,
           null,
           null,
           null,
           null,
           null
          ],
          [
           null,
           null,
           0.009871360446725572,
           0.004099226091057062,
           0.0038915337063372135,
           null
          ],
          [
           null,
           0.013237009827907268,
           0.009889267385005951,
           0.017933184280991554,
           0.0034027867950499058,
           null
          ],
          [
           null,
           0.0031210482120513916,
           0.005089037652526583,
           0.004693320952355862,
           0.0010509244166314602,
           null
          ],
          [
           null,
           0.0032087189073746023,
           0.011990615299769811,
           0.010210204869508743,
           0.003677790518850088,
           null
          ],
          [
           null,
           null,
           null,
           null,
           null,
           null
          ]
         ]
        },
        {
         "marker": {
          "color": "black",
          "line": {
           "color": "Gray",
           "width": 2
          }
         },
         "mode": "markers",
         "name": "Feasible Trial",
         "showlegend": false,
         "type": "scatter",
         "x": [
          32,
          64,
          8,
          16,
          16,
          64,
          16,
          16,
          32,
          32,
          64,
          64,
          64,
          64,
          64,
          8,
          64,
          64,
          64,
          8,
          64,
          64,
          64,
          64,
          64,
          64,
          64,
          8,
          32,
          32,
          64,
          64,
          64,
          64,
          64,
          64,
          16,
          8,
          64,
          16,
          64,
          64,
          64,
          64,
          64,
          32,
          16,
          64,
          64,
          64,
          8,
          64,
          64,
          64,
          64,
          64,
          64
         ],
         "xaxis": "x48",
         "y": [
          2,
          2,
          6,
          4,
          2,
          6,
          4,
          6,
          2,
          8,
          6,
          6,
          6,
          6,
          8,
          6,
          6,
          6,
          4,
          8,
          6,
          6,
          6,
          6,
          6,
          6,
          6,
          8,
          4,
          6,
          2,
          6,
          6,
          6,
          6,
          2,
          6,
          4,
          6,
          2,
          6,
          6,
          6,
          6,
          6,
          6,
          8,
          6,
          4,
          6,
          6,
          6,
          6,
          6,
          6,
          6,
          2
         ],
         "yaxis": "y48"
        },
        {
         "colorbar": {
          "title": {
           "text": "Objective Value"
          }
         },
         "colorscale": [
          [
           0,
           "rgb(247,251,255)"
          ],
          [
           0.125,
           "rgb(222,235,247)"
          ],
          [
           0.25,
           "rgb(198,219,239)"
          ],
          [
           0.375,
           "rgb(158,202,225)"
          ],
          [
           0.5,
           "rgb(107,174,214)"
          ],
          [
           0.625,
           "rgb(66,146,198)"
          ],
          [
           0.75,
           "rgb(33,113,181)"
          ],
          [
           0.875,
           "rgb(8,81,156)"
          ],
          [
           1,
           "rgb(8,48,107)"
          ]
         ],
         "connectgaps": true,
         "contours": {
          "coloring": "heatmap"
         },
         "hoverinfo": "none",
         "line": {
          "smoothing": 1.3
         },
         "reversescale": true,
         "showscale": false,
         "type": "contour",
         "x": [
          5.199999999999999,
          8,
          16,
          32,
          64,
          66.8
         ],
         "xaxis": "x58",
         "y": [
          "False",
          "True"
         ],
         "yaxis": "y58",
         "z": [
          [
           null,
           0.0031210482120513916,
           0.005089037652526583,
           0.004693320952355862,
           0.0010509244166314602,
           null
          ],
          [
           null,
           0.013237009827907268,
           0.009889267385005951,
           0.004099226091057062,
           0.003278343938291073,
           null
          ]
         ]
        },
        {
         "marker": {
          "color": "black",
          "line": {
           "color": "Gray",
           "width": 2
          }
         },
         "mode": "markers",
         "name": "Feasible Trial",
         "showlegend": false,
         "type": "scatter",
         "x": [
          32,
          64,
          8,
          16,
          16,
          64,
          16,
          16,
          32,
          32,
          64,
          64,
          64,
          64,
          64,
          8,
          64,
          64,
          64,
          8,
          64,
          64,
          64,
          64,
          64,
          64,
          64,
          8,
          32,
          32,
          64,
          64,
          64,
          64,
          64,
          64,
          16,
          8,
          64,
          16,
          64,
          64,
          64,
          64,
          64,
          32,
          16,
          64,
          64,
          64,
          8,
          64,
          64,
          64,
          64,
          64,
          64
         ],
         "xaxis": "x58",
         "y": [
          "True",
          "False",
          "True",
          "True",
          "True",
          "False",
          "False",
          "False",
          "False",
          "False",
          "False",
          "False",
          "False",
          "False",
          "False",
          "False",
          "False",
          "False",
          "True",
          "False",
          "False",
          "False",
          "False",
          "False",
          "False",
          "False",
          "True",
          "False",
          "False",
          "True",
          "False",
          "False",
          "False",
          "False",
          "False",
          "True",
          "False",
          "True",
          "False",
          "False",
          "False",
          "False",
          "False",
          "False",
          "False",
          "False",
          "False",
          "False",
          "False",
          "True",
          "False",
          "False",
          "False",
          "False",
          "False",
          "False",
          "False"
         ],
         "yaxis": "y58"
        },
        {
         "colorbar": {
          "title": {
           "text": "Objective Value"
          }
         },
         "colorscale": [
          [
           0,
           "rgb(247,251,255)"
          ],
          [
           0.125,
           "rgb(222,235,247)"
          ],
          [
           0.25,
           "rgb(198,219,239)"
          ],
          [
           0.375,
           "rgb(158,202,225)"
          ],
          [
           0.5,
           "rgb(107,174,214)"
          ],
          [
           0.625,
           "rgb(66,146,198)"
          ],
          [
           0.75,
           "rgb(33,113,181)"
          ],
          [
           0.875,
           "rgb(8,81,156)"
          ],
          [
           1,
           "rgb(8,48,107)"
          ]
         ],
         "connectgaps": true,
         "contours": {
          "coloring": "heatmap"
         },
         "hoverinfo": "none",
         "line": {
          "smoothing": 1.3
         },
         "reversescale": true,
         "showscale": false,
         "type": "contour",
         "x": [
          5.199999999999999,
          8,
          16,
          32,
          64,
          66.8
         ],
         "xaxis": "x68",
         "y": [
          10.399999999999999,
          16,
          32,
          64,
          128,
          133.6
         ],
         "yaxis": "y68",
         "z": [
          [
           null,
           null,
           null,
           null,
           null,
           null
          ],
          [
           null,
           0.0032087189073746023,
           0.01462360577923911,
           0.004099226091057062,
           0.007493170909583569,
           null
          ],
          [
           null,
           0.0031210482120513916,
           0.005089037652526583,
           null,
           0.0010509244166314602,
           null
          ],
          [
           null,
           0.003676444865190066,
           0.011990615299769811,
           0.00556196179240942,
           null,
           null
          ],
          [
           null,
           0.013237009827907268,
           0.012798120932919639,
           0.004693320952355862,
           0.0036489125341176987,
           null
          ],
          [
           null,
           null,
           null,
           null,
           null,
           null
          ]
         ]
        },
        {
         "marker": {
          "color": "black",
          "line": {
           "color": "Gray",
           "width": 2
          }
         },
         "mode": "markers",
         "name": "Feasible Trial",
         "showlegend": false,
         "type": "scatter",
         "x": [
          32,
          64,
          8,
          16,
          16,
          64,
          16,
          16,
          32,
          32,
          64,
          64,
          64,
          64,
          64,
          8,
          64,
          64,
          64,
          8,
          64,
          64,
          64,
          64,
          64,
          64,
          64,
          8,
          32,
          32,
          64,
          64,
          64,
          64,
          64,
          64,
          16,
          8,
          64,
          16,
          64,
          64,
          64,
          64,
          64,
          32,
          16,
          64,
          64,
          64,
          8,
          64,
          64,
          64,
          64,
          64,
          64
         ],
         "xaxis": "x68",
         "y": [
          16,
          128,
          128,
          32,
          16,
          32,
          128,
          16,
          64,
          128,
          32,
          32,
          32,
          32,
          32,
          64,
          32,
          32,
          32,
          64,
          32,
          32,
          32,
          32,
          32,
          32,
          32,
          16,
          64,
          16,
          32,
          32,
          32,
          32,
          128,
          32,
          32,
          128,
          16,
          32,
          32,
          32,
          32,
          32,
          32,
          128,
          64,
          32,
          32,
          16,
          32,
          32,
          32,
          32,
          32,
          32,
          32
         ],
         "yaxis": "y68"
        },
        {
         "type": "scatter",
         "xaxis": "x78",
         "yaxis": "y78"
        },
        {
         "colorbar": {
          "title": {
           "text": "Objective Value"
          }
         },
         "colorscale": [
          [
           0,
           "rgb(247,251,255)"
          ],
          [
           0.125,
           "rgb(222,235,247)"
          ],
          [
           0.25,
           "rgb(198,219,239)"
          ],
          [
           0.375,
           "rgb(158,202,225)"
          ],
          [
           0.5,
           "rgb(107,174,214)"
          ],
          [
           0.625,
           "rgb(66,146,198)"
          ],
          [
           0.75,
           "rgb(33,113,181)"
          ],
          [
           0.875,
           "rgb(8,81,156)"
          ],
          [
           1,
           "rgb(8,48,107)"
          ]
         ],
         "connectgaps": true,
         "contours": {
          "coloring": "heatmap"
         },
         "hoverinfo": "none",
         "line": {
          "smoothing": 1.3
         },
         "reversescale": true,
         "showscale": false,
         "type": "contour",
         "x": [
          5.199999999999999,
          8,
          16,
          32,
          64,
          66.8
         ],
         "xaxis": "x88",
         "y": [
          -0.0003327779727902093,
          0.00013293451068639153,
          0.00016482101598833644,
          0.0002859618983201747,
          0.0005030922057200975,
          0.0005082222560318676,
          0.0005109668968683066,
          0.000662259354729205,
          0.000804803158410011,
          0.0008829668498645474,
          0.001035287721361168,
          0.0010762834240493012,
          0.0013010270616585372,
          0.0013123106047931883,
          0.0013848997785396763,
          0.0014712220401046773,
          0.0015236648785628855,
          0.0015528292768899295,
          0.0015783681924397643,
          0.0017245660022955657,
          0.001805691009839501,
          0.0018665340990677206,
          0.0018891900420452655,
          0.0019967096733155307,
          0.002022807309729832,
          0.002221702135674957,
          0.0022966234341041886,
          0.0024793055464558773,
          0.0024844733874638822,
          0.002569749107475558,
          0.002570416914840954,
          0.0027720657351321654,
          0.002861152110081496,
          0.0031063248738114947,
          0.00321367916541899,
          0.003272692583939085,
          0.0033627177469709303,
          0.0034983693930714047,
          0.003644256277757865,
          0.0037134388254553147,
          0.0037319454075769917,
          0.004059959359984235,
          0.004239922045757851,
          0.004263219032077157,
          0.004643003925192097,
          0.004679597012724851,
          0.004793542036453257,
          0.0048612258246951735,
          0.005457312666941946,
          0.005689736859226749,
          0.006357299898537107,
          0.006644651164503487,
          0.006993481555530524,
          0.00800933505882863,
          0.008088989972958073,
          0.00847077666596943,
          0.009326128265959114,
          0.009447184180218409,
          0.00991289666369501
         ],
         "yaxis": "y88",
         "z": [
          [
           null,
           null,
           null,
           null,
           null,
           null
          ],
          [
           null,
           null,
           null,
           null,
           0.007173012942075729,
           null
          ],
          [
           null,
           null,
           null,
           null,
           0.018036603927612305,
           null
          ],
          [
           null,
           null,
           null,
           null,
           0.0023483606055378914,
           null
          ],
          [
           null,
           null,
           null,
           null,
           0.001077517052181065,
           null
          ],
          [
           null,
           null,
           null,
           null,
           0.011020248755812645,
           null
          ],
          [
           null,
           null,
           null,
           null,
           0.0017465348355472088,
           null
          ],
          [
           null,
           null,
           0.011990615299769811,
           null,
           null,
           null
          ],
          [
           null,
           null,
           null,
           null,
           0.009051533415913582,
           null
          ],
          [
           null,
           null,
           null,
           null,
           0.0038915337063372135,
           null
          ],
          [
           null,
           null,
           null,
           null,
           0.0026472685858607292,
           null
          ],
          [
           null,
           null,
           null,
           null,
           0.0028466973453760147,
           null
          ],
          [
           null,
           0.003676444865190066,
           null,
           null,
           null,
           null
          ],
          [
           null,
           null,
           null,
           null,
           0.0013212664052844048,
           null
          ],
          [
           null,
           null,
           null,
           null,
           0.002323493827134371,
           null
          ],
          [
           null,
           null,
           null,
           null,
           0.0011659844312816858,
           null
          ],
          [
           null,
           null,
           null,
           null,
           0.0010562939569354057,
           null
          ],
          [
           null,
           null,
           null,
           null,
           0.0019303050357848406,
           null
          ],
          [
           null,
           null,
           null,
           null,
           0.001234408002346754,
           null
          ],
          [
           null,
           null,
           null,
           null,
           0.0010509244166314602,
           null
          ],
          [
           null,
           null,
           0.005089037652526583,
           null,
           null,
           null
          ],
          [
           null,
           null,
           null,
           null,
           0.002799304900690913,
           null
          ],
          [
           null,
           null,
           null,
           0.017933184280991554,
           null,
           null
          ],
          [
           null,
           null,
           null,
           null,
           0.0014195044059306383,
           null
          ],
          [
           null,
           0.015235654436624967,
           null,
           null,
           null,
           null
          ],
          [
           null,
           0.013237009827907268,
           null,
           null,
           null,
           null
          ],
          [
           null,
           null,
           null,
           null,
           0.007493170909583569,
           null
          ],
          [
           null,
           null,
           null,
           null,
           0.004169144667685032,
           null
          ],
          [
           null,
           null,
           0.009889267385005951,
           null,
           null,
           null
          ],
          [
           null,
           null,
           null,
           null,
           0.005443759262561798,
           null
          ],
          [
           null,
           null,
           null,
           null,
           0.0024775939527899027,
           null
          ],
          [
           null,
           null,
           null,
           null,
           0.0034027867950499058,
           null
          ],
          [
           null,
           null,
           null,
           null,
           0.0036489125341176987,
           null
          ],
          [
           null,
           null,
           0.009871360446725572,
           null,
           null,
           null
          ],
          [
           null,
           null,
           null,
           null,
           0.0016798200085759163,
           null
          ],
          [
           null,
           null,
           null,
           null,
           0.003677790518850088,
           null
          ],
          [
           null,
           null,
           null,
           null,
           0.0010533332824707031,
           null
          ],
          [
           null,
           null,
           null,
           null,
           0.0017711485270410776,
           null
          ],
          [
           null,
           null,
           null,
           null,
           0.0011525334557518363,
           null
          ],
          [
           null,
           0.003910826948972849,
           null,
           null,
           null,
           null
          ],
          [
           null,
           null,
           null,
           null,
           0.003278343938291073,
           null
          ],
          [
           null,
           null,
           null,
           0.005068128928542137,
           null,
           null
          ],
          [
           null,
           null,
           null,
           0.004693320952355862,
           null,
           null
          ],
          [
           null,
           null,
           null,
           null,
           0.0024279847275465727,
           null
          ],
          [
           null,
           null,
           null,
           null,
           0.004909416660666466,
           null
          ],
          [
           null,
           0.0031210482120513916,
           null,
           null,
           null,
           null
          ],
          [
           null,
           null,
           null,
           null,
           0.002582056913524866,
           null
          ],
          [
           null,
           null,
           null,
           0.004099226091057062,
           null,
           null
          ],
          [
           null,
           null,
           null,
           null,
           0.012842606753110886,
           null
          ],
          [
           null,
           0.0032087189073746023,
           null,
           null,
           null,
           null
          ],
          [
           null,
           null,
           null,
           0.010210204869508743,
           null,
           null
          ],
          [
           null,
           null,
           null,
           null,
           0.004480917938053608,
           null
          ],
          [
           null,
           null,
           null,
           null,
           0.003125535324215889,
           null
          ],
          [
           null,
           null,
           null,
           0.00556196179240942,
           null,
           null
          ],
          [
           null,
           null,
           0.016106017998286655,
           null,
           null,
           null
          ],
          [
           null,
           null,
           0.01462360577923911,
           null,
           null,
           null
          ],
          [
           null,
           null,
           0.012798120932919639,
           null,
           null,
           null
          ],
          [
           null,
           null,
           null,
           null,
           0.012514274567365646,
           null
          ],
          [
           null,
           null,
           null,
           null,
           null,
           null
          ]
         ]
        },
        {
         "marker": {
          "color": "black",
          "line": {
           "color": "Gray",
           "width": 2
          }
         },
         "mode": "markers",
         "name": "Feasible Trial",
         "showlegend": false,
         "type": "scatter",
         "x": [
          32,
          64,
          8,
          16,
          16,
          64,
          16,
          16,
          32,
          32,
          64,
          64,
          64,
          64,
          64,
          8,
          64,
          64,
          64,
          8,
          64,
          64,
          64,
          64,
          64,
          64,
          64,
          8,
          32,
          32,
          64,
          64,
          64,
          64,
          64,
          64,
          16,
          8,
          64,
          16,
          64,
          64,
          64,
          64,
          64,
          32,
          16,
          64,
          64,
          64,
          8,
          64,
          64,
          64,
          64,
          64,
          64
         ],
         "xaxis": "x88",
         "y": [
          0.0048612258246951735,
          0.009447184180218409,
          0.002022807309729832,
          0.0024844733874638822,
          0.008088989972958073,
          0.006993481555530524,
          0.009326128265959114,
          0.00847077666596943,
          0.00800933505882863,
          0.006357299898537107,
          0.004793542036453257,
          0.004643003925192097,
          0.006644651164503487,
          0.003644256277757865,
          0.003272692583939085,
          0.0037134388254553147,
          0.0002859618983201747,
          0.00013293451068639153,
          0.00016482101598833644,
          0.0013010270616585372,
          0.0015783681924397643,
          0.0013848997785396763,
          0.0014712220401046773,
          0.00321367916541899,
          0.0013123106047931883,
          0.0024793055464558773,
          0.0037319454075769917,
          0.005689736859226749,
          0.0018891900420452655,
          0.004059959359984235,
          0.0008829668498645474,
          0.001035287721361168,
          0.002569749107475558,
          0.0018665340990677206,
          0.002861152110081496,
          0.000804803158410011,
          0.001805691009839501,
          0.002221702135674957,
          0.005457312666941946,
          0.0031063248738114947,
          0.004263219032077157,
          0.0033627177469709303,
          0.0015236648785628855,
          0.0034983693930714047,
          0.002570416914840954,
          0.004239922045757851,
          0.000662259354729205,
          0.0017245660022955657,
          0.0027720657351321654,
          0.0022966234341041886,
          0.004679597012724851,
          0.0015528292768899295,
          0.0019967096733155307,
          0.0005030922057200975,
          0.0005109668968683066,
          0.0010762834240493012,
          0.0005082222560318676
         ],
         "yaxis": "y88"
        },
        {
         "colorbar": {
          "title": {
           "text": "Objective Value"
          }
         },
         "colorscale": [
          [
           0,
           "rgb(247,251,255)"
          ],
          [
           0.125,
           "rgb(222,235,247)"
          ],
          [
           0.25,
           "rgb(198,219,239)"
          ],
          [
           0.375,
           "rgb(158,202,225)"
          ],
          [
           0.5,
           "rgb(107,174,214)"
          ],
          [
           0.625,
           "rgb(66,146,198)"
          ],
          [
           0.75,
           "rgb(33,113,181)"
          ],
          [
           0.875,
           "rgb(8,81,156)"
          ],
          [
           1,
           "rgb(8,48,107)"
          ]
         ],
         "connectgaps": true,
         "contours": {
          "coloring": "heatmap"
         },
         "hoverinfo": "none",
         "line": {
          "smoothing": 1.3
         },
         "reversescale": true,
         "showscale": false,
         "type": "contour",
         "x": [
          5.199999999999999,
          8,
          16,
          32,
          64,
          66.8
         ],
         "xaxis": "x98",
         "y": [
          "Adam",
          "AdamW",
          "SGD"
         ],
         "yaxis": "y98",
         "z": [
          [
           null,
           0.0031210482120513916,
           0.009871360446725572,
           0.00556196179240942,
           0.0010509244166314602,
           null
          ],
          [
           null,
           0.015235654436624967,
           0.005089037652526583,
           0.004099226091057062,
           0.0024279847275465727,
           null
          ],
          [
           null,
           null,
           0.016106017998286655,
           0.004693320952355862,
           0.004169144667685032,
           null
          ]
         ]
        },
        {
         "marker": {
          "color": "black",
          "line": {
           "color": "Gray",
           "width": 2
          }
         },
         "mode": "markers",
         "name": "Feasible Trial",
         "showlegend": false,
         "type": "scatter",
         "x": [
          32,
          64,
          8,
          16,
          16,
          64,
          16,
          16,
          32,
          32,
          64,
          64,
          64,
          64,
          64,
          8,
          64,
          64,
          64,
          8,
          64,
          64,
          64,
          64,
          64,
          64,
          64,
          8,
          32,
          32,
          64,
          64,
          64,
          64,
          64,
          64,
          16,
          8,
          64,
          16,
          64,
          64,
          64,
          64,
          64,
          32,
          16,
          64,
          64,
          64,
          8,
          64,
          64,
          64,
          64,
          64,
          64
         ],
         "xaxis": "x98",
         "y": [
          "AdamW",
          "SGD",
          "AdamW",
          "AdamW",
          "SGD",
          "AdamW",
          "AdamW",
          "AdamW",
          "Adam",
          "SGD",
          "Adam",
          "Adam",
          "Adam",
          "Adam",
          "Adam",
          "Adam",
          "Adam",
          "Adam",
          "Adam",
          "Adam",
          "Adam",
          "Adam",
          "Adam",
          "Adam",
          "Adam",
          "SGD",
          "Adam",
          "Adam",
          "Adam",
          "SGD",
          "Adam",
          "Adam",
          "Adam",
          "Adam",
          "Adam",
          "SGD",
          "AdamW",
          "Adam",
          "AdamW",
          "Adam",
          "AdamW",
          "Adam",
          "Adam",
          "Adam",
          "Adam",
          "SGD",
          "Adam",
          "Adam",
          "Adam",
          "AdamW",
          "Adam",
          "Adam",
          "Adam",
          "Adam",
          "Adam",
          "Adam",
          "Adam"
         ],
         "yaxis": "y98"
        },
        {
         "colorbar": {
          "title": {
           "text": "Objective Value"
          }
         },
         "colorscale": [
          [
           0,
           "rgb(247,251,255)"
          ],
          [
           0.125,
           "rgb(222,235,247)"
          ],
          [
           0.25,
           "rgb(198,219,239)"
          ],
          [
           0.375,
           "rgb(158,202,225)"
          ],
          [
           0.5,
           "rgb(107,174,214)"
          ],
          [
           0.625,
           "rgb(66,146,198)"
          ],
          [
           0.75,
           "rgb(33,113,181)"
          ],
          [
           0.875,
           "rgb(8,81,156)"
          ],
          [
           1,
           "rgb(8,48,107)"
          ]
         ],
         "connectgaps": true,
         "contours": {
          "coloring": "heatmap"
         },
         "hoverinfo": "none",
         "line": {
          "smoothing": 1.3
         },
         "reversescale": true,
         "showscale": false,
         "type": "contour",
         "x": [
          -0.0003327779727902093,
          0.00013293451068639153,
          0.00016482101598833644,
          0.0002859618983201747,
          0.0005030922057200975,
          0.0005082222560318676,
          0.0005109668968683066,
          0.000662259354729205,
          0.000804803158410011,
          0.0008829668498645474,
          0.001035287721361168,
          0.0010762834240493012,
          0.0013010270616585372,
          0.0013123106047931883,
          0.0013848997785396763,
          0.0014712220401046773,
          0.0015236648785628855,
          0.0015528292768899295,
          0.0015783681924397643,
          0.0017245660022955657,
          0.001805691009839501,
          0.0018665340990677206,
          0.0018891900420452655,
          0.0019967096733155307,
          0.002022807309729832,
          0.002221702135674957,
          0.0022966234341041886,
          0.0024793055464558773,
          0.0024844733874638822,
          0.002569749107475558,
          0.002570416914840954,
          0.0027720657351321654,
          0.002861152110081496,
          0.0031063248738114947,
          0.00321367916541899,
          0.003272692583939085,
          0.0033627177469709303,
          0.0034983693930714047,
          0.003644256277757865,
          0.0037134388254553147,
          0.0037319454075769917,
          0.004059959359984235,
          0.004239922045757851,
          0.004263219032077157,
          0.004643003925192097,
          0.004679597012724851,
          0.004793542036453257,
          0.0048612258246951735,
          0.005457312666941946,
          0.005689736859226749,
          0.006357299898537107,
          0.006644651164503487,
          0.006993481555530524,
          0.00800933505882863,
          0.008088989972958073,
          0.00847077666596943,
          0.009326128265959114,
          0.009447184180218409,
          0.00991289666369501
         ],
         "xaxis": "x9",
         "y": [
          "relu",
          "swish"
         ],
         "yaxis": "y9",
         "z": [
          [
           null,
           0.007173012942075729,
           0.018036603927612305,
           0.0023483606055378914,
           0.001077517052181065,
           null,
           0.0017465348355472088,
           null,
           null,
           0.0038915337063372135,
           0.0026472685858607292,
           0.0028466973453760147,
           0.003676444865190066,
           0.0013212664052844048,
           0.002323493827134371,
           0.0011659844312816858,
           0.0010562939569354057,
           0.0019303050357848406,
           0.001234408002346754,
           0.0010509244166314602,
           0.005089037652526583,
           0.002799304900690913,
           0.017933184280991554,
           0.0014195044059306383,
           null,
           null,
           0.007493170909583569,
           0.004169144667685032,
           null,
           0.005443759262561798,
           0.0024775939527899027,
           0.0034027867950499058,
           0.0036489125341176987,
           null,
           0.0016798200085759163,
           0.003677790518850088,
           0.0010533332824707031,
           0.0017711485270410776,
           0.0011525334557518363,
           0.003910826948972849,
           0.003278343938291073,
           0.005068128928542137,
           0.004693320952355862,
           0.0024279847275465727,
           0.004909416660666466,
           0.0031210482120513916,
           0.002582056913524866,
           0.004099226091057062,
           0.012842606753110886,
           0.0032087189073746023,
           null,
           0.004480917938053608,
           0.003125535324215889,
           0.00556196179240942,
           null,
           null,
           null,
           null,
           null
          ],
          [
           null,
           null,
           null,
           null,
           null,
           0.011020248755812645,
           null,
           0.011990615299769811,
           0.009051533415913582,
           null,
           null,
           null,
           null,
           null,
           null,
           null,
           null,
           null,
           null,
           null,
           null,
           null,
           null,
           null,
           0.015235654436624967,
           0.013237009827907268,
           null,
           null,
           0.009889267385005951,
           null,
           null,
           null,
           null,
           0.009871360446725572,
           null,
           null,
           null,
           null,
           null,
           null,
           null,
           null,
           null,
           null,
           null,
           null,
           null,
           null,
           null,
           null,
           0.010210204869508743,
           null,
           null,
           null,
           0.016106017998286655,
           0.01462360577923911,
           0.012798120932919639,
           0.012514274567365646,
           null
          ]
         ]
        },
        {
         "marker": {
          "color": "black",
          "line": {
           "color": "Gray",
           "width": 2
          }
         },
         "mode": "markers",
         "name": "Feasible Trial",
         "showlegend": false,
         "type": "scatter",
         "x": [
          0.0048612258246951735,
          0.009447184180218409,
          0.002022807309729832,
          0.0024844733874638822,
          0.008088989972958073,
          0.006993481555530524,
          0.009326128265959114,
          0.00847077666596943,
          0.00800933505882863,
          0.006357299898537107,
          0.004793542036453257,
          0.004643003925192097,
          0.006644651164503487,
          0.003644256277757865,
          0.003272692583939085,
          0.0037134388254553147,
          0.0002859618983201747,
          0.00013293451068639153,
          0.00016482101598833644,
          0.0013010270616585372,
          0.0015783681924397643,
          0.0013848997785396763,
          0.0014712220401046773,
          0.00321367916541899,
          0.0013123106047931883,
          0.0024793055464558773,
          0.0037319454075769917,
          0.005689736859226749,
          0.0018891900420452655,
          0.004059959359984235,
          0.0008829668498645474,
          0.001035287721361168,
          0.002569749107475558,
          0.0018665340990677206,
          0.002861152110081496,
          0.000804803158410011,
          0.001805691009839501,
          0.002221702135674957,
          0.005457312666941946,
          0.0031063248738114947,
          0.004263219032077157,
          0.0033627177469709303,
          0.0015236648785628855,
          0.0034983693930714047,
          0.002570416914840954,
          0.004239922045757851,
          0.000662259354729205,
          0.0017245660022955657,
          0.0027720657351321654,
          0.0022966234341041886,
          0.004679597012724851,
          0.0015528292768899295,
          0.0019967096733155307,
          0.0005030922057200975,
          0.0005109668968683066,
          0.0010762834240493012,
          0.0005082222560318676
         ],
         "xaxis": "x9",
         "y": [
          "relu",
          "swish",
          "swish",
          "swish",
          "swish",
          "relu",
          "swish",
          "swish",
          "relu",
          "swish",
          "relu",
          "relu",
          "relu",
          "relu",
          "relu",
          "relu",
          "relu",
          "relu",
          "relu",
          "relu",
          "relu",
          "relu",
          "relu",
          "relu",
          "relu",
          "relu",
          "relu",
          "relu",
          "relu",
          "relu",
          "relu",
          "relu",
          "relu",
          "relu",
          "relu",
          "swish",
          "relu",
          "swish",
          "relu",
          "swish",
          "relu",
          "relu",
          "relu",
          "relu",
          "relu",
          "relu",
          "swish",
          "relu",
          "relu",
          "relu",
          "relu",
          "relu",
          "relu",
          "relu",
          "relu",
          "relu",
          "swish"
         ],
         "yaxis": "y9"
        },
        {
         "colorbar": {
          "title": {
           "text": "Objective Value"
          }
         },
         "colorscale": [
          [
           0,
           "rgb(247,251,255)"
          ],
          [
           0.125,
           "rgb(222,235,247)"
          ],
          [
           0.25,
           "rgb(198,219,239)"
          ],
          [
           0.375,
           "rgb(158,202,225)"
          ],
          [
           0.5,
           "rgb(107,174,214)"
          ],
          [
           0.625,
           "rgb(66,146,198)"
          ],
          [
           0.75,
           "rgb(33,113,181)"
          ],
          [
           0.875,
           "rgb(8,81,156)"
          ],
          [
           1,
           "rgb(8,48,107)"
          ]
         ],
         "connectgaps": true,
         "contours": {
          "coloring": "heatmap"
         },
         "hoverinfo": "none",
         "line": {
          "smoothing": 1.3
         },
         "reversescale": true,
         "showscale": false,
         "type": "contour",
         "x": [
          -0.0003327779727902093,
          0.00013293451068639153,
          0.00016482101598833644,
          0.0002859618983201747,
          0.0005030922057200975,
          0.0005082222560318676,
          0.0005109668968683066,
          0.000662259354729205,
          0.000804803158410011,
          0.0008829668498645474,
          0.001035287721361168,
          0.0010762834240493012,
          0.0013010270616585372,
          0.0013123106047931883,
          0.0013848997785396763,
          0.0014712220401046773,
          0.0015236648785628855,
          0.0015528292768899295,
          0.0015783681924397643,
          0.0017245660022955657,
          0.001805691009839501,
          0.0018665340990677206,
          0.0018891900420452655,
          0.0019967096733155307,
          0.002022807309729832,
          0.002221702135674957,
          0.0022966234341041886,
          0.0024793055464558773,
          0.0024844733874638822,
          0.002569749107475558,
          0.002570416914840954,
          0.0027720657351321654,
          0.002861152110081496,
          0.0031063248738114947,
          0.00321367916541899,
          0.003272692583939085,
          0.0033627177469709303,
          0.0034983693930714047,
          0.003644256277757865,
          0.0037134388254553147,
          0.0037319454075769917,
          0.004059959359984235,
          0.004239922045757851,
          0.004263219032077157,
          0.004643003925192097,
          0.004679597012724851,
          0.004793542036453257,
          0.0048612258246951735,
          0.005457312666941946,
          0.005689736859226749,
          0.006357299898537107,
          0.006644651164503487,
          0.006993481555530524,
          0.00800933505882863,
          0.008088989972958073,
          0.00847077666596943,
          0.009326128265959114,
          0.009447184180218409,
          0.00991289666369501
         ],
         "xaxis": "x19",
         "y": [
          "False",
          "True"
         ],
         "yaxis": "y19",
         "z": [
          [
           null,
           null,
           null,
           null,
           null,
           null,
           null,
           null,
           null,
           null,
           null,
           null,
           null,
           null,
           null,
           null,
           null,
           null,
           null,
           null,
           null,
           null,
           null,
           null,
           0.015235654436624967,
           0.013237009827907268,
           null,
           null,
           0.009889267385005951,
           null,
           0.0024775939527899027,
           0.0034027867950499058,
           null,
           0.009871360446725572,
           null,
           null,
           null,
           null,
           null,
           null,
           null,
           null,
           null,
           null,
           null,
           null,
           null,
           0.004099226091057062,
           null,
           null,
           0.010210204869508743,
           null,
           0.003125535324215889,
           0.00556196179240942,
           0.016106017998286655,
           0.01462360577923911,
           null,
           null,
           null
          ],
          [
           null,
           0.007173012942075729,
           0.018036603927612305,
           0.0023483606055378914,
           0.001077517052181065,
           0.011020248755812645,
           0.0017465348355472088,
           0.011990615299769811,
           0.009051533415913582,
           0.0038915337063372135,
           0.0026472685858607292,
           0.0028466973453760147,
           0.003676444865190066,
           0.0013212664052844048,
           0.002323493827134371,
           0.0011659844312816858,
           0.0010562939569354057,
           0.0019303050357848406,
           0.001234408002346754,
           0.0010509244166314602,
           0.005089037652526583,
           0.002799304900690913,
           0.017933184280991554,
           0.0014195044059306383,
           null,
           null,
           0.007493170909583569,
           0.004169144667685032,
           null,
           0.005443759262561798,
           null,
           null,
           0.0036489125341176987,
           null,
           0.0016798200085759163,
           0.003677790518850088,
           0.0010533332824707031,
           0.0017711485270410776,
           0.0011525334557518363,
           0.003910826948972849,
           0.003278343938291073,
           0.005068128928542137,
           0.004693320952355862,
           0.0024279847275465727,
           0.004909416660666466,
           0.0031210482120513916,
           0.002582056913524866,
           null,
           0.012842606753110886,
           0.0032087189073746023,
           null,
           0.004480917938053608,
           null,
           null,
           null,
           null,
           0.012798120932919639,
           0.012514274567365646,
           null
          ]
         ]
        },
        {
         "marker": {
          "color": "black",
          "line": {
           "color": "Gray",
           "width": 2
          }
         },
         "mode": "markers",
         "name": "Feasible Trial",
         "showlegend": false,
         "type": "scatter",
         "x": [
          0.0048612258246951735,
          0.009447184180218409,
          0.002022807309729832,
          0.0024844733874638822,
          0.008088989972958073,
          0.006993481555530524,
          0.009326128265959114,
          0.00847077666596943,
          0.00800933505882863,
          0.006357299898537107,
          0.004793542036453257,
          0.004643003925192097,
          0.006644651164503487,
          0.003644256277757865,
          0.003272692583939085,
          0.0037134388254553147,
          0.0002859618983201747,
          0.00013293451068639153,
          0.00016482101598833644,
          0.0013010270616585372,
          0.0015783681924397643,
          0.0013848997785396763,
          0.0014712220401046773,
          0.00321367916541899,
          0.0013123106047931883,
          0.0024793055464558773,
          0.0037319454075769917,
          0.005689736859226749,
          0.0018891900420452655,
          0.004059959359984235,
          0.0008829668498645474,
          0.001035287721361168,
          0.002569749107475558,
          0.0018665340990677206,
          0.002861152110081496,
          0.000804803158410011,
          0.001805691009839501,
          0.002221702135674957,
          0.005457312666941946,
          0.0031063248738114947,
          0.004263219032077157,
          0.0033627177469709303,
          0.0015236648785628855,
          0.0034983693930714047,
          0.002570416914840954,
          0.004239922045757851,
          0.000662259354729205,
          0.0017245660022955657,
          0.0027720657351321654,
          0.0022966234341041886,
          0.004679597012724851,
          0.0015528292768899295,
          0.0019967096733155307,
          0.0005030922057200975,
          0.0005109668968683066,
          0.0010762834240493012,
          0.0005082222560318676
         ],
         "xaxis": "x19",
         "y": [
          "False",
          "True",
          "False",
          "False",
          "False",
          "False",
          "True",
          "False",
          "False",
          "False",
          "True",
          "True",
          "True",
          "True",
          "True",
          "True",
          "True",
          "True",
          "True",
          "True",
          "True",
          "True",
          "True",
          "True",
          "True",
          "True",
          "True",
          "True",
          "True",
          "True",
          "True",
          "True",
          "True",
          "True",
          "True",
          "True",
          "True",
          "False",
          "True",
          "False",
          "True",
          "True",
          "True",
          "True",
          "False",
          "True",
          "True",
          "True",
          "False",
          "True",
          "True",
          "True",
          "True",
          "True",
          "True",
          "True",
          "True"
         ],
         "yaxis": "y19"
        },
        {
         "colorbar": {
          "title": {
           "text": "Objective Value"
          }
         },
         "colorscale": [
          [
           0,
           "rgb(247,251,255)"
          ],
          [
           0.125,
           "rgb(222,235,247)"
          ],
          [
           0.25,
           "rgb(198,219,239)"
          ],
          [
           0.375,
           "rgb(158,202,225)"
          ],
          [
           0.5,
           "rgb(107,174,214)"
          ],
          [
           0.625,
           "rgb(66,146,198)"
          ],
          [
           0.75,
           "rgb(33,113,181)"
          ],
          [
           0.875,
           "rgb(8,81,156)"
          ],
          [
           1,
           "rgb(8,48,107)"
          ]
         ],
         "connectgaps": true,
         "contours": {
          "coloring": "heatmap"
         },
         "hoverinfo": "none",
         "line": {
          "smoothing": 1.3
         },
         "reversescale": true,
         "showscale": false,
         "type": "contour",
         "x": [
          -0.0003327779727902093,
          0.00013293451068639153,
          0.00016482101598833644,
          0.0002859618983201747,
          0.0005030922057200975,
          0.0005082222560318676,
          0.0005109668968683066,
          0.000662259354729205,
          0.000804803158410011,
          0.0008829668498645474,
          0.001035287721361168,
          0.0010762834240493012,
          0.0013010270616585372,
          0.0013123106047931883,
          0.0013848997785396763,
          0.0014712220401046773,
          0.0015236648785628855,
          0.0015528292768899295,
          0.0015783681924397643,
          0.0017245660022955657,
          0.001805691009839501,
          0.0018665340990677206,
          0.0018891900420452655,
          0.0019967096733155307,
          0.002022807309729832,
          0.002221702135674957,
          0.0022966234341041886,
          0.0024793055464558773,
          0.0024844733874638822,
          0.002569749107475558,
          0.002570416914840954,
          0.0027720657351321654,
          0.002861152110081496,
          0.0031063248738114947,
          0.00321367916541899,
          0.003272692583939085,
          0.0033627177469709303,
          0.0034983693930714047,
          0.003644256277757865,
          0.0037134388254553147,
          0.0037319454075769917,
          0.004059959359984235,
          0.004239922045757851,
          0.004263219032077157,
          0.004643003925192097,
          0.004679597012724851,
          0.004793542036453257,
          0.0048612258246951735,
          0.005457312666941946,
          0.005689736859226749,
          0.006357299898537107,
          0.006644651164503487,
          0.006993481555530524,
          0.00800933505882863,
          0.008088989972958073,
          0.00847077666596943,
          0.009326128265959114,
          0.009447184180218409,
          0.00991289666369501
         ],
         "xaxis": "x29",
         "y": [
          41.599999999999994,
          64,
          256,
          384,
          512,
          534.4
         ],
         "yaxis": "y29",
         "z": [
          [
           null,
           null,
           null,
           null,
           null,
           null,
           null,
           null,
           null,
           null,
           null,
           null,
           null,
           null,
           null,
           null,
           null,
           null,
           null,
           null,
           null,
           null,
           null,
           null,
           null,
           null,
           null,
           null,
           null,
           null,
           null,
           null,
           null,
           null,
           null,
           null,
           null,
           null,
           null,
           null,
           null,
           null,
           null,
           null,
           null,
           null,
           null,
           null,
           null,
           null,
           null,
           null,
           null,
           null,
           null,
           null,
           null,
           null,
           null
          ],
          [
           null,
           null,
           0.018036603927612305,
           null,
           null,
           null,
           null,
           null,
           null,
           null,
           null,
           null,
           null,
           null,
           null,
           null,
           null,
           null,
           null,
           null,
           null,
           null,
           0.017933184280991554,
           null,
           null,
           null,
           0.007493170909583569,
           null,
           null,
           null,
           null,
           null,
           null,
           null,
           null,
           null,
           null,
           null,
           null,
           null,
           null,
           null,
           null,
           null,
           null,
           null,
           null,
           null,
           0.012842606753110886,
           null,
           null,
           null,
           null,
           null,
           0.016106017998286655,
           0.01462360577923911,
           null,
           null,
           null
          ],
          [
           null,
           null,
           null,
           null,
           null,
           null,
           null,
           null,
           null,
           null,
           null,
           null,
           null,
           null,
           null,
           null,
           null,
           null,
           null,
           null,
           0.005089037652526583,
           null,
           null,
           null,
           0.015235654436624967,
           null,
           null,
           null,
           null,
           null,
           null,
           0.0034027867950499058,
           null,
           null,
           null,
           null,
           null,
           null,
           null,
           null,
           null,
           0.005068128928542137,
           null,
           null,
           null,
           null,
           null,
           0.004099226091057062,
           null,
           0.0032087189073746023,
           null,
           null,
           null,
           0.00556196179240942,
           null,
           null,
           null,
           null,
           null
          ],
          [
           null,
           0.007173012942075729,
           null,
           null,
           null,
           null,
           null,
           null,
           null,
           null,
           null,
           null,
           null,
           null,
           null,
           null,
           null,
           null,
           null,
           null,
           null,
           null,
           null,
           null,
           null,
           null,
           null,
           null,
           0.009889267385005951,
           null,
           null,
           null,
           null,
           0.009871360446725572,
           null,
           null,
           null,
           null,
           null,
           null,
           0.003278343938291073,
           null,
           null,
           null,
           null,
           0.0031210482120513916,
           null,
           null,
           null,
           null,
           0.010210204869508743,
           null,
           null,
           null,
           null,
           null,
           null,
           null,
           null
          ],
          [
           null,
           null,
           null,
           0.0023483606055378914,
           0.001077517052181065,
           0.011020248755812645,
           0.0017465348355472088,
           0.011990615299769811,
           0.009051533415913582,
           0.0038915337063372135,
           0.0026472685858607292,
           0.0028466973453760147,
           0.003676444865190066,
           0.0013212664052844048,
           0.002323493827134371,
           0.0011659844312816858,
           0.0010562939569354057,
           0.0019303050357848406,
           0.001234408002346754,
           0.0010509244166314602,
           null,
           0.002799304900690913,
           null,
           0.0014195044059306383,
           null,
           0.013237009827907268,
           null,
           0.004169144667685032,
           null,
           0.005443759262561798,
           0.0024775939527899027,
           null,
           0.0036489125341176987,
           null,
           0.0016798200085759163,
           0.003677790518850088,
           0.0010533332824707031,
           0.0017711485270410776,
           0.0011525334557518363,
           0.003910826948972849,
           null,
           null,
           0.004693320952355862,
           0.0024279847275465727,
           0.004909416660666466,
           null,
           0.002582056913524866,
           null,
           null,
           null,
           null,
           0.004480917938053608,
           0.003125535324215889,
           null,
           null,
           null,
           0.012798120932919639,
           0.012514274567365646,
           null
          ],
          [
           null,
           null,
           null,
           null,
           null,
           null,
           null,
           null,
           null,
           null,
           null,
           null,
           null,
           null,
           null,
           null,
           null,
           null,
           null,
           null,
           null,
           null,
           null,
           null,
           null,
           null,
           null,
           null,
           null,
           null,
           null,
           null,
           null,
           null,
           null,
           null,
           null,
           null,
           null,
           null,
           null,
           null,
           null,
           null,
           null,
           null,
           null,
           null,
           null,
           null,
           null,
           null,
           null,
           null,
           null,
           null,
           null,
           null,
           null
          ]
         ]
        },
        {
         "marker": {
          "color": "black",
          "line": {
           "color": "Gray",
           "width": 2
          }
         },
         "mode": "markers",
         "name": "Feasible Trial",
         "showlegend": false,
         "type": "scatter",
         "x": [
          0.0048612258246951735,
          0.009447184180218409,
          0.002022807309729832,
          0.0024844733874638822,
          0.008088989972958073,
          0.006993481555530524,
          0.009326128265959114,
          0.00847077666596943,
          0.00800933505882863,
          0.006357299898537107,
          0.004793542036453257,
          0.004643003925192097,
          0.006644651164503487,
          0.003644256277757865,
          0.003272692583939085,
          0.0037134388254553147,
          0.0002859618983201747,
          0.00013293451068639153,
          0.00016482101598833644,
          0.0013010270616585372,
          0.0015783681924397643,
          0.0013848997785396763,
          0.0014712220401046773,
          0.00321367916541899,
          0.0013123106047931883,
          0.0024793055464558773,
          0.0037319454075769917,
          0.005689736859226749,
          0.0018891900420452655,
          0.004059959359984235,
          0.0008829668498645474,
          0.001035287721361168,
          0.002569749107475558,
          0.0018665340990677206,
          0.002861152110081496,
          0.000804803158410011,
          0.001805691009839501,
          0.002221702135674957,
          0.005457312666941946,
          0.0031063248738114947,
          0.004263219032077157,
          0.0033627177469709303,
          0.0015236648785628855,
          0.0034983693930714047,
          0.002570416914840954,
          0.004239922045757851,
          0.000662259354729205,
          0.0017245660022955657,
          0.0027720657351321654,
          0.0022966234341041886,
          0.004679597012724851,
          0.0015528292768899295,
          0.0019967096733155307,
          0.0005030922057200975,
          0.0005109668968683066,
          0.0010762834240493012,
          0.0005082222560318676
         ],
         "xaxis": "x29",
         "y": [
          256,
          512,
          256,
          384,
          64,
          512,
          512,
          64,
          256,
          384,
          512,
          512,
          512,
          512,
          512,
          512,
          512,
          384,
          64,
          512,
          512,
          512,
          512,
          512,
          512,
          512,
          384,
          256,
          64,
          256,
          512,
          512,
          512,
          512,
          512,
          512,
          256,
          512,
          64,
          384,
          512,
          512,
          512,
          512,
          512,
          512,
          512,
          512,
          256,
          64,
          384,
          512,
          512,
          512,
          512,
          512,
          512
         ],
         "yaxis": "y29"
        },
        {
         "colorbar": {
          "title": {
           "text": "Objective Value"
          }
         },
         "colorscale": [
          [
           0,
           "rgb(247,251,255)"
          ],
          [
           0.125,
           "rgb(222,235,247)"
          ],
          [
           0.25,
           "rgb(198,219,239)"
          ],
          [
           0.375,
           "rgb(158,202,225)"
          ],
          [
           0.5,
           "rgb(107,174,214)"
          ],
          [
           0.625,
           "rgb(66,146,198)"
          ],
          [
           0.75,
           "rgb(33,113,181)"
          ],
          [
           0.875,
           "rgb(8,81,156)"
          ],
          [
           1,
           "rgb(8,48,107)"
          ]
         ],
         "connectgaps": true,
         "contours": {
          "coloring": "heatmap"
         },
         "hoverinfo": "none",
         "line": {
          "smoothing": 1.3
         },
         "reversescale": true,
         "showscale": false,
         "type": "contour",
         "x": [
          -0.0003327779727902093,
          0.00013293451068639153,
          0.00016482101598833644,
          0.0002859618983201747,
          0.0005030922057200975,
          0.0005082222560318676,
          0.0005109668968683066,
          0.000662259354729205,
          0.000804803158410011,
          0.0008829668498645474,
          0.001035287721361168,
          0.0010762834240493012,
          0.0013010270616585372,
          0.0013123106047931883,
          0.0013848997785396763,
          0.0014712220401046773,
          0.0015236648785628855,
          0.0015528292768899295,
          0.0015783681924397643,
          0.0017245660022955657,
          0.001805691009839501,
          0.0018665340990677206,
          0.0018891900420452655,
          0.0019967096733155307,
          0.002022807309729832,
          0.002221702135674957,
          0.0022966234341041886,
          0.0024793055464558773,
          0.0024844733874638822,
          0.002569749107475558,
          0.002570416914840954,
          0.0027720657351321654,
          0.002861152110081496,
          0.0031063248738114947,
          0.00321367916541899,
          0.003272692583939085,
          0.0033627177469709303,
          0.0034983693930714047,
          0.003644256277757865,
          0.0037134388254553147,
          0.0037319454075769917,
          0.004059959359984235,
          0.004239922045757851,
          0.004263219032077157,
          0.004643003925192097,
          0.004679597012724851,
          0.004793542036453257,
          0.0048612258246951735,
          0.005457312666941946,
          0.005689736859226749,
          0.006357299898537107,
          0.006644651164503487,
          0.006993481555530524,
          0.00800933505882863,
          0.008088989972958073,
          0.00847077666596943,
          0.009326128265959114,
          0.009447184180218409,
          0.00991289666369501
         ],
         "xaxis": "x39",
         "y": [
          41.599999999999994,
          64,
          256,
          384,
          512,
          534.4
         ],
         "yaxis": "y39",
         "z": [
          [
           null,
           null,
           null,
           null,
           null,
           null,
           null,
           null,
           null,
           null,
           null,
           null,
           null,
           null,
           null,
           null,
           null,
           null,
           null,
           null,
           null,
           null,
           null,
           null,
           null,
           null,
           null,
           null,
           null,
           null,
           null,
           null,
           null,
           null,
           null,
           null,
           null,
           null,
           null,
           null,
           null,
           null,
           null,
           null,
           null,
           null,
           null,
           null,
           null,
           null,
           null,
           null,
           null,
           null,
           null,
           null,
           null,
           null,
           null
          ],
          [
           null,
           null,
           0.018036603927612305,
           null,
           null,
           null,
           null,
           null,
           null,
           null,
           null,
           null,
           null,
           null,
           null,
           null,
           null,
           null,
           null,
           null,
           null,
           null,
           0.017933184280991554,
           null,
           null,
           null,
           null,
           null,
           0.009889267385005951,
           null,
           null,
           0.0034027867950499058,
           null,
           null,
           null,
           null,
           null,
           null,
           null,
           null,
           null,
           null,
           null,
           null,
           null,
           null,
           null,
           null,
           0.012842606753110886,
           null,
           null,
           null,
           null,
           null,
           null,
           0.01462360577923911,
           null,
           null,
           null
          ],
          [
           null,
           null,
           null,
           null,
           null,
           0.011020248755812645,
           null,
           null,
           0.009051533415913582,
           null,
           null,
           null,
           null,
           null,
           null,
           null,
           null,
           null,
           null,
           null,
           null,
           null,
           null,
           null,
           0.015235654436624967,
           null,
           null,
           null,
           null,
           null,
           null,
           null,
           null,
           null,
           null,
           null,
           null,
           null,
           null,
           null,
           0.003278343938291073,
           null,
           null,
           0.0024279847275465727,
           null,
           null,
           null,
           null,
           null,
           null,
           0.010210204869508743,
           null,
           null,
           null,
           0.016106017998286655,
           null,
           null,
           null,
           null
          ],
          [
           null,
           null,
           null,
           0.0023483606055378914,
           0.001077517052181065,
           null,
           0.0017465348355472088,
           0.011990615299769811,
           null,
           0.0038915337063372135,
           0.0026472685858607292,
           0.0028466973453760147,
           0.003676444865190066,
           0.0013212664052844048,
           0.002323493827134371,
           0.0011659844312816858,
           0.0010562939569354057,
           0.0019303050357848406,
           0.001234408002346754,
           0.0010509244166314602,
           null,
           0.002799304900690913,
           null,
           0.0014195044059306383,
           null,
           0.013237009827907268,
           0.007493170909583569,
           0.004169144667685032,
           null,
           0.005443759262561798,
           0.0024775939527899027,
           null,
           0.0036489125341176987,
           0.009871360446725572,
           0.0016798200085759163,
           0.003677790518850088,
           0.0010533332824707031,
           0.0017711485270410776,
           0.0011525334557518363,
           0.003910826948972849,
           null,
           null,
           0.004693320952355862,
           null,
           0.004909416660666466,
           0.0031210482120513916,
           0.002582056913524866,
           null,
           null,
           null,
           null,
           0.004480917938053608,
           0.003125535324215889,
           0.00556196179240942,
           null,
           null,
           0.012798120932919639,
           null,
           null
          ],
          [
           null,
           0.007173012942075729,
           null,
           null,
           null,
           null,
           null,
           null,
           null,
           null,
           null,
           null,
           null,
           null,
           null,
           null,
           null,
           null,
           null,
           null,
           0.005089037652526583,
           null,
           null,
           null,
           null,
           null,
           null,
           null,
           null,
           null,
           null,
           null,
           null,
           null,
           null,
           null,
           null,
           null,
           null,
           null,
           null,
           0.005068128928542137,
           null,
           null,
           null,
           null,
           null,
           0.004099226091057062,
           null,
           0.0032087189073746023,
           null,
           null,
           null,
           null,
           null,
           null,
           null,
           0.012514274567365646,
           null
          ],
          [
           null,
           null,
           null,
           null,
           null,
           null,
           null,
           null,
           null,
           null,
           null,
           null,
           null,
           null,
           null,
           null,
           null,
           null,
           null,
           null,
           null,
           null,
           null,
           null,
           null,
           null,
           null,
           null,
           null,
           null,
           null,
           null,
           null,
           null,
           null,
           null,
           null,
           null,
           null,
           null,
           null,
           null,
           null,
           null,
           null,
           null,
           null,
           null,
           null,
           null,
           null,
           null,
           null,
           null,
           null,
           null,
           null,
           null,
           null
          ]
         ]
        },
        {
         "marker": {
          "color": "black",
          "line": {
           "color": "Gray",
           "width": 2
          }
         },
         "mode": "markers",
         "name": "Feasible Trial",
         "showlegend": false,
         "type": "scatter",
         "x": [
          0.0048612258246951735,
          0.009447184180218409,
          0.002022807309729832,
          0.0024844733874638822,
          0.008088989972958073,
          0.006993481555530524,
          0.009326128265959114,
          0.00847077666596943,
          0.00800933505882863,
          0.006357299898537107,
          0.004793542036453257,
          0.004643003925192097,
          0.006644651164503487,
          0.003644256277757865,
          0.003272692583939085,
          0.0037134388254553147,
          0.0002859618983201747,
          0.00013293451068639153,
          0.00016482101598833644,
          0.0013010270616585372,
          0.0015783681924397643,
          0.0013848997785396763,
          0.0014712220401046773,
          0.00321367916541899,
          0.0013123106047931883,
          0.0024793055464558773,
          0.0037319454075769917,
          0.005689736859226749,
          0.0018891900420452655,
          0.004059959359984235,
          0.0008829668498645474,
          0.001035287721361168,
          0.002569749107475558,
          0.0018665340990677206,
          0.002861152110081496,
          0.000804803158410011,
          0.001805691009839501,
          0.002221702135674957,
          0.005457312666941946,
          0.0031063248738114947,
          0.004263219032077157,
          0.0033627177469709303,
          0.0015236648785628855,
          0.0034983693930714047,
          0.002570416914840954,
          0.004239922045757851,
          0.000662259354729205,
          0.0017245660022955657,
          0.0027720657351321654,
          0.0022966234341041886,
          0.004679597012724851,
          0.0015528292768899295,
          0.0019967096733155307,
          0.0005030922057200975,
          0.0005109668968683066,
          0.0010762834240493012,
          0.0005082222560318676
         ],
         "xaxis": "x39",
         "y": [
          512,
          512,
          256,
          64,
          256,
          384,
          384,
          64,
          384,
          256,
          384,
          384,
          384,
          384,
          384,
          384,
          384,
          512,
          64,
          384,
          384,
          384,
          384,
          384,
          384,
          384,
          256,
          512,
          64,
          512,
          384,
          384,
          384,
          384,
          384,
          256,
          512,
          384,
          64,
          384,
          256,
          384,
          384,
          384,
          384,
          384,
          384,
          384,
          64,
          384,
          384,
          384,
          384,
          384,
          384,
          384,
          256
         ],
         "yaxis": "y39"
        },
        {
         "colorbar": {
          "title": {
           "text": "Objective Value"
          }
         },
         "colorscale": [
          [
           0,
           "rgb(247,251,255)"
          ],
          [
           0.125,
           "rgb(222,235,247)"
          ],
          [
           0.25,
           "rgb(198,219,239)"
          ],
          [
           0.375,
           "rgb(158,202,225)"
          ],
          [
           0.5,
           "rgb(107,174,214)"
          ],
          [
           0.625,
           "rgb(66,146,198)"
          ],
          [
           0.75,
           "rgb(33,113,181)"
          ],
          [
           0.875,
           "rgb(8,81,156)"
          ],
          [
           1,
           "rgb(8,48,107)"
          ]
         ],
         "connectgaps": true,
         "contours": {
          "coloring": "heatmap"
         },
         "hoverinfo": "none",
         "line": {
          "smoothing": 1.3
         },
         "reversescale": true,
         "showscale": false,
         "type": "contour",
         "x": [
          -0.0003327779727902093,
          0.00013293451068639153,
          0.00016482101598833644,
          0.0002859618983201747,
          0.0005030922057200975,
          0.0005082222560318676,
          0.0005109668968683066,
          0.000662259354729205,
          0.000804803158410011,
          0.0008829668498645474,
          0.001035287721361168,
          0.0010762834240493012,
          0.0013010270616585372,
          0.0013123106047931883,
          0.0013848997785396763,
          0.0014712220401046773,
          0.0015236648785628855,
          0.0015528292768899295,
          0.0015783681924397643,
          0.0017245660022955657,
          0.001805691009839501,
          0.0018665340990677206,
          0.0018891900420452655,
          0.0019967096733155307,
          0.002022807309729832,
          0.002221702135674957,
          0.0022966234341041886,
          0.0024793055464558773,
          0.0024844733874638822,
          0.002569749107475558,
          0.002570416914840954,
          0.0027720657351321654,
          0.002861152110081496,
          0.0031063248738114947,
          0.00321367916541899,
          0.003272692583939085,
          0.0033627177469709303,
          0.0034983693930714047,
          0.003644256277757865,
          0.0037134388254553147,
          0.0037319454075769917,
          0.004059959359984235,
          0.004239922045757851,
          0.004263219032077157,
          0.004643003925192097,
          0.004679597012724851,
          0.004793542036453257,
          0.0048612258246951735,
          0.005457312666941946,
          0.005689736859226749,
          0.006357299898537107,
          0.006644651164503487,
          0.006993481555530524,
          0.00800933505882863,
          0.008088989972958073,
          0.00847077666596943,
          0.009326128265959114,
          0.009447184180218409,
          0.00991289666369501
         ],
         "xaxis": "x49",
         "y": [
          1.7,
          2,
          4,
          6,
          8,
          8.3
         ],
         "yaxis": "y49",
         "z": [
          [
           null,
           null,
           null,
           null,
           null,
           null,
           null,
           null,
           null,
           null,
           null,
           null,
           null,
           null,
           null,
           null,
           null,
           null,
           null,
           null,
           null,
           null,
           null,
           null,
           null,
           null,
           null,
           null,
           null,
           null,
           null,
           null,
           null,
           null,
           null,
           null,
           null,
           null,
           null,
           null,
           null,
           null,
           null,
           null,
           null,
           null,
           null,
           null,
           null,
           null,
           null,
           null,
           null,
           null,
           null,
           null,
           null,
           null,
           null
          ],
          [
           null,
           null,
           null,
           null,
           null,
           0.011020248755812645,
           null,
           null,
           0.009051533415913582,
           0.0038915337063372135,
           null,
           null,
           null,
           null,
           null,
           null,
           null,
           null,
           null,
           null,
           null,
           null,
           null,
           null,
           null,
           null,
           null,
           null,
           null,
           null,
           null,
           null,
           null,
           0.009871360446725572,
           null,
           null,
           null,
           null,
           null,
           null,
           null,
           null,
           null,
           null,
           null,
           null,
           null,
           0.004099226091057062,
           null,
           null,
           null,
           null,
           null,
           0.00556196179240942,
           0.016106017998286655,
           null,
           null,
           0.012514274567365646,
           null
          ],
          [
           null,
           null,
           0.018036603927612305,
           null,
           null,
           null,
           null,
           null,
           null,
           null,
           null,
           null,
           null,
           null,
           null,
           null,
           null,
           null,
           null,
           null,
           null,
           null,
           0.017933184280991554,
           null,
           null,
           0.013237009827907268,
           null,
           null,
           0.009889267385005951,
           null,
           null,
           0.0034027867950499058,
           null,
           null,
           null,
           null,
           null,
           null,
           null,
           null,
           null,
           null,
           null,
           null,
           null,
           null,
           null,
           null,
           null,
           null,
           null,
           null,
           null,
           null,
           null,
           null,
           0.012798120932919639,
           null,
           null
          ],
          [
           null,
           0.007173012942075729,
           null,
           0.0023483606055378914,
           0.001077517052181065,
           null,
           0.0017465348355472088,
           null,
           null,
           null,
           0.0026472685858607292,
           0.0028466973453760147,
           null,
           0.0013212664052844048,
           0.002323493827134371,
           0.0011659844312816858,
           0.0010562939569354057,
           0.0019303050357848406,
           0.001234408002346754,
           0.0010509244166314602,
           0.005089037652526583,
           0.002799304900690913,
           null,
           0.0014195044059306383,
           0.015235654436624967,
           null,
           0.007493170909583569,
           0.004169144667685032,
           null,
           0.005443759262561798,
           0.0024775939527899027,
           null,
           0.0036489125341176987,
           null,
           0.0016798200085759163,
           null,
           0.0010533332824707031,
           0.0017711485270410776,
           0.0011525334557518363,
           0.003910826948972849,
           0.003278343938291073,
           0.005068128928542137,
           0.004693320952355862,
           0.0024279847275465727,
           0.004909416660666466,
           0.0031210482120513916,
           0.002582056913524866,
           null,
           0.012842606753110886,
           null,
           null,
           0.004480917938053608,
           0.003125535324215889,
           null,
           null,
           0.01462360577923911,
           null,
           null,
           null
          ],
          [
           null,
           null,
           null,
           null,
           null,
           null,
           null,
           0.011990615299769811,
           null,
           null,
           null,
           null,
           0.003676444865190066,
           null,
           null,
           null,
           null,
           null,
           null,
           null,
           null,
           null,
           null,
           null,
           null,
           null,
           null,
           null,
           null,
           null,
           null,
           null,
           null,
           null,
           null,
           0.003677790518850088,
           null,
           null,
           null,
           null,
           null,
           null,
           null,
           null,
           null,
           null,
           null,
           null,
           null,
           0.0032087189073746023,
           0.010210204869508743,
           null,
           null,
           null,
           null,
           null,
           null,
           null,
           null
          ],
          [
           null,
           null,
           null,
           null,
           null,
           null,
           null,
           null,
           null,
           null,
           null,
           null,
           null,
           null,
           null,
           null,
           null,
           null,
           null,
           null,
           null,
           null,
           null,
           null,
           null,
           null,
           null,
           null,
           null,
           null,
           null,
           null,
           null,
           null,
           null,
           null,
           null,
           null,
           null,
           null,
           null,
           null,
           null,
           null,
           null,
           null,
           null,
           null,
           null,
           null,
           null,
           null,
           null,
           null,
           null,
           null,
           null,
           null,
           null
          ]
         ]
        },
        {
         "marker": {
          "color": "black",
          "line": {
           "color": "Gray",
           "width": 2
          }
         },
         "mode": "markers",
         "name": "Feasible Trial",
         "showlegend": false,
         "type": "scatter",
         "x": [
          0.0048612258246951735,
          0.009447184180218409,
          0.002022807309729832,
          0.0024844733874638822,
          0.008088989972958073,
          0.006993481555530524,
          0.009326128265959114,
          0.00847077666596943,
          0.00800933505882863,
          0.006357299898537107,
          0.004793542036453257,
          0.004643003925192097,
          0.006644651164503487,
          0.003644256277757865,
          0.003272692583939085,
          0.0037134388254553147,
          0.0002859618983201747,
          0.00013293451068639153,
          0.00016482101598833644,
          0.0013010270616585372,
          0.0015783681924397643,
          0.0013848997785396763,
          0.0014712220401046773,
          0.00321367916541899,
          0.0013123106047931883,
          0.0024793055464558773,
          0.0037319454075769917,
          0.005689736859226749,
          0.0018891900420452655,
          0.004059959359984235,
          0.0008829668498645474,
          0.001035287721361168,
          0.002569749107475558,
          0.0018665340990677206,
          0.002861152110081496,
          0.000804803158410011,
          0.001805691009839501,
          0.002221702135674957,
          0.005457312666941946,
          0.0031063248738114947,
          0.004263219032077157,
          0.0033627177469709303,
          0.0015236648785628855,
          0.0034983693930714047,
          0.002570416914840954,
          0.004239922045757851,
          0.000662259354729205,
          0.0017245660022955657,
          0.0027720657351321654,
          0.0022966234341041886,
          0.004679597012724851,
          0.0015528292768899295,
          0.0019967096733155307,
          0.0005030922057200975,
          0.0005109668968683066,
          0.0010762834240493012,
          0.0005082222560318676
         ],
         "xaxis": "x49",
         "y": [
          2,
          2,
          6,
          4,
          2,
          6,
          4,
          6,
          2,
          8,
          6,
          6,
          6,
          6,
          8,
          6,
          6,
          6,
          4,
          8,
          6,
          6,
          6,
          6,
          6,
          6,
          6,
          8,
          4,
          6,
          2,
          6,
          6,
          6,
          6,
          2,
          6,
          4,
          6,
          2,
          6,
          6,
          6,
          6,
          6,
          6,
          8,
          6,
          4,
          6,
          6,
          6,
          6,
          6,
          6,
          6,
          2
         ],
         "yaxis": "y49"
        },
        {
         "colorbar": {
          "title": {
           "text": "Objective Value"
          }
         },
         "colorscale": [
          [
           0,
           "rgb(247,251,255)"
          ],
          [
           0.125,
           "rgb(222,235,247)"
          ],
          [
           0.25,
           "rgb(198,219,239)"
          ],
          [
           0.375,
           "rgb(158,202,225)"
          ],
          [
           0.5,
           "rgb(107,174,214)"
          ],
          [
           0.625,
           "rgb(66,146,198)"
          ],
          [
           0.75,
           "rgb(33,113,181)"
          ],
          [
           0.875,
           "rgb(8,81,156)"
          ],
          [
           1,
           "rgb(8,48,107)"
          ]
         ],
         "connectgaps": true,
         "contours": {
          "coloring": "heatmap"
         },
         "hoverinfo": "none",
         "line": {
          "smoothing": 1.3
         },
         "reversescale": true,
         "showscale": false,
         "type": "contour",
         "x": [
          -0.0003327779727902093,
          0.00013293451068639153,
          0.00016482101598833644,
          0.0002859618983201747,
          0.0005030922057200975,
          0.0005082222560318676,
          0.0005109668968683066,
          0.000662259354729205,
          0.000804803158410011,
          0.0008829668498645474,
          0.001035287721361168,
          0.0010762834240493012,
          0.0013010270616585372,
          0.0013123106047931883,
          0.0013848997785396763,
          0.0014712220401046773,
          0.0015236648785628855,
          0.0015528292768899295,
          0.0015783681924397643,
          0.0017245660022955657,
          0.001805691009839501,
          0.0018665340990677206,
          0.0018891900420452655,
          0.0019967096733155307,
          0.002022807309729832,
          0.002221702135674957,
          0.0022966234341041886,
          0.0024793055464558773,
          0.0024844733874638822,
          0.002569749107475558,
          0.002570416914840954,
          0.0027720657351321654,
          0.002861152110081496,
          0.0031063248738114947,
          0.00321367916541899,
          0.003272692583939085,
          0.0033627177469709303,
          0.0034983693930714047,
          0.003644256277757865,
          0.0037134388254553147,
          0.0037319454075769917,
          0.004059959359984235,
          0.004239922045757851,
          0.004263219032077157,
          0.004643003925192097,
          0.004679597012724851,
          0.004793542036453257,
          0.0048612258246951735,
          0.005457312666941946,
          0.005689736859226749,
          0.006357299898537107,
          0.006644651164503487,
          0.006993481555530524,
          0.00800933505882863,
          0.008088989972958073,
          0.00847077666596943,
          0.009326128265959114,
          0.009447184180218409,
          0.00991289666369501
         ],
         "xaxis": "x59",
         "y": [
          "False",
          "True"
         ],
         "yaxis": "y59",
         "z": [
          [
           null,
           0.007173012942075729,
           null,
           0.0023483606055378914,
           0.001077517052181065,
           0.011020248755812645,
           0.0017465348355472088,
           0.011990615299769811,
           null,
           0.0038915337063372135,
           0.0026472685858607292,
           0.0028466973453760147,
           0.003676444865190066,
           0.0013212664052844048,
           0.002323493827134371,
           0.0011659844312816858,
           0.0010562939569354057,
           0.0019303050357848406,
           0.001234408002346754,
           0.0010509244166314602,
           0.005089037652526583,
           0.002799304900690913,
           0.017933184280991554,
           0.0014195044059306383,
           null,
           null,
           null,
           0.004169144667685032,
           null,
           0.005443759262561798,
           0.0024775939527899027,
           0.0034027867950499058,
           0.0036489125341176987,
           0.009871360446725572,
           0.0016798200085759163,
           0.003677790518850088,
           0.0010533332824707031,
           0.0017711485270410776,
           0.0011525334557518363,
           0.003910826948972849,
           null,
           null,
           0.004693320952355862,
           0.0024279847275465727,
           0.004909416660666466,
           0.0031210482120513916,
           0.002582056913524866,
           null,
           0.012842606753110886,
           0.0032087189073746023,
           0.010210204869508743,
           0.004480917938053608,
           0.003125535324215889,
           0.00556196179240942,
           null,
           0.01462360577923911,
           0.012798120932919639,
           0.012514274567365646,
           null
          ],
          [
           null,
           null,
           0.018036603927612305,
           null,
           null,
           null,
           null,
           null,
           0.009051533415913582,
           null,
           null,
           null,
           null,
           null,
           null,
           null,
           null,
           null,
           null,
           null,
           null,
           null,
           null,
           null,
           0.015235654436624967,
           0.013237009827907268,
           0.007493170909583569,
           null,
           0.009889267385005951,
           null,
           null,
           null,
           null,
           null,
           null,
           null,
           null,
           null,
           null,
           null,
           0.003278343938291073,
           0.005068128928542137,
           null,
           null,
           null,
           null,
           null,
           0.004099226091057062,
           null,
           null,
           null,
           null,
           null,
           null,
           0.016106017998286655,
           null,
           null,
           null,
           null
          ]
         ]
        },
        {
         "marker": {
          "color": "black",
          "line": {
           "color": "Gray",
           "width": 2
          }
         },
         "mode": "markers",
         "name": "Feasible Trial",
         "showlegend": false,
         "type": "scatter",
         "x": [
          0.0048612258246951735,
          0.009447184180218409,
          0.002022807309729832,
          0.0024844733874638822,
          0.008088989972958073,
          0.006993481555530524,
          0.009326128265959114,
          0.00847077666596943,
          0.00800933505882863,
          0.006357299898537107,
          0.004793542036453257,
          0.004643003925192097,
          0.006644651164503487,
          0.003644256277757865,
          0.003272692583939085,
          0.0037134388254553147,
          0.0002859618983201747,
          0.00013293451068639153,
          0.00016482101598833644,
          0.0013010270616585372,
          0.0015783681924397643,
          0.0013848997785396763,
          0.0014712220401046773,
          0.00321367916541899,
          0.0013123106047931883,
          0.0024793055464558773,
          0.0037319454075769917,
          0.005689736859226749,
          0.0018891900420452655,
          0.004059959359984235,
          0.0008829668498645474,
          0.001035287721361168,
          0.002569749107475558,
          0.0018665340990677206,
          0.002861152110081496,
          0.000804803158410011,
          0.001805691009839501,
          0.002221702135674957,
          0.005457312666941946,
          0.0031063248738114947,
          0.004263219032077157,
          0.0033627177469709303,
          0.0015236648785628855,
          0.0034983693930714047,
          0.002570416914840954,
          0.004239922045757851,
          0.000662259354729205,
          0.0017245660022955657,
          0.0027720657351321654,
          0.0022966234341041886,
          0.004679597012724851,
          0.0015528292768899295,
          0.0019967096733155307,
          0.0005030922057200975,
          0.0005109668968683066,
          0.0010762834240493012,
          0.0005082222560318676
         ],
         "xaxis": "x59",
         "y": [
          "True",
          "False",
          "True",
          "True",
          "True",
          "False",
          "False",
          "False",
          "False",
          "False",
          "False",
          "False",
          "False",
          "False",
          "False",
          "False",
          "False",
          "False",
          "True",
          "False",
          "False",
          "False",
          "False",
          "False",
          "False",
          "False",
          "True",
          "False",
          "False",
          "True",
          "False",
          "False",
          "False",
          "False",
          "False",
          "True",
          "False",
          "True",
          "False",
          "False",
          "False",
          "False",
          "False",
          "False",
          "False",
          "False",
          "False",
          "False",
          "False",
          "True",
          "False",
          "False",
          "False",
          "False",
          "False",
          "False",
          "False"
         ],
         "yaxis": "y59"
        },
        {
         "colorbar": {
          "title": {
           "text": "Objective Value"
          }
         },
         "colorscale": [
          [
           0,
           "rgb(247,251,255)"
          ],
          [
           0.125,
           "rgb(222,235,247)"
          ],
          [
           0.25,
           "rgb(198,219,239)"
          ],
          [
           0.375,
           "rgb(158,202,225)"
          ],
          [
           0.5,
           "rgb(107,174,214)"
          ],
          [
           0.625,
           "rgb(66,146,198)"
          ],
          [
           0.75,
           "rgb(33,113,181)"
          ],
          [
           0.875,
           "rgb(8,81,156)"
          ],
          [
           1,
           "rgb(8,48,107)"
          ]
         ],
         "connectgaps": true,
         "contours": {
          "coloring": "heatmap"
         },
         "hoverinfo": "none",
         "line": {
          "smoothing": 1.3
         },
         "reversescale": true,
         "showscale": false,
         "type": "contour",
         "x": [
          -0.0003327779727902093,
          0.00013293451068639153,
          0.00016482101598833644,
          0.0002859618983201747,
          0.0005030922057200975,
          0.0005082222560318676,
          0.0005109668968683066,
          0.000662259354729205,
          0.000804803158410011,
          0.0008829668498645474,
          0.001035287721361168,
          0.0010762834240493012,
          0.0013010270616585372,
          0.0013123106047931883,
          0.0013848997785396763,
          0.0014712220401046773,
          0.0015236648785628855,
          0.0015528292768899295,
          0.0015783681924397643,
          0.0017245660022955657,
          0.001805691009839501,
          0.0018665340990677206,
          0.0018891900420452655,
          0.0019967096733155307,
          0.002022807309729832,
          0.002221702135674957,
          0.0022966234341041886,
          0.0024793055464558773,
          0.0024844733874638822,
          0.002569749107475558,
          0.002570416914840954,
          0.0027720657351321654,
          0.002861152110081496,
          0.0031063248738114947,
          0.00321367916541899,
          0.003272692583939085,
          0.0033627177469709303,
          0.0034983693930714047,
          0.003644256277757865,
          0.0037134388254553147,
          0.0037319454075769917,
          0.004059959359984235,
          0.004239922045757851,
          0.004263219032077157,
          0.004643003925192097,
          0.004679597012724851,
          0.004793542036453257,
          0.0048612258246951735,
          0.005457312666941946,
          0.005689736859226749,
          0.006357299898537107,
          0.006644651164503487,
          0.006993481555530524,
          0.00800933505882863,
          0.008088989972958073,
          0.00847077666596943,
          0.009326128265959114,
          0.009447184180218409,
          0.00991289666369501
         ],
         "xaxis": "x69",
         "y": [
          10.399999999999999,
          16,
          32,
          64,
          128,
          133.6
         ],
         "yaxis": "y69",
         "z": [
          [
           null,
           null,
           null,
           null,
           null,
           null,
           null,
           null,
           null,
           null,
           null,
           null,
           null,
           null,
           null,
           null,
           null,
           null,
           null,
           null,
           null,
           null,
           null,
           null,
           null,
           null,
           null,
           null,
           null,
           null,
           null,
           null,
           null,
           null,
           null,
           null,
           null,
           null,
           null,
           null,
           null,
           null,
           null,
           null,
           null,
           null,
           null,
           null,
           null,
           null,
           null,
           null,
           null,
           null,
           null,
           null,
           null,
           null,
           null
          ],
          [
           null,
           null,
           null,
           null,
           null,
           null,
           null,
           null,
           null,
           null,
           null,
           null,
           null,
           null,
           null,
           null,
           null,
           null,
           null,
           null,
           null,
           null,
           null,
           null,
           null,
           null,
           0.007493170909583569,
           null,
           null,
           null,
           null,
           null,
           null,
           null,
           null,
           null,
           null,
           null,
           null,
           null,
           null,
           0.005068128928542137,
           null,
           null,
           null,
           null,
           null,
           0.004099226091057062,
           0.012842606753110886,
           0.0032087189073746023,
           null,
           null,
           null,
           null,
           0.016106017998286655,
           0.01462360577923911,
           null,
           null,
           null
          ],
          [
           null,
           0.007173012942075729,
           0.018036603927612305,
           0.0023483606055378914,
           0.001077517052181065,
           0.011020248755812645,
           0.0017465348355472088,
           null,
           0.009051533415913582,
           0.0038915337063372135,
           0.0026472685858607292,
           0.0028466973453760147,
           null,
           0.0013212664052844048,
           0.002323493827134371,
           0.0011659844312816858,
           0.0010562939569354057,
           0.0019303050357848406,
           0.001234408002346754,
           0.0010509244166314602,
           0.005089037652526583,
           0.002799304900690913,
           null,
           0.0014195044059306383,
           null,
           null,
           null,
           0.004169144667685032,
           0.009889267385005951,
           0.005443759262561798,
           0.0024775939527899027,
           0.0034027867950499058,
           null,
           0.009871360446725572,
           0.0016798200085759163,
           0.003677790518850088,
           0.0010533332824707031,
           0.0017711485270410776,
           0.0011525334557518363,
           null,
           0.003278343938291073,
           null,
           null,
           0.0024279847275465727,
           0.004909416660666466,
           0.0031210482120513916,
           0.002582056913524866,
           null,
           null,
           null,
           null,
           0.004480917938053608,
           0.003125535324215889,
           null,
           null,
           null,
           null,
           null,
           null
          ],
          [
           null,
           null,
           null,
           null,
           null,
           null,
           null,
           0.011990615299769811,
           null,
           null,
           null,
           null,
           0.003676444865190066,
           null,
           null,
           null,
           null,
           null,
           null,
           null,
           null,
           null,
           0.017933184280991554,
           null,
           null,
           null,
           null,
           null,
           null,
           null,
           null,
           null,
           null,
           null,
           null,
           null,
           null,
           null,
           null,
           0.003910826948972849,
           null,
           null,
           null,
           null,
           null,
           null,
           null,
           null,
           null,
           null,
           null,
           null,
           null,
           0.00556196179240942,
           null,
           null,
           null,
           null,
           null
          ],
          [
           null,
           null,
           null,
           null,
           null,
           null,
           null,
           null,
           null,
           null,
           null,
           null,
           null,
           null,
           null,
           null,
           null,
           null,
           null,
           null,
           null,
           null,
           null,
           null,
           0.015235654436624967,
           0.013237009827907268,
           null,
           null,
           null,
           null,
           null,
           null,
           0.0036489125341176987,
           null,
           null,
           null,
           null,
           null,
           null,
           null,
           null,
           null,
           0.004693320952355862,
           null,
           null,
           null,
           null,
           null,
           null,
           null,
           0.010210204869508743,
           null,
           null,
           null,
           null,
           null,
           0.012798120932919639,
           0.012514274567365646,
           null
          ],
          [
           null,
           null,
           null,
           null,
           null,
           null,
           null,
           null,
           null,
           null,
           null,
           null,
           null,
           null,
           null,
           null,
           null,
           null,
           null,
           null,
           null,
           null,
           null,
           null,
           null,
           null,
           null,
           null,
           null,
           null,
           null,
           null,
           null,
           null,
           null,
           null,
           null,
           null,
           null,
           null,
           null,
           null,
           null,
           null,
           null,
           null,
           null,
           null,
           null,
           null,
           null,
           null,
           null,
           null,
           null,
           null,
           null,
           null,
           null
          ]
         ]
        },
        {
         "marker": {
          "color": "black",
          "line": {
           "color": "Gray",
           "width": 2
          }
         },
         "mode": "markers",
         "name": "Feasible Trial",
         "showlegend": false,
         "type": "scatter",
         "x": [
          0.0048612258246951735,
          0.009447184180218409,
          0.002022807309729832,
          0.0024844733874638822,
          0.008088989972958073,
          0.006993481555530524,
          0.009326128265959114,
          0.00847077666596943,
          0.00800933505882863,
          0.006357299898537107,
          0.004793542036453257,
          0.004643003925192097,
          0.006644651164503487,
          0.003644256277757865,
          0.003272692583939085,
          0.0037134388254553147,
          0.0002859618983201747,
          0.00013293451068639153,
          0.00016482101598833644,
          0.0013010270616585372,
          0.0015783681924397643,
          0.0013848997785396763,
          0.0014712220401046773,
          0.00321367916541899,
          0.0013123106047931883,
          0.0024793055464558773,
          0.0037319454075769917,
          0.005689736859226749,
          0.0018891900420452655,
          0.004059959359984235,
          0.0008829668498645474,
          0.001035287721361168,
          0.002569749107475558,
          0.0018665340990677206,
          0.002861152110081496,
          0.000804803158410011,
          0.001805691009839501,
          0.002221702135674957,
          0.005457312666941946,
          0.0031063248738114947,
          0.004263219032077157,
          0.0033627177469709303,
          0.0015236648785628855,
          0.0034983693930714047,
          0.002570416914840954,
          0.004239922045757851,
          0.000662259354729205,
          0.0017245660022955657,
          0.0027720657351321654,
          0.0022966234341041886,
          0.004679597012724851,
          0.0015528292768899295,
          0.0019967096733155307,
          0.0005030922057200975,
          0.0005109668968683066,
          0.0010762834240493012,
          0.0005082222560318676
         ],
         "xaxis": "x69",
         "y": [
          16,
          128,
          128,
          32,
          16,
          32,
          128,
          16,
          64,
          128,
          32,
          32,
          32,
          32,
          32,
          64,
          32,
          32,
          32,
          64,
          32,
          32,
          32,
          32,
          32,
          32,
          32,
          16,
          64,
          16,
          32,
          32,
          32,
          32,
          128,
          32,
          32,
          128,
          16,
          32,
          32,
          32,
          32,
          32,
          32,
          128,
          64,
          32,
          32,
          16,
          32,
          32,
          32,
          32,
          32,
          32,
          32
         ],
         "yaxis": "y69"
        },
        {
         "colorbar": {
          "title": {
           "text": "Objective Value"
          }
         },
         "colorscale": [
          [
           0,
           "rgb(247,251,255)"
          ],
          [
           0.125,
           "rgb(222,235,247)"
          ],
          [
           0.25,
           "rgb(198,219,239)"
          ],
          [
           0.375,
           "rgb(158,202,225)"
          ],
          [
           0.5,
           "rgb(107,174,214)"
          ],
          [
           0.625,
           "rgb(66,146,198)"
          ],
          [
           0.75,
           "rgb(33,113,181)"
          ],
          [
           0.875,
           "rgb(8,81,156)"
          ],
          [
           1,
           "rgb(8,48,107)"
          ]
         ],
         "connectgaps": true,
         "contours": {
          "coloring": "heatmap"
         },
         "hoverinfo": "none",
         "line": {
          "smoothing": 1.3
         },
         "reversescale": true,
         "showscale": false,
         "type": "contour",
         "x": [
          -0.0003327779727902093,
          0.00013293451068639153,
          0.00016482101598833644,
          0.0002859618983201747,
          0.0005030922057200975,
          0.0005082222560318676,
          0.0005109668968683066,
          0.000662259354729205,
          0.000804803158410011,
          0.0008829668498645474,
          0.001035287721361168,
          0.0010762834240493012,
          0.0013010270616585372,
          0.0013123106047931883,
          0.0013848997785396763,
          0.0014712220401046773,
          0.0015236648785628855,
          0.0015528292768899295,
          0.0015783681924397643,
          0.0017245660022955657,
          0.001805691009839501,
          0.0018665340990677206,
          0.0018891900420452655,
          0.0019967096733155307,
          0.002022807309729832,
          0.002221702135674957,
          0.0022966234341041886,
          0.0024793055464558773,
          0.0024844733874638822,
          0.002569749107475558,
          0.002570416914840954,
          0.0027720657351321654,
          0.002861152110081496,
          0.0031063248738114947,
          0.00321367916541899,
          0.003272692583939085,
          0.0033627177469709303,
          0.0034983693930714047,
          0.003644256277757865,
          0.0037134388254553147,
          0.0037319454075769917,
          0.004059959359984235,
          0.004239922045757851,
          0.004263219032077157,
          0.004643003925192097,
          0.004679597012724851,
          0.004793542036453257,
          0.0048612258246951735,
          0.005457312666941946,
          0.005689736859226749,
          0.006357299898537107,
          0.006644651164503487,
          0.006993481555530524,
          0.00800933505882863,
          0.008088989972958073,
          0.00847077666596943,
          0.009326128265959114,
          0.009447184180218409,
          0.00991289666369501
         ],
         "xaxis": "x79",
         "y": [
          5.199999999999999,
          8,
          16,
          32,
          64,
          66.8
         ],
         "yaxis": "y79",
         "z": [
          [
           null,
           null,
           null,
           null,
           null,
           null,
           null,
           null,
           null,
           null,
           null,
           null,
           null,
           null,
           null,
           null,
           null,
           null,
           null,
           null,
           null,
           null,
           null,
           null,
           null,
           null,
           null,
           null,
           null,
           null,
           null,
           null,
           null,
           null,
           null,
           null,
           null,
           null,
           null,
           null,
           null,
           null,
           null,
           null,
           null,
           null,
           null,
           null,
           null,
           null,
           null,
           null,
           null,
           null,
           null,
           null,
           null,
           null,
           null
          ],
          [
           null,
           null,
           null,
           null,
           null,
           null,
           null,
           null,
           null,
           null,
           null,
           null,
           0.003676444865190066,
           null,
           null,
           null,
           null,
           null,
           null,
           null,
           null,
           null,
           null,
           null,
           0.015235654436624967,
           0.013237009827907268,
           null,
           null,
           null,
           null,
           null,
           null,
           null,
           null,
           null,
           null,
           null,
           null,
           null,
           0.003910826948972849,
           null,
           null,
           null,
           null,
           null,
           0.0031210482120513916,
           null,
           null,
           null,
           0.0032087189073746023,
           null,
           null,
           null,
           null,
           null,
           null,
           null,
           null,
           null
          ],
          [
           null,
           null,
           null,
           null,
           null,
           null,
           null,
           0.011990615299769811,
           null,
           null,
           null,
           null,
           null,
           null,
           null,
           null,
           null,
           null,
           null,
           null,
           0.005089037652526583,
           null,
           null,
           null,
           null,
           null,
           null,
           null,
           0.009889267385005951,
           null,
           null,
           null,
           null,
           0.009871360446725572,
           null,
           null,
           null,
           null,
           null,
           null,
           null,
           null,
           null,
           null,
           null,
           null,
           null,
           null,
           null,
           null,
           null,
           null,
           null,
           null,
           0.016106017998286655,
           0.01462360577923911,
           0.012798120932919639,
           null,
           null
          ],
          [
           null,
           null,
           null,
           null,
           null,
           null,
           null,
           null,
           null,
           null,
           null,
           null,
           null,
           null,
           null,
           null,
           null,
           null,
           null,
           null,
           null,
           null,
           0.017933184280991554,
           null,
           null,
           null,
           null,
           null,
           null,
           null,
           null,
           null,
           null,
           null,
           null,
           null,
           null,
           null,
           null,
           null,
           null,
           0.005068128928542137,
           0.004693320952355862,
           null,
           null,
           null,
           null,
           0.004099226091057062,
           null,
           null,
           0.010210204869508743,
           null,
           null,
           0.00556196179240942,
           null,
           null,
           null,
           null,
           null
          ],
          [
           null,
           0.007173012942075729,
           0.018036603927612305,
           0.0023483606055378914,
           0.001077517052181065,
           0.011020248755812645,
           0.0017465348355472088,
           null,
           0.009051533415913582,
           0.0038915337063372135,
           0.0026472685858607292,
           0.0028466973453760147,
           null,
           0.0013212664052844048,
           0.002323493827134371,
           0.0011659844312816858,
           0.0010562939569354057,
           0.0019303050357848406,
           0.001234408002346754,
           0.0010509244166314602,
           null,
           0.002799304900690913,
           null,
           0.0014195044059306383,
           null,
           null,
           0.007493170909583569,
           0.004169144667685032,
           null,
           0.005443759262561798,
           0.0024775939527899027,
           0.0034027867950499058,
           0.0036489125341176987,
           null,
           0.0016798200085759163,
           0.003677790518850088,
           0.0010533332824707031,
           0.0017711485270410776,
           0.0011525334557518363,
           null,
           0.003278343938291073,
           null,
           null,
           0.0024279847275465727,
           0.004909416660666466,
           null,
           0.002582056913524866,
           null,
           0.012842606753110886,
           null,
           null,
           0.004480917938053608,
           0.003125535324215889,
           null,
           null,
           null,
           null,
           0.012514274567365646,
           null
          ],
          [
           null,
           null,
           null,
           null,
           null,
           null,
           null,
           null,
           null,
           null,
           null,
           null,
           null,
           null,
           null,
           null,
           null,
           null,
           null,
           null,
           null,
           null,
           null,
           null,
           null,
           null,
           null,
           null,
           null,
           null,
           null,
           null,
           null,
           null,
           null,
           null,
           null,
           null,
           null,
           null,
           null,
           null,
           null,
           null,
           null,
           null,
           null,
           null,
           null,
           null,
           null,
           null,
           null,
           null,
           null,
           null,
           null,
           null,
           null
          ]
         ]
        },
        {
         "marker": {
          "color": "black",
          "line": {
           "color": "Gray",
           "width": 2
          }
         },
         "mode": "markers",
         "name": "Feasible Trial",
         "showlegend": false,
         "type": "scatter",
         "x": [
          0.0048612258246951735,
          0.009447184180218409,
          0.002022807309729832,
          0.0024844733874638822,
          0.008088989972958073,
          0.006993481555530524,
          0.009326128265959114,
          0.00847077666596943,
          0.00800933505882863,
          0.006357299898537107,
          0.004793542036453257,
          0.004643003925192097,
          0.006644651164503487,
          0.003644256277757865,
          0.003272692583939085,
          0.0037134388254553147,
          0.0002859618983201747,
          0.00013293451068639153,
          0.00016482101598833644,
          0.0013010270616585372,
          0.0015783681924397643,
          0.0013848997785396763,
          0.0014712220401046773,
          0.00321367916541899,
          0.0013123106047931883,
          0.0024793055464558773,
          0.0037319454075769917,
          0.005689736859226749,
          0.0018891900420452655,
          0.004059959359984235,
          0.0008829668498645474,
          0.001035287721361168,
          0.002569749107475558,
          0.0018665340990677206,
          0.002861152110081496,
          0.000804803158410011,
          0.001805691009839501,
          0.002221702135674957,
          0.005457312666941946,
          0.0031063248738114947,
          0.004263219032077157,
          0.0033627177469709303,
          0.0015236648785628855,
          0.0034983693930714047,
          0.002570416914840954,
          0.004239922045757851,
          0.000662259354729205,
          0.0017245660022955657,
          0.0027720657351321654,
          0.0022966234341041886,
          0.004679597012724851,
          0.0015528292768899295,
          0.0019967096733155307,
          0.0005030922057200975,
          0.0005109668968683066,
          0.0010762834240493012,
          0.0005082222560318676
         ],
         "xaxis": "x79",
         "y": [
          32,
          64,
          8,
          16,
          16,
          64,
          16,
          16,
          32,
          32,
          64,
          64,
          64,
          64,
          64,
          8,
          64,
          64,
          64,
          8,
          64,
          64,
          64,
          64,
          64,
          64,
          64,
          8,
          32,
          32,
          64,
          64,
          64,
          64,
          64,
          64,
          16,
          8,
          64,
          16,
          64,
          64,
          64,
          64,
          64,
          32,
          16,
          64,
          64,
          64,
          8,
          64,
          64,
          64,
          64,
          64,
          64
         ],
         "yaxis": "y79"
        },
        {
         "type": "scatter",
         "xaxis": "x89",
         "yaxis": "y89"
        },
        {
         "colorbar": {
          "title": {
           "text": "Objective Value"
          }
         },
         "colorscale": [
          [
           0,
           "rgb(247,251,255)"
          ],
          [
           0.125,
           "rgb(222,235,247)"
          ],
          [
           0.25,
           "rgb(198,219,239)"
          ],
          [
           0.375,
           "rgb(158,202,225)"
          ],
          [
           0.5,
           "rgb(107,174,214)"
          ],
          [
           0.625,
           "rgb(66,146,198)"
          ],
          [
           0.75,
           "rgb(33,113,181)"
          ],
          [
           0.875,
           "rgb(8,81,156)"
          ],
          [
           1,
           "rgb(8,48,107)"
          ]
         ],
         "connectgaps": true,
         "contours": {
          "coloring": "heatmap"
         },
         "hoverinfo": "none",
         "line": {
          "smoothing": 1.3
         },
         "reversescale": true,
         "showscale": false,
         "type": "contour",
         "x": [
          -0.0003327779727902093,
          0.00013293451068639153,
          0.00016482101598833644,
          0.0002859618983201747,
          0.0005030922057200975,
          0.0005082222560318676,
          0.0005109668968683066,
          0.000662259354729205,
          0.000804803158410011,
          0.0008829668498645474,
          0.001035287721361168,
          0.0010762834240493012,
          0.0013010270616585372,
          0.0013123106047931883,
          0.0013848997785396763,
          0.0014712220401046773,
          0.0015236648785628855,
          0.0015528292768899295,
          0.0015783681924397643,
          0.0017245660022955657,
          0.001805691009839501,
          0.0018665340990677206,
          0.0018891900420452655,
          0.0019967096733155307,
          0.002022807309729832,
          0.002221702135674957,
          0.0022966234341041886,
          0.0024793055464558773,
          0.0024844733874638822,
          0.002569749107475558,
          0.002570416914840954,
          0.0027720657351321654,
          0.002861152110081496,
          0.0031063248738114947,
          0.00321367916541899,
          0.003272692583939085,
          0.0033627177469709303,
          0.0034983693930714047,
          0.003644256277757865,
          0.0037134388254553147,
          0.0037319454075769917,
          0.004059959359984235,
          0.004239922045757851,
          0.004263219032077157,
          0.004643003925192097,
          0.004679597012724851,
          0.004793542036453257,
          0.0048612258246951735,
          0.005457312666941946,
          0.005689736859226749,
          0.006357299898537107,
          0.006644651164503487,
          0.006993481555530524,
          0.00800933505882863,
          0.008088989972958073,
          0.00847077666596943,
          0.009326128265959114,
          0.009447184180218409,
          0.00991289666369501
         ],
         "xaxis": "x99",
         "y": [
          "Adam",
          "AdamW",
          "SGD"
         ],
         "yaxis": "y99",
         "z": [
          [
           null,
           0.007173012942075729,
           0.018036603927612305,
           0.0023483606055378914,
           0.001077517052181065,
           0.011020248755812645,
           0.0017465348355472088,
           0.011990615299769811,
           null,
           0.0038915337063372135,
           0.0026472685858607292,
           0.0028466973453760147,
           0.003676444865190066,
           0.0013212664052844048,
           0.002323493827134371,
           0.0011659844312816858,
           0.0010562939569354057,
           0.0019303050357848406,
           0.001234408002346754,
           0.0010509244166314602,
           null,
           0.002799304900690913,
           0.017933184280991554,
           0.0014195044059306383,
           null,
           0.013237009827907268,
           null,
           null,
           null,
           0.005443759262561798,
           0.0024775939527899027,
           0.0034027867950499058,
           0.0036489125341176987,
           0.009871360446725572,
           0.0016798200085759163,
           0.003677790518850088,
           0.0010533332824707031,
           0.0017711485270410776,
           0.0011525334557518363,
           0.003910826948972849,
           0.003278343938291073,
           null,
           null,
           null,
           0.004909416660666466,
           0.0031210482120513916,
           0.002582056913524866,
           null,
           null,
           0.0032087189073746023,
           null,
           0.004480917938053608,
           null,
           0.00556196179240942,
           null,
           null,
           null,
           null,
           null
          ],
          [
           null,
           null,
           null,
           null,
           null,
           null,
           null,
           null,
           null,
           null,
           null,
           null,
           null,
           null,
           null,
           null,
           null,
           null,
           null,
           null,
           0.005089037652526583,
           null,
           null,
           null,
           0.015235654436624967,
           null,
           0.007493170909583569,
           null,
           0.009889267385005951,
           null,
           null,
           null,
           null,
           null,
           null,
           null,
           null,
           null,
           null,
           null,
           null,
           null,
           null,
           0.0024279847275465727,
           null,
           null,
           null,
           0.004099226091057062,
           0.012842606753110886,
           null,
           null,
           null,
           0.003125535324215889,
           null,
           null,
           0.01462360577923911,
           0.012798120932919639,
           null,
           null
          ],
          [
           null,
           null,
           null,
           null,
           null,
           null,
           null,
           null,
           0.009051533415913582,
           null,
           null,
           null,
           null,
           null,
           null,
           null,
           null,
           null,
           null,
           null,
           null,
           null,
           null,
           null,
           null,
           null,
           null,
           0.004169144667685032,
           null,
           null,
           null,
           null,
           null,
           null,
           null,
           null,
           null,
           null,
           null,
           null,
           null,
           0.005068128928542137,
           0.004693320952355862,
           null,
           null,
           null,
           null,
           null,
           null,
           null,
           0.010210204869508743,
           null,
           null,
           null,
           0.016106017998286655,
           null,
           null,
           0.012514274567365646,
           null
          ]
         ]
        },
        {
         "marker": {
          "color": "black",
          "line": {
           "color": "Gray",
           "width": 2
          }
         },
         "mode": "markers",
         "name": "Feasible Trial",
         "showlegend": false,
         "type": "scatter",
         "x": [
          0.0048612258246951735,
          0.009447184180218409,
          0.002022807309729832,
          0.0024844733874638822,
          0.008088989972958073,
          0.006993481555530524,
          0.009326128265959114,
          0.00847077666596943,
          0.00800933505882863,
          0.006357299898537107,
          0.004793542036453257,
          0.004643003925192097,
          0.006644651164503487,
          0.003644256277757865,
          0.003272692583939085,
          0.0037134388254553147,
          0.0002859618983201747,
          0.00013293451068639153,
          0.00016482101598833644,
          0.0013010270616585372,
          0.0015783681924397643,
          0.0013848997785396763,
          0.0014712220401046773,
          0.00321367916541899,
          0.0013123106047931883,
          0.0024793055464558773,
          0.0037319454075769917,
          0.005689736859226749,
          0.0018891900420452655,
          0.004059959359984235,
          0.0008829668498645474,
          0.001035287721361168,
          0.002569749107475558,
          0.0018665340990677206,
          0.002861152110081496,
          0.000804803158410011,
          0.001805691009839501,
          0.002221702135674957,
          0.005457312666941946,
          0.0031063248738114947,
          0.004263219032077157,
          0.0033627177469709303,
          0.0015236648785628855,
          0.0034983693930714047,
          0.002570416914840954,
          0.004239922045757851,
          0.000662259354729205,
          0.0017245660022955657,
          0.0027720657351321654,
          0.0022966234341041886,
          0.004679597012724851,
          0.0015528292768899295,
          0.0019967096733155307,
          0.0005030922057200975,
          0.0005109668968683066,
          0.0010762834240493012,
          0.0005082222560318676
         ],
         "xaxis": "x99",
         "y": [
          "AdamW",
          "SGD",
          "AdamW",
          "AdamW",
          "SGD",
          "AdamW",
          "AdamW",
          "AdamW",
          "Adam",
          "SGD",
          "Adam",
          "Adam",
          "Adam",
          "Adam",
          "Adam",
          "Adam",
          "Adam",
          "Adam",
          "Adam",
          "Adam",
          "Adam",
          "Adam",
          "Adam",
          "Adam",
          "Adam",
          "SGD",
          "Adam",
          "Adam",
          "Adam",
          "SGD",
          "Adam",
          "Adam",
          "Adam",
          "Adam",
          "Adam",
          "SGD",
          "AdamW",
          "Adam",
          "AdamW",
          "Adam",
          "AdamW",
          "Adam",
          "Adam",
          "Adam",
          "Adam",
          "SGD",
          "Adam",
          "Adam",
          "Adam",
          "AdamW",
          "Adam",
          "Adam",
          "Adam",
          "Adam",
          "Adam",
          "Adam",
          "Adam"
         ],
         "yaxis": "y99"
        },
        {
         "colorbar": {
          "title": {
           "text": "Objective Value"
          }
         },
         "colorscale": [
          [
           0,
           "rgb(247,251,255)"
          ],
          [
           0.125,
           "rgb(222,235,247)"
          ],
          [
           0.25,
           "rgb(198,219,239)"
          ],
          [
           0.375,
           "rgb(158,202,225)"
          ],
          [
           0.5,
           "rgb(107,174,214)"
          ],
          [
           0.625,
           "rgb(66,146,198)"
          ],
          [
           0.75,
           "rgb(33,113,181)"
          ],
          [
           0.875,
           "rgb(8,81,156)"
          ],
          [
           1,
           "rgb(8,48,107)"
          ]
         ],
         "connectgaps": true,
         "contours": {
          "coloring": "heatmap"
         },
         "hoverinfo": "none",
         "line": {
          "smoothing": 1.3
         },
         "reversescale": true,
         "showscale": false,
         "type": "contour",
         "x": [
          "Adam",
          "AdamW",
          "SGD"
         ],
         "xaxis": "x10",
         "y": [
          "relu",
          "swish"
         ],
         "yaxis": "y10",
         "z": [
          [
           0.0010509244166314602,
           0.0024279847275465727,
           0.004169144667685032
          ],
          [
           0.009871360446725572,
           0.009889267385005951,
           0.009051533415913582
          ]
         ]
        },
        {
         "marker": {
          "color": "black",
          "line": {
           "color": "Gray",
           "width": 2
          }
         },
         "mode": "markers",
         "name": "Feasible Trial",
         "showlegend": false,
         "type": "scatter",
         "x": [
          "AdamW",
          "SGD",
          "AdamW",
          "AdamW",
          "SGD",
          "AdamW",
          "AdamW",
          "AdamW",
          "Adam",
          "SGD",
          "Adam",
          "Adam",
          "Adam",
          "Adam",
          "Adam",
          "Adam",
          "Adam",
          "Adam",
          "Adam",
          "Adam",
          "Adam",
          "Adam",
          "Adam",
          "Adam",
          "Adam",
          "SGD",
          "Adam",
          "Adam",
          "Adam",
          "SGD",
          "Adam",
          "Adam",
          "Adam",
          "Adam",
          "Adam",
          "SGD",
          "AdamW",
          "Adam",
          "AdamW",
          "Adam",
          "AdamW",
          "Adam",
          "Adam",
          "Adam",
          "Adam",
          "SGD",
          "Adam",
          "Adam",
          "Adam",
          "AdamW",
          "Adam",
          "Adam",
          "Adam",
          "Adam",
          "Adam",
          "Adam",
          "Adam"
         ],
         "xaxis": "x10",
         "y": [
          "relu",
          "swish",
          "swish",
          "swish",
          "swish",
          "relu",
          "swish",
          "swish",
          "relu",
          "swish",
          "relu",
          "relu",
          "relu",
          "relu",
          "relu",
          "relu",
          "relu",
          "relu",
          "relu",
          "relu",
          "relu",
          "relu",
          "relu",
          "relu",
          "relu",
          "relu",
          "relu",
          "relu",
          "relu",
          "relu",
          "relu",
          "relu",
          "relu",
          "relu",
          "relu",
          "swish",
          "relu",
          "swish",
          "relu",
          "swish",
          "relu",
          "relu",
          "relu",
          "relu",
          "relu",
          "relu",
          "swish",
          "relu",
          "relu",
          "relu",
          "relu",
          "relu",
          "relu",
          "relu",
          "relu",
          "relu",
          "swish"
         ],
         "yaxis": "y10"
        },
        {
         "colorbar": {
          "title": {
           "text": "Objective Value"
          }
         },
         "colorscale": [
          [
           0,
           "rgb(247,251,255)"
          ],
          [
           0.125,
           "rgb(222,235,247)"
          ],
          [
           0.25,
           "rgb(198,219,239)"
          ],
          [
           0.375,
           "rgb(158,202,225)"
          ],
          [
           0.5,
           "rgb(107,174,214)"
          ],
          [
           0.625,
           "rgb(66,146,198)"
          ],
          [
           0.75,
           "rgb(33,113,181)"
          ],
          [
           0.875,
           "rgb(8,81,156)"
          ],
          [
           1,
           "rgb(8,48,107)"
          ]
         ],
         "connectgaps": true,
         "contours": {
          "coloring": "heatmap"
         },
         "hoverinfo": "none",
         "line": {
          "smoothing": 1.3
         },
         "reversescale": true,
         "showscale": false,
         "type": "contour",
         "x": [
          "Adam",
          "AdamW",
          "SGD"
         ],
         "xaxis": "x20",
         "y": [
          "False",
          "True"
         ],
         "yaxis": "y20",
         "z": [
          [
           0.0024775939527899027,
           0.003125535324215889,
           0.010210204869508743
          ],
          [
           0.0010509244166314602,
           0.0024279847275465727,
           0.004169144667685032
          ]
         ]
        },
        {
         "marker": {
          "color": "black",
          "line": {
           "color": "Gray",
           "width": 2
          }
         },
         "mode": "markers",
         "name": "Feasible Trial",
         "showlegend": false,
         "type": "scatter",
         "x": [
          "AdamW",
          "SGD",
          "AdamW",
          "AdamW",
          "SGD",
          "AdamW",
          "AdamW",
          "AdamW",
          "Adam",
          "SGD",
          "Adam",
          "Adam",
          "Adam",
          "Adam",
          "Adam",
          "Adam",
          "Adam",
          "Adam",
          "Adam",
          "Adam",
          "Adam",
          "Adam",
          "Adam",
          "Adam",
          "Adam",
          "SGD",
          "Adam",
          "Adam",
          "Adam",
          "SGD",
          "Adam",
          "Adam",
          "Adam",
          "Adam",
          "Adam",
          "SGD",
          "AdamW",
          "Adam",
          "AdamW",
          "Adam",
          "AdamW",
          "Adam",
          "Adam",
          "Adam",
          "Adam",
          "SGD",
          "Adam",
          "Adam",
          "Adam",
          "AdamW",
          "Adam",
          "Adam",
          "Adam",
          "Adam",
          "Adam",
          "Adam",
          "Adam"
         ],
         "xaxis": "x20",
         "y": [
          "False",
          "True",
          "False",
          "False",
          "False",
          "False",
          "True",
          "False",
          "False",
          "False",
          "True",
          "True",
          "True",
          "True",
          "True",
          "True",
          "True",
          "True",
          "True",
          "True",
          "True",
          "True",
          "True",
          "True",
          "True",
          "True",
          "True",
          "True",
          "True",
          "True",
          "True",
          "True",
          "True",
          "True",
          "True",
          "True",
          "True",
          "False",
          "True",
          "False",
          "True",
          "True",
          "True",
          "True",
          "False",
          "True",
          "True",
          "True",
          "False",
          "True",
          "True",
          "True",
          "True",
          "True",
          "True",
          "True",
          "True"
         ],
         "yaxis": "y20"
        },
        {
         "colorbar": {
          "title": {
           "text": "Objective Value"
          }
         },
         "colorscale": [
          [
           0,
           "rgb(247,251,255)"
          ],
          [
           0.125,
           "rgb(222,235,247)"
          ],
          [
           0.25,
           "rgb(198,219,239)"
          ],
          [
           0.375,
           "rgb(158,202,225)"
          ],
          [
           0.5,
           "rgb(107,174,214)"
          ],
          [
           0.625,
           "rgb(66,146,198)"
          ],
          [
           0.75,
           "rgb(33,113,181)"
          ],
          [
           0.875,
           "rgb(8,81,156)"
          ],
          [
           1,
           "rgb(8,48,107)"
          ]
         ],
         "connectgaps": true,
         "contours": {
          "coloring": "heatmap"
         },
         "hoverinfo": "none",
         "line": {
          "smoothing": 1.3
         },
         "reversescale": true,
         "showscale": false,
         "type": "contour",
         "x": [
          "Adam",
          "AdamW",
          "SGD"
         ],
         "xaxis": "x30",
         "y": [
          41.599999999999994,
          64,
          256,
          384,
          512,
          534.4
         ],
         "yaxis": "y30",
         "z": [
          [
           null,
           null,
           null
          ],
          [
           0.017933184280991554,
           0.007493170909583569,
           0.016106017998286655
          ],
          [
           0.0032087189073746023,
           0.004099226091057062,
           0.005068128928542137
          ],
          [
           0.0031210482120513916,
           0.009889267385005951,
           0.010210204869508743
          ],
          [
           0.0010509244166314602,
           0.0024279847275465727,
           0.004169144667685032
          ],
          [
           null,
           null,
           null
          ]
         ]
        },
        {
         "marker": {
          "color": "black",
          "line": {
           "color": "Gray",
           "width": 2
          }
         },
         "mode": "markers",
         "name": "Feasible Trial",
         "showlegend": false,
         "type": "scatter",
         "x": [
          "AdamW",
          "SGD",
          "AdamW",
          "AdamW",
          "SGD",
          "AdamW",
          "AdamW",
          "AdamW",
          "Adam",
          "SGD",
          "Adam",
          "Adam",
          "Adam",
          "Adam",
          "Adam",
          "Adam",
          "Adam",
          "Adam",
          "Adam",
          "Adam",
          "Adam",
          "Adam",
          "Adam",
          "Adam",
          "Adam",
          "SGD",
          "Adam",
          "Adam",
          "Adam",
          "SGD",
          "Adam",
          "Adam",
          "Adam",
          "Adam",
          "Adam",
          "SGD",
          "AdamW",
          "Adam",
          "AdamW",
          "Adam",
          "AdamW",
          "Adam",
          "Adam",
          "Adam",
          "Adam",
          "SGD",
          "Adam",
          "Adam",
          "Adam",
          "AdamW",
          "Adam",
          "Adam",
          "Adam",
          "Adam",
          "Adam",
          "Adam",
          "Adam"
         ],
         "xaxis": "x30",
         "y": [
          256,
          512,
          256,
          384,
          64,
          512,
          512,
          64,
          256,
          384,
          512,
          512,
          512,
          512,
          512,
          512,
          512,
          384,
          64,
          512,
          512,
          512,
          512,
          512,
          512,
          512,
          384,
          256,
          64,
          256,
          512,
          512,
          512,
          512,
          512,
          512,
          256,
          512,
          64,
          384,
          512,
          512,
          512,
          512,
          512,
          512,
          512,
          512,
          256,
          64,
          384,
          512,
          512,
          512,
          512,
          512,
          512
         ],
         "yaxis": "y30"
        },
        {
         "colorbar": {
          "title": {
           "text": "Objective Value"
          }
         },
         "colorscale": [
          [
           0,
           "rgb(247,251,255)"
          ],
          [
           0.125,
           "rgb(222,235,247)"
          ],
          [
           0.25,
           "rgb(198,219,239)"
          ],
          [
           0.375,
           "rgb(158,202,225)"
          ],
          [
           0.5,
           "rgb(107,174,214)"
          ],
          [
           0.625,
           "rgb(66,146,198)"
          ],
          [
           0.75,
           "rgb(33,113,181)"
          ],
          [
           0.875,
           "rgb(8,81,156)"
          ],
          [
           1,
           "rgb(8,48,107)"
          ]
         ],
         "connectgaps": true,
         "contours": {
          "coloring": "heatmap"
         },
         "hoverinfo": "none",
         "line": {
          "smoothing": 1.3
         },
         "reversescale": true,
         "showscale": false,
         "type": "contour",
         "x": [
          "Adam",
          "AdamW",
          "SGD"
         ],
         "xaxis": "x40",
         "y": [
          41.599999999999994,
          64,
          256,
          384,
          512,
          534.4
         ],
         "yaxis": "y40",
         "z": [
          [
           null,
           null,
           null
          ],
          [
           0.0034027867950499058,
           0.009889267385005951,
           null
          ],
          [
           0.003278343938291073,
           0.0024279847275465727,
           0.009051533415913582
          ],
          [
           0.0010509244166314602,
           0.003125535324215889,
           0.004169144667685032
          ],
          [
           0.0032087189073746023,
           0.004099226091057062,
           0.005068128928542137
          ],
          [
           null,
           null,
           null
          ]
         ]
        },
        {
         "marker": {
          "color": "black",
          "line": {
           "color": "Gray",
           "width": 2
          }
         },
         "mode": "markers",
         "name": "Feasible Trial",
         "showlegend": false,
         "type": "scatter",
         "x": [
          "AdamW",
          "SGD",
          "AdamW",
          "AdamW",
          "SGD",
          "AdamW",
          "AdamW",
          "AdamW",
          "Adam",
          "SGD",
          "Adam",
          "Adam",
          "Adam",
          "Adam",
          "Adam",
          "Adam",
          "Adam",
          "Adam",
          "Adam",
          "Adam",
          "Adam",
          "Adam",
          "Adam",
          "Adam",
          "Adam",
          "SGD",
          "Adam",
          "Adam",
          "Adam",
          "SGD",
          "Adam",
          "Adam",
          "Adam",
          "Adam",
          "Adam",
          "SGD",
          "AdamW",
          "Adam",
          "AdamW",
          "Adam",
          "AdamW",
          "Adam",
          "Adam",
          "Adam",
          "Adam",
          "SGD",
          "Adam",
          "Adam",
          "Adam",
          "AdamW",
          "Adam",
          "Adam",
          "Adam",
          "Adam",
          "Adam",
          "Adam",
          "Adam"
         ],
         "xaxis": "x40",
         "y": [
          512,
          512,
          256,
          64,
          256,
          384,
          384,
          64,
          384,
          256,
          384,
          384,
          384,
          384,
          384,
          384,
          384,
          512,
          64,
          384,
          384,
          384,
          384,
          384,
          384,
          384,
          256,
          512,
          64,
          512,
          384,
          384,
          384,
          384,
          384,
          256,
          512,
          384,
          64,
          384,
          256,
          384,
          384,
          384,
          384,
          384,
          384,
          384,
          64,
          384,
          384,
          384,
          384,
          384,
          384,
          384,
          256
         ],
         "yaxis": "y40"
        },
        {
         "colorbar": {
          "title": {
           "text": "Objective Value"
          }
         },
         "colorscale": [
          [
           0,
           "rgb(247,251,255)"
          ],
          [
           0.125,
           "rgb(222,235,247)"
          ],
          [
           0.25,
           "rgb(198,219,239)"
          ],
          [
           0.375,
           "rgb(158,202,225)"
          ],
          [
           0.5,
           "rgb(107,174,214)"
          ],
          [
           0.625,
           "rgb(66,146,198)"
          ],
          [
           0.75,
           "rgb(33,113,181)"
          ],
          [
           0.875,
           "rgb(8,81,156)"
          ],
          [
           1,
           "rgb(8,48,107)"
          ]
         ],
         "connectgaps": true,
         "contours": {
          "coloring": "heatmap"
         },
         "hoverinfo": "none",
         "line": {
          "smoothing": 1.3
         },
         "reversescale": true,
         "showscale": false,
         "type": "contour",
         "x": [
          "Adam",
          "AdamW",
          "SGD"
         ],
         "xaxis": "x50",
         "y": [
          1.7,
          2,
          4,
          6,
          8,
          8.3
         ],
         "yaxis": "y50",
         "z": [
          [
           null,
           null,
           null
          ],
          [
           0.0038915337063372135,
           0.004099226091057062,
           0.009051533415913582
          ],
          [
           0.0034027867950499058,
           0.009889267385005951,
           null
          ],
          [
           0.0010509244166314602,
           0.0024279847275465727,
           0.004169144667685032
          ],
          [
           0.0032087189073746023,
           null,
           0.010210204869508743
          ],
          [
           null,
           null,
           null
          ]
         ]
        },
        {
         "marker": {
          "color": "black",
          "line": {
           "color": "Gray",
           "width": 2
          }
         },
         "mode": "markers",
         "name": "Feasible Trial",
         "showlegend": false,
         "type": "scatter",
         "x": [
          "AdamW",
          "SGD",
          "AdamW",
          "AdamW",
          "SGD",
          "AdamW",
          "AdamW",
          "AdamW",
          "Adam",
          "SGD",
          "Adam",
          "Adam",
          "Adam",
          "Adam",
          "Adam",
          "Adam",
          "Adam",
          "Adam",
          "Adam",
          "Adam",
          "Adam",
          "Adam",
          "Adam",
          "Adam",
          "Adam",
          "SGD",
          "Adam",
          "Adam",
          "Adam",
          "SGD",
          "Adam",
          "Adam",
          "Adam",
          "Adam",
          "Adam",
          "SGD",
          "AdamW",
          "Adam",
          "AdamW",
          "Adam",
          "AdamW",
          "Adam",
          "Adam",
          "Adam",
          "Adam",
          "SGD",
          "Adam",
          "Adam",
          "Adam",
          "AdamW",
          "Adam",
          "Adam",
          "Adam",
          "Adam",
          "Adam",
          "Adam",
          "Adam"
         ],
         "xaxis": "x50",
         "y": [
          2,
          2,
          6,
          4,
          2,
          6,
          4,
          6,
          2,
          8,
          6,
          6,
          6,
          6,
          8,
          6,
          6,
          6,
          4,
          8,
          6,
          6,
          6,
          6,
          6,
          6,
          6,
          8,
          4,
          6,
          2,
          6,
          6,
          6,
          6,
          2,
          6,
          4,
          6,
          2,
          6,
          6,
          6,
          6,
          6,
          6,
          8,
          6,
          4,
          6,
          6,
          6,
          6,
          6,
          6,
          6,
          2
         ],
         "yaxis": "y50"
        },
        {
         "colorbar": {
          "title": {
           "text": "Objective Value"
          }
         },
         "colorscale": [
          [
           0,
           "rgb(247,251,255)"
          ],
          [
           0.125,
           "rgb(222,235,247)"
          ],
          [
           0.25,
           "rgb(198,219,239)"
          ],
          [
           0.375,
           "rgb(158,202,225)"
          ],
          [
           0.5,
           "rgb(107,174,214)"
          ],
          [
           0.625,
           "rgb(66,146,198)"
          ],
          [
           0.75,
           "rgb(33,113,181)"
          ],
          [
           0.875,
           "rgb(8,81,156)"
          ],
          [
           1,
           "rgb(8,48,107)"
          ]
         ],
         "connectgaps": true,
         "contours": {
          "coloring": "heatmap"
         },
         "hoverinfo": "none",
         "line": {
          "smoothing": 1.3
         },
         "reversescale": true,
         "showscale": false,
         "type": "contour",
         "x": [
          "Adam",
          "AdamW",
          "SGD"
         ],
         "xaxis": "x60",
         "y": [
          "False",
          "True"
         ],
         "yaxis": "y60",
         "z": [
          [
           0.0010509244166314602,
           0.0024279847275465727,
           0.004169144667685032
          ],
          [
           0.003278343938291073,
           0.004099226091057062,
           0.005068128928542137
          ]
         ]
        },
        {
         "marker": {
          "color": "black",
          "line": {
           "color": "Gray",
           "width": 2
          }
         },
         "mode": "markers",
         "name": "Feasible Trial",
         "showlegend": false,
         "type": "scatter",
         "x": [
          "AdamW",
          "SGD",
          "AdamW",
          "AdamW",
          "SGD",
          "AdamW",
          "AdamW",
          "AdamW",
          "Adam",
          "SGD",
          "Adam",
          "Adam",
          "Adam",
          "Adam",
          "Adam",
          "Adam",
          "Adam",
          "Adam",
          "Adam",
          "Adam",
          "Adam",
          "Adam",
          "Adam",
          "Adam",
          "Adam",
          "SGD",
          "Adam",
          "Adam",
          "Adam",
          "SGD",
          "Adam",
          "Adam",
          "Adam",
          "Adam",
          "Adam",
          "SGD",
          "AdamW",
          "Adam",
          "AdamW",
          "Adam",
          "AdamW",
          "Adam",
          "Adam",
          "Adam",
          "Adam",
          "SGD",
          "Adam",
          "Adam",
          "Adam",
          "AdamW",
          "Adam",
          "Adam",
          "Adam",
          "Adam",
          "Adam",
          "Adam",
          "Adam"
         ],
         "xaxis": "x60",
         "y": [
          "True",
          "False",
          "True",
          "True",
          "True",
          "False",
          "False",
          "False",
          "False",
          "False",
          "False",
          "False",
          "False",
          "False",
          "False",
          "False",
          "False",
          "False",
          "True",
          "False",
          "False",
          "False",
          "False",
          "False",
          "False",
          "False",
          "True",
          "False",
          "False",
          "True",
          "False",
          "False",
          "False",
          "False",
          "False",
          "True",
          "False",
          "True",
          "False",
          "False",
          "False",
          "False",
          "False",
          "False",
          "False",
          "False",
          "False",
          "False",
          "False",
          "True",
          "False",
          "False",
          "False",
          "False",
          "False",
          "False",
          "False"
         ],
         "yaxis": "y60"
        },
        {
         "colorbar": {
          "title": {
           "text": "Objective Value"
          }
         },
         "colorscale": [
          [
           0,
           "rgb(247,251,255)"
          ],
          [
           0.125,
           "rgb(222,235,247)"
          ],
          [
           0.25,
           "rgb(198,219,239)"
          ],
          [
           0.375,
           "rgb(158,202,225)"
          ],
          [
           0.5,
           "rgb(107,174,214)"
          ],
          [
           0.625,
           "rgb(66,146,198)"
          ],
          [
           0.75,
           "rgb(33,113,181)"
          ],
          [
           0.875,
           "rgb(8,81,156)"
          ],
          [
           1,
           "rgb(8,48,107)"
          ]
         ],
         "connectgaps": true,
         "contours": {
          "coloring": "heatmap"
         },
         "hoverinfo": "none",
         "line": {
          "smoothing": 1.3
         },
         "reversescale": true,
         "showscale": false,
         "type": "contour",
         "x": [
          "Adam",
          "AdamW",
          "SGD"
         ],
         "xaxis": "x70",
         "y": [
          10.399999999999999,
          16,
          32,
          64,
          128,
          133.6
         ],
         "yaxis": "y70",
         "z": [
          [
           null,
           null,
           null
          ],
          [
           0.0032087189073746023,
           0.004099226091057062,
           0.005068128928542137
          ],
          [
           0.0010509244166314602,
           0.0024279847275465727,
           0.004169144667685032
          ],
          [
           0.003676444865190066,
           null,
           null
          ],
          [
           0.0036489125341176987,
           0.012798120932919639,
           0.004693320952355862
          ],
          [
           null,
           null,
           null
          ]
         ]
        },
        {
         "marker": {
          "color": "black",
          "line": {
           "color": "Gray",
           "width": 2
          }
         },
         "mode": "markers",
         "name": "Feasible Trial",
         "showlegend": false,
         "type": "scatter",
         "x": [
          "AdamW",
          "SGD",
          "AdamW",
          "AdamW",
          "SGD",
          "AdamW",
          "AdamW",
          "AdamW",
          "Adam",
          "SGD",
          "Adam",
          "Adam",
          "Adam",
          "Adam",
          "Adam",
          "Adam",
          "Adam",
          "Adam",
          "Adam",
          "Adam",
          "Adam",
          "Adam",
          "Adam",
          "Adam",
          "Adam",
          "SGD",
          "Adam",
          "Adam",
          "Adam",
          "SGD",
          "Adam",
          "Adam",
          "Adam",
          "Adam",
          "Adam",
          "SGD",
          "AdamW",
          "Adam",
          "AdamW",
          "Adam",
          "AdamW",
          "Adam",
          "Adam",
          "Adam",
          "Adam",
          "SGD",
          "Adam",
          "Adam",
          "Adam",
          "AdamW",
          "Adam",
          "Adam",
          "Adam",
          "Adam",
          "Adam",
          "Adam",
          "Adam"
         ],
         "xaxis": "x70",
         "y": [
          16,
          128,
          128,
          32,
          16,
          32,
          128,
          16,
          64,
          128,
          32,
          32,
          32,
          32,
          32,
          64,
          32,
          32,
          32,
          64,
          32,
          32,
          32,
          32,
          32,
          32,
          32,
          16,
          64,
          16,
          32,
          32,
          32,
          32,
          128,
          32,
          32,
          128,
          16,
          32,
          32,
          32,
          32,
          32,
          32,
          128,
          64,
          32,
          32,
          16,
          32,
          32,
          32,
          32,
          32,
          32,
          32
         ],
         "yaxis": "y70"
        },
        {
         "colorbar": {
          "title": {
           "text": "Objective Value"
          }
         },
         "colorscale": [
          [
           0,
           "rgb(247,251,255)"
          ],
          [
           0.125,
           "rgb(222,235,247)"
          ],
          [
           0.25,
           "rgb(198,219,239)"
          ],
          [
           0.375,
           "rgb(158,202,225)"
          ],
          [
           0.5,
           "rgb(107,174,214)"
          ],
          [
           0.625,
           "rgb(66,146,198)"
          ],
          [
           0.75,
           "rgb(33,113,181)"
          ],
          [
           0.875,
           "rgb(8,81,156)"
          ],
          [
           1,
           "rgb(8,48,107)"
          ]
         ],
         "connectgaps": true,
         "contours": {
          "coloring": "heatmap"
         },
         "hoverinfo": "none",
         "line": {
          "smoothing": 1.3
         },
         "reversescale": true,
         "showscale": false,
         "type": "contour",
         "x": [
          "Adam",
          "AdamW",
          "SGD"
         ],
         "xaxis": "x80",
         "y": [
          5.199999999999999,
          8,
          16,
          32,
          64,
          66.8
         ],
         "yaxis": "y80",
         "z": [
          [
           null,
           null,
           null
          ],
          [
           0.0031210482120513916,
           0.015235654436624967,
           null
          ],
          [
           0.009871360446725572,
           0.005089037652526583,
           0.016106017998286655
          ],
          [
           0.00556196179240942,
           0.004099226091057062,
           0.004693320952355862
          ],
          [
           0.0010509244166314602,
           0.0024279847275465727,
           0.004169144667685032
          ],
          [
           null,
           null,
           null
          ]
         ]
        },
        {
         "marker": {
          "color": "black",
          "line": {
           "color": "Gray",
           "width": 2
          }
         },
         "mode": "markers",
         "name": "Feasible Trial",
         "showlegend": false,
         "type": "scatter",
         "x": [
          "AdamW",
          "SGD",
          "AdamW",
          "AdamW",
          "SGD",
          "AdamW",
          "AdamW",
          "AdamW",
          "Adam",
          "SGD",
          "Adam",
          "Adam",
          "Adam",
          "Adam",
          "Adam",
          "Adam",
          "Adam",
          "Adam",
          "Adam",
          "Adam",
          "Adam",
          "Adam",
          "Adam",
          "Adam",
          "Adam",
          "SGD",
          "Adam",
          "Adam",
          "Adam",
          "SGD",
          "Adam",
          "Adam",
          "Adam",
          "Adam",
          "Adam",
          "SGD",
          "AdamW",
          "Adam",
          "AdamW",
          "Adam",
          "AdamW",
          "Adam",
          "Adam",
          "Adam",
          "Adam",
          "SGD",
          "Adam",
          "Adam",
          "Adam",
          "AdamW",
          "Adam",
          "Adam",
          "Adam",
          "Adam",
          "Adam",
          "Adam",
          "Adam"
         ],
         "xaxis": "x80",
         "y": [
          32,
          64,
          8,
          16,
          16,
          64,
          16,
          16,
          32,
          32,
          64,
          64,
          64,
          64,
          64,
          8,
          64,
          64,
          64,
          8,
          64,
          64,
          64,
          64,
          64,
          64,
          64,
          8,
          32,
          32,
          64,
          64,
          64,
          64,
          64,
          64,
          16,
          8,
          64,
          16,
          64,
          64,
          64,
          64,
          64,
          32,
          16,
          64,
          64,
          64,
          8,
          64,
          64,
          64,
          64,
          64,
          64
         ],
         "yaxis": "y80"
        },
        {
         "colorbar": {
          "title": {
           "text": "Objective Value"
          }
         },
         "colorscale": [
          [
           0,
           "rgb(247,251,255)"
          ],
          [
           0.125,
           "rgb(222,235,247)"
          ],
          [
           0.25,
           "rgb(198,219,239)"
          ],
          [
           0.375,
           "rgb(158,202,225)"
          ],
          [
           0.5,
           "rgb(107,174,214)"
          ],
          [
           0.625,
           "rgb(66,146,198)"
          ],
          [
           0.75,
           "rgb(33,113,181)"
          ],
          [
           0.875,
           "rgb(8,81,156)"
          ],
          [
           1,
           "rgb(8,48,107)"
          ]
         ],
         "connectgaps": true,
         "contours": {
          "coloring": "heatmap"
         },
         "hoverinfo": "none",
         "line": {
          "smoothing": 1.3
         },
         "reversescale": true,
         "showscale": false,
         "type": "contour",
         "x": [
          "Adam",
          "AdamW",
          "SGD"
         ],
         "xaxis": "x90",
         "y": [
          -0.0003327779727902093,
          0.00013293451068639153,
          0.00016482101598833644,
          0.0002859618983201747,
          0.0005030922057200975,
          0.0005082222560318676,
          0.0005109668968683066,
          0.000662259354729205,
          0.000804803158410011,
          0.0008829668498645474,
          0.001035287721361168,
          0.0010762834240493012,
          0.0013010270616585372,
          0.0013123106047931883,
          0.0013848997785396763,
          0.0014712220401046773,
          0.0015236648785628855,
          0.0015528292768899295,
          0.0015783681924397643,
          0.0017245660022955657,
          0.001805691009839501,
          0.0018665340990677206,
          0.0018891900420452655,
          0.0019967096733155307,
          0.002022807309729832,
          0.002221702135674957,
          0.0022966234341041886,
          0.0024793055464558773,
          0.0024844733874638822,
          0.002569749107475558,
          0.002570416914840954,
          0.0027720657351321654,
          0.002861152110081496,
          0.0031063248738114947,
          0.00321367916541899,
          0.003272692583939085,
          0.0033627177469709303,
          0.0034983693930714047,
          0.003644256277757865,
          0.0037134388254553147,
          0.0037319454075769917,
          0.004059959359984235,
          0.004239922045757851,
          0.004263219032077157,
          0.004643003925192097,
          0.004679597012724851,
          0.004793542036453257,
          0.0048612258246951735,
          0.005457312666941946,
          0.005689736859226749,
          0.006357299898537107,
          0.006644651164503487,
          0.006993481555530524,
          0.00800933505882863,
          0.008088989972958073,
          0.00847077666596943,
          0.009326128265959114,
          0.009447184180218409,
          0.00991289666369501
         ],
         "yaxis": "y90",
         "z": [
          [
           null,
           null,
           null
          ],
          [
           0.007173012942075729,
           null,
           null
          ],
          [
           0.018036603927612305,
           null,
           null
          ],
          [
           0.0023483606055378914,
           null,
           null
          ],
          [
           0.001077517052181065,
           null,
           null
          ],
          [
           0.011020248755812645,
           null,
           null
          ],
          [
           0.0017465348355472088,
           null,
           null
          ],
          [
           0.011990615299769811,
           null,
           null
          ],
          [
           null,
           null,
           0.009051533415913582
          ],
          [
           0.0038915337063372135,
           null,
           null
          ],
          [
           0.0026472685858607292,
           null,
           null
          ],
          [
           0.0028466973453760147,
           null,
           null
          ],
          [
           0.003676444865190066,
           null,
           null
          ],
          [
           0.0013212664052844048,
           null,
           null
          ],
          [
           0.002323493827134371,
           null,
           null
          ],
          [
           0.0011659844312816858,
           null,
           null
          ],
          [
           0.0010562939569354057,
           null,
           null
          ],
          [
           0.0019303050357848406,
           null,
           null
          ],
          [
           0.001234408002346754,
           null,
           null
          ],
          [
           0.0010509244166314602,
           null,
           null
          ],
          [
           null,
           0.005089037652526583,
           null
          ],
          [
           0.002799304900690913,
           null,
           null
          ],
          [
           0.017933184280991554,
           null,
           null
          ],
          [
           0.0014195044059306383,
           null,
           null
          ],
          [
           null,
           0.015235654436624967,
           null
          ],
          [
           0.013237009827907268,
           null,
           null
          ],
          [
           null,
           0.007493170909583569,
           null
          ],
          [
           null,
           null,
           0.004169144667685032
          ],
          [
           null,
           0.009889267385005951,
           null
          ],
          [
           0.005443759262561798,
           null,
           null
          ],
          [
           0.0024775939527899027,
           null,
           null
          ],
          [
           0.0034027867950499058,
           null,
           null
          ],
          [
           0.0036489125341176987,
           null,
           null
          ],
          [
           0.009871360446725572,
           null,
           null
          ],
          [
           0.0016798200085759163,
           null,
           null
          ],
          [
           0.003677790518850088,
           null,
           null
          ],
          [
           0.0010533332824707031,
           null,
           null
          ],
          [
           0.0017711485270410776,
           null,
           null
          ],
          [
           0.0011525334557518363,
           null,
           null
          ],
          [
           0.003910826948972849,
           null,
           null
          ],
          [
           0.003278343938291073,
           null,
           null
          ],
          [
           null,
           null,
           0.005068128928542137
          ],
          [
           null,
           null,
           0.004693320952355862
          ],
          [
           null,
           0.0024279847275465727,
           null
          ],
          [
           0.004909416660666466,
           null,
           null
          ],
          [
           0.0031210482120513916,
           null,
           null
          ],
          [
           0.002582056913524866,
           null,
           null
          ],
          [
           null,
           0.004099226091057062,
           null
          ],
          [
           null,
           0.012842606753110886,
           null
          ],
          [
           0.0032087189073746023,
           null,
           null
          ],
          [
           null,
           null,
           0.010210204869508743
          ],
          [
           0.004480917938053608,
           null,
           null
          ],
          [
           null,
           0.003125535324215889,
           null
          ],
          [
           0.00556196179240942,
           null,
           null
          ],
          [
           null,
           null,
           0.016106017998286655
          ],
          [
           null,
           0.01462360577923911,
           null
          ],
          [
           null,
           0.012798120932919639,
           null
          ],
          [
           null,
           null,
           0.012514274567365646
          ],
          [
           null,
           null,
           null
          ]
         ]
        },
        {
         "marker": {
          "color": "black",
          "line": {
           "color": "Gray",
           "width": 2
          }
         },
         "mode": "markers",
         "name": "Feasible Trial",
         "showlegend": false,
         "type": "scatter",
         "x": [
          "AdamW",
          "SGD",
          "AdamW",
          "AdamW",
          "SGD",
          "AdamW",
          "AdamW",
          "AdamW",
          "Adam",
          "SGD",
          "Adam",
          "Adam",
          "Adam",
          "Adam",
          "Adam",
          "Adam",
          "Adam",
          "Adam",
          "Adam",
          "Adam",
          "Adam",
          "Adam",
          "Adam",
          "Adam",
          "Adam",
          "SGD",
          "Adam",
          "Adam",
          "Adam",
          "SGD",
          "Adam",
          "Adam",
          "Adam",
          "Adam",
          "Adam",
          "SGD",
          "AdamW",
          "Adam",
          "AdamW",
          "Adam",
          "AdamW",
          "Adam",
          "Adam",
          "Adam",
          "Adam",
          "SGD",
          "Adam",
          "Adam",
          "Adam",
          "AdamW",
          "Adam",
          "Adam",
          "Adam",
          "Adam",
          "Adam",
          "Adam",
          "Adam"
         ],
         "xaxis": "x90",
         "y": [
          0.0048612258246951735,
          0.009447184180218409,
          0.002022807309729832,
          0.0024844733874638822,
          0.008088989972958073,
          0.006993481555530524,
          0.009326128265959114,
          0.00847077666596943,
          0.00800933505882863,
          0.006357299898537107,
          0.004793542036453257,
          0.004643003925192097,
          0.006644651164503487,
          0.003644256277757865,
          0.003272692583939085,
          0.0037134388254553147,
          0.0002859618983201747,
          0.00013293451068639153,
          0.00016482101598833644,
          0.0013010270616585372,
          0.0015783681924397643,
          0.0013848997785396763,
          0.0014712220401046773,
          0.00321367916541899,
          0.0013123106047931883,
          0.0024793055464558773,
          0.0037319454075769917,
          0.005689736859226749,
          0.0018891900420452655,
          0.004059959359984235,
          0.0008829668498645474,
          0.001035287721361168,
          0.002569749107475558,
          0.0018665340990677206,
          0.002861152110081496,
          0.000804803158410011,
          0.001805691009839501,
          0.002221702135674957,
          0.005457312666941946,
          0.0031063248738114947,
          0.004263219032077157,
          0.0033627177469709303,
          0.0015236648785628855,
          0.0034983693930714047,
          0.002570416914840954,
          0.004239922045757851,
          0.000662259354729205,
          0.0017245660022955657,
          0.0027720657351321654,
          0.0022966234341041886,
          0.004679597012724851,
          0.0015528292768899295,
          0.0019967096733155307,
          0.0005030922057200975,
          0.0005109668968683066,
          0.0010762834240493012,
          0.0005082222560318676
         ],
         "yaxis": "y90"
        },
        {
         "type": "scatter",
         "xaxis": "x100",
         "yaxis": "y100"
        }
       ],
       "layout": {
        "template": {
         "data": {
          "bar": [
           {
            "error_x": {
             "color": "#2a3f5f"
            },
            "error_y": {
             "color": "#2a3f5f"
            },
            "marker": {
             "line": {
              "color": "#E5ECF6",
              "width": 0.5
             },
             "pattern": {
              "fillmode": "overlay",
              "size": 10,
              "solidity": 0.2
             }
            },
            "type": "bar"
           }
          ],
          "barpolar": [
           {
            "marker": {
             "line": {
              "color": "#E5ECF6",
              "width": 0.5
             },
             "pattern": {
              "fillmode": "overlay",
              "size": 10,
              "solidity": 0.2
             }
            },
            "type": "barpolar"
           }
          ],
          "carpet": [
           {
            "aaxis": {
             "endlinecolor": "#2a3f5f",
             "gridcolor": "white",
             "linecolor": "white",
             "minorgridcolor": "white",
             "startlinecolor": "#2a3f5f"
            },
            "baxis": {
             "endlinecolor": "#2a3f5f",
             "gridcolor": "white",
             "linecolor": "white",
             "minorgridcolor": "white",
             "startlinecolor": "#2a3f5f"
            },
            "type": "carpet"
           }
          ],
          "choropleth": [
           {
            "colorbar": {
             "outlinewidth": 0,
             "ticks": ""
            },
            "type": "choropleth"
           }
          ],
          "contour": [
           {
            "colorbar": {
             "outlinewidth": 0,
             "ticks": ""
            },
            "colorscale": [
             [
              0,
              "#0d0887"
             ],
             [
              0.1111111111111111,
              "#46039f"
             ],
             [
              0.2222222222222222,
              "#7201a8"
             ],
             [
              0.3333333333333333,
              "#9c179e"
             ],
             [
              0.4444444444444444,
              "#bd3786"
             ],
             [
              0.5555555555555556,
              "#d8576b"
             ],
             [
              0.6666666666666666,
              "#ed7953"
             ],
             [
              0.7777777777777778,
              "#fb9f3a"
             ],
             [
              0.8888888888888888,
              "#fdca26"
             ],
             [
              1,
              "#f0f921"
             ]
            ],
            "type": "contour"
           }
          ],
          "contourcarpet": [
           {
            "colorbar": {
             "outlinewidth": 0,
             "ticks": ""
            },
            "type": "contourcarpet"
           }
          ],
          "heatmap": [
           {
            "colorbar": {
             "outlinewidth": 0,
             "ticks": ""
            },
            "colorscale": [
             [
              0,
              "#0d0887"
             ],
             [
              0.1111111111111111,
              "#46039f"
             ],
             [
              0.2222222222222222,
              "#7201a8"
             ],
             [
              0.3333333333333333,
              "#9c179e"
             ],
             [
              0.4444444444444444,
              "#bd3786"
             ],
             [
              0.5555555555555556,
              "#d8576b"
             ],
             [
              0.6666666666666666,
              "#ed7953"
             ],
             [
              0.7777777777777778,
              "#fb9f3a"
             ],
             [
              0.8888888888888888,
              "#fdca26"
             ],
             [
              1,
              "#f0f921"
             ]
            ],
            "type": "heatmap"
           }
          ],
          "heatmapgl": [
           {
            "colorbar": {
             "outlinewidth": 0,
             "ticks": ""
            },
            "colorscale": [
             [
              0,
              "#0d0887"
             ],
             [
              0.1111111111111111,
              "#46039f"
             ],
             [
              0.2222222222222222,
              "#7201a8"
             ],
             [
              0.3333333333333333,
              "#9c179e"
             ],
             [
              0.4444444444444444,
              "#bd3786"
             ],
             [
              0.5555555555555556,
              "#d8576b"
             ],
             [
              0.6666666666666666,
              "#ed7953"
             ],
             [
              0.7777777777777778,
              "#fb9f3a"
             ],
             [
              0.8888888888888888,
              "#fdca26"
             ],
             [
              1,
              "#f0f921"
             ]
            ],
            "type": "heatmapgl"
           }
          ],
          "histogram": [
           {
            "marker": {
             "pattern": {
              "fillmode": "overlay",
              "size": 10,
              "solidity": 0.2
             }
            },
            "type": "histogram"
           }
          ],
          "histogram2d": [
           {
            "colorbar": {
             "outlinewidth": 0,
             "ticks": ""
            },
            "colorscale": [
             [
              0,
              "#0d0887"
             ],
             [
              0.1111111111111111,
              "#46039f"
             ],
             [
              0.2222222222222222,
              "#7201a8"
             ],
             [
              0.3333333333333333,
              "#9c179e"
             ],
             [
              0.4444444444444444,
              "#bd3786"
             ],
             [
              0.5555555555555556,
              "#d8576b"
             ],
             [
              0.6666666666666666,
              "#ed7953"
             ],
             [
              0.7777777777777778,
              "#fb9f3a"
             ],
             [
              0.8888888888888888,
              "#fdca26"
             ],
             [
              1,
              "#f0f921"
             ]
            ],
            "type": "histogram2d"
           }
          ],
          "histogram2dcontour": [
           {
            "colorbar": {
             "outlinewidth": 0,
             "ticks": ""
            },
            "colorscale": [
             [
              0,
              "#0d0887"
             ],
             [
              0.1111111111111111,
              "#46039f"
             ],
             [
              0.2222222222222222,
              "#7201a8"
             ],
             [
              0.3333333333333333,
              "#9c179e"
             ],
             [
              0.4444444444444444,
              "#bd3786"
             ],
             [
              0.5555555555555556,
              "#d8576b"
             ],
             [
              0.6666666666666666,
              "#ed7953"
             ],
             [
              0.7777777777777778,
              "#fb9f3a"
             ],
             [
              0.8888888888888888,
              "#fdca26"
             ],
             [
              1,
              "#f0f921"
             ]
            ],
            "type": "histogram2dcontour"
           }
          ],
          "mesh3d": [
           {
            "colorbar": {
             "outlinewidth": 0,
             "ticks": ""
            },
            "type": "mesh3d"
           }
          ],
          "parcoords": [
           {
            "line": {
             "colorbar": {
              "outlinewidth": 0,
              "ticks": ""
             }
            },
            "type": "parcoords"
           }
          ],
          "pie": [
           {
            "automargin": true,
            "type": "pie"
           }
          ],
          "scatter": [
           {
            "fillpattern": {
             "fillmode": "overlay",
             "size": 10,
             "solidity": 0.2
            },
            "type": "scatter"
           }
          ],
          "scatter3d": [
           {
            "line": {
             "colorbar": {
              "outlinewidth": 0,
              "ticks": ""
             }
            },
            "marker": {
             "colorbar": {
              "outlinewidth": 0,
              "ticks": ""
             }
            },
            "type": "scatter3d"
           }
          ],
          "scattercarpet": [
           {
            "marker": {
             "colorbar": {
              "outlinewidth": 0,
              "ticks": ""
             }
            },
            "type": "scattercarpet"
           }
          ],
          "scattergeo": [
           {
            "marker": {
             "colorbar": {
              "outlinewidth": 0,
              "ticks": ""
             }
            },
            "type": "scattergeo"
           }
          ],
          "scattergl": [
           {
            "marker": {
             "colorbar": {
              "outlinewidth": 0,
              "ticks": ""
             }
            },
            "type": "scattergl"
           }
          ],
          "scattermapbox": [
           {
            "marker": {
             "colorbar": {
              "outlinewidth": 0,
              "ticks": ""
             }
            },
            "type": "scattermapbox"
           }
          ],
          "scatterpolar": [
           {
            "marker": {
             "colorbar": {
              "outlinewidth": 0,
              "ticks": ""
             }
            },
            "type": "scatterpolar"
           }
          ],
          "scatterpolargl": [
           {
            "marker": {
             "colorbar": {
              "outlinewidth": 0,
              "ticks": ""
             }
            },
            "type": "scatterpolargl"
           }
          ],
          "scatterternary": [
           {
            "marker": {
             "colorbar": {
              "outlinewidth": 0,
              "ticks": ""
             }
            },
            "type": "scatterternary"
           }
          ],
          "surface": [
           {
            "colorbar": {
             "outlinewidth": 0,
             "ticks": ""
            },
            "colorscale": [
             [
              0,
              "#0d0887"
             ],
             [
              0.1111111111111111,
              "#46039f"
             ],
             [
              0.2222222222222222,
              "#7201a8"
             ],
             [
              0.3333333333333333,
              "#9c179e"
             ],
             [
              0.4444444444444444,
              "#bd3786"
             ],
             [
              0.5555555555555556,
              "#d8576b"
             ],
             [
              0.6666666666666666,
              "#ed7953"
             ],
             [
              0.7777777777777778,
              "#fb9f3a"
             ],
             [
              0.8888888888888888,
              "#fdca26"
             ],
             [
              1,
              "#f0f921"
             ]
            ],
            "type": "surface"
           }
          ],
          "table": [
           {
            "cells": {
             "fill": {
              "color": "#EBF0F8"
             },
             "line": {
              "color": "white"
             }
            },
            "header": {
             "fill": {
              "color": "#C8D4E3"
             },
             "line": {
              "color": "white"
             }
            },
            "type": "table"
           }
          ]
         },
         "layout": {
          "annotationdefaults": {
           "arrowcolor": "#2a3f5f",
           "arrowhead": 0,
           "arrowwidth": 1
          },
          "autotypenumbers": "strict",
          "coloraxis": {
           "colorbar": {
            "outlinewidth": 0,
            "ticks": ""
           }
          },
          "colorscale": {
           "diverging": [
            [
             0,
             "#8e0152"
            ],
            [
             0.1,
             "#c51b7d"
            ],
            [
             0.2,
             "#de77ae"
            ],
            [
             0.3,
             "#f1b6da"
            ],
            [
             0.4,
             "#fde0ef"
            ],
            [
             0.5,
             "#f7f7f7"
            ],
            [
             0.6,
             "#e6f5d0"
            ],
            [
             0.7,
             "#b8e186"
            ],
            [
             0.8,
             "#7fbc41"
            ],
            [
             0.9,
             "#4d9221"
            ],
            [
             1,
             "#276419"
            ]
           ],
           "sequential": [
            [
             0,
             "#0d0887"
            ],
            [
             0.1111111111111111,
             "#46039f"
            ],
            [
             0.2222222222222222,
             "#7201a8"
            ],
            [
             0.3333333333333333,
             "#9c179e"
            ],
            [
             0.4444444444444444,
             "#bd3786"
            ],
            [
             0.5555555555555556,
             "#d8576b"
            ],
            [
             0.6666666666666666,
             "#ed7953"
            ],
            [
             0.7777777777777778,
             "#fb9f3a"
            ],
            [
             0.8888888888888888,
             "#fdca26"
            ],
            [
             1,
             "#f0f921"
            ]
           ],
           "sequentialminus": [
            [
             0,
             "#0d0887"
            ],
            [
             0.1111111111111111,
             "#46039f"
            ],
            [
             0.2222222222222222,
             "#7201a8"
            ],
            [
             0.3333333333333333,
             "#9c179e"
            ],
            [
             0.4444444444444444,
             "#bd3786"
            ],
            [
             0.5555555555555556,
             "#d8576b"
            ],
            [
             0.6666666666666666,
             "#ed7953"
            ],
            [
             0.7777777777777778,
             "#fb9f3a"
            ],
            [
             0.8888888888888888,
             "#fdca26"
            ],
            [
             1,
             "#f0f921"
            ]
           ]
          },
          "colorway": [
           "#636efa",
           "#EF553B",
           "#00cc96",
           "#ab63fa",
           "#FFA15A",
           "#19d3f3",
           "#FF6692",
           "#B6E880",
           "#FF97FF",
           "#FECB52"
          ],
          "font": {
           "color": "#2a3f5f"
          },
          "geo": {
           "bgcolor": "white",
           "lakecolor": "white",
           "landcolor": "#E5ECF6",
           "showlakes": true,
           "showland": true,
           "subunitcolor": "white"
          },
          "hoverlabel": {
           "align": "left"
          },
          "hovermode": "closest",
          "mapbox": {
           "style": "light"
          },
          "paper_bgcolor": "white",
          "plot_bgcolor": "#E5ECF6",
          "polar": {
           "angularaxis": {
            "gridcolor": "white",
            "linecolor": "white",
            "ticks": ""
           },
           "bgcolor": "#E5ECF6",
           "radialaxis": {
            "gridcolor": "white",
            "linecolor": "white",
            "ticks": ""
           }
          },
          "scene": {
           "xaxis": {
            "backgroundcolor": "#E5ECF6",
            "gridcolor": "white",
            "gridwidth": 2,
            "linecolor": "white",
            "showbackground": true,
            "ticks": "",
            "zerolinecolor": "white"
           },
           "yaxis": {
            "backgroundcolor": "#E5ECF6",
            "gridcolor": "white",
            "gridwidth": 2,
            "linecolor": "white",
            "showbackground": true,
            "ticks": "",
            "zerolinecolor": "white"
           },
           "zaxis": {
            "backgroundcolor": "#E5ECF6",
            "gridcolor": "white",
            "gridwidth": 2,
            "linecolor": "white",
            "showbackground": true,
            "ticks": "",
            "zerolinecolor": "white"
           }
          },
          "shapedefaults": {
           "line": {
            "color": "#2a3f5f"
           }
          },
          "ternary": {
           "aaxis": {
            "gridcolor": "white",
            "linecolor": "white",
            "ticks": ""
           },
           "baxis": {
            "gridcolor": "white",
            "linecolor": "white",
            "ticks": ""
           },
           "bgcolor": "#E5ECF6",
           "caxis": {
            "gridcolor": "white",
            "linecolor": "white",
            "ticks": ""
           }
          },
          "title": {
           "x": 0.05
          },
          "xaxis": {
           "automargin": true,
           "gridcolor": "white",
           "linecolor": "white",
           "ticks": "",
           "title": {
            "standoff": 15
           },
           "zerolinecolor": "white",
           "zerolinewidth": 2
          },
          "yaxis": {
           "automargin": true,
           "gridcolor": "white",
           "linecolor": "white",
           "ticks": "",
           "title": {
            "standoff": 15
           },
           "zerolinecolor": "white",
           "zerolinewidth": 2
          }
         }
        },
        "title": {
         "text": "Contour Plot"
        },
        "xaxis": {
         "anchor": "y",
         "domain": [
          0,
          0.082
         ],
         "matches": "x91",
         "range": [
          -0.05,
          1.05
         ],
         "showticklabels": false,
         "type": "category"
        },
        "xaxis10": {
         "anchor": "y10",
         "domain": [
          0.9179999999999999,
          0.9999999999999999
         ],
         "matches": "x100",
         "range": [
          -0.1,
          2.1
         ],
         "showticklabels": false,
         "type": "category"
        },
        "xaxis100": {
         "anchor": "y100",
         "domain": [
          0.9179999999999999,
          0.9999999999999999
         ],
         "range": [
          -0.1,
          2.1
         ],
         "title": {
          "text": "optimizer.optimizer"
         },
         "type": "category"
        },
        "xaxis11": {
         "anchor": "y11",
         "domain": [
          0,
          0.082
         ],
         "matches": "x91",
         "range": [
          -0.05,
          1.05
         ],
         "showticklabels": false,
         "type": "category"
        },
        "xaxis12": {
         "anchor": "y12",
         "domain": [
          0.10200000000000001,
          0.184
         ],
         "matches": "x92",
         "range": [
          -0.05,
          1.05
         ],
         "showticklabels": false,
         "type": "category"
        },
        "xaxis13": {
         "anchor": "y13",
         "domain": [
          0.20400000000000001,
          0.28600000000000003
         ],
         "matches": "x93",
         "range": [
          41.599999999999994,
          534.4
         ],
         "showticklabels": false
        },
        "xaxis14": {
         "anchor": "y14",
         "domain": [
          0.306,
          0.388
         ],
         "matches": "x94",
         "range": [
          41.599999999999994,
          534.4
         ],
         "showticklabels": false
        },
        "xaxis15": {
         "anchor": "y15",
         "domain": [
          0.40800000000000003,
          0.49000000000000005
         ],
         "matches": "x95",
         "range": [
          1.7,
          8.3
         ],
         "showticklabels": false
        },
        "xaxis16": {
         "anchor": "y16",
         "domain": [
          0.51,
          0.592
         ],
         "matches": "x96",
         "range": [
          -0.05,
          1.05
         ],
         "showticklabels": false,
         "type": "category"
        },
        "xaxis17": {
         "anchor": "y17",
         "domain": [
          0.6120000000000001,
          0.6940000000000001
         ],
         "matches": "x97",
         "range": [
          10.399999999999999,
          133.6
         ],
         "showticklabels": false
        },
        "xaxis18": {
         "anchor": "y18",
         "domain": [
          0.7140000000000001,
          0.796
         ],
         "matches": "x98",
         "range": [
          5.199999999999999,
          66.8
         ],
         "showticklabels": false
        },
        "xaxis19": {
         "anchor": "y19",
         "domain": [
          0.8160000000000001,
          0.898
         ],
         "matches": "x99",
         "range": [
          -0.0003327779727902093,
          0.00991289666369501
         ],
         "showticklabels": false
        },
        "xaxis2": {
         "anchor": "y2",
         "domain": [
          0.10200000000000001,
          0.184
         ],
         "matches": "x92",
         "range": [
          -0.05,
          1.05
         ],
         "showticklabels": false,
         "type": "category"
        },
        "xaxis20": {
         "anchor": "y20",
         "domain": [
          0.9179999999999999,
          0.9999999999999999
         ],
         "matches": "x100",
         "range": [
          -0.1,
          2.1
         ],
         "showticklabels": false,
         "type": "category"
        },
        "xaxis21": {
         "anchor": "y21",
         "domain": [
          0,
          0.082
         ],
         "matches": "x91",
         "range": [
          -0.05,
          1.05
         ],
         "showticklabels": false,
         "type": "category"
        },
        "xaxis22": {
         "anchor": "y22",
         "domain": [
          0.10200000000000001,
          0.184
         ],
         "matches": "x92",
         "range": [
          -0.05,
          1.05
         ],
         "showticklabels": false,
         "type": "category"
        },
        "xaxis23": {
         "anchor": "y23",
         "domain": [
          0.20400000000000001,
          0.28600000000000003
         ],
         "matches": "x93",
         "range": [
          41.599999999999994,
          534.4
         ],
         "showticklabels": false
        },
        "xaxis24": {
         "anchor": "y24",
         "domain": [
          0.306,
          0.388
         ],
         "matches": "x94",
         "range": [
          41.599999999999994,
          534.4
         ],
         "showticklabels": false
        },
        "xaxis25": {
         "anchor": "y25",
         "domain": [
          0.40800000000000003,
          0.49000000000000005
         ],
         "matches": "x95",
         "range": [
          1.7,
          8.3
         ],
         "showticklabels": false
        },
        "xaxis26": {
         "anchor": "y26",
         "domain": [
          0.51,
          0.592
         ],
         "matches": "x96",
         "range": [
          -0.05,
          1.05
         ],
         "showticklabels": false,
         "type": "category"
        },
        "xaxis27": {
         "anchor": "y27",
         "domain": [
          0.6120000000000001,
          0.6940000000000001
         ],
         "matches": "x97",
         "range": [
          10.399999999999999,
          133.6
         ],
         "showticklabels": false
        },
        "xaxis28": {
         "anchor": "y28",
         "domain": [
          0.7140000000000001,
          0.796
         ],
         "matches": "x98",
         "range": [
          5.199999999999999,
          66.8
         ],
         "showticklabels": false
        },
        "xaxis29": {
         "anchor": "y29",
         "domain": [
          0.8160000000000001,
          0.898
         ],
         "matches": "x99",
         "range": [
          -0.0003327779727902093,
          0.00991289666369501
         ],
         "showticklabels": false
        },
        "xaxis3": {
         "anchor": "y3",
         "domain": [
          0.20400000000000001,
          0.28600000000000003
         ],
         "matches": "x93",
         "range": [
          41.599999999999994,
          534.4
         ],
         "showticklabels": false
        },
        "xaxis30": {
         "anchor": "y30",
         "domain": [
          0.9179999999999999,
          0.9999999999999999
         ],
         "matches": "x100",
         "range": [
          -0.1,
          2.1
         ],
         "showticklabels": false,
         "type": "category"
        },
        "xaxis31": {
         "anchor": "y31",
         "domain": [
          0,
          0.082
         ],
         "matches": "x91",
         "range": [
          -0.05,
          1.05
         ],
         "showticklabels": false,
         "type": "category"
        },
        "xaxis32": {
         "anchor": "y32",
         "domain": [
          0.10200000000000001,
          0.184
         ],
         "matches": "x92",
         "range": [
          -0.05,
          1.05
         ],
         "showticklabels": false,
         "type": "category"
        },
        "xaxis33": {
         "anchor": "y33",
         "domain": [
          0.20400000000000001,
          0.28600000000000003
         ],
         "matches": "x93",
         "range": [
          41.599999999999994,
          534.4
         ],
         "showticklabels": false
        },
        "xaxis34": {
         "anchor": "y34",
         "domain": [
          0.306,
          0.388
         ],
         "matches": "x94",
         "range": [
          41.599999999999994,
          534.4
         ],
         "showticklabels": false
        },
        "xaxis35": {
         "anchor": "y35",
         "domain": [
          0.40800000000000003,
          0.49000000000000005
         ],
         "matches": "x95",
         "range": [
          1.7,
          8.3
         ],
         "showticklabels": false
        },
        "xaxis36": {
         "anchor": "y36",
         "domain": [
          0.51,
          0.592
         ],
         "matches": "x96",
         "range": [
          -0.05,
          1.05
         ],
         "showticklabels": false,
         "type": "category"
        },
        "xaxis37": {
         "anchor": "y37",
         "domain": [
          0.6120000000000001,
          0.6940000000000001
         ],
         "matches": "x97",
         "range": [
          10.399999999999999,
          133.6
         ],
         "showticklabels": false
        },
        "xaxis38": {
         "anchor": "y38",
         "domain": [
          0.7140000000000001,
          0.796
         ],
         "matches": "x98",
         "range": [
          5.199999999999999,
          66.8
         ],
         "showticklabels": false
        },
        "xaxis39": {
         "anchor": "y39",
         "domain": [
          0.8160000000000001,
          0.898
         ],
         "matches": "x99",
         "range": [
          -0.0003327779727902093,
          0.00991289666369501
         ],
         "showticklabels": false
        },
        "xaxis4": {
         "anchor": "y4",
         "domain": [
          0.306,
          0.388
         ],
         "matches": "x94",
         "range": [
          41.599999999999994,
          534.4
         ],
         "showticklabels": false
        },
        "xaxis40": {
         "anchor": "y40",
         "domain": [
          0.9179999999999999,
          0.9999999999999999
         ],
         "matches": "x100",
         "range": [
          -0.1,
          2.1
         ],
         "showticklabels": false,
         "type": "category"
        },
        "xaxis41": {
         "anchor": "y41",
         "domain": [
          0,
          0.082
         ],
         "matches": "x91",
         "range": [
          -0.05,
          1.05
         ],
         "showticklabels": false,
         "type": "category"
        },
        "xaxis42": {
         "anchor": "y42",
         "domain": [
          0.10200000000000001,
          0.184
         ],
         "matches": "x92",
         "range": [
          -0.05,
          1.05
         ],
         "showticklabels": false,
         "type": "category"
        },
        "xaxis43": {
         "anchor": "y43",
         "domain": [
          0.20400000000000001,
          0.28600000000000003
         ],
         "matches": "x93",
         "range": [
          41.599999999999994,
          534.4
         ],
         "showticklabels": false
        },
        "xaxis44": {
         "anchor": "y44",
         "domain": [
          0.306,
          0.388
         ],
         "matches": "x94",
         "range": [
          41.599999999999994,
          534.4
         ],
         "showticklabels": false
        },
        "xaxis45": {
         "anchor": "y45",
         "domain": [
          0.40800000000000003,
          0.49000000000000005
         ],
         "matches": "x95",
         "range": [
          1.7,
          8.3
         ],
         "showticklabels": false
        },
        "xaxis46": {
         "anchor": "y46",
         "domain": [
          0.51,
          0.592
         ],
         "matches": "x96",
         "range": [
          -0.05,
          1.05
         ],
         "showticklabels": false,
         "type": "category"
        },
        "xaxis47": {
         "anchor": "y47",
         "domain": [
          0.6120000000000001,
          0.6940000000000001
         ],
         "matches": "x97",
         "range": [
          10.399999999999999,
          133.6
         ],
         "showticklabels": false
        },
        "xaxis48": {
         "anchor": "y48",
         "domain": [
          0.7140000000000001,
          0.796
         ],
         "matches": "x98",
         "range": [
          5.199999999999999,
          66.8
         ],
         "showticklabels": false
        },
        "xaxis49": {
         "anchor": "y49",
         "domain": [
          0.8160000000000001,
          0.898
         ],
         "matches": "x99",
         "range": [
          -0.0003327779727902093,
          0.00991289666369501
         ],
         "showticklabels": false
        },
        "xaxis5": {
         "anchor": "y5",
         "domain": [
          0.40800000000000003,
          0.49000000000000005
         ],
         "matches": "x95",
         "range": [
          1.7,
          8.3
         ],
         "showticklabels": false
        },
        "xaxis50": {
         "anchor": "y50",
         "domain": [
          0.9179999999999999,
          0.9999999999999999
         ],
         "matches": "x100",
         "range": [
          -0.1,
          2.1
         ],
         "showticklabels": false,
         "type": "category"
        },
        "xaxis51": {
         "anchor": "y51",
         "domain": [
          0,
          0.082
         ],
         "matches": "x91",
         "range": [
          -0.05,
          1.05
         ],
         "showticklabels": false,
         "type": "category"
        },
        "xaxis52": {
         "anchor": "y52",
         "domain": [
          0.10200000000000001,
          0.184
         ],
         "matches": "x92",
         "range": [
          -0.05,
          1.05
         ],
         "showticklabels": false,
         "type": "category"
        },
        "xaxis53": {
         "anchor": "y53",
         "domain": [
          0.20400000000000001,
          0.28600000000000003
         ],
         "matches": "x93",
         "range": [
          41.599999999999994,
          534.4
         ],
         "showticklabels": false
        },
        "xaxis54": {
         "anchor": "y54",
         "domain": [
          0.306,
          0.388
         ],
         "matches": "x94",
         "range": [
          41.599999999999994,
          534.4
         ],
         "showticklabels": false
        },
        "xaxis55": {
         "anchor": "y55",
         "domain": [
          0.40800000000000003,
          0.49000000000000005
         ],
         "matches": "x95",
         "range": [
          1.7,
          8.3
         ],
         "showticklabels": false
        },
        "xaxis56": {
         "anchor": "y56",
         "domain": [
          0.51,
          0.592
         ],
         "matches": "x96",
         "range": [
          -0.05,
          1.05
         ],
         "showticklabels": false,
         "type": "category"
        },
        "xaxis57": {
         "anchor": "y57",
         "domain": [
          0.6120000000000001,
          0.6940000000000001
         ],
         "matches": "x97",
         "range": [
          10.399999999999999,
          133.6
         ],
         "showticklabels": false
        },
        "xaxis58": {
         "anchor": "y58",
         "domain": [
          0.7140000000000001,
          0.796
         ],
         "matches": "x98",
         "range": [
          5.199999999999999,
          66.8
         ],
         "showticklabels": false
        },
        "xaxis59": {
         "anchor": "y59",
         "domain": [
          0.8160000000000001,
          0.898
         ],
         "matches": "x99",
         "range": [
          -0.0003327779727902093,
          0.00991289666369501
         ],
         "showticklabels": false
        },
        "xaxis6": {
         "anchor": "y6",
         "domain": [
          0.51,
          0.592
         ],
         "matches": "x96",
         "range": [
          -0.05,
          1.05
         ],
         "showticklabels": false,
         "type": "category"
        },
        "xaxis60": {
         "anchor": "y60",
         "domain": [
          0.9179999999999999,
          0.9999999999999999
         ],
         "matches": "x100",
         "range": [
          -0.1,
          2.1
         ],
         "showticklabels": false,
         "type": "category"
        },
        "xaxis61": {
         "anchor": "y61",
         "domain": [
          0,
          0.082
         ],
         "matches": "x91",
         "range": [
          -0.05,
          1.05
         ],
         "showticklabels": false,
         "type": "category"
        },
        "xaxis62": {
         "anchor": "y62",
         "domain": [
          0.10200000000000001,
          0.184
         ],
         "matches": "x92",
         "range": [
          -0.05,
          1.05
         ],
         "showticklabels": false,
         "type": "category"
        },
        "xaxis63": {
         "anchor": "y63",
         "domain": [
          0.20400000000000001,
          0.28600000000000003
         ],
         "matches": "x93",
         "range": [
          41.599999999999994,
          534.4
         ],
         "showticklabels": false
        },
        "xaxis64": {
         "anchor": "y64",
         "domain": [
          0.306,
          0.388
         ],
         "matches": "x94",
         "range": [
          41.599999999999994,
          534.4
         ],
         "showticklabels": false
        },
        "xaxis65": {
         "anchor": "y65",
         "domain": [
          0.40800000000000003,
          0.49000000000000005
         ],
         "matches": "x95",
         "range": [
          1.7,
          8.3
         ],
         "showticklabels": false
        },
        "xaxis66": {
         "anchor": "y66",
         "domain": [
          0.51,
          0.592
         ],
         "matches": "x96",
         "range": [
          -0.05,
          1.05
         ],
         "showticklabels": false,
         "type": "category"
        },
        "xaxis67": {
         "anchor": "y67",
         "domain": [
          0.6120000000000001,
          0.6940000000000001
         ],
         "matches": "x97",
         "range": [
          10.399999999999999,
          133.6
         ],
         "showticklabels": false
        },
        "xaxis68": {
         "anchor": "y68",
         "domain": [
          0.7140000000000001,
          0.796
         ],
         "matches": "x98",
         "range": [
          5.199999999999999,
          66.8
         ],
         "showticklabels": false
        },
        "xaxis69": {
         "anchor": "y69",
         "domain": [
          0.8160000000000001,
          0.898
         ],
         "matches": "x99",
         "range": [
          -0.0003327779727902093,
          0.00991289666369501
         ],
         "showticklabels": false
        },
        "xaxis7": {
         "anchor": "y7",
         "domain": [
          0.6120000000000001,
          0.6940000000000001
         ],
         "matches": "x97",
         "range": [
          10.399999999999999,
          133.6
         ],
         "showticklabels": false
        },
        "xaxis70": {
         "anchor": "y70",
         "domain": [
          0.9179999999999999,
          0.9999999999999999
         ],
         "matches": "x100",
         "range": [
          -0.1,
          2.1
         ],
         "showticklabels": false,
         "type": "category"
        },
        "xaxis71": {
         "anchor": "y71",
         "domain": [
          0,
          0.082
         ],
         "matches": "x91",
         "range": [
          -0.05,
          1.05
         ],
         "showticklabels": false,
         "type": "category"
        },
        "xaxis72": {
         "anchor": "y72",
         "domain": [
          0.10200000000000001,
          0.184
         ],
         "matches": "x92",
         "range": [
          -0.05,
          1.05
         ],
         "showticklabels": false,
         "type": "category"
        },
        "xaxis73": {
         "anchor": "y73",
         "domain": [
          0.20400000000000001,
          0.28600000000000003
         ],
         "matches": "x93",
         "range": [
          41.599999999999994,
          534.4
         ],
         "showticklabels": false
        },
        "xaxis74": {
         "anchor": "y74",
         "domain": [
          0.306,
          0.388
         ],
         "matches": "x94",
         "range": [
          41.599999999999994,
          534.4
         ],
         "showticklabels": false
        },
        "xaxis75": {
         "anchor": "y75",
         "domain": [
          0.40800000000000003,
          0.49000000000000005
         ],
         "matches": "x95",
         "range": [
          1.7,
          8.3
         ],
         "showticklabels": false
        },
        "xaxis76": {
         "anchor": "y76",
         "domain": [
          0.51,
          0.592
         ],
         "matches": "x96",
         "range": [
          -0.05,
          1.05
         ],
         "showticklabels": false,
         "type": "category"
        },
        "xaxis77": {
         "anchor": "y77",
         "domain": [
          0.6120000000000001,
          0.6940000000000001
         ],
         "matches": "x97",
         "range": [
          10.399999999999999,
          133.6
         ],
         "showticklabels": false
        },
        "xaxis78": {
         "anchor": "y78",
         "domain": [
          0.7140000000000001,
          0.796
         ],
         "matches": "x98",
         "range": [
          5.199999999999999,
          66.8
         ],
         "showticklabels": false
        },
        "xaxis79": {
         "anchor": "y79",
         "domain": [
          0.8160000000000001,
          0.898
         ],
         "matches": "x99",
         "range": [
          -0.0003327779727902093,
          0.00991289666369501
         ],
         "showticklabels": false
        },
        "xaxis8": {
         "anchor": "y8",
         "domain": [
          0.7140000000000001,
          0.796
         ],
         "matches": "x98",
         "range": [
          5.199999999999999,
          66.8
         ],
         "showticklabels": false
        },
        "xaxis80": {
         "anchor": "y80",
         "domain": [
          0.9179999999999999,
          0.9999999999999999
         ],
         "matches": "x100",
         "range": [
          -0.1,
          2.1
         ],
         "showticklabels": false,
         "type": "category"
        },
        "xaxis81": {
         "anchor": "y81",
         "domain": [
          0,
          0.082
         ],
         "matches": "x91",
         "range": [
          -0.05,
          1.05
         ],
         "showticklabels": false,
         "type": "category"
        },
        "xaxis82": {
         "anchor": "y82",
         "domain": [
          0.10200000000000001,
          0.184
         ],
         "matches": "x92",
         "range": [
          -0.05,
          1.05
         ],
         "showticklabels": false,
         "type": "category"
        },
        "xaxis83": {
         "anchor": "y83",
         "domain": [
          0.20400000000000001,
          0.28600000000000003
         ],
         "matches": "x93",
         "range": [
          41.599999999999994,
          534.4
         ],
         "showticklabels": false
        },
        "xaxis84": {
         "anchor": "y84",
         "domain": [
          0.306,
          0.388
         ],
         "matches": "x94",
         "range": [
          41.599999999999994,
          534.4
         ],
         "showticklabels": false
        },
        "xaxis85": {
         "anchor": "y85",
         "domain": [
          0.40800000000000003,
          0.49000000000000005
         ],
         "matches": "x95",
         "range": [
          1.7,
          8.3
         ],
         "showticklabels": false
        },
        "xaxis86": {
         "anchor": "y86",
         "domain": [
          0.51,
          0.592
         ],
         "matches": "x96",
         "range": [
          -0.05,
          1.05
         ],
         "showticklabels": false,
         "type": "category"
        },
        "xaxis87": {
         "anchor": "y87",
         "domain": [
          0.6120000000000001,
          0.6940000000000001
         ],
         "matches": "x97",
         "range": [
          10.399999999999999,
          133.6
         ],
         "showticklabels": false
        },
        "xaxis88": {
         "anchor": "y88",
         "domain": [
          0.7140000000000001,
          0.796
         ],
         "matches": "x98",
         "range": [
          5.199999999999999,
          66.8
         ],
         "showticklabels": false
        },
        "xaxis89": {
         "anchor": "y89",
         "domain": [
          0.8160000000000001,
          0.898
         ],
         "matches": "x99",
         "range": [
          -0.0003327779727902093,
          0.00991289666369501
         ],
         "showticklabels": false
        },
        "xaxis9": {
         "anchor": "y9",
         "domain": [
          0.8160000000000001,
          0.898
         ],
         "matches": "x99",
         "range": [
          -0.0003327779727902093,
          0.00991289666369501
         ],
         "showticklabels": false
        },
        "xaxis90": {
         "anchor": "y90",
         "domain": [
          0.9179999999999999,
          0.9999999999999999
         ],
         "matches": "x100",
         "range": [
          -0.1,
          2.1
         ],
         "showticklabels": false,
         "type": "category"
        },
        "xaxis91": {
         "anchor": "y91",
         "domain": [
          0,
          0.082
         ],
         "range": [
          -0.05,
          1.05
         ],
         "title": {
          "text": "model.act"
         },
         "type": "category"
        },
        "xaxis92": {
         "anchor": "y92",
         "domain": [
          0.10200000000000001,
          0.184
         ],
         "range": [
          -0.05,
          1.05
         ],
         "title": {
          "text": "model.complex_mp"
         },
         "type": "category"
        },
        "xaxis93": {
         "anchor": "y93",
         "domain": [
          0.20400000000000001,
          0.28600000000000003
         ],
         "range": [
          41.599999999999994,
          534.4
         ],
         "title": {
          "text": "model.hidden_channels"
         }
        },
        "xaxis94": {
         "anchor": "y94",
         "domain": [
          0.306,
          0.388
         ],
         "range": [
          41.599999999999994,
          534.4
         ],
         "title": {
          "text": "model.num_filters"
         }
        },
        "xaxis95": {
         "anchor": "y95",
         "domain": [
          0.40800000000000003,
          0.49000000000000005
         ],
         "range": [
          1.7,
          8.3
         ],
         "title": {
          "text": "model.num_interactions"
         }
        },
        "xaxis96": {
         "anchor": "y96",
         "domain": [
          0.51,
          0.592
         ],
         "range": [
          -0.05,
          1.05
         ],
         "title": {
          "text": "model.second_layer_MLP"
         },
         "type": "category"
        },
        "xaxis97": {
         "anchor": "y97",
         "domain": [
          0.6120000000000001,
          0.6940000000000001
         ],
         "range": [
          10.399999999999999,
          133.6
         ],
         "title": {
          "text": "optimizer.batch_size"
         }
        },
        "xaxis98": {
         "anchor": "y98",
         "domain": [
          0.7140000000000001,
          0.796
         ],
         "range": [
          5.199999999999999,
          66.8
         ],
         "title": {
          "text": "optimizer.eval_batch_size"
         }
        },
        "xaxis99": {
         "anchor": "y99",
         "domain": [
          0.8160000000000001,
          0.898
         ],
         "range": [
          -0.0003327779727902093,
          0.00991289666369501
         ],
         "title": {
          "text": "optimizer.lr_initial"
         }
        },
        "yaxis": {
         "anchor": "x",
         "domain": [
          0.9269999999999999,
          0.9999999999999999
         ],
         "range": [
          -0.05,
          1.05
         ],
         "title": {
          "text": "model.act"
         },
         "type": "category"
        },
        "yaxis10": {
         "anchor": "x10",
         "domain": [
          0.9269999999999999,
          0.9999999999999999
         ],
         "matches": "y",
         "range": [
          -0.05,
          1.05
         ],
         "showticklabels": false,
         "type": "category"
        },
        "yaxis100": {
         "anchor": "x100",
         "domain": [
          0,
          0.073
         ],
         "matches": "y91",
         "range": [
          -0.1,
          2.1
         ],
         "showticklabels": false,
         "type": "category"
        },
        "yaxis11": {
         "anchor": "x11",
         "domain": [
          0.824,
          0.8969999999999999
         ],
         "range": [
          -0.05,
          1.05
         ],
         "title": {
          "text": "model.complex_mp"
         },
         "type": "category"
        },
        "yaxis12": {
         "anchor": "x12",
         "domain": [
          0.824,
          0.8969999999999999
         ],
         "matches": "y11",
         "range": [
          -0.05,
          1.05
         ],
         "showticklabels": false,
         "type": "category"
        },
        "yaxis13": {
         "anchor": "x13",
         "domain": [
          0.824,
          0.8969999999999999
         ],
         "matches": "y11",
         "range": [
          -0.05,
          1.05
         ],
         "showticklabels": false,
         "type": "category"
        },
        "yaxis14": {
         "anchor": "x14",
         "domain": [
          0.824,
          0.8969999999999999
         ],
         "matches": "y11",
         "range": [
          -0.05,
          1.05
         ],
         "showticklabels": false,
         "type": "category"
        },
        "yaxis15": {
         "anchor": "x15",
         "domain": [
          0.824,
          0.8969999999999999
         ],
         "matches": "y11",
         "range": [
          -0.05,
          1.05
         ],
         "showticklabels": false,
         "type": "category"
        },
        "yaxis16": {
         "anchor": "x16",
         "domain": [
          0.824,
          0.8969999999999999
         ],
         "matches": "y11",
         "range": [
          -0.05,
          1.05
         ],
         "showticklabels": false,
         "type": "category"
        },
        "yaxis17": {
         "anchor": "x17",
         "domain": [
          0.824,
          0.8969999999999999
         ],
         "matches": "y11",
         "range": [
          -0.05,
          1.05
         ],
         "showticklabels": false,
         "type": "category"
        },
        "yaxis18": {
         "anchor": "x18",
         "domain": [
          0.824,
          0.8969999999999999
         ],
         "matches": "y11",
         "range": [
          -0.05,
          1.05
         ],
         "showticklabels": false,
         "type": "category"
        },
        "yaxis19": {
         "anchor": "x19",
         "domain": [
          0.824,
          0.8969999999999999
         ],
         "matches": "y11",
         "range": [
          -0.05,
          1.05
         ],
         "showticklabels": false,
         "type": "category"
        },
        "yaxis2": {
         "anchor": "x2",
         "domain": [
          0.9269999999999999,
          0.9999999999999999
         ],
         "matches": "y",
         "range": [
          -0.05,
          1.05
         ],
         "showticklabels": false,
         "type": "category"
        },
        "yaxis20": {
         "anchor": "x20",
         "domain": [
          0.824,
          0.8969999999999999
         ],
         "matches": "y11",
         "range": [
          -0.05,
          1.05
         ],
         "showticklabels": false,
         "type": "category"
        },
        "yaxis21": {
         "anchor": "x21",
         "domain": [
          0.721,
          0.7939999999999999
         ],
         "range": [
          41.599999999999994,
          534.4
         ],
         "title": {
          "text": "model.hidden_channels"
         }
        },
        "yaxis22": {
         "anchor": "x22",
         "domain": [
          0.721,
          0.7939999999999999
         ],
         "matches": "y21",
         "range": [
          41.599999999999994,
          534.4
         ],
         "showticklabels": false
        },
        "yaxis23": {
         "anchor": "x23",
         "domain": [
          0.721,
          0.7939999999999999
         ],
         "matches": "y21",
         "range": [
          41.599999999999994,
          534.4
         ],
         "showticklabels": false
        },
        "yaxis24": {
         "anchor": "x24",
         "domain": [
          0.721,
          0.7939999999999999
         ],
         "matches": "y21",
         "range": [
          41.599999999999994,
          534.4
         ],
         "showticklabels": false
        },
        "yaxis25": {
         "anchor": "x25",
         "domain": [
          0.721,
          0.7939999999999999
         ],
         "matches": "y21",
         "range": [
          41.599999999999994,
          534.4
         ],
         "showticklabels": false
        },
        "yaxis26": {
         "anchor": "x26",
         "domain": [
          0.721,
          0.7939999999999999
         ],
         "matches": "y21",
         "range": [
          41.599999999999994,
          534.4
         ],
         "showticklabels": false
        },
        "yaxis27": {
         "anchor": "x27",
         "domain": [
          0.721,
          0.7939999999999999
         ],
         "matches": "y21",
         "range": [
          41.599999999999994,
          534.4
         ],
         "showticklabels": false
        },
        "yaxis28": {
         "anchor": "x28",
         "domain": [
          0.721,
          0.7939999999999999
         ],
         "matches": "y21",
         "range": [
          41.599999999999994,
          534.4
         ],
         "showticklabels": false
        },
        "yaxis29": {
         "anchor": "x29",
         "domain": [
          0.721,
          0.7939999999999999
         ],
         "matches": "y21",
         "range": [
          41.599999999999994,
          534.4
         ],
         "showticklabels": false
        },
        "yaxis3": {
         "anchor": "x3",
         "domain": [
          0.9269999999999999,
          0.9999999999999999
         ],
         "matches": "y",
         "range": [
          -0.05,
          1.05
         ],
         "showticklabels": false,
         "type": "category"
        },
        "yaxis30": {
         "anchor": "x30",
         "domain": [
          0.721,
          0.7939999999999999
         ],
         "matches": "y21",
         "range": [
          41.599999999999994,
          534.4
         ],
         "showticklabels": false
        },
        "yaxis31": {
         "anchor": "x31",
         "domain": [
          0.618,
          0.691
         ],
         "range": [
          41.599999999999994,
          534.4
         ],
         "title": {
          "text": "model.num_filters"
         }
        },
        "yaxis32": {
         "anchor": "x32",
         "domain": [
          0.618,
          0.691
         ],
         "matches": "y31",
         "range": [
          41.599999999999994,
          534.4
         ],
         "showticklabels": false
        },
        "yaxis33": {
         "anchor": "x33",
         "domain": [
          0.618,
          0.691
         ],
         "matches": "y31",
         "range": [
          41.599999999999994,
          534.4
         ],
         "showticklabels": false
        },
        "yaxis34": {
         "anchor": "x34",
         "domain": [
          0.618,
          0.691
         ],
         "matches": "y31",
         "range": [
          41.599999999999994,
          534.4
         ],
         "showticklabels": false
        },
        "yaxis35": {
         "anchor": "x35",
         "domain": [
          0.618,
          0.691
         ],
         "matches": "y31",
         "range": [
          41.599999999999994,
          534.4
         ],
         "showticklabels": false
        },
        "yaxis36": {
         "anchor": "x36",
         "domain": [
          0.618,
          0.691
         ],
         "matches": "y31",
         "range": [
          41.599999999999994,
          534.4
         ],
         "showticklabels": false
        },
        "yaxis37": {
         "anchor": "x37",
         "domain": [
          0.618,
          0.691
         ],
         "matches": "y31",
         "range": [
          41.599999999999994,
          534.4
         ],
         "showticklabels": false
        },
        "yaxis38": {
         "anchor": "x38",
         "domain": [
          0.618,
          0.691
         ],
         "matches": "y31",
         "range": [
          41.599999999999994,
          534.4
         ],
         "showticklabels": false
        },
        "yaxis39": {
         "anchor": "x39",
         "domain": [
          0.618,
          0.691
         ],
         "matches": "y31",
         "range": [
          41.599999999999994,
          534.4
         ],
         "showticklabels": false
        },
        "yaxis4": {
         "anchor": "x4",
         "domain": [
          0.9269999999999999,
          0.9999999999999999
         ],
         "matches": "y",
         "range": [
          -0.05,
          1.05
         ],
         "showticklabels": false,
         "type": "category"
        },
        "yaxis40": {
         "anchor": "x40",
         "domain": [
          0.618,
          0.691
         ],
         "matches": "y31",
         "range": [
          41.599999999999994,
          534.4
         ],
         "showticklabels": false
        },
        "yaxis41": {
         "anchor": "x41",
         "domain": [
          0.515,
          0.588
         ],
         "range": [
          1.7,
          8.3
         ],
         "title": {
          "text": "model.num_interactions"
         }
        },
        "yaxis42": {
         "anchor": "x42",
         "domain": [
          0.515,
          0.588
         ],
         "matches": "y41",
         "range": [
          1.7,
          8.3
         ],
         "showticklabels": false
        },
        "yaxis43": {
         "anchor": "x43",
         "domain": [
          0.515,
          0.588
         ],
         "matches": "y41",
         "range": [
          1.7,
          8.3
         ],
         "showticklabels": false
        },
        "yaxis44": {
         "anchor": "x44",
         "domain": [
          0.515,
          0.588
         ],
         "matches": "y41",
         "range": [
          1.7,
          8.3
         ],
         "showticklabels": false
        },
        "yaxis45": {
         "anchor": "x45",
         "domain": [
          0.515,
          0.588
         ],
         "matches": "y41",
         "range": [
          1.7,
          8.3
         ],
         "showticklabels": false
        },
        "yaxis46": {
         "anchor": "x46",
         "domain": [
          0.515,
          0.588
         ],
         "matches": "y41",
         "range": [
          1.7,
          8.3
         ],
         "showticklabels": false
        },
        "yaxis47": {
         "anchor": "x47",
         "domain": [
          0.515,
          0.588
         ],
         "matches": "y41",
         "range": [
          1.7,
          8.3
         ],
         "showticklabels": false
        },
        "yaxis48": {
         "anchor": "x48",
         "domain": [
          0.515,
          0.588
         ],
         "matches": "y41",
         "range": [
          1.7,
          8.3
         ],
         "showticklabels": false
        },
        "yaxis49": {
         "anchor": "x49",
         "domain": [
          0.515,
          0.588
         ],
         "matches": "y41",
         "range": [
          1.7,
          8.3
         ],
         "showticklabels": false
        },
        "yaxis5": {
         "anchor": "x5",
         "domain": [
          0.9269999999999999,
          0.9999999999999999
         ],
         "matches": "y",
         "range": [
          -0.05,
          1.05
         ],
         "showticklabels": false,
         "type": "category"
        },
        "yaxis50": {
         "anchor": "x50",
         "domain": [
          0.515,
          0.588
         ],
         "matches": "y41",
         "range": [
          1.7,
          8.3
         ],
         "showticklabels": false
        },
        "yaxis51": {
         "anchor": "x51",
         "domain": [
          0.412,
          0.485
         ],
         "range": [
          -0.05,
          1.05
         ],
         "title": {
          "text": "model.second_layer_MLP"
         },
         "type": "category"
        },
        "yaxis52": {
         "anchor": "x52",
         "domain": [
          0.412,
          0.485
         ],
         "matches": "y51",
         "range": [
          -0.05,
          1.05
         ],
         "showticklabels": false,
         "type": "category"
        },
        "yaxis53": {
         "anchor": "x53",
         "domain": [
          0.412,
          0.485
         ],
         "matches": "y51",
         "range": [
          -0.05,
          1.05
         ],
         "showticklabels": false,
         "type": "category"
        },
        "yaxis54": {
         "anchor": "x54",
         "domain": [
          0.412,
          0.485
         ],
         "matches": "y51",
         "range": [
          -0.05,
          1.05
         ],
         "showticklabels": false,
         "type": "category"
        },
        "yaxis55": {
         "anchor": "x55",
         "domain": [
          0.412,
          0.485
         ],
         "matches": "y51",
         "range": [
          -0.05,
          1.05
         ],
         "showticklabels": false,
         "type": "category"
        },
        "yaxis56": {
         "anchor": "x56",
         "domain": [
          0.412,
          0.485
         ],
         "matches": "y51",
         "range": [
          -0.05,
          1.05
         ],
         "showticklabels": false,
         "type": "category"
        },
        "yaxis57": {
         "anchor": "x57",
         "domain": [
          0.412,
          0.485
         ],
         "matches": "y51",
         "range": [
          -0.05,
          1.05
         ],
         "showticklabels": false,
         "type": "category"
        },
        "yaxis58": {
         "anchor": "x58",
         "domain": [
          0.412,
          0.485
         ],
         "matches": "y51",
         "range": [
          -0.05,
          1.05
         ],
         "showticklabels": false,
         "type": "category"
        },
        "yaxis59": {
         "anchor": "x59",
         "domain": [
          0.412,
          0.485
         ],
         "matches": "y51",
         "range": [
          -0.05,
          1.05
         ],
         "showticklabels": false,
         "type": "category"
        },
        "yaxis6": {
         "anchor": "x6",
         "domain": [
          0.9269999999999999,
          0.9999999999999999
         ],
         "matches": "y",
         "range": [
          -0.05,
          1.05
         ],
         "showticklabels": false,
         "type": "category"
        },
        "yaxis60": {
         "anchor": "x60",
         "domain": [
          0.412,
          0.485
         ],
         "matches": "y51",
         "range": [
          -0.05,
          1.05
         ],
         "showticklabels": false,
         "type": "category"
        },
        "yaxis61": {
         "anchor": "x61",
         "domain": [
          0.30899999999999994,
          0.38199999999999995
         ],
         "range": [
          10.399999999999999,
          133.6
         ],
         "title": {
          "text": "optimizer.batch_size"
         }
        },
        "yaxis62": {
         "anchor": "x62",
         "domain": [
          0.30899999999999994,
          0.38199999999999995
         ],
         "matches": "y61",
         "range": [
          10.399999999999999,
          133.6
         ],
         "showticklabels": false
        },
        "yaxis63": {
         "anchor": "x63",
         "domain": [
          0.30899999999999994,
          0.38199999999999995
         ],
         "matches": "y61",
         "range": [
          10.399999999999999,
          133.6
         ],
         "showticklabels": false
        },
        "yaxis64": {
         "anchor": "x64",
         "domain": [
          0.30899999999999994,
          0.38199999999999995
         ],
         "matches": "y61",
         "range": [
          10.399999999999999,
          133.6
         ],
         "showticklabels": false
        },
        "yaxis65": {
         "anchor": "x65",
         "domain": [
          0.30899999999999994,
          0.38199999999999995
         ],
         "matches": "y61",
         "range": [
          10.399999999999999,
          133.6
         ],
         "showticklabels": false
        },
        "yaxis66": {
         "anchor": "x66",
         "domain": [
          0.30899999999999994,
          0.38199999999999995
         ],
         "matches": "y61",
         "range": [
          10.399999999999999,
          133.6
         ],
         "showticklabels": false
        },
        "yaxis67": {
         "anchor": "x67",
         "domain": [
          0.30899999999999994,
          0.38199999999999995
         ],
         "matches": "y61",
         "range": [
          10.399999999999999,
          133.6
         ],
         "showticklabels": false
        },
        "yaxis68": {
         "anchor": "x68",
         "domain": [
          0.30899999999999994,
          0.38199999999999995
         ],
         "matches": "y61",
         "range": [
          10.399999999999999,
          133.6
         ],
         "showticklabels": false
        },
        "yaxis69": {
         "anchor": "x69",
         "domain": [
          0.30899999999999994,
          0.38199999999999995
         ],
         "matches": "y61",
         "range": [
          10.399999999999999,
          133.6
         ],
         "showticklabels": false
        },
        "yaxis7": {
         "anchor": "x7",
         "domain": [
          0.9269999999999999,
          0.9999999999999999
         ],
         "matches": "y",
         "range": [
          -0.05,
          1.05
         ],
         "showticklabels": false,
         "type": "category"
        },
        "yaxis70": {
         "anchor": "x70",
         "domain": [
          0.30899999999999994,
          0.38199999999999995
         ],
         "matches": "y61",
         "range": [
          10.399999999999999,
          133.6
         ],
         "showticklabels": false
        },
        "yaxis71": {
         "anchor": "x71",
         "domain": [
          0.206,
          0.27899999999999997
         ],
         "range": [
          5.199999999999999,
          66.8
         ],
         "title": {
          "text": "optimizer.eval_batch_size"
         }
        },
        "yaxis72": {
         "anchor": "x72",
         "domain": [
          0.206,
          0.27899999999999997
         ],
         "matches": "y71",
         "range": [
          5.199999999999999,
          66.8
         ],
         "showticklabels": false
        },
        "yaxis73": {
         "anchor": "x73",
         "domain": [
          0.206,
          0.27899999999999997
         ],
         "matches": "y71",
         "range": [
          5.199999999999999,
          66.8
         ],
         "showticklabels": false
        },
        "yaxis74": {
         "anchor": "x74",
         "domain": [
          0.206,
          0.27899999999999997
         ],
         "matches": "y71",
         "range": [
          5.199999999999999,
          66.8
         ],
         "showticklabels": false
        },
        "yaxis75": {
         "anchor": "x75",
         "domain": [
          0.206,
          0.27899999999999997
         ],
         "matches": "y71",
         "range": [
          5.199999999999999,
          66.8
         ],
         "showticklabels": false
        },
        "yaxis76": {
         "anchor": "x76",
         "domain": [
          0.206,
          0.27899999999999997
         ],
         "matches": "y71",
         "range": [
          5.199999999999999,
          66.8
         ],
         "showticklabels": false
        },
        "yaxis77": {
         "anchor": "x77",
         "domain": [
          0.206,
          0.27899999999999997
         ],
         "matches": "y71",
         "range": [
          5.199999999999999,
          66.8
         ],
         "showticklabels": false
        },
        "yaxis78": {
         "anchor": "x78",
         "domain": [
          0.206,
          0.27899999999999997
         ],
         "matches": "y71",
         "range": [
          5.199999999999999,
          66.8
         ],
         "showticklabels": false
        },
        "yaxis79": {
         "anchor": "x79",
         "domain": [
          0.206,
          0.27899999999999997
         ],
         "matches": "y71",
         "range": [
          5.199999999999999,
          66.8
         ],
         "showticklabels": false
        },
        "yaxis8": {
         "anchor": "x8",
         "domain": [
          0.9269999999999999,
          0.9999999999999999
         ],
         "matches": "y",
         "range": [
          -0.05,
          1.05
         ],
         "showticklabels": false,
         "type": "category"
        },
        "yaxis80": {
         "anchor": "x80",
         "domain": [
          0.206,
          0.27899999999999997
         ],
         "matches": "y71",
         "range": [
          5.199999999999999,
          66.8
         ],
         "showticklabels": false
        },
        "yaxis81": {
         "anchor": "x81",
         "domain": [
          0.103,
          0.176
         ],
         "range": [
          -0.0003327779727902093,
          0.00991289666369501
         ],
         "title": {
          "text": "optimizer.lr_initial"
         }
        },
        "yaxis82": {
         "anchor": "x82",
         "domain": [
          0.103,
          0.176
         ],
         "matches": "y81",
         "range": [
          -0.0003327779727902093,
          0.00991289666369501
         ],
         "showticklabels": false
        },
        "yaxis83": {
         "anchor": "x83",
         "domain": [
          0.103,
          0.176
         ],
         "matches": "y81",
         "range": [
          -0.0003327779727902093,
          0.00991289666369501
         ],
         "showticklabels": false
        },
        "yaxis84": {
         "anchor": "x84",
         "domain": [
          0.103,
          0.176
         ],
         "matches": "y81",
         "range": [
          -0.0003327779727902093,
          0.00991289666369501
         ],
         "showticklabels": false
        },
        "yaxis85": {
         "anchor": "x85",
         "domain": [
          0.103,
          0.176
         ],
         "matches": "y81",
         "range": [
          -0.0003327779727902093,
          0.00991289666369501
         ],
         "showticklabels": false
        },
        "yaxis86": {
         "anchor": "x86",
         "domain": [
          0.103,
          0.176
         ],
         "matches": "y81",
         "range": [
          -0.0003327779727902093,
          0.00991289666369501
         ],
         "showticklabels": false
        },
        "yaxis87": {
         "anchor": "x87",
         "domain": [
          0.103,
          0.176
         ],
         "matches": "y81",
         "range": [
          -0.0003327779727902093,
          0.00991289666369501
         ],
         "showticklabels": false
        },
        "yaxis88": {
         "anchor": "x88",
         "domain": [
          0.103,
          0.176
         ],
         "matches": "y81",
         "range": [
          -0.0003327779727902093,
          0.00991289666369501
         ],
         "showticklabels": false
        },
        "yaxis89": {
         "anchor": "x89",
         "domain": [
          0.103,
          0.176
         ],
         "matches": "y81",
         "range": [
          -0.0003327779727902093,
          0.00991289666369501
         ],
         "showticklabels": false
        },
        "yaxis9": {
         "anchor": "x9",
         "domain": [
          0.9269999999999999,
          0.9999999999999999
         ],
         "matches": "y",
         "range": [
          -0.05,
          1.05
         ],
         "showticklabels": false,
         "type": "category"
        },
        "yaxis90": {
         "anchor": "x90",
         "domain": [
          0.103,
          0.176
         ],
         "matches": "y81",
         "range": [
          -0.0003327779727902093,
          0.00991289666369501
         ],
         "showticklabels": false
        },
        "yaxis91": {
         "anchor": "x91",
         "domain": [
          0,
          0.073
         ],
         "range": [
          -0.1,
          2.1
         ],
         "title": {
          "text": "optimizer.optimizer"
         },
         "type": "category"
        },
        "yaxis92": {
         "anchor": "x92",
         "domain": [
          0,
          0.073
         ],
         "matches": "y91",
         "range": [
          -0.1,
          2.1
         ],
         "showticklabels": false,
         "type": "category"
        },
        "yaxis93": {
         "anchor": "x93",
         "domain": [
          0,
          0.073
         ],
         "matches": "y91",
         "range": [
          -0.1,
          2.1
         ],
         "showticklabels": false,
         "type": "category"
        },
        "yaxis94": {
         "anchor": "x94",
         "domain": [
          0,
          0.073
         ],
         "matches": "y91",
         "range": [
          -0.1,
          2.1
         ],
         "showticklabels": false,
         "type": "category"
        },
        "yaxis95": {
         "anchor": "x95",
         "domain": [
          0,
          0.073
         ],
         "matches": "y91",
         "range": [
          -0.1,
          2.1
         ],
         "showticklabels": false,
         "type": "category"
        },
        "yaxis96": {
         "anchor": "x96",
         "domain": [
          0,
          0.073
         ],
         "matches": "y91",
         "range": [
          -0.1,
          2.1
         ],
         "showticklabels": false,
         "type": "category"
        },
        "yaxis97": {
         "anchor": "x97",
         "domain": [
          0,
          0.073
         ],
         "matches": "y91",
         "range": [
          -0.1,
          2.1
         ],
         "showticklabels": false,
         "type": "category"
        },
        "yaxis98": {
         "anchor": "x98",
         "domain": [
          0,
          0.073
         ],
         "matches": "y91",
         "range": [
          -0.1,
          2.1
         ],
         "showticklabels": false,
         "type": "category"
        },
        "yaxis99": {
         "anchor": "x99",
         "domain": [
          0,
          0.073
         ],
         "matches": "y91",
         "range": [
          -0.1,
          2.1
         ],
         "showticklabels": false,
         "type": "category"
        }
       }
      }
     },
     "metadata": {},
     "output_type": "display_data"
    }
   ],
   "source": [
    "vis.plot_contour(study)"
   ]
  },
  {
   "cell_type": "code",
   "execution_count": 7,
   "metadata": {},
   "outputs": [
    {
     "name": "stderr",
     "output_type": "stream",
     "text": [
      "c:\\Users\\raphael.trezarieu\\Documents\\Code\\faetec\\.venv\\Lib\\site-packages\\optuna\\distributions.py:602: FutureWarning:\n",
      "\n",
      "UniformDistribution has been deprecated in v3.0.0. This feature will be removed in v6.0.0. See https://github.com/optuna/optuna/releases/tag/v3.0.0. Use :class:`~optuna.distributions.FloatDistribution` instead.\n",
      "\n"
     ]
    },
    {
     "data": {
      "application/vnd.plotly.v1+json": {
       "config": {
        "plotlyServerURL": "https://plot.ly"
       },
       "data": [
        {
         "cliponaxis": false,
         "hovertemplate": [
          "model.complex_mp (CategoricalDistribution): 0.0023227615273064624<extra></extra>",
          "model.second_layer_MLP (CategoricalDistribution): 0.009300032769228363<extra></extra>",
          "optimizer.optimizer (CategoricalDistribution): 0.011824131961468708<extra></extra>",
          "optimizer.eval_batch_size (CategoricalDistribution): 0.014496528460569095<extra></extra>",
          "optimizer.lr_initial (UniformDistribution): 0.018141499835610225<extra></extra>",
          "optimizer.batch_size (CategoricalDistribution): 0.03586838325408669<extra></extra>",
          "model.num_interactions (CategoricalDistribution): 0.08198969057723673<extra></extra>",
          "model.num_filters (CategoricalDistribution): 0.13541158406264298<extra></extra>",
          "model.act (CategoricalDistribution): 0.2656380448987633<extra></extra>",
          "model.hidden_channels (CategoricalDistribution): 0.4250073426530874<extra></extra>"
         ],
         "name": "Objective Value",
         "orientation": "h",
         "text": [
          "<0.01",
          "<0.01",
          "0.01",
          "0.01",
          "0.02",
          "0.04",
          "0.08",
          "0.14",
          "0.27",
          "0.43"
         ],
         "textposition": "outside",
         "type": "bar",
         "x": [
          0.0023227615273064624,
          0.009300032769228363,
          0.011824131961468708,
          0.014496528460569095,
          0.018141499835610225,
          0.03586838325408669,
          0.08198969057723673,
          0.13541158406264298,
          0.2656380448987633,
          0.4250073426530874
         ],
         "y": [
          "model.complex_mp",
          "model.second_layer_MLP",
          "optimizer.optimizer",
          "optimizer.eval_batch_size",
          "optimizer.lr_initial",
          "optimizer.batch_size",
          "model.num_interactions",
          "model.num_filters",
          "model.act",
          "model.hidden_channels"
         ]
        }
       ],
       "layout": {
        "template": {
         "data": {
          "bar": [
           {
            "error_x": {
             "color": "#2a3f5f"
            },
            "error_y": {
             "color": "#2a3f5f"
            },
            "marker": {
             "line": {
              "color": "#E5ECF6",
              "width": 0.5
             },
             "pattern": {
              "fillmode": "overlay",
              "size": 10,
              "solidity": 0.2
             }
            },
            "type": "bar"
           }
          ],
          "barpolar": [
           {
            "marker": {
             "line": {
              "color": "#E5ECF6",
              "width": 0.5
             },
             "pattern": {
              "fillmode": "overlay",
              "size": 10,
              "solidity": 0.2
             }
            },
            "type": "barpolar"
           }
          ],
          "carpet": [
           {
            "aaxis": {
             "endlinecolor": "#2a3f5f",
             "gridcolor": "white",
             "linecolor": "white",
             "minorgridcolor": "white",
             "startlinecolor": "#2a3f5f"
            },
            "baxis": {
             "endlinecolor": "#2a3f5f",
             "gridcolor": "white",
             "linecolor": "white",
             "minorgridcolor": "white",
             "startlinecolor": "#2a3f5f"
            },
            "type": "carpet"
           }
          ],
          "choropleth": [
           {
            "colorbar": {
             "outlinewidth": 0,
             "ticks": ""
            },
            "type": "choropleth"
           }
          ],
          "contour": [
           {
            "colorbar": {
             "outlinewidth": 0,
             "ticks": ""
            },
            "colorscale": [
             [
              0,
              "#0d0887"
             ],
             [
              0.1111111111111111,
              "#46039f"
             ],
             [
              0.2222222222222222,
              "#7201a8"
             ],
             [
              0.3333333333333333,
              "#9c179e"
             ],
             [
              0.4444444444444444,
              "#bd3786"
             ],
             [
              0.5555555555555556,
              "#d8576b"
             ],
             [
              0.6666666666666666,
              "#ed7953"
             ],
             [
              0.7777777777777778,
              "#fb9f3a"
             ],
             [
              0.8888888888888888,
              "#fdca26"
             ],
             [
              1,
              "#f0f921"
             ]
            ],
            "type": "contour"
           }
          ],
          "contourcarpet": [
           {
            "colorbar": {
             "outlinewidth": 0,
             "ticks": ""
            },
            "type": "contourcarpet"
           }
          ],
          "heatmap": [
           {
            "colorbar": {
             "outlinewidth": 0,
             "ticks": ""
            },
            "colorscale": [
             [
              0,
              "#0d0887"
             ],
             [
              0.1111111111111111,
              "#46039f"
             ],
             [
              0.2222222222222222,
              "#7201a8"
             ],
             [
              0.3333333333333333,
              "#9c179e"
             ],
             [
              0.4444444444444444,
              "#bd3786"
             ],
             [
              0.5555555555555556,
              "#d8576b"
             ],
             [
              0.6666666666666666,
              "#ed7953"
             ],
             [
              0.7777777777777778,
              "#fb9f3a"
             ],
             [
              0.8888888888888888,
              "#fdca26"
             ],
             [
              1,
              "#f0f921"
             ]
            ],
            "type": "heatmap"
           }
          ],
          "heatmapgl": [
           {
            "colorbar": {
             "outlinewidth": 0,
             "ticks": ""
            },
            "colorscale": [
             [
              0,
              "#0d0887"
             ],
             [
              0.1111111111111111,
              "#46039f"
             ],
             [
              0.2222222222222222,
              "#7201a8"
             ],
             [
              0.3333333333333333,
              "#9c179e"
             ],
             [
              0.4444444444444444,
              "#bd3786"
             ],
             [
              0.5555555555555556,
              "#d8576b"
             ],
             [
              0.6666666666666666,
              "#ed7953"
             ],
             [
              0.7777777777777778,
              "#fb9f3a"
             ],
             [
              0.8888888888888888,
              "#fdca26"
             ],
             [
              1,
              "#f0f921"
             ]
            ],
            "type": "heatmapgl"
           }
          ],
          "histogram": [
           {
            "marker": {
             "pattern": {
              "fillmode": "overlay",
              "size": 10,
              "solidity": 0.2
             }
            },
            "type": "histogram"
           }
          ],
          "histogram2d": [
           {
            "colorbar": {
             "outlinewidth": 0,
             "ticks": ""
            },
            "colorscale": [
             [
              0,
              "#0d0887"
             ],
             [
              0.1111111111111111,
              "#46039f"
             ],
             [
              0.2222222222222222,
              "#7201a8"
             ],
             [
              0.3333333333333333,
              "#9c179e"
             ],
             [
              0.4444444444444444,
              "#bd3786"
             ],
             [
              0.5555555555555556,
              "#d8576b"
             ],
             [
              0.6666666666666666,
              "#ed7953"
             ],
             [
              0.7777777777777778,
              "#fb9f3a"
             ],
             [
              0.8888888888888888,
              "#fdca26"
             ],
             [
              1,
              "#f0f921"
             ]
            ],
            "type": "histogram2d"
           }
          ],
          "histogram2dcontour": [
           {
            "colorbar": {
             "outlinewidth": 0,
             "ticks": ""
            },
            "colorscale": [
             [
              0,
              "#0d0887"
             ],
             [
              0.1111111111111111,
              "#46039f"
             ],
             [
              0.2222222222222222,
              "#7201a8"
             ],
             [
              0.3333333333333333,
              "#9c179e"
             ],
             [
              0.4444444444444444,
              "#bd3786"
             ],
             [
              0.5555555555555556,
              "#d8576b"
             ],
             [
              0.6666666666666666,
              "#ed7953"
             ],
             [
              0.7777777777777778,
              "#fb9f3a"
             ],
             [
              0.8888888888888888,
              "#fdca26"
             ],
             [
              1,
              "#f0f921"
             ]
            ],
            "type": "histogram2dcontour"
           }
          ],
          "mesh3d": [
           {
            "colorbar": {
             "outlinewidth": 0,
             "ticks": ""
            },
            "type": "mesh3d"
           }
          ],
          "parcoords": [
           {
            "line": {
             "colorbar": {
              "outlinewidth": 0,
              "ticks": ""
             }
            },
            "type": "parcoords"
           }
          ],
          "pie": [
           {
            "automargin": true,
            "type": "pie"
           }
          ],
          "scatter": [
           {
            "fillpattern": {
             "fillmode": "overlay",
             "size": 10,
             "solidity": 0.2
            },
            "type": "scatter"
           }
          ],
          "scatter3d": [
           {
            "line": {
             "colorbar": {
              "outlinewidth": 0,
              "ticks": ""
             }
            },
            "marker": {
             "colorbar": {
              "outlinewidth": 0,
              "ticks": ""
             }
            },
            "type": "scatter3d"
           }
          ],
          "scattercarpet": [
           {
            "marker": {
             "colorbar": {
              "outlinewidth": 0,
              "ticks": ""
             }
            },
            "type": "scattercarpet"
           }
          ],
          "scattergeo": [
           {
            "marker": {
             "colorbar": {
              "outlinewidth": 0,
              "ticks": ""
             }
            },
            "type": "scattergeo"
           }
          ],
          "scattergl": [
           {
            "marker": {
             "colorbar": {
              "outlinewidth": 0,
              "ticks": ""
             }
            },
            "type": "scattergl"
           }
          ],
          "scattermapbox": [
           {
            "marker": {
             "colorbar": {
              "outlinewidth": 0,
              "ticks": ""
             }
            },
            "type": "scattermapbox"
           }
          ],
          "scatterpolar": [
           {
            "marker": {
             "colorbar": {
              "outlinewidth": 0,
              "ticks": ""
             }
            },
            "type": "scatterpolar"
           }
          ],
          "scatterpolargl": [
           {
            "marker": {
             "colorbar": {
              "outlinewidth": 0,
              "ticks": ""
             }
            },
            "type": "scatterpolargl"
           }
          ],
          "scatterternary": [
           {
            "marker": {
             "colorbar": {
              "outlinewidth": 0,
              "ticks": ""
             }
            },
            "type": "scatterternary"
           }
          ],
          "surface": [
           {
            "colorbar": {
             "outlinewidth": 0,
             "ticks": ""
            },
            "colorscale": [
             [
              0,
              "#0d0887"
             ],
             [
              0.1111111111111111,
              "#46039f"
             ],
             [
              0.2222222222222222,
              "#7201a8"
             ],
             [
              0.3333333333333333,
              "#9c179e"
             ],
             [
              0.4444444444444444,
              "#bd3786"
             ],
             [
              0.5555555555555556,
              "#d8576b"
             ],
             [
              0.6666666666666666,
              "#ed7953"
             ],
             [
              0.7777777777777778,
              "#fb9f3a"
             ],
             [
              0.8888888888888888,
              "#fdca26"
             ],
             [
              1,
              "#f0f921"
             ]
            ],
            "type": "surface"
           }
          ],
          "table": [
           {
            "cells": {
             "fill": {
              "color": "#EBF0F8"
             },
             "line": {
              "color": "white"
             }
            },
            "header": {
             "fill": {
              "color": "#C8D4E3"
             },
             "line": {
              "color": "white"
             }
            },
            "type": "table"
           }
          ]
         },
         "layout": {
          "annotationdefaults": {
           "arrowcolor": "#2a3f5f",
           "arrowhead": 0,
           "arrowwidth": 1
          },
          "autotypenumbers": "strict",
          "coloraxis": {
           "colorbar": {
            "outlinewidth": 0,
            "ticks": ""
           }
          },
          "colorscale": {
           "diverging": [
            [
             0,
             "#8e0152"
            ],
            [
             0.1,
             "#c51b7d"
            ],
            [
             0.2,
             "#de77ae"
            ],
            [
             0.3,
             "#f1b6da"
            ],
            [
             0.4,
             "#fde0ef"
            ],
            [
             0.5,
             "#f7f7f7"
            ],
            [
             0.6,
             "#e6f5d0"
            ],
            [
             0.7,
             "#b8e186"
            ],
            [
             0.8,
             "#7fbc41"
            ],
            [
             0.9,
             "#4d9221"
            ],
            [
             1,
             "#276419"
            ]
           ],
           "sequential": [
            [
             0,
             "#0d0887"
            ],
            [
             0.1111111111111111,
             "#46039f"
            ],
            [
             0.2222222222222222,
             "#7201a8"
            ],
            [
             0.3333333333333333,
             "#9c179e"
            ],
            [
             0.4444444444444444,
             "#bd3786"
            ],
            [
             0.5555555555555556,
             "#d8576b"
            ],
            [
             0.6666666666666666,
             "#ed7953"
            ],
            [
             0.7777777777777778,
             "#fb9f3a"
            ],
            [
             0.8888888888888888,
             "#fdca26"
            ],
            [
             1,
             "#f0f921"
            ]
           ],
           "sequentialminus": [
            [
             0,
             "#0d0887"
            ],
            [
             0.1111111111111111,
             "#46039f"
            ],
            [
             0.2222222222222222,
             "#7201a8"
            ],
            [
             0.3333333333333333,
             "#9c179e"
            ],
            [
             0.4444444444444444,
             "#bd3786"
            ],
            [
             0.5555555555555556,
             "#d8576b"
            ],
            [
             0.6666666666666666,
             "#ed7953"
            ],
            [
             0.7777777777777778,
             "#fb9f3a"
            ],
            [
             0.8888888888888888,
             "#fdca26"
            ],
            [
             1,
             "#f0f921"
            ]
           ]
          },
          "colorway": [
           "#636efa",
           "#EF553B",
           "#00cc96",
           "#ab63fa",
           "#FFA15A",
           "#19d3f3",
           "#FF6692",
           "#B6E880",
           "#FF97FF",
           "#FECB52"
          ],
          "font": {
           "color": "#2a3f5f"
          },
          "geo": {
           "bgcolor": "white",
           "lakecolor": "white",
           "landcolor": "#E5ECF6",
           "showlakes": true,
           "showland": true,
           "subunitcolor": "white"
          },
          "hoverlabel": {
           "align": "left"
          },
          "hovermode": "closest",
          "mapbox": {
           "style": "light"
          },
          "paper_bgcolor": "white",
          "plot_bgcolor": "#E5ECF6",
          "polar": {
           "angularaxis": {
            "gridcolor": "white",
            "linecolor": "white",
            "ticks": ""
           },
           "bgcolor": "#E5ECF6",
           "radialaxis": {
            "gridcolor": "white",
            "linecolor": "white",
            "ticks": ""
           }
          },
          "scene": {
           "xaxis": {
            "backgroundcolor": "#E5ECF6",
            "gridcolor": "white",
            "gridwidth": 2,
            "linecolor": "white",
            "showbackground": true,
            "ticks": "",
            "zerolinecolor": "white"
           },
           "yaxis": {
            "backgroundcolor": "#E5ECF6",
            "gridcolor": "white",
            "gridwidth": 2,
            "linecolor": "white",
            "showbackground": true,
            "ticks": "",
            "zerolinecolor": "white"
           },
           "zaxis": {
            "backgroundcolor": "#E5ECF6",
            "gridcolor": "white",
            "gridwidth": 2,
            "linecolor": "white",
            "showbackground": true,
            "ticks": "",
            "zerolinecolor": "white"
           }
          },
          "shapedefaults": {
           "line": {
            "color": "#2a3f5f"
           }
          },
          "ternary": {
           "aaxis": {
            "gridcolor": "white",
            "linecolor": "white",
            "ticks": ""
           },
           "baxis": {
            "gridcolor": "white",
            "linecolor": "white",
            "ticks": ""
           },
           "bgcolor": "#E5ECF6",
           "caxis": {
            "gridcolor": "white",
            "linecolor": "white",
            "ticks": ""
           }
          },
          "title": {
           "x": 0.05
          },
          "xaxis": {
           "automargin": true,
           "gridcolor": "white",
           "linecolor": "white",
           "ticks": "",
           "title": {
            "standoff": 15
           },
           "zerolinecolor": "white",
           "zerolinewidth": 2
          },
          "yaxis": {
           "automargin": true,
           "gridcolor": "white",
           "linecolor": "white",
           "ticks": "",
           "title": {
            "standoff": 15
           },
           "zerolinecolor": "white",
           "zerolinewidth": 2
          }
         }
        },
        "title": {
         "text": "Hyperparameter Importances"
        },
        "xaxis": {
         "title": {
          "text": "Hyperparameter Importance"
         }
        },
        "yaxis": {
         "title": {
          "text": "Hyperparameter"
         }
        }
       }
      }
     },
     "metadata": {},
     "output_type": "display_data"
    }
   ],
   "source": [
    "vis.plot_param_importances(study)"
   ]
  },
  {
   "cell_type": "code",
   "execution_count": 8,
   "metadata": {},
   "outputs": [
    {
     "data": {
      "application/vnd.plotly.v1+json": {
       "config": {
        "plotlyServerURL": "https://plot.ly"
       },
       "data": [
        {
         "marker": {
          "color": [
           0,
           1,
           2,
           3,
           4,
           5,
           6,
           7,
           8,
           9,
           10,
           11,
           12,
           13,
           14,
           15,
           16,
           17,
           18,
           19,
           20,
           21,
           22,
           23,
           24,
           25,
           26,
           27,
           28,
           29,
           30,
           31,
           32,
           33,
           34,
           35,
           36,
           37,
           38,
           39,
           40,
           41,
           42,
           43,
           44,
           45,
           46,
           47,
           48,
           49,
           50,
           51,
           52,
           53,
           54,
           55,
           56
          ],
          "colorbar": {
           "title": {
            "text": "Trial"
           },
           "x": 1,
           "xpad": 40
          },
          "colorscale": [
           [
            0,
            "rgb(247,251,255)"
           ],
           [
            0.125,
            "rgb(222,235,247)"
           ],
           [
            0.25,
            "rgb(198,219,239)"
           ],
           [
            0.375,
            "rgb(158,202,225)"
           ],
           [
            0.5,
            "rgb(107,174,214)"
           ],
           [
            0.625,
            "rgb(66,146,198)"
           ],
           [
            0.75,
            "rgb(33,113,181)"
           ],
           [
            0.875,
            "rgb(8,81,156)"
           ],
           [
            1,
            "rgb(8,48,107)"
           ]
          ],
          "line": {
           "color": "Grey",
           "width": 0.5
          },
          "showscale": true
         },
         "mode": "markers",
         "name": "Feasible Trial",
         "showlegend": false,
         "type": "scatter",
         "x": [
          "relu",
          "swish",
          "swish",
          "swish",
          "swish",
          "relu",
          "swish",
          "swish",
          "relu",
          "swish",
          "relu",
          "relu",
          "relu",
          "relu",
          "relu",
          "relu",
          "relu",
          "relu",
          "relu",
          "relu",
          "relu",
          "relu",
          "relu",
          "relu",
          "relu",
          "relu",
          "relu",
          "relu",
          "relu",
          "relu",
          "relu",
          "relu",
          "relu",
          "relu",
          "relu",
          "swish",
          "relu",
          "swish",
          "relu",
          "swish",
          "relu",
          "relu",
          "relu",
          "relu",
          "relu",
          "relu",
          "swish",
          "relu",
          "relu",
          "relu",
          "relu",
          "relu",
          "relu",
          "relu",
          "relu",
          "relu",
          "swish"
         ],
         "xaxis": "x",
         "y": [
          0.004099226091057062,
          0.012514274567365646,
          0.015235654436624967,
          0.009889267385005951,
          0.016106017998286655,
          0.003125535324215889,
          0.012798120932919639,
          0.01462360577923911,
          0.00556196179240942,
          0.010210204869508743,
          0.002582056913524866,
          0.004909416660666466,
          0.004480917938053608,
          0.0011525334557518363,
          0.003677790518850088,
          0.003910826948972849,
          0.0023483606055378914,
          0.007173012942075729,
          0.018036603927612305,
          0.003676444865190066,
          0.001234408002346754,
          0.002323493827134371,
          0.0011659844312816858,
          0.0016798200085759163,
          0.0013212664052844048,
          0.004169144667685032,
          0.003278343938291073,
          0.0032087189073746023,
          0.017933184280991554,
          0.005068128928542137,
          0.0038915337063372135,
          0.0026472685858607292,
          0.005443759262561798,
          0.002799304900690913,
          0.0036489125341176987,
          0.009051533415913582,
          0.005089037652526583,
          0.013237009827907268,
          0.012842606753110886,
          0.009871360446725572,
          0.0024279847275465727,
          0.0010533332824707031,
          0.0010562939569354057,
          0.0017711485270410776,
          0.0024775939527899027,
          0.004693320952355862,
          0.011990615299769811,
          0.0010509244166314602,
          0.0034027867950499058,
          0.007493170909583569,
          0.0031210482120513916,
          0.0019303050357848406,
          0.0014195044059306383,
          0.001077517052181065,
          0.0017465348355472088,
          0.0028466973453760147,
          0.011020248755812645
         ],
         "yaxis": "y"
        },
        {
         "marker": {
          "color": [
           0,
           1,
           2,
           3,
           4,
           5,
           6,
           7,
           8,
           9,
           10,
           11,
           12,
           13,
           14,
           15,
           16,
           17,
           18,
           19,
           20,
           21,
           22,
           23,
           24,
           25,
           26,
           27,
           28,
           29,
           30,
           31,
           32,
           33,
           34,
           35,
           36,
           37,
           38,
           39,
           40,
           41,
           42,
           43,
           44,
           45,
           46,
           47,
           48,
           49,
           50,
           51,
           52,
           53,
           54,
           55,
           56
          ],
          "colorbar": {
           "title": {
            "text": "Trial"
           },
           "x": 1,
           "xpad": 40
          },
          "colorscale": [
           [
            0,
            "rgb(247,251,255)"
           ],
           [
            0.125,
            "rgb(222,235,247)"
           ],
           [
            0.25,
            "rgb(198,219,239)"
           ],
           [
            0.375,
            "rgb(158,202,225)"
           ],
           [
            0.5,
            "rgb(107,174,214)"
           ],
           [
            0.625,
            "rgb(66,146,198)"
           ],
           [
            0.75,
            "rgb(33,113,181)"
           ],
           [
            0.875,
            "rgb(8,81,156)"
           ],
           [
            1,
            "rgb(8,48,107)"
           ]
          ],
          "line": {
           "color": "Grey",
           "width": 0.5
          },
          "showscale": false
         },
         "mode": "markers",
         "name": "Feasible Trial",
         "showlegend": false,
         "type": "scatter",
         "x": [
          false,
          true,
          false,
          false,
          false,
          false,
          true,
          false,
          false,
          false,
          true,
          true,
          true,
          true,
          true,
          true,
          true,
          true,
          true,
          true,
          true,
          true,
          true,
          true,
          true,
          true,
          true,
          true,
          true,
          true,
          true,
          true,
          true,
          true,
          true,
          true,
          true,
          false,
          true,
          false,
          true,
          true,
          true,
          true,
          false,
          true,
          true,
          true,
          false,
          true,
          true,
          true,
          true,
          true,
          true,
          true,
          true
         ],
         "xaxis": "x2",
         "y": [
          0.004099226091057062,
          0.012514274567365646,
          0.015235654436624967,
          0.009889267385005951,
          0.016106017998286655,
          0.003125535324215889,
          0.012798120932919639,
          0.01462360577923911,
          0.00556196179240942,
          0.010210204869508743,
          0.002582056913524866,
          0.004909416660666466,
          0.004480917938053608,
          0.0011525334557518363,
          0.003677790518850088,
          0.003910826948972849,
          0.0023483606055378914,
          0.007173012942075729,
          0.018036603927612305,
          0.003676444865190066,
          0.001234408002346754,
          0.002323493827134371,
          0.0011659844312816858,
          0.0016798200085759163,
          0.0013212664052844048,
          0.004169144667685032,
          0.003278343938291073,
          0.0032087189073746023,
          0.017933184280991554,
          0.005068128928542137,
          0.0038915337063372135,
          0.0026472685858607292,
          0.005443759262561798,
          0.002799304900690913,
          0.0036489125341176987,
          0.009051533415913582,
          0.005089037652526583,
          0.013237009827907268,
          0.012842606753110886,
          0.009871360446725572,
          0.0024279847275465727,
          0.0010533332824707031,
          0.0010562939569354057,
          0.0017711485270410776,
          0.0024775939527899027,
          0.004693320952355862,
          0.011990615299769811,
          0.0010509244166314602,
          0.0034027867950499058,
          0.007493170909583569,
          0.0031210482120513916,
          0.0019303050357848406,
          0.0014195044059306383,
          0.001077517052181065,
          0.0017465348355472088,
          0.0028466973453760147,
          0.011020248755812645
         ],
         "yaxis": "y2"
        },
        {
         "marker": {
          "color": [
           0,
           1,
           2,
           3,
           4,
           5,
           6,
           7,
           8,
           9,
           10,
           11,
           12,
           13,
           14,
           15,
           16,
           17,
           18,
           19,
           20,
           21,
           22,
           23,
           24,
           25,
           26,
           27,
           28,
           29,
           30,
           31,
           32,
           33,
           34,
           35,
           36,
           37,
           38,
           39,
           40,
           41,
           42,
           43,
           44,
           45,
           46,
           47,
           48,
           49,
           50,
           51,
           52,
           53,
           54,
           55,
           56
          ],
          "colorbar": {
           "title": {
            "text": "Trial"
           },
           "x": 1,
           "xpad": 40
          },
          "colorscale": [
           [
            0,
            "rgb(247,251,255)"
           ],
           [
            0.125,
            "rgb(222,235,247)"
           ],
           [
            0.25,
            "rgb(198,219,239)"
           ],
           [
            0.375,
            "rgb(158,202,225)"
           ],
           [
            0.5,
            "rgb(107,174,214)"
           ],
           [
            0.625,
            "rgb(66,146,198)"
           ],
           [
            0.75,
            "rgb(33,113,181)"
           ],
           [
            0.875,
            "rgb(8,81,156)"
           ],
           [
            1,
            "rgb(8,48,107)"
           ]
          ],
          "line": {
           "color": "Grey",
           "width": 0.5
          },
          "showscale": false
         },
         "mode": "markers",
         "name": "Feasible Trial",
         "showlegend": false,
         "type": "scatter",
         "x": [
          256,
          512,
          256,
          384,
          64,
          512,
          512,
          64,
          256,
          384,
          512,
          512,
          512,
          512,
          512,
          512,
          512,
          384,
          64,
          512,
          512,
          512,
          512,
          512,
          512,
          512,
          384,
          256,
          64,
          256,
          512,
          512,
          512,
          512,
          512,
          512,
          256,
          512,
          64,
          384,
          512,
          512,
          512,
          512,
          512,
          512,
          512,
          512,
          256,
          64,
          384,
          512,
          512,
          512,
          512,
          512,
          512
         ],
         "xaxis": "x3",
         "y": [
          0.004099226091057062,
          0.012514274567365646,
          0.015235654436624967,
          0.009889267385005951,
          0.016106017998286655,
          0.003125535324215889,
          0.012798120932919639,
          0.01462360577923911,
          0.00556196179240942,
          0.010210204869508743,
          0.002582056913524866,
          0.004909416660666466,
          0.004480917938053608,
          0.0011525334557518363,
          0.003677790518850088,
          0.003910826948972849,
          0.0023483606055378914,
          0.007173012942075729,
          0.018036603927612305,
          0.003676444865190066,
          0.001234408002346754,
          0.002323493827134371,
          0.0011659844312816858,
          0.0016798200085759163,
          0.0013212664052844048,
          0.004169144667685032,
          0.003278343938291073,
          0.0032087189073746023,
          0.017933184280991554,
          0.005068128928542137,
          0.0038915337063372135,
          0.0026472685858607292,
          0.005443759262561798,
          0.002799304900690913,
          0.0036489125341176987,
          0.009051533415913582,
          0.005089037652526583,
          0.013237009827907268,
          0.012842606753110886,
          0.009871360446725572,
          0.0024279847275465727,
          0.0010533332824707031,
          0.0010562939569354057,
          0.0017711485270410776,
          0.0024775939527899027,
          0.004693320952355862,
          0.011990615299769811,
          0.0010509244166314602,
          0.0034027867950499058,
          0.007493170909583569,
          0.0031210482120513916,
          0.0019303050357848406,
          0.0014195044059306383,
          0.001077517052181065,
          0.0017465348355472088,
          0.0028466973453760147,
          0.011020248755812645
         ],
         "yaxis": "y3"
        },
        {
         "marker": {
          "color": [
           0,
           1,
           2,
           3,
           4,
           5,
           6,
           7,
           8,
           9,
           10,
           11,
           12,
           13,
           14,
           15,
           16,
           17,
           18,
           19,
           20,
           21,
           22,
           23,
           24,
           25,
           26,
           27,
           28,
           29,
           30,
           31,
           32,
           33,
           34,
           35,
           36,
           37,
           38,
           39,
           40,
           41,
           42,
           43,
           44,
           45,
           46,
           47,
           48,
           49,
           50,
           51,
           52,
           53,
           54,
           55,
           56
          ],
          "colorbar": {
           "title": {
            "text": "Trial"
           },
           "x": 1,
           "xpad": 40
          },
          "colorscale": [
           [
            0,
            "rgb(247,251,255)"
           ],
           [
            0.125,
            "rgb(222,235,247)"
           ],
           [
            0.25,
            "rgb(198,219,239)"
           ],
           [
            0.375,
            "rgb(158,202,225)"
           ],
           [
            0.5,
            "rgb(107,174,214)"
           ],
           [
            0.625,
            "rgb(66,146,198)"
           ],
           [
            0.75,
            "rgb(33,113,181)"
           ],
           [
            0.875,
            "rgb(8,81,156)"
           ],
           [
            1,
            "rgb(8,48,107)"
           ]
          ],
          "line": {
           "color": "Grey",
           "width": 0.5
          },
          "showscale": false
         },
         "mode": "markers",
         "name": "Feasible Trial",
         "showlegend": false,
         "type": "scatter",
         "x": [
          512,
          512,
          256,
          64,
          256,
          384,
          384,
          64,
          384,
          256,
          384,
          384,
          384,
          384,
          384,
          384,
          384,
          512,
          64,
          384,
          384,
          384,
          384,
          384,
          384,
          384,
          256,
          512,
          64,
          512,
          384,
          384,
          384,
          384,
          384,
          256,
          512,
          384,
          64,
          384,
          256,
          384,
          384,
          384,
          384,
          384,
          384,
          384,
          64,
          384,
          384,
          384,
          384,
          384,
          384,
          384,
          256
         ],
         "xaxis": "x4",
         "y": [
          0.004099226091057062,
          0.012514274567365646,
          0.015235654436624967,
          0.009889267385005951,
          0.016106017998286655,
          0.003125535324215889,
          0.012798120932919639,
          0.01462360577923911,
          0.00556196179240942,
          0.010210204869508743,
          0.002582056913524866,
          0.004909416660666466,
          0.004480917938053608,
          0.0011525334557518363,
          0.003677790518850088,
          0.003910826948972849,
          0.0023483606055378914,
          0.007173012942075729,
          0.018036603927612305,
          0.003676444865190066,
          0.001234408002346754,
          0.002323493827134371,
          0.0011659844312816858,
          0.0016798200085759163,
          0.0013212664052844048,
          0.004169144667685032,
          0.003278343938291073,
          0.0032087189073746023,
          0.017933184280991554,
          0.005068128928542137,
          0.0038915337063372135,
          0.0026472685858607292,
          0.005443759262561798,
          0.002799304900690913,
          0.0036489125341176987,
          0.009051533415913582,
          0.005089037652526583,
          0.013237009827907268,
          0.012842606753110886,
          0.009871360446725572,
          0.0024279847275465727,
          0.0010533332824707031,
          0.0010562939569354057,
          0.0017711485270410776,
          0.0024775939527899027,
          0.004693320952355862,
          0.011990615299769811,
          0.0010509244166314602,
          0.0034027867950499058,
          0.007493170909583569,
          0.0031210482120513916,
          0.0019303050357848406,
          0.0014195044059306383,
          0.001077517052181065,
          0.0017465348355472088,
          0.0028466973453760147,
          0.011020248755812645
         ],
         "yaxis": "y4"
        },
        {
         "marker": {
          "color": [
           0,
           1,
           2,
           3,
           4,
           5,
           6,
           7,
           8,
           9,
           10,
           11,
           12,
           13,
           14,
           15,
           16,
           17,
           18,
           19,
           20,
           21,
           22,
           23,
           24,
           25,
           26,
           27,
           28,
           29,
           30,
           31,
           32,
           33,
           34,
           35,
           36,
           37,
           38,
           39,
           40,
           41,
           42,
           43,
           44,
           45,
           46,
           47,
           48,
           49,
           50,
           51,
           52,
           53,
           54,
           55,
           56
          ],
          "colorbar": {
           "title": {
            "text": "Trial"
           },
           "x": 1,
           "xpad": 40
          },
          "colorscale": [
           [
            0,
            "rgb(247,251,255)"
           ],
           [
            0.125,
            "rgb(222,235,247)"
           ],
           [
            0.25,
            "rgb(198,219,239)"
           ],
           [
            0.375,
            "rgb(158,202,225)"
           ],
           [
            0.5,
            "rgb(107,174,214)"
           ],
           [
            0.625,
            "rgb(66,146,198)"
           ],
           [
            0.75,
            "rgb(33,113,181)"
           ],
           [
            0.875,
            "rgb(8,81,156)"
           ],
           [
            1,
            "rgb(8,48,107)"
           ]
          ],
          "line": {
           "color": "Grey",
           "width": 0.5
          },
          "showscale": false
         },
         "mode": "markers",
         "name": "Feasible Trial",
         "showlegend": false,
         "type": "scatter",
         "x": [
          2,
          2,
          6,
          4,
          2,
          6,
          4,
          6,
          2,
          8,
          6,
          6,
          6,
          6,
          8,
          6,
          6,
          6,
          4,
          8,
          6,
          6,
          6,
          6,
          6,
          6,
          6,
          8,
          4,
          6,
          2,
          6,
          6,
          6,
          6,
          2,
          6,
          4,
          6,
          2,
          6,
          6,
          6,
          6,
          6,
          6,
          8,
          6,
          4,
          6,
          6,
          6,
          6,
          6,
          6,
          6,
          2
         ],
         "xaxis": "x5",
         "y": [
          0.004099226091057062,
          0.012514274567365646,
          0.015235654436624967,
          0.009889267385005951,
          0.016106017998286655,
          0.003125535324215889,
          0.012798120932919639,
          0.01462360577923911,
          0.00556196179240942,
          0.010210204869508743,
          0.002582056913524866,
          0.004909416660666466,
          0.004480917938053608,
          0.0011525334557518363,
          0.003677790518850088,
          0.003910826948972849,
          0.0023483606055378914,
          0.007173012942075729,
          0.018036603927612305,
          0.003676444865190066,
          0.001234408002346754,
          0.002323493827134371,
          0.0011659844312816858,
          0.0016798200085759163,
          0.0013212664052844048,
          0.004169144667685032,
          0.003278343938291073,
          0.0032087189073746023,
          0.017933184280991554,
          0.005068128928542137,
          0.0038915337063372135,
          0.0026472685858607292,
          0.005443759262561798,
          0.002799304900690913,
          0.0036489125341176987,
          0.009051533415913582,
          0.005089037652526583,
          0.013237009827907268,
          0.012842606753110886,
          0.009871360446725572,
          0.0024279847275465727,
          0.0010533332824707031,
          0.0010562939569354057,
          0.0017711485270410776,
          0.0024775939527899027,
          0.004693320952355862,
          0.011990615299769811,
          0.0010509244166314602,
          0.0034027867950499058,
          0.007493170909583569,
          0.0031210482120513916,
          0.0019303050357848406,
          0.0014195044059306383,
          0.001077517052181065,
          0.0017465348355472088,
          0.0028466973453760147,
          0.011020248755812645
         ],
         "yaxis": "y5"
        },
        {
         "marker": {
          "color": [
           0,
           1,
           2,
           3,
           4,
           5,
           6,
           7,
           8,
           9,
           10,
           11,
           12,
           13,
           14,
           15,
           16,
           17,
           18,
           19,
           20,
           21,
           22,
           23,
           24,
           25,
           26,
           27,
           28,
           29,
           30,
           31,
           32,
           33,
           34,
           35,
           36,
           37,
           38,
           39,
           40,
           41,
           42,
           43,
           44,
           45,
           46,
           47,
           48,
           49,
           50,
           51,
           52,
           53,
           54,
           55,
           56
          ],
          "colorbar": {
           "title": {
            "text": "Trial"
           },
           "x": 1,
           "xpad": 40
          },
          "colorscale": [
           [
            0,
            "rgb(247,251,255)"
           ],
           [
            0.125,
            "rgb(222,235,247)"
           ],
           [
            0.25,
            "rgb(198,219,239)"
           ],
           [
            0.375,
            "rgb(158,202,225)"
           ],
           [
            0.5,
            "rgb(107,174,214)"
           ],
           [
            0.625,
            "rgb(66,146,198)"
           ],
           [
            0.75,
            "rgb(33,113,181)"
           ],
           [
            0.875,
            "rgb(8,81,156)"
           ],
           [
            1,
            "rgb(8,48,107)"
           ]
          ],
          "line": {
           "color": "Grey",
           "width": 0.5
          },
          "showscale": false
         },
         "mode": "markers",
         "name": "Feasible Trial",
         "showlegend": false,
         "type": "scatter",
         "x": [
          true,
          false,
          true,
          true,
          true,
          false,
          false,
          false,
          false,
          false,
          false,
          false,
          false,
          false,
          false,
          false,
          false,
          false,
          true,
          false,
          false,
          false,
          false,
          false,
          false,
          false,
          true,
          false,
          false,
          true,
          false,
          false,
          false,
          false,
          false,
          true,
          false,
          true,
          false,
          false,
          false,
          false,
          false,
          false,
          false,
          false,
          false,
          false,
          false,
          true,
          false,
          false,
          false,
          false,
          false,
          false,
          false
         ],
         "xaxis": "x6",
         "y": [
          0.004099226091057062,
          0.012514274567365646,
          0.015235654436624967,
          0.009889267385005951,
          0.016106017998286655,
          0.003125535324215889,
          0.012798120932919639,
          0.01462360577923911,
          0.00556196179240942,
          0.010210204869508743,
          0.002582056913524866,
          0.004909416660666466,
          0.004480917938053608,
          0.0011525334557518363,
          0.003677790518850088,
          0.003910826948972849,
          0.0023483606055378914,
          0.007173012942075729,
          0.018036603927612305,
          0.003676444865190066,
          0.001234408002346754,
          0.002323493827134371,
          0.0011659844312816858,
          0.0016798200085759163,
          0.0013212664052844048,
          0.004169144667685032,
          0.003278343938291073,
          0.0032087189073746023,
          0.017933184280991554,
          0.005068128928542137,
          0.0038915337063372135,
          0.0026472685858607292,
          0.005443759262561798,
          0.002799304900690913,
          0.0036489125341176987,
          0.009051533415913582,
          0.005089037652526583,
          0.013237009827907268,
          0.012842606753110886,
          0.009871360446725572,
          0.0024279847275465727,
          0.0010533332824707031,
          0.0010562939569354057,
          0.0017711485270410776,
          0.0024775939527899027,
          0.004693320952355862,
          0.011990615299769811,
          0.0010509244166314602,
          0.0034027867950499058,
          0.007493170909583569,
          0.0031210482120513916,
          0.0019303050357848406,
          0.0014195044059306383,
          0.001077517052181065,
          0.0017465348355472088,
          0.0028466973453760147,
          0.011020248755812645
         ],
         "yaxis": "y6"
        },
        {
         "marker": {
          "color": [
           0,
           1,
           2,
           3,
           4,
           5,
           6,
           7,
           8,
           9,
           10,
           11,
           12,
           13,
           14,
           15,
           16,
           17,
           18,
           19,
           20,
           21,
           22,
           23,
           24,
           25,
           26,
           27,
           28,
           29,
           30,
           31,
           32,
           33,
           34,
           35,
           36,
           37,
           38,
           39,
           40,
           41,
           42,
           43,
           44,
           45,
           46,
           47,
           48,
           49,
           50,
           51,
           52,
           53,
           54,
           55,
           56
          ],
          "colorbar": {
           "title": {
            "text": "Trial"
           },
           "x": 1,
           "xpad": 40
          },
          "colorscale": [
           [
            0,
            "rgb(247,251,255)"
           ],
           [
            0.125,
            "rgb(222,235,247)"
           ],
           [
            0.25,
            "rgb(198,219,239)"
           ],
           [
            0.375,
            "rgb(158,202,225)"
           ],
           [
            0.5,
            "rgb(107,174,214)"
           ],
           [
            0.625,
            "rgb(66,146,198)"
           ],
           [
            0.75,
            "rgb(33,113,181)"
           ],
           [
            0.875,
            "rgb(8,81,156)"
           ],
           [
            1,
            "rgb(8,48,107)"
           ]
          ],
          "line": {
           "color": "Grey",
           "width": 0.5
          },
          "showscale": false
         },
         "mode": "markers",
         "name": "Feasible Trial",
         "showlegend": false,
         "type": "scatter",
         "x": [
          16,
          128,
          128,
          32,
          16,
          32,
          128,
          16,
          64,
          128,
          32,
          32,
          32,
          32,
          32,
          64,
          32,
          32,
          32,
          64,
          32,
          32,
          32,
          32,
          32,
          32,
          32,
          16,
          64,
          16,
          32,
          32,
          32,
          32,
          128,
          32,
          32,
          128,
          16,
          32,
          32,
          32,
          32,
          32,
          32,
          128,
          64,
          32,
          32,
          16,
          32,
          32,
          32,
          32,
          32,
          32,
          32
         ],
         "xaxis": "x7",
         "y": [
          0.004099226091057062,
          0.012514274567365646,
          0.015235654436624967,
          0.009889267385005951,
          0.016106017998286655,
          0.003125535324215889,
          0.012798120932919639,
          0.01462360577923911,
          0.00556196179240942,
          0.010210204869508743,
          0.002582056913524866,
          0.004909416660666466,
          0.004480917938053608,
          0.0011525334557518363,
          0.003677790518850088,
          0.003910826948972849,
          0.0023483606055378914,
          0.007173012942075729,
          0.018036603927612305,
          0.003676444865190066,
          0.001234408002346754,
          0.002323493827134371,
          0.0011659844312816858,
          0.0016798200085759163,
          0.0013212664052844048,
          0.004169144667685032,
          0.003278343938291073,
          0.0032087189073746023,
          0.017933184280991554,
          0.005068128928542137,
          0.0038915337063372135,
          0.0026472685858607292,
          0.005443759262561798,
          0.002799304900690913,
          0.0036489125341176987,
          0.009051533415913582,
          0.005089037652526583,
          0.013237009827907268,
          0.012842606753110886,
          0.009871360446725572,
          0.0024279847275465727,
          0.0010533332824707031,
          0.0010562939569354057,
          0.0017711485270410776,
          0.0024775939527899027,
          0.004693320952355862,
          0.011990615299769811,
          0.0010509244166314602,
          0.0034027867950499058,
          0.007493170909583569,
          0.0031210482120513916,
          0.0019303050357848406,
          0.0014195044059306383,
          0.001077517052181065,
          0.0017465348355472088,
          0.0028466973453760147,
          0.011020248755812645
         ],
         "yaxis": "y7"
        },
        {
         "marker": {
          "color": [
           0,
           1,
           2,
           3,
           4,
           5,
           6,
           7,
           8,
           9,
           10,
           11,
           12,
           13,
           14,
           15,
           16,
           17,
           18,
           19,
           20,
           21,
           22,
           23,
           24,
           25,
           26,
           27,
           28,
           29,
           30,
           31,
           32,
           33,
           34,
           35,
           36,
           37,
           38,
           39,
           40,
           41,
           42,
           43,
           44,
           45,
           46,
           47,
           48,
           49,
           50,
           51,
           52,
           53,
           54,
           55,
           56
          ],
          "colorbar": {
           "title": {
            "text": "Trial"
           },
           "x": 1,
           "xpad": 40
          },
          "colorscale": [
           [
            0,
            "rgb(247,251,255)"
           ],
           [
            0.125,
            "rgb(222,235,247)"
           ],
           [
            0.25,
            "rgb(198,219,239)"
           ],
           [
            0.375,
            "rgb(158,202,225)"
           ],
           [
            0.5,
            "rgb(107,174,214)"
           ],
           [
            0.625,
            "rgb(66,146,198)"
           ],
           [
            0.75,
            "rgb(33,113,181)"
           ],
           [
            0.875,
            "rgb(8,81,156)"
           ],
           [
            1,
            "rgb(8,48,107)"
           ]
          ],
          "line": {
           "color": "Grey",
           "width": 0.5
          },
          "showscale": false
         },
         "mode": "markers",
         "name": "Feasible Trial",
         "showlegend": false,
         "type": "scatter",
         "x": [
          32,
          64,
          8,
          16,
          16,
          64,
          16,
          16,
          32,
          32,
          64,
          64,
          64,
          64,
          64,
          8,
          64,
          64,
          64,
          8,
          64,
          64,
          64,
          64,
          64,
          64,
          64,
          8,
          32,
          32,
          64,
          64,
          64,
          64,
          64,
          64,
          16,
          8,
          64,
          16,
          64,
          64,
          64,
          64,
          64,
          32,
          16,
          64,
          64,
          64,
          8,
          64,
          64,
          64,
          64,
          64,
          64
         ],
         "xaxis": "x8",
         "y": [
          0.004099226091057062,
          0.012514274567365646,
          0.015235654436624967,
          0.009889267385005951,
          0.016106017998286655,
          0.003125535324215889,
          0.012798120932919639,
          0.01462360577923911,
          0.00556196179240942,
          0.010210204869508743,
          0.002582056913524866,
          0.004909416660666466,
          0.004480917938053608,
          0.0011525334557518363,
          0.003677790518850088,
          0.003910826948972849,
          0.0023483606055378914,
          0.007173012942075729,
          0.018036603927612305,
          0.003676444865190066,
          0.001234408002346754,
          0.002323493827134371,
          0.0011659844312816858,
          0.0016798200085759163,
          0.0013212664052844048,
          0.004169144667685032,
          0.003278343938291073,
          0.0032087189073746023,
          0.017933184280991554,
          0.005068128928542137,
          0.0038915337063372135,
          0.0026472685858607292,
          0.005443759262561798,
          0.002799304900690913,
          0.0036489125341176987,
          0.009051533415913582,
          0.005089037652526583,
          0.013237009827907268,
          0.012842606753110886,
          0.009871360446725572,
          0.0024279847275465727,
          0.0010533332824707031,
          0.0010562939569354057,
          0.0017711485270410776,
          0.0024775939527899027,
          0.004693320952355862,
          0.011990615299769811,
          0.0010509244166314602,
          0.0034027867950499058,
          0.007493170909583569,
          0.0031210482120513916,
          0.0019303050357848406,
          0.0014195044059306383,
          0.001077517052181065,
          0.0017465348355472088,
          0.0028466973453760147,
          0.011020248755812645
         ],
         "yaxis": "y8"
        },
        {
         "marker": {
          "color": [
           0,
           1,
           2,
           3,
           4,
           5,
           6,
           7,
           8,
           9,
           10,
           11,
           12,
           13,
           14,
           15,
           16,
           17,
           18,
           19,
           20,
           21,
           22,
           23,
           24,
           25,
           26,
           27,
           28,
           29,
           30,
           31,
           32,
           33,
           34,
           35,
           36,
           37,
           38,
           39,
           40,
           41,
           42,
           43,
           44,
           45,
           46,
           47,
           48,
           49,
           50,
           51,
           52,
           53,
           54,
           55,
           56
          ],
          "colorbar": {
           "title": {
            "text": "Trial"
           },
           "x": 1,
           "xpad": 40
          },
          "colorscale": [
           [
            0,
            "rgb(247,251,255)"
           ],
           [
            0.125,
            "rgb(222,235,247)"
           ],
           [
            0.25,
            "rgb(198,219,239)"
           ],
           [
            0.375,
            "rgb(158,202,225)"
           ],
           [
            0.5,
            "rgb(107,174,214)"
           ],
           [
            0.625,
            "rgb(66,146,198)"
           ],
           [
            0.75,
            "rgb(33,113,181)"
           ],
           [
            0.875,
            "rgb(8,81,156)"
           ],
           [
            1,
            "rgb(8,48,107)"
           ]
          ],
          "line": {
           "color": "Grey",
           "width": 0.5
          },
          "showscale": false
         },
         "mode": "markers",
         "name": "Feasible Trial",
         "showlegend": false,
         "type": "scatter",
         "x": [
          0.0048612258246951735,
          0.009447184180218409,
          0.002022807309729832,
          0.0024844733874638822,
          0.008088989972958073,
          0.006993481555530524,
          0.009326128265959114,
          0.00847077666596943,
          0.00800933505882863,
          0.006357299898537107,
          0.004793542036453257,
          0.004643003925192097,
          0.006644651164503487,
          0.003644256277757865,
          0.003272692583939085,
          0.0037134388254553147,
          0.0002859618983201747,
          0.00013293451068639153,
          0.00016482101598833644,
          0.0013010270616585372,
          0.0015783681924397643,
          0.0013848997785396763,
          0.0014712220401046773,
          0.00321367916541899,
          0.0013123106047931883,
          0.0024793055464558773,
          0.0037319454075769917,
          0.005689736859226749,
          0.0018891900420452655,
          0.004059959359984235,
          0.0008829668498645474,
          0.001035287721361168,
          0.002569749107475558,
          0.0018665340990677206,
          0.002861152110081496,
          0.000804803158410011,
          0.001805691009839501,
          0.002221702135674957,
          0.005457312666941946,
          0.0031063248738114947,
          0.004263219032077157,
          0.0033627177469709303,
          0.0015236648785628855,
          0.0034983693930714047,
          0.002570416914840954,
          0.004239922045757851,
          0.000662259354729205,
          0.0017245660022955657,
          0.0027720657351321654,
          0.0022966234341041886,
          0.004679597012724851,
          0.0015528292768899295,
          0.0019967096733155307,
          0.0005030922057200975,
          0.0005109668968683066,
          0.0010762834240493012,
          0.0005082222560318676
         ],
         "xaxis": "x9",
         "y": [
          0.004099226091057062,
          0.012514274567365646,
          0.015235654436624967,
          0.009889267385005951,
          0.016106017998286655,
          0.003125535324215889,
          0.012798120932919639,
          0.01462360577923911,
          0.00556196179240942,
          0.010210204869508743,
          0.002582056913524866,
          0.004909416660666466,
          0.004480917938053608,
          0.0011525334557518363,
          0.003677790518850088,
          0.003910826948972849,
          0.0023483606055378914,
          0.007173012942075729,
          0.018036603927612305,
          0.003676444865190066,
          0.001234408002346754,
          0.002323493827134371,
          0.0011659844312816858,
          0.0016798200085759163,
          0.0013212664052844048,
          0.004169144667685032,
          0.003278343938291073,
          0.0032087189073746023,
          0.017933184280991554,
          0.005068128928542137,
          0.0038915337063372135,
          0.0026472685858607292,
          0.005443759262561798,
          0.002799304900690913,
          0.0036489125341176987,
          0.009051533415913582,
          0.005089037652526583,
          0.013237009827907268,
          0.012842606753110886,
          0.009871360446725572,
          0.0024279847275465727,
          0.0010533332824707031,
          0.0010562939569354057,
          0.0017711485270410776,
          0.0024775939527899027,
          0.004693320952355862,
          0.011990615299769811,
          0.0010509244166314602,
          0.0034027867950499058,
          0.007493170909583569,
          0.0031210482120513916,
          0.0019303050357848406,
          0.0014195044059306383,
          0.001077517052181065,
          0.0017465348355472088,
          0.0028466973453760147,
          0.011020248755812645
         ],
         "yaxis": "y9"
        },
        {
         "marker": {
          "color": [
           0,
           1,
           2,
           3,
           4,
           5,
           6,
           7,
           8,
           9,
           10,
           11,
           12,
           13,
           14,
           15,
           16,
           17,
           18,
           19,
           20,
           21,
           22,
           23,
           24,
           25,
           26,
           27,
           28,
           29,
           30,
           31,
           32,
           33,
           34,
           35,
           36,
           37,
           38,
           39,
           40,
           41,
           42,
           43,
           44,
           45,
           46,
           47,
           48,
           49,
           50,
           51,
           52,
           53,
           54,
           55,
           56
          ],
          "colorbar": {
           "title": {
            "text": "Trial"
           },
           "x": 1,
           "xpad": 40
          },
          "colorscale": [
           [
            0,
            "rgb(247,251,255)"
           ],
           [
            0.125,
            "rgb(222,235,247)"
           ],
           [
            0.25,
            "rgb(198,219,239)"
           ],
           [
            0.375,
            "rgb(158,202,225)"
           ],
           [
            0.5,
            "rgb(107,174,214)"
           ],
           [
            0.625,
            "rgb(66,146,198)"
           ],
           [
            0.75,
            "rgb(33,113,181)"
           ],
           [
            0.875,
            "rgb(8,81,156)"
           ],
           [
            1,
            "rgb(8,48,107)"
           ]
          ],
          "line": {
           "color": "Grey",
           "width": 0.5
          },
          "showscale": false
         },
         "mode": "markers",
         "name": "Feasible Trial",
         "showlegend": false,
         "type": "scatter",
         "x": [
          "AdamW",
          "SGD",
          "AdamW",
          "AdamW",
          "SGD",
          "AdamW",
          "AdamW",
          "AdamW",
          "Adam",
          "SGD",
          "Adam",
          "Adam",
          "Adam",
          "Adam",
          "Adam",
          "Adam",
          "Adam",
          "Adam",
          "Adam",
          "Adam",
          "Adam",
          "Adam",
          "Adam",
          "Adam",
          "Adam",
          "SGD",
          "Adam",
          "Adam",
          "Adam",
          "SGD",
          "Adam",
          "Adam",
          "Adam",
          "Adam",
          "Adam",
          "SGD",
          "AdamW",
          "Adam",
          "AdamW",
          "Adam",
          "AdamW",
          "Adam",
          "Adam",
          "Adam",
          "Adam",
          "SGD",
          "Adam",
          "Adam",
          "Adam",
          "AdamW",
          "Adam",
          "Adam",
          "Adam",
          "Adam",
          "Adam",
          "Adam",
          "Adam"
         ],
         "xaxis": "x10",
         "y": [
          0.004099226091057062,
          0.012514274567365646,
          0.015235654436624967,
          0.009889267385005951,
          0.016106017998286655,
          0.003125535324215889,
          0.012798120932919639,
          0.01462360577923911,
          0.00556196179240942,
          0.010210204869508743,
          0.002582056913524866,
          0.004909416660666466,
          0.004480917938053608,
          0.0011525334557518363,
          0.003677790518850088,
          0.003910826948972849,
          0.0023483606055378914,
          0.007173012942075729,
          0.018036603927612305,
          0.003676444865190066,
          0.001234408002346754,
          0.002323493827134371,
          0.0011659844312816858,
          0.0016798200085759163,
          0.0013212664052844048,
          0.004169144667685032,
          0.003278343938291073,
          0.0032087189073746023,
          0.017933184280991554,
          0.005068128928542137,
          0.0038915337063372135,
          0.0026472685858607292,
          0.005443759262561798,
          0.002799304900690913,
          0.0036489125341176987,
          0.009051533415913582,
          0.005089037652526583,
          0.013237009827907268,
          0.012842606753110886,
          0.009871360446725572,
          0.0024279847275465727,
          0.0010533332824707031,
          0.0010562939569354057,
          0.0017711485270410776,
          0.0024775939527899027,
          0.004693320952355862,
          0.011990615299769811,
          0.0010509244166314602,
          0.0034027867950499058,
          0.007493170909583569,
          0.0031210482120513916,
          0.0019303050357848406,
          0.0014195044059306383,
          0.001077517052181065,
          0.0017465348355472088,
          0.0028466973453760147,
          0.011020248755812645
         ],
         "yaxis": "y10"
        }
       ],
       "layout": {
        "template": {
         "data": {
          "bar": [
           {
            "error_x": {
             "color": "#2a3f5f"
            },
            "error_y": {
             "color": "#2a3f5f"
            },
            "marker": {
             "line": {
              "color": "#E5ECF6",
              "width": 0.5
             },
             "pattern": {
              "fillmode": "overlay",
              "size": 10,
              "solidity": 0.2
             }
            },
            "type": "bar"
           }
          ],
          "barpolar": [
           {
            "marker": {
             "line": {
              "color": "#E5ECF6",
              "width": 0.5
             },
             "pattern": {
              "fillmode": "overlay",
              "size": 10,
              "solidity": 0.2
             }
            },
            "type": "barpolar"
           }
          ],
          "carpet": [
           {
            "aaxis": {
             "endlinecolor": "#2a3f5f",
             "gridcolor": "white",
             "linecolor": "white",
             "minorgridcolor": "white",
             "startlinecolor": "#2a3f5f"
            },
            "baxis": {
             "endlinecolor": "#2a3f5f",
             "gridcolor": "white",
             "linecolor": "white",
             "minorgridcolor": "white",
             "startlinecolor": "#2a3f5f"
            },
            "type": "carpet"
           }
          ],
          "choropleth": [
           {
            "colorbar": {
             "outlinewidth": 0,
             "ticks": ""
            },
            "type": "choropleth"
           }
          ],
          "contour": [
           {
            "colorbar": {
             "outlinewidth": 0,
             "ticks": ""
            },
            "colorscale": [
             [
              0,
              "#0d0887"
             ],
             [
              0.1111111111111111,
              "#46039f"
             ],
             [
              0.2222222222222222,
              "#7201a8"
             ],
             [
              0.3333333333333333,
              "#9c179e"
             ],
             [
              0.4444444444444444,
              "#bd3786"
             ],
             [
              0.5555555555555556,
              "#d8576b"
             ],
             [
              0.6666666666666666,
              "#ed7953"
             ],
             [
              0.7777777777777778,
              "#fb9f3a"
             ],
             [
              0.8888888888888888,
              "#fdca26"
             ],
             [
              1,
              "#f0f921"
             ]
            ],
            "type": "contour"
           }
          ],
          "contourcarpet": [
           {
            "colorbar": {
             "outlinewidth": 0,
             "ticks": ""
            },
            "type": "contourcarpet"
           }
          ],
          "heatmap": [
           {
            "colorbar": {
             "outlinewidth": 0,
             "ticks": ""
            },
            "colorscale": [
             [
              0,
              "#0d0887"
             ],
             [
              0.1111111111111111,
              "#46039f"
             ],
             [
              0.2222222222222222,
              "#7201a8"
             ],
             [
              0.3333333333333333,
              "#9c179e"
             ],
             [
              0.4444444444444444,
              "#bd3786"
             ],
             [
              0.5555555555555556,
              "#d8576b"
             ],
             [
              0.6666666666666666,
              "#ed7953"
             ],
             [
              0.7777777777777778,
              "#fb9f3a"
             ],
             [
              0.8888888888888888,
              "#fdca26"
             ],
             [
              1,
              "#f0f921"
             ]
            ],
            "type": "heatmap"
           }
          ],
          "heatmapgl": [
           {
            "colorbar": {
             "outlinewidth": 0,
             "ticks": ""
            },
            "colorscale": [
             [
              0,
              "#0d0887"
             ],
             [
              0.1111111111111111,
              "#46039f"
             ],
             [
              0.2222222222222222,
              "#7201a8"
             ],
             [
              0.3333333333333333,
              "#9c179e"
             ],
             [
              0.4444444444444444,
              "#bd3786"
             ],
             [
              0.5555555555555556,
              "#d8576b"
             ],
             [
              0.6666666666666666,
              "#ed7953"
             ],
             [
              0.7777777777777778,
              "#fb9f3a"
             ],
             [
              0.8888888888888888,
              "#fdca26"
             ],
             [
              1,
              "#f0f921"
             ]
            ],
            "type": "heatmapgl"
           }
          ],
          "histogram": [
           {
            "marker": {
             "pattern": {
              "fillmode": "overlay",
              "size": 10,
              "solidity": 0.2
             }
            },
            "type": "histogram"
           }
          ],
          "histogram2d": [
           {
            "colorbar": {
             "outlinewidth": 0,
             "ticks": ""
            },
            "colorscale": [
             [
              0,
              "#0d0887"
             ],
             [
              0.1111111111111111,
              "#46039f"
             ],
             [
              0.2222222222222222,
              "#7201a8"
             ],
             [
              0.3333333333333333,
              "#9c179e"
             ],
             [
              0.4444444444444444,
              "#bd3786"
             ],
             [
              0.5555555555555556,
              "#d8576b"
             ],
             [
              0.6666666666666666,
              "#ed7953"
             ],
             [
              0.7777777777777778,
              "#fb9f3a"
             ],
             [
              0.8888888888888888,
              "#fdca26"
             ],
             [
              1,
              "#f0f921"
             ]
            ],
            "type": "histogram2d"
           }
          ],
          "histogram2dcontour": [
           {
            "colorbar": {
             "outlinewidth": 0,
             "ticks": ""
            },
            "colorscale": [
             [
              0,
              "#0d0887"
             ],
             [
              0.1111111111111111,
              "#46039f"
             ],
             [
              0.2222222222222222,
              "#7201a8"
             ],
             [
              0.3333333333333333,
              "#9c179e"
             ],
             [
              0.4444444444444444,
              "#bd3786"
             ],
             [
              0.5555555555555556,
              "#d8576b"
             ],
             [
              0.6666666666666666,
              "#ed7953"
             ],
             [
              0.7777777777777778,
              "#fb9f3a"
             ],
             [
              0.8888888888888888,
              "#fdca26"
             ],
             [
              1,
              "#f0f921"
             ]
            ],
            "type": "histogram2dcontour"
           }
          ],
          "mesh3d": [
           {
            "colorbar": {
             "outlinewidth": 0,
             "ticks": ""
            },
            "type": "mesh3d"
           }
          ],
          "parcoords": [
           {
            "line": {
             "colorbar": {
              "outlinewidth": 0,
              "ticks": ""
             }
            },
            "type": "parcoords"
           }
          ],
          "pie": [
           {
            "automargin": true,
            "type": "pie"
           }
          ],
          "scatter": [
           {
            "fillpattern": {
             "fillmode": "overlay",
             "size": 10,
             "solidity": 0.2
            },
            "type": "scatter"
           }
          ],
          "scatter3d": [
           {
            "line": {
             "colorbar": {
              "outlinewidth": 0,
              "ticks": ""
             }
            },
            "marker": {
             "colorbar": {
              "outlinewidth": 0,
              "ticks": ""
             }
            },
            "type": "scatter3d"
           }
          ],
          "scattercarpet": [
           {
            "marker": {
             "colorbar": {
              "outlinewidth": 0,
              "ticks": ""
             }
            },
            "type": "scattercarpet"
           }
          ],
          "scattergeo": [
           {
            "marker": {
             "colorbar": {
              "outlinewidth": 0,
              "ticks": ""
             }
            },
            "type": "scattergeo"
           }
          ],
          "scattergl": [
           {
            "marker": {
             "colorbar": {
              "outlinewidth": 0,
              "ticks": ""
             }
            },
            "type": "scattergl"
           }
          ],
          "scattermapbox": [
           {
            "marker": {
             "colorbar": {
              "outlinewidth": 0,
              "ticks": ""
             }
            },
            "type": "scattermapbox"
           }
          ],
          "scatterpolar": [
           {
            "marker": {
             "colorbar": {
              "outlinewidth": 0,
              "ticks": ""
             }
            },
            "type": "scatterpolar"
           }
          ],
          "scatterpolargl": [
           {
            "marker": {
             "colorbar": {
              "outlinewidth": 0,
              "ticks": ""
             }
            },
            "type": "scatterpolargl"
           }
          ],
          "scatterternary": [
           {
            "marker": {
             "colorbar": {
              "outlinewidth": 0,
              "ticks": ""
             }
            },
            "type": "scatterternary"
           }
          ],
          "surface": [
           {
            "colorbar": {
             "outlinewidth": 0,
             "ticks": ""
            },
            "colorscale": [
             [
              0,
              "#0d0887"
             ],
             [
              0.1111111111111111,
              "#46039f"
             ],
             [
              0.2222222222222222,
              "#7201a8"
             ],
             [
              0.3333333333333333,
              "#9c179e"
             ],
             [
              0.4444444444444444,
              "#bd3786"
             ],
             [
              0.5555555555555556,
              "#d8576b"
             ],
             [
              0.6666666666666666,
              "#ed7953"
             ],
             [
              0.7777777777777778,
              "#fb9f3a"
             ],
             [
              0.8888888888888888,
              "#fdca26"
             ],
             [
              1,
              "#f0f921"
             ]
            ],
            "type": "surface"
           }
          ],
          "table": [
           {
            "cells": {
             "fill": {
              "color": "#EBF0F8"
             },
             "line": {
              "color": "white"
             }
            },
            "header": {
             "fill": {
              "color": "#C8D4E3"
             },
             "line": {
              "color": "white"
             }
            },
            "type": "table"
           }
          ]
         },
         "layout": {
          "annotationdefaults": {
           "arrowcolor": "#2a3f5f",
           "arrowhead": 0,
           "arrowwidth": 1
          },
          "autotypenumbers": "strict",
          "coloraxis": {
           "colorbar": {
            "outlinewidth": 0,
            "ticks": ""
           }
          },
          "colorscale": {
           "diverging": [
            [
             0,
             "#8e0152"
            ],
            [
             0.1,
             "#c51b7d"
            ],
            [
             0.2,
             "#de77ae"
            ],
            [
             0.3,
             "#f1b6da"
            ],
            [
             0.4,
             "#fde0ef"
            ],
            [
             0.5,
             "#f7f7f7"
            ],
            [
             0.6,
             "#e6f5d0"
            ],
            [
             0.7,
             "#b8e186"
            ],
            [
             0.8,
             "#7fbc41"
            ],
            [
             0.9,
             "#4d9221"
            ],
            [
             1,
             "#276419"
            ]
           ],
           "sequential": [
            [
             0,
             "#0d0887"
            ],
            [
             0.1111111111111111,
             "#46039f"
            ],
            [
             0.2222222222222222,
             "#7201a8"
            ],
            [
             0.3333333333333333,
             "#9c179e"
            ],
            [
             0.4444444444444444,
             "#bd3786"
            ],
            [
             0.5555555555555556,
             "#d8576b"
            ],
            [
             0.6666666666666666,
             "#ed7953"
            ],
            [
             0.7777777777777778,
             "#fb9f3a"
            ],
            [
             0.8888888888888888,
             "#fdca26"
            ],
            [
             1,
             "#f0f921"
            ]
           ],
           "sequentialminus": [
            [
             0,
             "#0d0887"
            ],
            [
             0.1111111111111111,
             "#46039f"
            ],
            [
             0.2222222222222222,
             "#7201a8"
            ],
            [
             0.3333333333333333,
             "#9c179e"
            ],
            [
             0.4444444444444444,
             "#bd3786"
            ],
            [
             0.5555555555555556,
             "#d8576b"
            ],
            [
             0.6666666666666666,
             "#ed7953"
            ],
            [
             0.7777777777777778,
             "#fb9f3a"
            ],
            [
             0.8888888888888888,
             "#fdca26"
            ],
            [
             1,
             "#f0f921"
            ]
           ]
          },
          "colorway": [
           "#636efa",
           "#EF553B",
           "#00cc96",
           "#ab63fa",
           "#FFA15A",
           "#19d3f3",
           "#FF6692",
           "#B6E880",
           "#FF97FF",
           "#FECB52"
          ],
          "font": {
           "color": "#2a3f5f"
          },
          "geo": {
           "bgcolor": "white",
           "lakecolor": "white",
           "landcolor": "#E5ECF6",
           "showlakes": true,
           "showland": true,
           "subunitcolor": "white"
          },
          "hoverlabel": {
           "align": "left"
          },
          "hovermode": "closest",
          "mapbox": {
           "style": "light"
          },
          "paper_bgcolor": "white",
          "plot_bgcolor": "#E5ECF6",
          "polar": {
           "angularaxis": {
            "gridcolor": "white",
            "linecolor": "white",
            "ticks": ""
           },
           "bgcolor": "#E5ECF6",
           "radialaxis": {
            "gridcolor": "white",
            "linecolor": "white",
            "ticks": ""
           }
          },
          "scene": {
           "xaxis": {
            "backgroundcolor": "#E5ECF6",
            "gridcolor": "white",
            "gridwidth": 2,
            "linecolor": "white",
            "showbackground": true,
            "ticks": "",
            "zerolinecolor": "white"
           },
           "yaxis": {
            "backgroundcolor": "#E5ECF6",
            "gridcolor": "white",
            "gridwidth": 2,
            "linecolor": "white",
            "showbackground": true,
            "ticks": "",
            "zerolinecolor": "white"
           },
           "zaxis": {
            "backgroundcolor": "#E5ECF6",
            "gridcolor": "white",
            "gridwidth": 2,
            "linecolor": "white",
            "showbackground": true,
            "ticks": "",
            "zerolinecolor": "white"
           }
          },
          "shapedefaults": {
           "line": {
            "color": "#2a3f5f"
           }
          },
          "ternary": {
           "aaxis": {
            "gridcolor": "white",
            "linecolor": "white",
            "ticks": ""
           },
           "baxis": {
            "gridcolor": "white",
            "linecolor": "white",
            "ticks": ""
           },
           "bgcolor": "#E5ECF6",
           "caxis": {
            "gridcolor": "white",
            "linecolor": "white",
            "ticks": ""
           }
          },
          "title": {
           "x": 0.05
          },
          "xaxis": {
           "automargin": true,
           "gridcolor": "white",
           "linecolor": "white",
           "ticks": "",
           "title": {
            "standoff": 15
           },
           "zerolinecolor": "white",
           "zerolinewidth": 2
          },
          "yaxis": {
           "automargin": true,
           "gridcolor": "white",
           "linecolor": "white",
           "ticks": "",
           "title": {
            "standoff": 15
           },
           "zerolinecolor": "white",
           "zerolinewidth": 2
          }
         }
        },
        "title": {
         "text": "Slice Plot"
        },
        "width": 3000,
        "xaxis": {
         "anchor": "y",
         "categoryarray": [
          "relu",
          "swish"
         ],
         "categoryorder": "array",
         "domain": [
          0,
          0.082
         ],
         "title": {
          "text": "model.act"
         },
         "type": "category"
        },
        "xaxis10": {
         "anchor": "y10",
         "categoryarray": [
          "Adam",
          "SGD",
          "AdamW"
         ],
         "categoryorder": "array",
         "domain": [
          0.9179999999999999,
          0.9999999999999999
         ],
         "title": {
          "text": "optimizer.optimizer"
         },
         "type": "category"
        },
        "xaxis2": {
         "anchor": "y2",
         "categoryarray": [
          true,
          false
         ],
         "categoryorder": "array",
         "domain": [
          0.10200000000000001,
          0.184
         ],
         "title": {
          "text": "model.complex_mp"
         },
         "type": "category"
        },
        "xaxis3": {
         "anchor": "y3",
         "categoryarray": [
          64,
          256,
          384,
          512
         ],
         "categoryorder": "array",
         "domain": [
          0.20400000000000001,
          0.28600000000000003
         ],
         "title": {
          "text": "model.hidden_channels"
         },
         "type": "category"
        },
        "xaxis4": {
         "anchor": "y4",
         "categoryarray": [
          64,
          256,
          384,
          512
         ],
         "categoryorder": "array",
         "domain": [
          0.306,
          0.388
         ],
         "title": {
          "text": "model.num_filters"
         },
         "type": "category"
        },
        "xaxis5": {
         "anchor": "y5",
         "categoryarray": [
          2,
          4,
          6,
          8
         ],
         "categoryorder": "array",
         "domain": [
          0.40800000000000003,
          0.49000000000000005
         ],
         "title": {
          "text": "model.num_interactions"
         },
         "type": "category"
        },
        "xaxis6": {
         "anchor": "y6",
         "categoryarray": [
          true,
          false
         ],
         "categoryorder": "array",
         "domain": [
          0.51,
          0.592
         ],
         "title": {
          "text": "model.second_layer_MLP"
         },
         "type": "category"
        },
        "xaxis7": {
         "anchor": "y7",
         "categoryarray": [
          16,
          32,
          64,
          128
         ],
         "categoryorder": "array",
         "domain": [
          0.6120000000000001,
          0.6940000000000001
         ],
         "title": {
          "text": "optimizer.batch_size"
         },
         "type": "category"
        },
        "xaxis8": {
         "anchor": "y8",
         "categoryarray": [
          8,
          16,
          32,
          64
         ],
         "categoryorder": "array",
         "domain": [
          0.7140000000000001,
          0.796
         ],
         "title": {
          "text": "optimizer.eval_batch_size"
         },
         "type": "category"
        },
        "xaxis9": {
         "anchor": "y9",
         "domain": [
          0.8160000000000001,
          0.898
         ],
         "title": {
          "text": "optimizer.lr_initial"
         }
        },
        "yaxis": {
         "anchor": "x",
         "domain": [
          0,
          1
         ],
         "title": {
          "text": "Objective Value"
         }
        },
        "yaxis10": {
         "anchor": "x10",
         "domain": [
          0,
          1
         ],
         "matches": "y",
         "showticklabels": false
        },
        "yaxis2": {
         "anchor": "x2",
         "domain": [
          0,
          1
         ],
         "matches": "y",
         "showticklabels": false
        },
        "yaxis3": {
         "anchor": "x3",
         "domain": [
          0,
          1
         ],
         "matches": "y",
         "showticklabels": false
        },
        "yaxis4": {
         "anchor": "x4",
         "domain": [
          0,
          1
         ],
         "matches": "y",
         "showticklabels": false
        },
        "yaxis5": {
         "anchor": "x5",
         "domain": [
          0,
          1
         ],
         "matches": "y",
         "showticklabels": false
        },
        "yaxis6": {
         "anchor": "x6",
         "domain": [
          0,
          1
         ],
         "matches": "y",
         "showticklabels": false
        },
        "yaxis7": {
         "anchor": "x7",
         "domain": [
          0,
          1
         ],
         "matches": "y",
         "showticklabels": false
        },
        "yaxis8": {
         "anchor": "x8",
         "domain": [
          0,
          1
         ],
         "matches": "y",
         "showticklabels": false
        },
        "yaxis9": {
         "anchor": "x9",
         "domain": [
          0,
          1
         ],
         "matches": "y",
         "showticklabels": false
        }
       }
      }
     },
     "metadata": {},
     "output_type": "display_data"
    }
   ],
   "source": [
    "vis.plot_slice(study)"
   ]
  },
  {
   "cell_type": "code",
   "execution_count": 9,
   "metadata": {},
   "outputs": [
    {
     "data": {
      "application/vnd.plotly.v1+json": {
       "config": {
        "plotlyServerURL": "https://plot.ly"
       },
       "data": [
        {
         "mode": "lines",
         "name": "trial_sweep",
         "type": "scatter",
         "x": [
          0.0010509244166314602,
          0.001222496936944398,
          0.001394069457257336,
          0.0015656419775702736,
          0.0017372144978832116,
          0.0019087870181961493,
          0.002080359538509087,
          0.0022519320588220253,
          0.002423504579134963,
          0.0025950770994479008,
          0.0027666496197608385,
          0.0029382221400737762,
          0.003109794660386714,
          0.0032813671806996517,
          0.00345293970101259,
          0.0036245122213255277,
          0.0037960847416384654,
          0.003967657261951403,
          0.004139229782264341,
          0.004310802302577279,
          0.004482374822890217,
          0.0046539473432031546,
          0.004825519863516092,
          0.00499709238382903,
          0.005168664904141968,
          0.0053402374244549055,
          0.005511809944767843,
          0.005683382465080782,
          0.00585495498539372,
          0.006026527505706657,
          0.006198100026019595,
          0.006369672546332533,
          0.006541245066645471,
          0.006712817586958408,
          0.006884390107271346,
          0.007055962627584284,
          0.007227535147897222,
          0.007399107668210159,
          0.007570680188523098,
          0.007742252708836036,
          0.007913825229148973,
          0.00808539774946191,
          0.008256970269774849,
          0.008428542790087788,
          0.008600115310400724,
          0.008771687830713661,
          0.0089432603510266,
          0.009114832871339539,
          0.009286405391652475,
          0.009457977911965414,
          0.009629550432278351,
          0.00980112295259129,
          0.009972695472904226,
          0.010144267993217165,
          0.010315840513530104,
          0.01048741303384304,
          0.010658985554155979,
          0.010830558074468916,
          0.011002130594781855,
          0.011173703115094791,
          0.01134527563540773,
          0.011516848155720667,
          0.011688420676033606,
          0.011859993196346542,
          0.012031565716659481,
          0.01220313823697242,
          0.012374710757285357,
          0.012546283277598295,
          0.012717855797911232,
          0.01288942831822417,
          0.013061000838537107,
          0.013232573358850046,
          0.013404145879162983,
          0.013575718399475922,
          0.013747290919788858,
          0.013918863440101797,
          0.014090435960414736,
          0.014262008480727673,
          0.014433581001040611,
          0.014605153521353548,
          0.014776726041666487,
          0.014948298561979424,
          0.015119871082292362,
          0.015291443602605299,
          0.015463016122918238,
          0.015634588643231175,
          0.015806161163544115,
          0.015977733683857052,
          0.01614930620416999,
          0.01632087872448293,
          0.016492451244795862,
          0.016664023765108803,
          0.01683559628542174,
          0.017007168805734676,
          0.017178741326047617,
          0.017350313846360554,
          0.01752188636667349,
          0.01769345888698643,
          0.017865031407299368,
          0.018036603927612305
         ],
         "y": [
          0.017543859649122806,
          0.10526315789473684,
          0.14035087719298245,
          0.15789473684210525,
          0.17543859649122806,
          0.21052631578947367,
          0.22807017543859648,
          0.22807017543859648,
          0.2631578947368421,
          0.3157894736842105,
          0.3333333333333333,
          0.3684210526315789,
          0.3684210526315789,
          0.43859649122807015,
          0.45614035087719296,
          0.45614035087719296,
          0.5087719298245614,
          0.543859649122807,
          0.5614035087719298,
          0.5789473684210527,
          0.5964912280701754,
          0.5964912280701754,
          0.6140350877192983,
          0.631578947368421,
          0.6666666666666666,
          0.6666666666666666,
          0.6842105263157895,
          0.7017543859649122,
          0.7017543859649122,
          0.7017543859649122,
          0.7017543859649122,
          0.7017543859649122,
          0.7017543859649122,
          0.7017543859649122,
          0.7017543859649122,
          0.7017543859649122,
          0.7192982456140351,
          0.7192982456140351,
          0.7368421052631579,
          0.7368421052631579,
          0.7368421052631579,
          0.7368421052631579,
          0.7368421052631579,
          0.7368421052631579,
          0.7368421052631579,
          0.7368421052631579,
          0.7368421052631579,
          0.7543859649122807,
          0.7543859649122807,
          0.7543859649122807,
          0.7543859649122807,
          0.7543859649122807,
          0.7894736842105263,
          0.7894736842105263,
          0.8070175438596491,
          0.8070175438596491,
          0.8070175438596491,
          0.8070175438596491,
          0.8070175438596491,
          0.8245614035087719,
          0.8245614035087719,
          0.8245614035087719,
          0.8245614035087719,
          0.8245614035087719,
          0.8421052631578947,
          0.8421052631578947,
          0.8421052631578947,
          0.8596491228070176,
          0.8596491228070176,
          0.8947368421052632,
          0.8947368421052632,
          0.8947368421052632,
          0.9122807017543859,
          0.9122807017543859,
          0.9122807017543859,
          0.9122807017543859,
          0.9122807017543859,
          0.9122807017543859,
          0.9122807017543859,
          0.9122807017543859,
          0.9298245614035088,
          0.9298245614035088,
          0.9298245614035088,
          0.9473684210526315,
          0.9473684210526315,
          0.9473684210526315,
          0.9473684210526315,
          0.9473684210526315,
          0.9649122807017544,
          0.9649122807017544,
          0.9649122807017544,
          0.9649122807017544,
          0.9649122807017544,
          0.9649122807017544,
          0.9649122807017544,
          0.9649122807017544,
          0.9649122807017544,
          0.9649122807017544,
          0.9649122807017544,
          1
         ]
        }
       ],
       "layout": {
        "template": {
         "data": {
          "bar": [
           {
            "error_x": {
             "color": "#2a3f5f"
            },
            "error_y": {
             "color": "#2a3f5f"
            },
            "marker": {
             "line": {
              "color": "#E5ECF6",
              "width": 0.5
             },
             "pattern": {
              "fillmode": "overlay",
              "size": 10,
              "solidity": 0.2
             }
            },
            "type": "bar"
           }
          ],
          "barpolar": [
           {
            "marker": {
             "line": {
              "color": "#E5ECF6",
              "width": 0.5
             },
             "pattern": {
              "fillmode": "overlay",
              "size": 10,
              "solidity": 0.2
             }
            },
            "type": "barpolar"
           }
          ],
          "carpet": [
           {
            "aaxis": {
             "endlinecolor": "#2a3f5f",
             "gridcolor": "white",
             "linecolor": "white",
             "minorgridcolor": "white",
             "startlinecolor": "#2a3f5f"
            },
            "baxis": {
             "endlinecolor": "#2a3f5f",
             "gridcolor": "white",
             "linecolor": "white",
             "minorgridcolor": "white",
             "startlinecolor": "#2a3f5f"
            },
            "type": "carpet"
           }
          ],
          "choropleth": [
           {
            "colorbar": {
             "outlinewidth": 0,
             "ticks": ""
            },
            "type": "choropleth"
           }
          ],
          "contour": [
           {
            "colorbar": {
             "outlinewidth": 0,
             "ticks": ""
            },
            "colorscale": [
             [
              0,
              "#0d0887"
             ],
             [
              0.1111111111111111,
              "#46039f"
             ],
             [
              0.2222222222222222,
              "#7201a8"
             ],
             [
              0.3333333333333333,
              "#9c179e"
             ],
             [
              0.4444444444444444,
              "#bd3786"
             ],
             [
              0.5555555555555556,
              "#d8576b"
             ],
             [
              0.6666666666666666,
              "#ed7953"
             ],
             [
              0.7777777777777778,
              "#fb9f3a"
             ],
             [
              0.8888888888888888,
              "#fdca26"
             ],
             [
              1,
              "#f0f921"
             ]
            ],
            "type": "contour"
           }
          ],
          "contourcarpet": [
           {
            "colorbar": {
             "outlinewidth": 0,
             "ticks": ""
            },
            "type": "contourcarpet"
           }
          ],
          "heatmap": [
           {
            "colorbar": {
             "outlinewidth": 0,
             "ticks": ""
            },
            "colorscale": [
             [
              0,
              "#0d0887"
             ],
             [
              0.1111111111111111,
              "#46039f"
             ],
             [
              0.2222222222222222,
              "#7201a8"
             ],
             [
              0.3333333333333333,
              "#9c179e"
             ],
             [
              0.4444444444444444,
              "#bd3786"
             ],
             [
              0.5555555555555556,
              "#d8576b"
             ],
             [
              0.6666666666666666,
              "#ed7953"
             ],
             [
              0.7777777777777778,
              "#fb9f3a"
             ],
             [
              0.8888888888888888,
              "#fdca26"
             ],
             [
              1,
              "#f0f921"
             ]
            ],
            "type": "heatmap"
           }
          ],
          "heatmapgl": [
           {
            "colorbar": {
             "outlinewidth": 0,
             "ticks": ""
            },
            "colorscale": [
             [
              0,
              "#0d0887"
             ],
             [
              0.1111111111111111,
              "#46039f"
             ],
             [
              0.2222222222222222,
              "#7201a8"
             ],
             [
              0.3333333333333333,
              "#9c179e"
             ],
             [
              0.4444444444444444,
              "#bd3786"
             ],
             [
              0.5555555555555556,
              "#d8576b"
             ],
             [
              0.6666666666666666,
              "#ed7953"
             ],
             [
              0.7777777777777778,
              "#fb9f3a"
             ],
             [
              0.8888888888888888,
              "#fdca26"
             ],
             [
              1,
              "#f0f921"
             ]
            ],
            "type": "heatmapgl"
           }
          ],
          "histogram": [
           {
            "marker": {
             "pattern": {
              "fillmode": "overlay",
              "size": 10,
              "solidity": 0.2
             }
            },
            "type": "histogram"
           }
          ],
          "histogram2d": [
           {
            "colorbar": {
             "outlinewidth": 0,
             "ticks": ""
            },
            "colorscale": [
             [
              0,
              "#0d0887"
             ],
             [
              0.1111111111111111,
              "#46039f"
             ],
             [
              0.2222222222222222,
              "#7201a8"
             ],
             [
              0.3333333333333333,
              "#9c179e"
             ],
             [
              0.4444444444444444,
              "#bd3786"
             ],
             [
              0.5555555555555556,
              "#d8576b"
             ],
             [
              0.6666666666666666,
              "#ed7953"
             ],
             [
              0.7777777777777778,
              "#fb9f3a"
             ],
             [
              0.8888888888888888,
              "#fdca26"
             ],
             [
              1,
              "#f0f921"
             ]
            ],
            "type": "histogram2d"
           }
          ],
          "histogram2dcontour": [
           {
            "colorbar": {
             "outlinewidth": 0,
             "ticks": ""
            },
            "colorscale": [
             [
              0,
              "#0d0887"
             ],
             [
              0.1111111111111111,
              "#46039f"
             ],
             [
              0.2222222222222222,
              "#7201a8"
             ],
             [
              0.3333333333333333,
              "#9c179e"
             ],
             [
              0.4444444444444444,
              "#bd3786"
             ],
             [
              0.5555555555555556,
              "#d8576b"
             ],
             [
              0.6666666666666666,
              "#ed7953"
             ],
             [
              0.7777777777777778,
              "#fb9f3a"
             ],
             [
              0.8888888888888888,
              "#fdca26"
             ],
             [
              1,
              "#f0f921"
             ]
            ],
            "type": "histogram2dcontour"
           }
          ],
          "mesh3d": [
           {
            "colorbar": {
             "outlinewidth": 0,
             "ticks": ""
            },
            "type": "mesh3d"
           }
          ],
          "parcoords": [
           {
            "line": {
             "colorbar": {
              "outlinewidth": 0,
              "ticks": ""
             }
            },
            "type": "parcoords"
           }
          ],
          "pie": [
           {
            "automargin": true,
            "type": "pie"
           }
          ],
          "scatter": [
           {
            "fillpattern": {
             "fillmode": "overlay",
             "size": 10,
             "solidity": 0.2
            },
            "type": "scatter"
           }
          ],
          "scatter3d": [
           {
            "line": {
             "colorbar": {
              "outlinewidth": 0,
              "ticks": ""
             }
            },
            "marker": {
             "colorbar": {
              "outlinewidth": 0,
              "ticks": ""
             }
            },
            "type": "scatter3d"
           }
          ],
          "scattercarpet": [
           {
            "marker": {
             "colorbar": {
              "outlinewidth": 0,
              "ticks": ""
             }
            },
            "type": "scattercarpet"
           }
          ],
          "scattergeo": [
           {
            "marker": {
             "colorbar": {
              "outlinewidth": 0,
              "ticks": ""
             }
            },
            "type": "scattergeo"
           }
          ],
          "scattergl": [
           {
            "marker": {
             "colorbar": {
              "outlinewidth": 0,
              "ticks": ""
             }
            },
            "type": "scattergl"
           }
          ],
          "scattermapbox": [
           {
            "marker": {
             "colorbar": {
              "outlinewidth": 0,
              "ticks": ""
             }
            },
            "type": "scattermapbox"
           }
          ],
          "scatterpolar": [
           {
            "marker": {
             "colorbar": {
              "outlinewidth": 0,
              "ticks": ""
             }
            },
            "type": "scatterpolar"
           }
          ],
          "scatterpolargl": [
           {
            "marker": {
             "colorbar": {
              "outlinewidth": 0,
              "ticks": ""
             }
            },
            "type": "scatterpolargl"
           }
          ],
          "scatterternary": [
           {
            "marker": {
             "colorbar": {
              "outlinewidth": 0,
              "ticks": ""
             }
            },
            "type": "scatterternary"
           }
          ],
          "surface": [
           {
            "colorbar": {
             "outlinewidth": 0,
             "ticks": ""
            },
            "colorscale": [
             [
              0,
              "#0d0887"
             ],
             [
              0.1111111111111111,
              "#46039f"
             ],
             [
              0.2222222222222222,
              "#7201a8"
             ],
             [
              0.3333333333333333,
              "#9c179e"
             ],
             [
              0.4444444444444444,
              "#bd3786"
             ],
             [
              0.5555555555555556,
              "#d8576b"
             ],
             [
              0.6666666666666666,
              "#ed7953"
             ],
             [
              0.7777777777777778,
              "#fb9f3a"
             ],
             [
              0.8888888888888888,
              "#fdca26"
             ],
             [
              1,
              "#f0f921"
             ]
            ],
            "type": "surface"
           }
          ],
          "table": [
           {
            "cells": {
             "fill": {
              "color": "#EBF0F8"
             },
             "line": {
              "color": "white"
             }
            },
            "header": {
             "fill": {
              "color": "#C8D4E3"
             },
             "line": {
              "color": "white"
             }
            },
            "type": "table"
           }
          ]
         },
         "layout": {
          "annotationdefaults": {
           "arrowcolor": "#2a3f5f",
           "arrowhead": 0,
           "arrowwidth": 1
          },
          "autotypenumbers": "strict",
          "coloraxis": {
           "colorbar": {
            "outlinewidth": 0,
            "ticks": ""
           }
          },
          "colorscale": {
           "diverging": [
            [
             0,
             "#8e0152"
            ],
            [
             0.1,
             "#c51b7d"
            ],
            [
             0.2,
             "#de77ae"
            ],
            [
             0.3,
             "#f1b6da"
            ],
            [
             0.4,
             "#fde0ef"
            ],
            [
             0.5,
             "#f7f7f7"
            ],
            [
             0.6,
             "#e6f5d0"
            ],
            [
             0.7,
             "#b8e186"
            ],
            [
             0.8,
             "#7fbc41"
            ],
            [
             0.9,
             "#4d9221"
            ],
            [
             1,
             "#276419"
            ]
           ],
           "sequential": [
            [
             0,
             "#0d0887"
            ],
            [
             0.1111111111111111,
             "#46039f"
            ],
            [
             0.2222222222222222,
             "#7201a8"
            ],
            [
             0.3333333333333333,
             "#9c179e"
            ],
            [
             0.4444444444444444,
             "#bd3786"
            ],
            [
             0.5555555555555556,
             "#d8576b"
            ],
            [
             0.6666666666666666,
             "#ed7953"
            ],
            [
             0.7777777777777778,
             "#fb9f3a"
            ],
            [
             0.8888888888888888,
             "#fdca26"
            ],
            [
             1,
             "#f0f921"
            ]
           ],
           "sequentialminus": [
            [
             0,
             "#0d0887"
            ],
            [
             0.1111111111111111,
             "#46039f"
            ],
            [
             0.2222222222222222,
             "#7201a8"
            ],
            [
             0.3333333333333333,
             "#9c179e"
            ],
            [
             0.4444444444444444,
             "#bd3786"
            ],
            [
             0.5555555555555556,
             "#d8576b"
            ],
            [
             0.6666666666666666,
             "#ed7953"
            ],
            [
             0.7777777777777778,
             "#fb9f3a"
            ],
            [
             0.8888888888888888,
             "#fdca26"
            ],
            [
             1,
             "#f0f921"
            ]
           ]
          },
          "colorway": [
           "#636efa",
           "#EF553B",
           "#00cc96",
           "#ab63fa",
           "#FFA15A",
           "#19d3f3",
           "#FF6692",
           "#B6E880",
           "#FF97FF",
           "#FECB52"
          ],
          "font": {
           "color": "#2a3f5f"
          },
          "geo": {
           "bgcolor": "white",
           "lakecolor": "white",
           "landcolor": "#E5ECF6",
           "showlakes": true,
           "showland": true,
           "subunitcolor": "white"
          },
          "hoverlabel": {
           "align": "left"
          },
          "hovermode": "closest",
          "mapbox": {
           "style": "light"
          },
          "paper_bgcolor": "white",
          "plot_bgcolor": "#E5ECF6",
          "polar": {
           "angularaxis": {
            "gridcolor": "white",
            "linecolor": "white",
            "ticks": ""
           },
           "bgcolor": "#E5ECF6",
           "radialaxis": {
            "gridcolor": "white",
            "linecolor": "white",
            "ticks": ""
           }
          },
          "scene": {
           "xaxis": {
            "backgroundcolor": "#E5ECF6",
            "gridcolor": "white",
            "gridwidth": 2,
            "linecolor": "white",
            "showbackground": true,
            "ticks": "",
            "zerolinecolor": "white"
           },
           "yaxis": {
            "backgroundcolor": "#E5ECF6",
            "gridcolor": "white",
            "gridwidth": 2,
            "linecolor": "white",
            "showbackground": true,
            "ticks": "",
            "zerolinecolor": "white"
           },
           "zaxis": {
            "backgroundcolor": "#E5ECF6",
            "gridcolor": "white",
            "gridwidth": 2,
            "linecolor": "white",
            "showbackground": true,
            "ticks": "",
            "zerolinecolor": "white"
           }
          },
          "shapedefaults": {
           "line": {
            "color": "#2a3f5f"
           }
          },
          "ternary": {
           "aaxis": {
            "gridcolor": "white",
            "linecolor": "white",
            "ticks": ""
           },
           "baxis": {
            "gridcolor": "white",
            "linecolor": "white",
            "ticks": ""
           },
           "bgcolor": "#E5ECF6",
           "caxis": {
            "gridcolor": "white",
            "linecolor": "white",
            "ticks": ""
           }
          },
          "title": {
           "x": 0.05
          },
          "xaxis": {
           "automargin": true,
           "gridcolor": "white",
           "linecolor": "white",
           "ticks": "",
           "title": {
            "standoff": 15
           },
           "zerolinecolor": "white",
           "zerolinewidth": 2
          },
          "yaxis": {
           "automargin": true,
           "gridcolor": "white",
           "linecolor": "white",
           "ticks": "",
           "title": {
            "standoff": 15
           },
           "zerolinecolor": "white",
           "zerolinewidth": 2
          }
         }
        },
        "title": {
         "text": "Empirical Distribution Function Plot"
        },
        "xaxis": {
         "title": {
          "text": "Objective Value"
         }
        },
        "yaxis": {
         "range": [
          0,
          1
         ],
         "title": {
          "text": "Cumulative Probability"
         }
        }
       }
      }
     },
     "metadata": {},
     "output_type": "display_data"
    }
   ],
   "source": [
    "vis.plot_edf(study)"
   ]
  },
  {
   "cell_type": "code",
   "execution_count": 12,
   "metadata": {},
   "outputs": [],
   "source": [
    "# vis.plot_intermediate_values(study)  # use if pruning"
   ]
  }
 ],
 "metadata": {
  "kernelspec": {
   "display_name": ".venv",
   "language": "python",
   "name": "python3"
  },
  "language_info": {
   "codemirror_mode": {
    "name": "ipython",
    "version": 3
   },
   "file_extension": ".py",
   "mimetype": "text/x-python",
   "name": "python",
   "nbconvert_exporter": "python",
   "pygments_lexer": "ipython3",
   "version": "3.11.9"
  }
 },
 "nbformat": 4,
 "nbformat_minor": 2
}
